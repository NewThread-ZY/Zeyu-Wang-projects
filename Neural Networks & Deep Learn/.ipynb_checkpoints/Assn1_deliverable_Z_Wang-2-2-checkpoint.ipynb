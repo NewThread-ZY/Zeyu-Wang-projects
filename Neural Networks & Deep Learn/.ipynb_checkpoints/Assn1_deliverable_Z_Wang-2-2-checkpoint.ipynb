{
 "cells": [
  {
   "cell_type": "code",
   "execution_count": 7,
   "id": "24a26dd4-33e6-4260-895f-aa01fded04c5",
   "metadata": {},
   "outputs": [],
   "source": [
    "import pandas as pd\n",
    "import numpy as np"
   ]
  },
  {
   "cell_type": "code",
   "execution_count": 8,
   "id": "79cd461a-7ac2-4af8-b35d-517de164576b",
   "metadata": {},
   "outputs": [],
   "source": [
    "def perceptron(data):\n",
    "    '''\n",
    "    This function needs a pandas DataFrame input including x1, x2 and y.\n",
    "    ---------------------------------------------------------------------\n",
    "    After classification, this function will print the weight list and Confusion Matrix.\n",
    "    It also will return these two data.\n",
    "    '''\n",
    "    data1 = data.copy()# save the origin data\n",
    "    Accuracy = 0\n",
    "    w0 = [0 for i in range(3)]#initialize weight\n",
    "    predict_label = []\n",
    "    label_true = list(data.iloc[:,2])\n",
    "    for i in range(len(data1)):\n",
    "        if (w0[0]+w0[1]*data1.iloc[i,0]+w0[2]*data1.iloc[i,1]) >= 0:#use initialization weight to predict label\n",
    "            predict_label.append(1)\n",
    "        else:\n",
    "            predict_label.append(-1)\n",
    "    k_times = 0\n",
    "    Confusion_Matrix = [[0, 0],[0, 0]]\n",
    "    while Accuracy!=1 and k_times<10000:#loop until the accuracy ==1 or more than 10000 times\n",
    "        data1['y2'] = predict_label\n",
    "        data1['incorect_lable'] = data1.iloc[:,2]-data1['y2']\n",
    "        incorec_data = data1[data1['incorect_lable']!=0]\n",
    "        # random pick up data from wrong predict and use it to update the weight\n",
    "        randon_sample = incorec_data.sample()\n",
    "        w0[0] = w0[0]+1*int(randon_sample.iloc[:,2])\n",
    "        w0[1] = w0[1]+int(randon_sample.iloc[:,0]*randon_sample.iloc[:,2])\n",
    "        w0[2] = w0[2]+int(randon_sample.iloc[:,1]*randon_sample.iloc[:,2])\n",
    "        predict_label = []\n",
    "        #using the new weight to do predict\n",
    "        for i in range(len(data)):\n",
    "            if (w0[0]+w0[1]*data.iloc[i,0]+w0[2]*data.iloc[i, 1]) >= 0:\n",
    "                predict_label.append(1)\n",
    "            else:\n",
    "                predict_label.append(-1)\n",
    "        #Create Confusion Matrix\n",
    "        Confusion_Matrix = [[0, 0],[0, 0]]\n",
    "        for i in range(len(predict_label)):\n",
    "            if label_true[i] == 1 and predict_label[i] == 1:\n",
    "                Confusion_Matrix[0][0] += 1\n",
    "            elif label_true[i] == -1 and predict_label[i] == 1:\n",
    "                Confusion_Matrix[0][1] += 1\n",
    "            elif label_true[i] == 1 and predict_label[i] == -1:\n",
    "                Confusion_Matrix[1][0] += 1\n",
    "            elif label_true[i] == -1 and predict_label[i] == -1:\n",
    "                Confusion_Matrix[1][1] += 1\n",
    "        #calculate accuracy\n",
    "        Accuracy = (Confusion_Matrix[0][0]+Confusion_Matrix[1][1])/(Confusion_Matrix[0][0]+Confusion_Matrix[0][1]+Confusion_Matrix[1][0]+Confusion_Matrix[1][1])\n",
    "        k_times+=1\n",
    "    if k_times==10000:\n",
    "        print('We were unable to converge to a set of weights that correctly classifies the data. These data may not be linearly separable.')\n",
    "        return w0\n",
    "    else:\n",
    "        print(f'The weight is {w0}')\n",
    "        print(f'The Confusion Matrix is {Confusion_Matrix}')\n",
    "        return w0, Confusion_Matrix"
   ]
  },
  {
   "cell_type": "code",
   "execution_count": 9,
   "id": "5eb6823c-58f3-4062-9e07-c6bc07e547fe",
   "metadata": {},
   "outputs": [],
   "source": [
    "import random\n",
    "import matplotlib.pyplot as plt\n",
    "import numpy as np\n",
    "import pandas as pd"
   ]
  },
  {
   "cell_type": "code",
   "execution_count": 10,
   "id": "ca2660b7-dcb6-4230-a70e-c02aa7f5207b",
   "metadata": {},
   "outputs": [],
   "source": [
    "x1 = [random.randrange(-10, 11, 1) for i in range(100)]\n",
    "x2 = [random.randrange(-10, 11, 1) for i in range(100)]"
   ]
  },
  {
   "cell_type": "code",
   "execution_count": 11,
   "id": "b17d13e6-6be8-4057-ab86-06100c01e7a5",
   "metadata": {},
   "outputs": [],
   "source": [
    "label = []\n",
    "for i in range(100):\n",
    "    if (3.1+0.8*x1[i]- x2[i]) >= 0:\n",
    "        label.append(1)\n",
    "    else:\n",
    "        label.append(-1)"
   ]
  },
  {
   "cell_type": "code",
   "execution_count": 12,
   "id": "7d71443d-b908-460a-aa21-dc8a0eaa54d7",
   "metadata": {},
   "outputs": [
    {
     "data": {
      "text/html": [
       "<div>\n",
       "<style scoped>\n",
       "    .dataframe tbody tr th:only-of-type {\n",
       "        vertical-align: middle;\n",
       "    }\n",
       "\n",
       "    .dataframe tbody tr th {\n",
       "        vertical-align: top;\n",
       "    }\n",
       "\n",
       "    .dataframe thead th {\n",
       "        text-align: right;\n",
       "    }\n",
       "</style>\n",
       "<table border=\"1\" class=\"dataframe\">\n",
       "  <thead>\n",
       "    <tr style=\"text-align: right;\">\n",
       "      <th></th>\n",
       "      <th>xsad</th>\n",
       "      <th>xsdf5</th>\n",
       "      <th>6asd4</th>\n",
       "    </tr>\n",
       "  </thead>\n",
       "  <tbody>\n",
       "    <tr>\n",
       "      <th>0</th>\n",
       "      <td>8</td>\n",
       "      <td>10</td>\n",
       "      <td>-1</td>\n",
       "    </tr>\n",
       "    <tr>\n",
       "      <th>1</th>\n",
       "      <td>5</td>\n",
       "      <td>0</td>\n",
       "      <td>1</td>\n",
       "    </tr>\n",
       "    <tr>\n",
       "      <th>2</th>\n",
       "      <td>6</td>\n",
       "      <td>-9</td>\n",
       "      <td>1</td>\n",
       "    </tr>\n",
       "    <tr>\n",
       "      <th>3</th>\n",
       "      <td>-4</td>\n",
       "      <td>0</td>\n",
       "      <td>-1</td>\n",
       "    </tr>\n",
       "    <tr>\n",
       "      <th>4</th>\n",
       "      <td>-1</td>\n",
       "      <td>-6</td>\n",
       "      <td>1</td>\n",
       "    </tr>\n",
       "    <tr>\n",
       "      <th>...</th>\n",
       "      <td>...</td>\n",
       "      <td>...</td>\n",
       "      <td>...</td>\n",
       "    </tr>\n",
       "    <tr>\n",
       "      <th>95</th>\n",
       "      <td>5</td>\n",
       "      <td>-3</td>\n",
       "      <td>1</td>\n",
       "    </tr>\n",
       "    <tr>\n",
       "      <th>96</th>\n",
       "      <td>-3</td>\n",
       "      <td>1</td>\n",
       "      <td>-1</td>\n",
       "    </tr>\n",
       "    <tr>\n",
       "      <th>97</th>\n",
       "      <td>10</td>\n",
       "      <td>10</td>\n",
       "      <td>1</td>\n",
       "    </tr>\n",
       "    <tr>\n",
       "      <th>98</th>\n",
       "      <td>-7</td>\n",
       "      <td>-5</td>\n",
       "      <td>1</td>\n",
       "    </tr>\n",
       "    <tr>\n",
       "      <th>99</th>\n",
       "      <td>-6</td>\n",
       "      <td>1</td>\n",
       "      <td>-1</td>\n",
       "    </tr>\n",
       "  </tbody>\n",
       "</table>\n",
       "<p>100 rows × 3 columns</p>\n",
       "</div>"
      ],
      "text/plain": [
       "    xsad  xsdf5  6asd4\n",
       "0      8     10     -1\n",
       "1      5      0      1\n",
       "2      6     -9      1\n",
       "3     -4      0     -1\n",
       "4     -1     -6      1\n",
       "..   ...    ...    ...\n",
       "95     5     -3      1\n",
       "96    -3      1     -1\n",
       "97    10     10      1\n",
       "98    -7     -5      1\n",
       "99    -6      1     -1\n",
       "\n",
       "[100 rows x 3 columns]"
      ]
     },
     "execution_count": 12,
     "metadata": {},
     "output_type": "execute_result"
    }
   ],
   "source": [
    "data = pd.DataFrame({'xsad':x1, 'xsdf5':x2, '6asd4':label})\n",
    "data"
   ]
  },
  {
   "cell_type": "code",
   "execution_count": 13,
   "id": "eda02c69-5861-4492-996e-41dee193ad9f",
   "metadata": {},
   "outputs": [
    {
     "name": "stdout",
     "output_type": "stream",
     "text": [
      "The weight is [60, 19, -23]\n",
      "The Confusion Matrix is [[66, 0], [0, 34]]\n"
     ]
    },
    {
     "data": {
      "text/plain": [
       "([60, 19, -23], [[66, 0], [0, 34]])"
      ]
     },
     "execution_count": 13,
     "metadata": {},
     "output_type": "execute_result"
    }
   ],
   "source": [
    "perceptron(data)"
   ]
  },
  {
   "cell_type": "markdown",
   "id": "0155bf2a-a631-4cfe-98df-7f49aff9c79c",
   "metadata": {},
   "source": [
    "Please test here:"
   ]
  },
  {
   "cell_type": "code",
   "execution_count": 16,
   "id": "dcc88e0e-39ea-4dab-b689-d8784ed778ce",
   "metadata": {},
   "outputs": [
    {
     "name": "stdout",
     "output_type": "stream",
     "text": [
      "The weight is [-19, 18, 9]\n",
      "The Confusion Matrix is [[23, 0], [0, 27]]\n"
     ]
    },
    {
     "data": {
      "text/plain": [
       "([-19, 18, 9], [[23, 0], [0, 27]])"
      ]
     },
     "execution_count": 16,
     "metadata": {},
     "output_type": "execute_result"
    }
   ],
   "source": [
    "data1_test = pd.read_csv('PS 01 Test 1 Separable.csv')\n",
    "data1_test = data1_test.iloc[:,1:]\n",
    "perceptron(data1_test)"
   ]
  },
  {
   "cell_type": "code",
   "execution_count": 17,
   "id": "910ccc17-1bd2-4056-85ae-e0a09a5d6b81",
   "metadata": {},
   "outputs": [
    {
     "name": "stdout",
     "output_type": "stream",
     "text": [
      "We were unable to converge to a set of weights that correctly classifies the data. These data may not be linearly separable.\n"
     ]
    },
    {
     "data": {
      "text/plain": [
       "[-1430, -631, -10000]"
      ]
     },
     "execution_count": 17,
     "metadata": {},
     "output_type": "execute_result"
    }
   ],
   "source": [
    "data2_test = pd.read_csv('PS 01 Test 2 Nonseparable.csv')\n",
    "data2_test = data2_test.iloc[:,1:]\n",
    "perceptron(data2_test)"
   ]
  },
  {
   "cell_type": "code",
   "execution_count": null,
   "id": "fc80ed70-844d-4732-9e46-8836a6247f27",
   "metadata": {},
   "outputs": [],
   "source": []
  }
 ],
 "metadata": {
  "kernelspec": {
   "display_name": "Python 3",
   "language": "python",
   "name": "python3"
  },
  "language_info": {
   "codemirror_mode": {
    "name": "ipython",
    "version": 3
   },
   "file_extension": ".py",
   "mimetype": "text/x-python",
   "name": "python",
   "nbconvert_exporter": "python",
   "pygments_lexer": "ipython3",
   "version": "3.8.0"
  }
 },
 "nbformat": 4,
 "nbformat_minor": 5
}
