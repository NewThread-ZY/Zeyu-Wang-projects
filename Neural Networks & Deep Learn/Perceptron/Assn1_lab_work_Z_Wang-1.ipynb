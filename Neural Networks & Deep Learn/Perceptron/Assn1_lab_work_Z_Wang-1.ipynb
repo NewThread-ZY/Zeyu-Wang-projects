{
 "cells": [
  {
   "cell_type": "markdown",
   "id": "293449c4-64ad-4b34-b9c9-5fa1dca3d5f3",
   "metadata": {},
   "source": [
    "### 1.Generate Some Data."
   ]
  },
  {
   "cell_type": "code",
   "execution_count": 94,
   "id": "fb028015-cbe4-430f-b5f3-ee6fff0814e6",
   "metadata": {},
   "outputs": [],
   "source": [
    "import random\n",
    "import matplotlib.pyplot as plt\n",
    "import numpy as np\n",
    "import pandas as pd"
   ]
  },
  {
   "cell_type": "code",
   "execution_count": 63,
   "id": "ee3f05ce-67fb-4b64-b4ec-f98f55ca91f8",
   "metadata": {},
   "outputs": [],
   "source": [
    "x1 = [random.randrange(-10, 11, 1) for i in range(100)]\n",
    "x2 = [random.randrange(-10, 11, 1) for i in range(100)]"
   ]
  },
  {
   "cell_type": "code",
   "execution_count": 69,
   "id": "65f08cff-90c7-47a5-ab57-020acb50e342",
   "metadata": {},
   "outputs": [
    {
     "data": {
      "text/plain": [
       "<matplotlib.collections.PathCollection at 0x7f836945e970>"
      ]
     },
     "execution_count": 69,
     "metadata": {},
     "output_type": "execute_result"
    },
    {
     "data": {
      "image/png": "[encoded data removed]",
      "text/plain": [
       "<Figure size 432x288 with 1 Axes>"
      ]
     },
     "metadata": {
      "needs_background": "light"
     },
     "output_type": "display_data"
    }
   ],
   "source": [
    "plt.ylim(-13, 13)\n",
    "plt.xlim(-13, 13)\n",
    "plt.scatter(x1, x2)"
   ]
  },
  {
   "cell_type": "markdown",
   "id": "bc975e9d-67ed-41ce-b43a-e467456ab0c8",
   "metadata": {},
   "source": [
    "### 2.Choose a Target Function"
   ]
  },
  {
   "cell_type": "code",
   "execution_count": 80,
   "id": "d2a0c293-4fb7-43ab-b464-8a334dc2287f",
   "metadata": {},
   "outputs": [],
   "source": [
    "x1_f = np.linspace(-10, 11, 100)\n",
    "x2_f = 3.1+0.8*x1_f"
   ]
  },
  {
   "cell_type": "code",
   "execution_count": 81,
   "id": "fe4b6ba1-f0a1-4c0f-a454-1beacff69745",
   "metadata": {},
   "outputs": [
    {
     "data": {
      "text/plain": [
       "[<matplotlib.lines.Line2D at 0x7f8369599520>]"
      ]
     },
     "execution_count": 81,
     "metadata": {},
     "output_type": "execute_result"
    },
    {
     "data": {
      "image/png": "[encoded data removed]",
      "text/plain": [
       "<Figure size 432x288 with 1 Axes>"
      ]
     },
     "metadata": {
      "needs_background": "light"
     },
     "output_type": "display_data"
    }
   ],
   "source": [
    "plt.ylim(-13, 13)\n",
    "plt.xlim(-13, 13)\n",
    "plt.scatter(x1, x2)\n",
    "plt.plot(x1_f, x2_f, color = '#FF0000')"
   ]
  },
  {
   "cell_type": "code",
   "execution_count": 91,
   "id": "995636d9-edf4-4c54-8fe5-e81ae2fc1c59",
   "metadata": {},
   "outputs": [],
   "source": [
    "label = []\n",
    "for i in range(100):\n",
    "    if (3.1+0.8*x1[i]- x2[i]) >= 0:\n",
    "        label.append(1)\n",
    "    else:\n",
    "        label.append(-1)"
   ]
  },
  {
   "cell_type": "markdown",
   "id": "27462d4c-6c33-4a82-b6dd-8dba608ffa88",
   "metadata": {},
   "source": [
    "### 3.Plot Your Data"
   ]
  },
  {
   "cell_type": "code",
   "execution_count": 93,
   "id": "11e0544b-d2e0-4a7c-902a-c9ac81b37d29",
   "metadata": {},
   "outputs": [
    {
     "data": {
      "image/png": "[encoded data removed]",
      "text/plain": [
       "<Figure size 432x288 with 1 Axes>"
      ]
     },
     "metadata": {
      "needs_background": "light"
     },
     "output_type": "display_data"
    }
   ],
   "source": [
    "plt.ylim(-13, 13)\n",
    "plt.xlim(-13, 13)\n",
    "plt.plot(x1_f, x2_f, color = '#FF0000')\n",
    "for i in range(100):\n",
    "    if label[i]==1:\n",
    "        plt.scatter(x1[i], x2[i], color='#00FF00')\n",
    "    else:\n",
    "        plt.scatter(x1[i], x2[i], color='#0000FF')"
   ]
  },
  {
   "cell_type": "markdown",
   "id": "b33f1f18-56d1-4f6e-878a-f3adbbc908bf",
   "metadata": {},
   "source": [
    "### 4. Create the Training Data"
   ]
  },
  {
   "cell_type": "code",
   "execution_count": 95,
   "id": "102ef876-7cda-4717-a648-69125a5d3ce3",
   "metadata": {},
   "outputs": [
    {
     "data": {
      "text/html": [
       "<div>\n",
       "<style scoped>\n",
       "    .dataframe tbody tr th:only-of-type {\n",
       "        vertical-align: middle;\n",
       "    }\n",
       "\n",
       "    .dataframe tbody tr th {\n",
       "        vertical-align: top;\n",
       "    }\n",
       "\n",
       "    .dataframe thead th {\n",
       "        text-align: right;\n",
       "    }\n",
       "</style>\n",
       "<table border=\"1\" class=\"dataframe\">\n",
       "  <thead>\n",
       "    <tr style=\"text-align: right;\">\n",
       "      <th></th>\n",
       "      <th>x1</th>\n",
       "      <th>x2</th>\n",
       "      <th>y</th>\n",
       "    </tr>\n",
       "  </thead>\n",
       "  <tbody>\n",
       "    <tr>\n",
       "      <th>0</th>\n",
       "      <td>0</td>\n",
       "      <td>1</td>\n",
       "      <td>1</td>\n",
       "    </tr>\n",
       "    <tr>\n",
       "      <th>1</th>\n",
       "      <td>-4</td>\n",
       "      <td>2</td>\n",
       "      <td>-1</td>\n",
       "    </tr>\n",
       "    <tr>\n",
       "      <th>2</th>\n",
       "      <td>6</td>\n",
       "      <td>-9</td>\n",
       "      <td>1</td>\n",
       "    </tr>\n",
       "    <tr>\n",
       "      <th>3</th>\n",
       "      <td>5</td>\n",
       "      <td>-5</td>\n",
       "      <td>1</td>\n",
       "    </tr>\n",
       "    <tr>\n",
       "      <th>4</th>\n",
       "      <td>4</td>\n",
       "      <td>-6</td>\n",
       "      <td>1</td>\n",
       "    </tr>\n",
       "    <tr>\n",
       "      <th>...</th>\n",
       "      <td>...</td>\n",
       "      <td>...</td>\n",
       "      <td>...</td>\n",
       "    </tr>\n",
       "    <tr>\n",
       "      <th>95</th>\n",
       "      <td>8</td>\n",
       "      <td>1</td>\n",
       "      <td>1</td>\n",
       "    </tr>\n",
       "    <tr>\n",
       "      <th>96</th>\n",
       "      <td>-5</td>\n",
       "      <td>-6</td>\n",
       "      <td>1</td>\n",
       "    </tr>\n",
       "    <tr>\n",
       "      <th>97</th>\n",
       "      <td>10</td>\n",
       "      <td>-3</td>\n",
       "      <td>1</td>\n",
       "    </tr>\n",
       "    <tr>\n",
       "      <th>98</th>\n",
       "      <td>5</td>\n",
       "      <td>5</td>\n",
       "      <td>1</td>\n",
       "    </tr>\n",
       "    <tr>\n",
       "      <th>99</th>\n",
       "      <td>-2</td>\n",
       "      <td>0</td>\n",
       "      <td>1</td>\n",
       "    </tr>\n",
       "  </tbody>\n",
       "</table>\n",
       "<p>100 rows × 3 columns</p>\n",
       "</div>"
      ],
      "text/plain": [
       "    x1  x2  y\n",
       "0    0   1  1\n",
       "1   -4   2 -1\n",
       "2    6  -9  1\n",
       "3    5  -5  1\n",
       "4    4  -6  1\n",
       "..  ..  .. ..\n",
       "95   8   1  1\n",
       "96  -5  -6  1\n",
       "97  10  -3  1\n",
       "98   5   5  1\n",
       "99  -2   0  1\n",
       "\n",
       "[100 rows x 3 columns]"
      ]
     },
     "execution_count": 95,
     "metadata": {},
     "output_type": "execute_result"
    }
   ],
   "source": [
    "data = pd.DataFrame({'x1':x1, 'x2':x2, 'y':label})\n",
    "data"
   ]
  },
  {
   "cell_type": "markdown",
   "id": "bbbb0f88-8d9c-417f-b05d-0f7beb375de1",
   "metadata": {},
   "source": [
    "### 5. Initialize the Perceptron"
   ]
  },
  {
   "cell_type": "code",
   "execution_count": 177,
   "id": "5d279613-759b-42c5-82a4-3d82ba341b42",
   "metadata": {},
   "outputs": [
    {
     "data": {
      "text/plain": [
       "[0, 0, 0]"
      ]
     },
     "execution_count": 177,
     "metadata": {},
     "output_type": "execute_result"
    }
   ],
   "source": [
    "w0 = [0 for i in range(3)]\n",
    "w0"
   ]
  },
  {
   "cell_type": "markdown",
   "id": "28834996-e5d8-4cd3-a4b5-8b042164462f",
   "metadata": {},
   "source": [
    "### 6. Classify the Data."
   ]
  },
  {
   "cell_type": "code",
   "execution_count": 178,
   "id": "0a1cc8d7-2393-47d7-8735-2370c218c2df",
   "metadata": {},
   "outputs": [],
   "source": [
    "predict_label = []\n",
    "for i in range(100):\n",
    "    if (w0[0]+w0[1]*x1[i]+w0[2]*x2[i]) >= 0:\n",
    "        predict_label.append(1)\n",
    "    else:\n",
    "        predict_label.append(-1)"
   ]
  },
  {
   "cell_type": "code",
   "execution_count": 179,
   "id": "2f342aea-83ab-4607-83da-aaa4530aa9a2",
   "metadata": {},
   "outputs": [
    {
     "data": {
      "text/plain": [
       "[1,\n",
       " 1,\n",
       " 1,\n",
       " 1,\n",
       " 1,\n",
       " 1,\n",
       " 1,\n",
       " 1,\n",
       " 1,\n",
       " 1,\n",
       " 1,\n",
       " 1,\n",
       " 1,\n",
       " 1,\n",
       " 1,\n",
       " 1,\n",
       " 1,\n",
       " 1,\n",
       " 1,\n",
       " 1,\n",
       " 1,\n",
       " 1,\n",
       " 1,\n",
       " 1,\n",
       " 1,\n",
       " 1,\n",
       " 1,\n",
       " 1,\n",
       " 1,\n",
       " 1,\n",
       " 1,\n",
       " 1,\n",
       " 1,\n",
       " 1,\n",
       " 1,\n",
       " 1,\n",
       " 1,\n",
       " 1,\n",
       " 1,\n",
       " 1,\n",
       " 1,\n",
       " 1,\n",
       " 1,\n",
       " 1,\n",
       " 1,\n",
       " 1,\n",
       " 1,\n",
       " 1,\n",
       " 1,\n",
       " 1,\n",
       " 1,\n",
       " 1,\n",
       " 1,\n",
       " 1,\n",
       " 1,\n",
       " 1,\n",
       " 1,\n",
       " 1,\n",
       " 1,\n",
       " 1,\n",
       " 1,\n",
       " 1,\n",
       " 1,\n",
       " 1,\n",
       " 1,\n",
       " 1,\n",
       " 1,\n",
       " 1,\n",
       " 1,\n",
       " 1,\n",
       " 1,\n",
       " 1,\n",
       " 1,\n",
       " 1,\n",
       " 1,\n",
       " 1,\n",
       " 1,\n",
       " 1,\n",
       " 1,\n",
       " 1,\n",
       " 1,\n",
       " 1,\n",
       " 1,\n",
       " 1,\n",
       " 1,\n",
       " 1,\n",
       " 1,\n",
       " 1,\n",
       " 1,\n",
       " 1,\n",
       " 1,\n",
       " 1,\n",
       " 1,\n",
       " 1,\n",
       " 1,\n",
       " 1,\n",
       " 1,\n",
       " 1,\n",
       " 1,\n",
       " 1]"
      ]
     },
     "execution_count": 179,
     "metadata": {},
     "output_type": "execute_result"
    }
   ],
   "source": [
    "predict_label"
   ]
  },
  {
   "cell_type": "markdown",
   "id": "9db2c8ff-d44c-4121-b011-36395ad8f923",
   "metadata": {},
   "source": [
    "### 7. Generate the Confusion Matrix"
   ]
  },
  {
   "cell_type": "code",
   "execution_count": 180,
   "id": "49b895d8-cd05-4a42-bfd9-18c857aaeffb",
   "metadata": {},
   "outputs": [],
   "source": [
    "Confusion_Matrix = [[0, 0],[0, 0]]"
   ]
  },
  {
   "cell_type": "code",
   "execution_count": 181,
   "id": "fbfe702e-12ec-42b1-a319-73ca992e9425",
   "metadata": {},
   "outputs": [],
   "source": [
    "for i in range(len(label)):\n",
    "    if label[i] == 1 and predict_label[i] == 1:\n",
    "        Confusion_Matrix[0][0] += 1\n",
    "    elif label[i] == -1 and predict_label[i] == 1:\n",
    "        Confusion_Matrix[0][1] += 1\n",
    "    elif label[i] == 1 and predict_label[i] == -1:\n",
    "        Confusion_Matrix[1][0] += 1\n",
    "    elif label[i] == -1 and predict_label[i] == -1:\n",
    "        Confusion_Matrix[1][1] += 1"
   ]
  },
  {
   "cell_type": "code",
   "execution_count": 182,
   "id": "091d0ac9-d1d8-41e9-aa5a-6ce362d0077c",
   "metadata": {},
   "outputs": [
    {
     "data": {
      "text/plain": [
       "[[65, 35], [0, 0]]"
      ]
     },
     "execution_count": 182,
     "metadata": {},
     "output_type": "execute_result"
    }
   ],
   "source": [
    "Confusion_Matrix"
   ]
  },
  {
   "cell_type": "code",
   "execution_count": 183,
   "id": "33d5460a-859f-47fb-84dd-3ea2dd68be12",
   "metadata": {},
   "outputs": [
    {
     "name": "stdout",
     "output_type": "stream",
     "text": [
      "Accuracy = 0.65\n"
     ]
    }
   ],
   "source": [
    "print(f'Accuracy = {(Confusion_Matrix[0][0]+Confusion_Matrix[1][1])/(Confusion_Matrix[0][0]+Confusion_Matrix[0][1]+Confusion_Matrix[1][0]+Confusion_Matrix[1][1])}')"
   ]
  },
  {
   "cell_type": "markdown",
   "id": "a37beb3f-d98e-4a85-a0d6-76a3dd0db1c9",
   "metadata": {},
   "source": [
    "### 8. Evaluate the Result. "
   ]
  },
  {
   "cell_type": "markdown",
   "id": "7f88dfcc-fb07-4b1b-92f4-28ffb894b849",
   "metadata": {},
   "source": [
    "Mistakes in the classifications."
   ]
  },
  {
   "cell_type": "markdown",
   "id": "0663df36-c89e-44c6-ae50-8d5cf2cc325a",
   "metadata": {},
   "source": [
    "### 9. Update the Weights"
   ]
  },
  {
   "cell_type": "code",
   "execution_count": 184,
   "id": "e43c9f05-34ed-4cd7-b06d-def1c46c4642",
   "metadata": {},
   "outputs": [],
   "source": [
    "data1 = data.copy()"
   ]
  },
  {
   "cell_type": "code",
   "execution_count": 185,
   "id": "76eca5ee-3c03-49b7-b7da-6539c2594207",
   "metadata": {},
   "outputs": [],
   "source": [
    "data1['y2'] = predict_label\n",
    "data1['incorect_lable'] = data1['y']-data1['y2']"
   ]
  },
  {
   "cell_type": "code",
   "execution_count": 186,
   "id": "42c03d5d-4c17-455b-a113-fece42d11330",
   "metadata": {},
   "outputs": [
    {
     "data": {
      "text/html": [
       "<div>\n",
       "<style scoped>\n",
       "    .dataframe tbody tr th:only-of-type {\n",
       "        vertical-align: middle;\n",
       "    }\n",
       "\n",
       "    .dataframe tbody tr th {\n",
       "        vertical-align: top;\n",
       "    }\n",
       "\n",
       "    .dataframe thead th {\n",
       "        text-align: right;\n",
       "    }\n",
       "</style>\n",
       "<table border=\"1\" class=\"dataframe\">\n",
       "  <thead>\n",
       "    <tr style=\"text-align: right;\">\n",
       "      <th></th>\n",
       "      <th>x1</th>\n",
       "      <th>x2</th>\n",
       "      <th>y</th>\n",
       "      <th>y2</th>\n",
       "      <th>incorect_lable</th>\n",
       "    </tr>\n",
       "  </thead>\n",
       "  <tbody>\n",
       "    <tr>\n",
       "      <th>1</th>\n",
       "      <td>-4</td>\n",
       "      <td>2</td>\n",
       "      <td>-1</td>\n",
       "      <td>1</td>\n",
       "      <td>-2</td>\n",
       "    </tr>\n",
       "    <tr>\n",
       "      <th>5</th>\n",
       "      <td>-7</td>\n",
       "      <td>5</td>\n",
       "      <td>-1</td>\n",
       "      <td>1</td>\n",
       "      <td>-2</td>\n",
       "    </tr>\n",
       "    <tr>\n",
       "      <th>6</th>\n",
       "      <td>4</td>\n",
       "      <td>10</td>\n",
       "      <td>-1</td>\n",
       "      <td>1</td>\n",
       "      <td>-2</td>\n",
       "    </tr>\n",
       "    <tr>\n",
       "      <th>7</th>\n",
       "      <td>-8</td>\n",
       "      <td>3</td>\n",
       "      <td>-1</td>\n",
       "      <td>1</td>\n",
       "      <td>-2</td>\n",
       "    </tr>\n",
       "    <tr>\n",
       "      <th>9</th>\n",
       "      <td>-10</td>\n",
       "      <td>1</td>\n",
       "      <td>-1</td>\n",
       "      <td>1</td>\n",
       "      <td>-2</td>\n",
       "    </tr>\n",
       "    <tr>\n",
       "      <th>10</th>\n",
       "      <td>-9</td>\n",
       "      <td>-3</td>\n",
       "      <td>-1</td>\n",
       "      <td>1</td>\n",
       "      <td>-2</td>\n",
       "    </tr>\n",
       "    <tr>\n",
       "      <th>11</th>\n",
       "      <td>-2</td>\n",
       "      <td>2</td>\n",
       "      <td>-1</td>\n",
       "      <td>1</td>\n",
       "      <td>-2</td>\n",
       "    </tr>\n",
       "    <tr>\n",
       "      <th>12</th>\n",
       "      <td>-4</td>\n",
       "      <td>8</td>\n",
       "      <td>-1</td>\n",
       "      <td>1</td>\n",
       "      <td>-2</td>\n",
       "    </tr>\n",
       "    <tr>\n",
       "      <th>13</th>\n",
       "      <td>-9</td>\n",
       "      <td>9</td>\n",
       "      <td>-1</td>\n",
       "      <td>1</td>\n",
       "      <td>-2</td>\n",
       "    </tr>\n",
       "    <tr>\n",
       "      <th>15</th>\n",
       "      <td>-9</td>\n",
       "      <td>3</td>\n",
       "      <td>-1</td>\n",
       "      <td>1</td>\n",
       "      <td>-2</td>\n",
       "    </tr>\n",
       "    <tr>\n",
       "      <th>17</th>\n",
       "      <td>-5</td>\n",
       "      <td>7</td>\n",
       "      <td>-1</td>\n",
       "      <td>1</td>\n",
       "      <td>-2</td>\n",
       "    </tr>\n",
       "    <tr>\n",
       "      <th>21</th>\n",
       "      <td>-10</td>\n",
       "      <td>7</td>\n",
       "      <td>-1</td>\n",
       "      <td>1</td>\n",
       "      <td>-2</td>\n",
       "    </tr>\n",
       "    <tr>\n",
       "      <th>25</th>\n",
       "      <td>-10</td>\n",
       "      <td>9</td>\n",
       "      <td>-1</td>\n",
       "      <td>1</td>\n",
       "      <td>-2</td>\n",
       "    </tr>\n",
       "    <tr>\n",
       "      <th>32</th>\n",
       "      <td>-1</td>\n",
       "      <td>9</td>\n",
       "      <td>-1</td>\n",
       "      <td>1</td>\n",
       "      <td>-2</td>\n",
       "    </tr>\n",
       "    <tr>\n",
       "      <th>33</th>\n",
       "      <td>-10</td>\n",
       "      <td>-1</td>\n",
       "      <td>-1</td>\n",
       "      <td>1</td>\n",
       "      <td>-2</td>\n",
       "    </tr>\n",
       "    <tr>\n",
       "      <th>34</th>\n",
       "      <td>-6</td>\n",
       "      <td>-1</td>\n",
       "      <td>-1</td>\n",
       "      <td>1</td>\n",
       "      <td>-2</td>\n",
       "    </tr>\n",
       "    <tr>\n",
       "      <th>39</th>\n",
       "      <td>-6</td>\n",
       "      <td>5</td>\n",
       "      <td>-1</td>\n",
       "      <td>1</td>\n",
       "      <td>-2</td>\n",
       "    </tr>\n",
       "    <tr>\n",
       "      <th>40</th>\n",
       "      <td>-9</td>\n",
       "      <td>6</td>\n",
       "      <td>-1</td>\n",
       "      <td>1</td>\n",
       "      <td>-2</td>\n",
       "    </tr>\n",
       "    <tr>\n",
       "      <th>45</th>\n",
       "      <td>-8</td>\n",
       "      <td>3</td>\n",
       "      <td>-1</td>\n",
       "      <td>1</td>\n",
       "      <td>-2</td>\n",
       "    </tr>\n",
       "    <tr>\n",
       "      <th>48</th>\n",
       "      <td>-7</td>\n",
       "      <td>4</td>\n",
       "      <td>-1</td>\n",
       "      <td>1</td>\n",
       "      <td>-2</td>\n",
       "    </tr>\n",
       "    <tr>\n",
       "      <th>49</th>\n",
       "      <td>-5</td>\n",
       "      <td>4</td>\n",
       "      <td>-1</td>\n",
       "      <td>1</td>\n",
       "      <td>-2</td>\n",
       "    </tr>\n",
       "    <tr>\n",
       "      <th>51</th>\n",
       "      <td>-8</td>\n",
       "      <td>9</td>\n",
       "      <td>-1</td>\n",
       "      <td>1</td>\n",
       "      <td>-2</td>\n",
       "    </tr>\n",
       "    <tr>\n",
       "      <th>55</th>\n",
       "      <td>-6</td>\n",
       "      <td>8</td>\n",
       "      <td>-1</td>\n",
       "      <td>1</td>\n",
       "      <td>-2</td>\n",
       "    </tr>\n",
       "    <tr>\n",
       "      <th>58</th>\n",
       "      <td>-2</td>\n",
       "      <td>5</td>\n",
       "      <td>-1</td>\n",
       "      <td>1</td>\n",
       "      <td>-2</td>\n",
       "    </tr>\n",
       "    <tr>\n",
       "      <th>59</th>\n",
       "      <td>-5</td>\n",
       "      <td>2</td>\n",
       "      <td>-1</td>\n",
       "      <td>1</td>\n",
       "      <td>-2</td>\n",
       "    </tr>\n",
       "    <tr>\n",
       "      <th>60</th>\n",
       "      <td>-1</td>\n",
       "      <td>4</td>\n",
       "      <td>-1</td>\n",
       "      <td>1</td>\n",
       "      <td>-2</td>\n",
       "    </tr>\n",
       "    <tr>\n",
       "      <th>62</th>\n",
       "      <td>-10</td>\n",
       "      <td>3</td>\n",
       "      <td>-1</td>\n",
       "      <td>1</td>\n",
       "      <td>-2</td>\n",
       "    </tr>\n",
       "    <tr>\n",
       "      <th>70</th>\n",
       "      <td>-9</td>\n",
       "      <td>-1</td>\n",
       "      <td>-1</td>\n",
       "      <td>1</td>\n",
       "      <td>-2</td>\n",
       "    </tr>\n",
       "    <tr>\n",
       "      <th>73</th>\n",
       "      <td>-2</td>\n",
       "      <td>10</td>\n",
       "      <td>-1</td>\n",
       "      <td>1</td>\n",
       "      <td>-2</td>\n",
       "    </tr>\n",
       "    <tr>\n",
       "      <th>76</th>\n",
       "      <td>-6</td>\n",
       "      <td>9</td>\n",
       "      <td>-1</td>\n",
       "      <td>1</td>\n",
       "      <td>-2</td>\n",
       "    </tr>\n",
       "    <tr>\n",
       "      <th>78</th>\n",
       "      <td>-6</td>\n",
       "      <td>9</td>\n",
       "      <td>-1</td>\n",
       "      <td>1</td>\n",
       "      <td>-2</td>\n",
       "    </tr>\n",
       "    <tr>\n",
       "      <th>86</th>\n",
       "      <td>1</td>\n",
       "      <td>8</td>\n",
       "      <td>-1</td>\n",
       "      <td>1</td>\n",
       "      <td>-2</td>\n",
       "    </tr>\n",
       "    <tr>\n",
       "      <th>89</th>\n",
       "      <td>-5</td>\n",
       "      <td>9</td>\n",
       "      <td>-1</td>\n",
       "      <td>1</td>\n",
       "      <td>-2</td>\n",
       "    </tr>\n",
       "    <tr>\n",
       "      <th>91</th>\n",
       "      <td>7</td>\n",
       "      <td>10</td>\n",
       "      <td>-1</td>\n",
       "      <td>1</td>\n",
       "      <td>-2</td>\n",
       "    </tr>\n",
       "    <tr>\n",
       "      <th>93</th>\n",
       "      <td>6</td>\n",
       "      <td>10</td>\n",
       "      <td>-1</td>\n",
       "      <td>1</td>\n",
       "      <td>-2</td>\n",
       "    </tr>\n",
       "  </tbody>\n",
       "</table>\n",
       "</div>"
      ],
      "text/plain": [
       "    x1  x2  y  y2  incorect_lable\n",
       "1   -4   2 -1   1              -2\n",
       "5   -7   5 -1   1              -2\n",
       "6    4  10 -1   1              -2\n",
       "7   -8   3 -1   1              -2\n",
       "9  -10   1 -1   1              -2\n",
       "10  -9  -3 -1   1              -2\n",
       "11  -2   2 -1   1              -2\n",
       "12  -4   8 -1   1              -2\n",
       "13  -9   9 -1   1              -2\n",
       "15  -9   3 -1   1              -2\n",
       "17  -5   7 -1   1              -2\n",
       "21 -10   7 -1   1              -2\n",
       "25 -10   9 -1   1              -2\n",
       "32  -1   9 -1   1              -2\n",
       "33 -10  -1 -1   1              -2\n",
       "34  -6  -1 -1   1              -2\n",
       "39  -6   5 -1   1              -2\n",
       "40  -9   6 -1   1              -2\n",
       "45  -8   3 -1   1              -2\n",
       "48  -7   4 -1   1              -2\n",
       "49  -5   4 -1   1              -2\n",
       "51  -8   9 -1   1              -2\n",
       "55  -6   8 -1   1              -2\n",
       "58  -2   5 -1   1              -2\n",
       "59  -5   2 -1   1              -2\n",
       "60  -1   4 -1   1              -2\n",
       "62 -10   3 -1   1              -2\n",
       "70  -9  -1 -1   1              -2\n",
       "73  -2  10 -1   1              -2\n",
       "76  -6   9 -1   1              -2\n",
       "78  -6   9 -1   1              -2\n",
       "86   1   8 -1   1              -2\n",
       "89  -5   9 -1   1              -2\n",
       "91   7  10 -1   1              -2\n",
       "93   6  10 -1   1              -2"
      ]
     },
     "execution_count": 186,
     "metadata": {},
     "output_type": "execute_result"
    }
   ],
   "source": [
    "incorec_data = data1[data1['incorect_lable']!=0]\n",
    "incorec_data"
   ]
  },
  {
   "cell_type": "code",
   "execution_count": 187,
   "id": "f7709b20-9774-40a8-a0aa-a5d0d5823266",
   "metadata": {},
   "outputs": [
    {
     "data": {
      "text/html": [
       "<div>\n",
       "<style scoped>\n",
       "    .dataframe tbody tr th:only-of-type {\n",
       "        vertical-align: middle;\n",
       "    }\n",
       "\n",
       "    .dataframe tbody tr th {\n",
       "        vertical-align: top;\n",
       "    }\n",
       "\n",
       "    .dataframe thead th {\n",
       "        text-align: right;\n",
       "    }\n",
       "</style>\n",
       "<table border=\"1\" class=\"dataframe\">\n",
       "  <thead>\n",
       "    <tr style=\"text-align: right;\">\n",
       "      <th></th>\n",
       "      <th>x1</th>\n",
       "      <th>x2</th>\n",
       "      <th>y</th>\n",
       "      <th>y2</th>\n",
       "      <th>incorect_lable</th>\n",
       "    </tr>\n",
       "  </thead>\n",
       "  <tbody>\n",
       "    <tr>\n",
       "      <th>15</th>\n",
       "      <td>-9</td>\n",
       "      <td>3</td>\n",
       "      <td>-1</td>\n",
       "      <td>1</td>\n",
       "      <td>-2</td>\n",
       "    </tr>\n",
       "  </tbody>\n",
       "</table>\n",
       "</div>"
      ],
      "text/plain": [
       "    x1  x2  y  y2  incorect_lable\n",
       "15  -9   3 -1   1              -2"
      ]
     },
     "execution_count": 187,
     "metadata": {},
     "output_type": "execute_result"
    }
   ],
   "source": [
    "randon_sample = incorec_data.sample()\n",
    "randon_sample"
   ]
  },
  {
   "cell_type": "code",
   "execution_count": 188,
   "id": "baed3d38-7f1b-4f65-a4f9-a55b80af7e0e",
   "metadata": {},
   "outputs": [],
   "source": [
    "w0[0] = w0[0]+1*int(randon_sample['y'])\n",
    "w0[1] = w0[1]+int(randon_sample['x1']*randon_sample['y'])\n",
    "w0[2] = w0[2]+int(randon_sample['x2']*randon_sample['y'])"
   ]
  },
  {
   "cell_type": "markdown",
   "id": "24966c00-4c17-4c5c-b174-a7c2f639e980",
   "metadata": {},
   "source": [
    "### 10. Classify the Data."
   ]
  },
  {
   "cell_type": "code",
   "execution_count": 189,
   "id": "1a3ed334-4de8-44fe-a82f-8b0abd9b2af2",
   "metadata": {},
   "outputs": [],
   "source": [
    "predict_label = []\n",
    "for i in range(100):\n",
    "    if (w0[0]+w0[1]*x1[i]+w0[2]*x2[i]) >= 0:\n",
    "        predict_label.append(1)\n",
    "    else:\n",
    "        predict_label.append(-1)"
   ]
  },
  {
   "cell_type": "markdown",
   "id": "9a8ad7e5-ad7c-4667-bf16-eaafd8f23802",
   "metadata": {},
   "source": [
    "### 11. Generate the Confusion Matrix"
   ]
  },
  {
   "cell_type": "code",
   "execution_count": 190,
   "id": "c866917b-1cb4-4a78-a030-b86a4ad85b9d",
   "metadata": {},
   "outputs": [
    {
     "name": "stdout",
     "output_type": "stream",
     "text": [
      "Accuracy = 0.78\n"
     ]
    }
   ],
   "source": [
    "Confusion_Matrix = [[0, 0],[0, 0]]\n",
    "for i in range(len(label)):\n",
    "    if label[i] == 1 and predict_label[i] == 1:\n",
    "        Confusion_Matrix[0][0] += 1\n",
    "    elif label[i] == -1 and predict_label[i] == 1:\n",
    "        Confusion_Matrix[0][1] += 1\n",
    "    elif label[i] == 1 and predict_label[i] == -1:\n",
    "        Confusion_Matrix[1][0] += 1\n",
    "    elif label[i] == -1 and predict_label[i] == -1:\n",
    "        Confusion_Matrix[1][1] += 1\n",
    "Confusion_Matrix\n",
    "print(f'Accuracy = {(Confusion_Matrix[0][0]+Confusion_Matrix[1][1])/(Confusion_Matrix[0][0]+Confusion_Matrix[0][1]+Confusion_Matrix[1][0]+Confusion_Matrix[1][1])}')"
   ]
  },
  {
   "cell_type": "code",
   "execution_count": 191,
   "id": "deab0363-19fa-423e-b4fa-7ab9b28b3bb5",
   "metadata": {},
   "outputs": [],
   "source": [
    "Accuracy = (Confusion_Matrix[0][0]+Confusion_Matrix[1][1])/(Confusion_Matrix[0][0]+Confusion_Matrix[0][1]+Confusion_Matrix[1][0]+Confusion_Matrix[1][1])"
   ]
  },
  {
   "cell_type": "markdown",
   "id": "60d1ad27-4d12-403d-9f34-ff172ecf60b9",
   "metadata": {},
   "source": [
    "#### 11.1 loop to get 100% accuracy"
   ]
  },
  {
   "cell_type": "code",
   "execution_count": 192,
   "id": "6a928826-3807-4cc7-b918-959ad8cbbc9c",
   "metadata": {},
   "outputs": [
    {
     "name": "stdout",
     "output_type": "stream",
     "text": [
      "Accuracy = 0.84\n",
      "Accuracy = 0.86\n",
      "Accuracy = 0.86\n",
      "Accuracy = 0.77\n",
      "Accuracy = 0.81\n",
      "Accuracy = 0.87\n",
      "Accuracy = 0.89\n",
      "Accuracy = 0.83\n",
      "Accuracy = 0.79\n",
      "Accuracy = 0.9\n",
      "Accuracy = 0.91\n",
      "Accuracy = 0.74\n",
      "Accuracy = 0.87\n",
      "Accuracy = 0.92\n",
      "Accuracy = 0.87\n",
      "Accuracy = 0.81\n",
      "Accuracy = 0.89\n",
      "Accuracy = 0.92\n",
      "Accuracy = 0.93\n",
      "Accuracy = 0.77\n",
      "Accuracy = 0.92\n",
      "Accuracy = 0.92\n",
      "Accuracy = 0.81\n",
      "Accuracy = 0.91\n",
      "Accuracy = 0.79\n",
      "Accuracy = 0.93\n",
      "Accuracy = 0.88\n",
      "Accuracy = 0.91\n",
      "Accuracy = 0.81\n",
      "Accuracy = 0.95\n",
      "Accuracy = 0.94\n",
      "Accuracy = 0.88\n",
      "Accuracy = 0.94\n",
      "Accuracy = 0.95\n",
      "Accuracy = 0.92\n",
      "Accuracy = 0.9\n",
      "Accuracy = 0.93\n",
      "Accuracy = 0.85\n",
      "Accuracy = 0.99\n",
      "Accuracy = 0.92\n",
      "Accuracy = 0.87\n",
      "Accuracy = 0.94\n",
      "Accuracy = 0.97\n",
      "Accuracy = 0.87\n",
      "Accuracy = 0.96\n",
      "Accuracy = 0.93\n",
      "Accuracy = 0.84\n",
      "Accuracy = 0.96\n",
      "Accuracy = 0.86\n",
      "Accuracy = 0.95\n",
      "Accuracy = 0.87\n",
      "Accuracy = 0.99\n",
      "Accuracy = 0.92\n",
      "Accuracy = 0.86\n",
      "Accuracy = 0.98\n",
      "Accuracy = 0.92\n",
      "Accuracy = 0.97\n",
      "Accuracy = 0.93\n",
      "Accuracy = 0.99\n",
      "Accuracy = 0.92\n",
      "Accuracy = 0.96\n",
      "Accuracy = 0.94\n",
      "Accuracy = 0.98\n",
      "Accuracy = 0.92\n",
      "Accuracy = 0.97\n",
      "Accuracy = 0.93\n",
      "Accuracy = 0.93\n",
      "Accuracy = 0.93\n",
      "Accuracy = 0.92\n",
      "Accuracy = 0.93\n",
      "Accuracy = 0.92\n",
      "Accuracy = 0.96\n",
      "Accuracy = 0.94\n",
      "Accuracy = 0.9\n",
      "Accuracy = 0.96\n",
      "Accuracy = 0.99\n",
      "Accuracy = 0.95\n",
      "Accuracy = 0.94\n",
      "Accuracy = 0.94\n",
      "Accuracy = 0.91\n",
      "Accuracy = 0.95\n",
      "Accuracy = 0.99\n",
      "Accuracy = 0.92\n",
      "Accuracy = 0.95\n",
      "Accuracy = 0.98\n",
      "Accuracy = 0.91\n",
      "Accuracy = 0.97\n",
      "Accuracy = 0.91\n",
      "Accuracy = 0.99\n",
      "Accuracy = 0.96\n",
      "Accuracy = 0.93\n",
      "Accuracy = 0.96\n",
      "Accuracy = 0.99\n",
      "Accuracy = 0.93\n",
      "Accuracy = 0.96\n",
      "Accuracy = 0.92\n",
      "Accuracy = 0.99\n",
      "Accuracy = 0.97\n",
      "Accuracy = 0.99\n",
      "Accuracy = 0.93\n",
      "Accuracy = 0.92\n",
      "Accuracy = 0.99\n",
      "Accuracy = 0.92\n",
      "Accuracy = 0.99\n",
      "Accuracy = 0.96\n",
      "Accuracy = 0.94\n",
      "Accuracy = 0.95\n",
      "Accuracy = 0.95\n",
      "Accuracy = 0.99\n",
      "Accuracy = 0.94\n",
      "Accuracy = 0.95\n",
      "Accuracy = 0.94\n",
      "Accuracy = 1.0\n"
     ]
    }
   ],
   "source": [
    "while Accuracy!=1:\n",
    "    data1['y2'] = predict_label\n",
    "    data1['incorect_lable'] = data1['y']-data1['y2']\n",
    "    incorec_data = data1[data1['incorect_lable']!=0]\n",
    "    randon_sample = incorec_data.sample()\n",
    "    w0[0] = w0[0]+1*int(randon_sample['y'])\n",
    "    w0[1] = w0[1]+int(randon_sample['x1']*randon_sample['y'])\n",
    "    w0[2] = w0[2]+int(randon_sample['x2']*randon_sample['y'])\n",
    "    predict_label = []\n",
    "    for i in range(100):\n",
    "        if (w0[0]+w0[1]*x1[i]+w0[2]*x2[i]) >= 0:\n",
    "            predict_label.append(1)\n",
    "        else:\n",
    "            predict_label.append(-1)\n",
    "    Confusion_Matrix = [[0, 0],[0, 0]]\n",
    "    for i in range(len(label)):\n",
    "        if label[i] == 1 and predict_label[i] == 1:\n",
    "            Confusion_Matrix[0][0] += 1\n",
    "        elif label[i] == -1 and predict_label[i] == 1:\n",
    "            Confusion_Matrix[0][1] += 1\n",
    "        elif label[i] == 1 and predict_label[i] == -1:\n",
    "            Confusion_Matrix[1][0] += 1\n",
    "        elif label[i] == -1 and predict_label[i] == -1:\n",
    "            Confusion_Matrix[1][1] += 1\n",
    "    Confusion_Matrix\n",
    "    print(f'Accuracy = {(Confusion_Matrix[0][0]+Confusion_Matrix[1][1])/(Confusion_Matrix[0][0]+Confusion_Matrix[0][1]+Confusion_Matrix[1][0]+Confusion_Matrix[1][1])}')\n",
    "    Accuracy = (Confusion_Matrix[0][0]+Confusion_Matrix[1][1])/(Confusion_Matrix[0][0]+Confusion_Matrix[0][1]+Confusion_Matrix[1][0]+Confusion_Matrix[1][1])"
   ]
  },
  {
   "cell_type": "code",
   "execution_count": 193,
   "id": "39229dfd-5fd7-477d-9e2b-307b63a96750",
   "metadata": {},
   "outputs": [
    {
     "data": {
      "text/plain": [
       "[60, 15, -18]"
      ]
     },
     "execution_count": 193,
     "metadata": {},
     "output_type": "execute_result"
    }
   ],
   "source": [
    "w0"
   ]
  },
  {
   "cell_type": "code",
   "execution_count": 194,
   "id": "e35ae443-710b-45ed-a7aa-0ea5c7390136",
   "metadata": {},
   "outputs": [
    {
     "data": {
      "text/plain": [
       "[[65, 0], [0, 35]]"
      ]
     },
     "execution_count": 194,
     "metadata": {},
     "output_type": "execute_result"
    }
   ],
   "source": [
    "Confusion_Matrix"
   ]
  },
  {
   "cell_type": "markdown",
   "id": "a7abfc41-b073-4745-896c-094ee56d5372",
   "metadata": {},
   "source": [
    "### 12. Deploy the Model"
   ]
  },
  {
   "cell_type": "code",
   "execution_count": 196,
   "id": "faed14b6-5cf0-4e54-bf4c-3cbd89ec8c32",
   "metadata": {},
   "outputs": [
    {
     "name": "stdout",
     "output_type": "stream",
     "text": [
      "The target function is 60+(15*x1)+(-18*x2)=0\n"
     ]
    }
   ],
   "source": [
    "print(f'The target function is {w0[0]}+({w0[1]}*x1)+({w0[2]}*x2)=0')"
   ]
  },
  {
   "cell_type": "code",
   "execution_count": 197,
   "id": "ad2617bc-89e4-4b6a-9731-fab984a49bcc",
   "metadata": {},
   "outputs": [
    {
     "data": {
      "image/png": "[encoded data removed]",
      "text/plain": [
       "<Figure size 432x288 with 1 Axes>"
      ]
     },
     "metadata": {
      "needs_background": "light"
     },
     "output_type": "display_data"
    }
   ],
   "source": [
    "plt.ylim(-13, 13)\n",
    "plt.xlim(-13, 13)\n",
    "plt.plot(x1_f, (-(w0[0]+w0[1]*x1_f))/w0[2], color = '#FF0000')\n",
    "for i in range(100):\n",
    "    if label[i]==1:\n",
    "        plt.scatter(x1[i], x2[i], color='#00FF00')\n",
    "    else:\n",
    "        plt.scatter(x1[i], x2[i], color='#0000FF')"
   ]
  },
  {
   "cell_type": "markdown",
   "id": "4c19d00a-8bb7-4e6e-a44b-2b945646a45b",
   "metadata": {},
   "source": [
    "#### 12.1 Test in new data."
   ]
  },
  {
   "cell_type": "code",
   "execution_count": 198,
   "id": "54db96d9-c84d-4072-b2a5-399671e79a6f",
   "metadata": {},
   "outputs": [],
   "source": [
    "x1_dm = [random.randrange(-10, 11, 1) for i in range(30)]\n",
    "x2_dm = [random.randrange(-10, 11, 1) for i in range(30)]"
   ]
  },
  {
   "cell_type": "code",
   "execution_count": 200,
   "id": "9a272b91-24b5-47e3-b28a-e6860c46d685",
   "metadata": {},
   "outputs": [],
   "source": [
    "label_dm = []\n",
    "for i in range(len(x1_dm)):\n",
    "    if (3.1+0.8*x1_dm[i]- x2_dm[i]) >= 0:\n",
    "        label_dm.append(1)\n",
    "    else:\n",
    "        label_dm.append(-1)"
   ]
  },
  {
   "cell_type": "code",
   "execution_count": 202,
   "id": "995eddb3-6f14-4cba-b5e6-23578ac7ede9",
   "metadata": {},
   "outputs": [
    {
     "data": {
      "image/png": "[encoded data removed]",
      "text/plain": [
       "<Figure size 432x288 with 1 Axes>"
      ]
     },
     "metadata": {
      "needs_background": "light"
     },
     "output_type": "display_data"
    }
   ],
   "source": [
    "plt.ylim(-13, 13)\n",
    "plt.xlim(-13, 13)\n",
    "plt.plot(x1_f, (-(w0[0]+w0[1]*x1_f))/w0[2], color = '#FF0000')\n",
    "for i in range(len(label_dm)):\n",
    "    if label_dm[i]==1:\n",
    "        plt.scatter(x1_dm[i], x2_dm[i], color='#00FF00')\n",
    "    else:\n",
    "        plt.scatter(x1_dm[i], x2_dm[i], color='#0000FF')"
   ]
  },
  {
   "cell_type": "code",
   "execution_count": 203,
   "id": "9c58481a-5707-49a4-9124-6a1a42dfdfb0",
   "metadata": {},
   "outputs": [],
   "source": [
    "label_predictc_dm = []\n",
    "for i in range(len(x1_dm)):\n",
    "    if (w0[0]+w0[1]*x1_dm[i]+w0[2]*x2_dm[i]) >= 0:\n",
    "        label_predictc_dm.append(1)\n",
    "    else:\n",
    "        label_predictc_dm.append(-1)"
   ]
  },
  {
   "cell_type": "code",
   "execution_count": 206,
   "id": "a066cd68-3c47-498f-8fd3-359a76dcf7cc",
   "metadata": {},
   "outputs": [],
   "source": [
    "Confusion_Matrix_dm = [[0, 0],[0, 0]]\n",
    "for i in range(len(label_dm)):\n",
    "    if label_dm[i] == 1 and label_predictc_dm[i] == 1:\n",
    "        Confusion_Matrix_dm[0][0] += 1\n",
    "    elif label_dm[i] == -1 and label_predictc_dm[i] == 1:\n",
    "        Confusion_Matrix_dm[0][1] += 1\n",
    "    elif label_dm[i] == 1 and label_predictc_dm[i] == -1:\n",
    "        Confusion_Matrix_dm[1][0] += 1\n",
    "    elif label_dm[i] == -1 and label_predictc_dm[i] == -1:\n",
    "        Confusion_Matrix_dm[1][1] += 1"
   ]
  },
  {
   "cell_type": "code",
   "execution_count": 207,
   "id": "78a23fa5-0d87-4b1e-812c-c5bcaf3384ad",
   "metadata": {},
   "outputs": [
    {
     "data": {
      "text/plain": [
       "[[19, 2], [0, 9]]"
      ]
     },
     "execution_count": 207,
     "metadata": {},
     "output_type": "execute_result"
    }
   ],
   "source": [
    "Confusion_Matrix_dm"
   ]
  },
  {
   "cell_type": "code",
   "execution_count": 208,
   "id": "8bceaaea-0d2f-4615-8226-e133fc3cc84b",
   "metadata": {},
   "outputs": [
    {
     "name": "stdout",
     "output_type": "stream",
     "text": [
      "Accuracy = 0.9333333333333333\n"
     ]
    }
   ],
   "source": [
    "print(f'Accuracy = {(Confusion_Matrix_dm[0][0]+Confusion_Matrix_dm[1][1])/(Confusion_Matrix_dm[0][0]+Confusion_Matrix_dm[0][1]+Confusion_Matrix_dm[1][0]+Confusion_Matrix_dm[1][1])}')"
   ]
  },
  {
   "cell_type": "code",
   "execution_count": null,
   "id": "0bdb3c1d-2096-4785-9af1-755d112e020c",
   "metadata": {},
   "outputs": [],
   "source": []
  }
 ],
 "metadata": {
  "kernelspec": {
   "display_name": "Python 3",
   "language": "python",
   "name": "python3"
  },
  "language_info": {
   "codemirror_mode": {
    "name": "ipython",
    "version": 3
   },
   "file_extension": ".py",
   "mimetype": "text/x-python",
   "name": "python",
   "nbconvert_exporter": "python",
   "pygments_lexer": "ipython3",
   "version": "3.8.0"
  }
 },
 "nbformat": 4,
 "nbformat_minor": 5
}
