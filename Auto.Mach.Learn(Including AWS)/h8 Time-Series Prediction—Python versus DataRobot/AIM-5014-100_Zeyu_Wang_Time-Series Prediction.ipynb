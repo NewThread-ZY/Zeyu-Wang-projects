{
 "cells": [
  {
   "cell_type": "markdown",
   "id": "256b611b-7a7f-4d4b-83da-2330897cf5ab",
   "metadata": {},
   "source": [
    "## AIM-5014-100\n",
    "### Fall 2021\n",
    "### By Zeyu Wang\n",
    "### Module 8: Time-Series"
   ]
  },
  {
   "cell_type": "code",
   "execution_count": 82,
   "id": "d4d890fc-8300-4a9e-91f9-d8406192aae5",
   "metadata": {},
   "outputs": [],
   "source": [
    "import pandas as pd\n",
    "from statsmodels.tsa.arima.model import ARIMA\n",
    "from matplotlib import pyplot\n",
    "import seaborn as sns\n",
    "from sklearn.metrics import mean_squared_error\n",
    "from math import sqrt"
   ]
  },
  {
   "cell_type": "markdown",
   "id": "92e37af9-2c76-4cb0-a0c7-08284ae37440",
   "metadata": {},
   "source": [
    "# Download and clean data"
   ]
  },
  {
   "cell_type": "code",
   "execution_count": 54,
   "id": "b5acd26c-eb10-4801-badf-93f7fe80cdca",
   "metadata": {},
   "outputs": [],
   "source": [
    "data = pd.read_csv('https://raw.githubusercontent.com/NewThread-ZY/AIM-5014-100/main/h8/GOOGL_2006-01-01_to_2018-01-01.csv')"
   ]
  },
  {
   "cell_type": "code",
   "execution_count": 55,
   "id": "aadabd07-4bc7-4795-a309-e3039c22246a",
   "metadata": {},
   "outputs": [],
   "source": [
    "data = data[['Date', 'Close']]"
   ]
  },
  {
   "cell_type": "code",
   "execution_count": 56,
   "id": "2ecfd56d-a08a-4afd-93e1-1027bbd99467",
   "metadata": {},
   "outputs": [
    {
     "data": {
      "text/html": [
       "<div>\n",
       "<style scoped>\n",
       "    .dataframe tbody tr th:only-of-type {\n",
       "        vertical-align: middle;\n",
       "    }\n",
       "\n",
       "    .dataframe tbody tr th {\n",
       "        vertical-align: top;\n",
       "    }\n",
       "\n",
       "    .dataframe thead th {\n",
       "        text-align: right;\n",
       "    }\n",
       "</style>\n",
       "<table border=\"1\" class=\"dataframe\">\n",
       "  <thead>\n",
       "    <tr style=\"text-align: right;\">\n",
       "      <th></th>\n",
       "      <th>Date</th>\n",
       "      <th>Close</th>\n",
       "    </tr>\n",
       "  </thead>\n",
       "  <tbody>\n",
       "    <tr>\n",
       "      <th>0</th>\n",
       "      <td>2006-01-03</td>\n",
       "      <td>217.83</td>\n",
       "    </tr>\n",
       "    <tr>\n",
       "      <th>1</th>\n",
       "      <td>2006-01-04</td>\n",
       "      <td>222.84</td>\n",
       "    </tr>\n",
       "    <tr>\n",
       "      <th>2</th>\n",
       "      <td>2006-01-05</td>\n",
       "      <td>225.85</td>\n",
       "    </tr>\n",
       "    <tr>\n",
       "      <th>3</th>\n",
       "      <td>2006-01-06</td>\n",
       "      <td>233.06</td>\n",
       "    </tr>\n",
       "    <tr>\n",
       "      <th>4</th>\n",
       "      <td>2006-01-09</td>\n",
       "      <td>233.68</td>\n",
       "    </tr>\n",
       "    <tr>\n",
       "      <th>...</th>\n",
       "      <td>...</td>\n",
       "      <td>...</td>\n",
       "    </tr>\n",
       "    <tr>\n",
       "      <th>3014</th>\n",
       "      <td>2017-12-22</td>\n",
       "      <td>1068.86</td>\n",
       "    </tr>\n",
       "    <tr>\n",
       "      <th>3015</th>\n",
       "      <td>2017-12-26</td>\n",
       "      <td>1065.85</td>\n",
       "    </tr>\n",
       "    <tr>\n",
       "      <th>3016</th>\n",
       "      <td>2017-12-27</td>\n",
       "      <td>1060.20</td>\n",
       "    </tr>\n",
       "    <tr>\n",
       "      <th>3017</th>\n",
       "      <td>2017-12-28</td>\n",
       "      <td>1055.95</td>\n",
       "    </tr>\n",
       "    <tr>\n",
       "      <th>3018</th>\n",
       "      <td>2017-12-29</td>\n",
       "      <td>1053.40</td>\n",
       "    </tr>\n",
       "  </tbody>\n",
       "</table>\n",
       "<p>3019 rows × 2 columns</p>\n",
       "</div>"
      ],
      "text/plain": [
       "            Date    Close\n",
       "0     2006-01-03   217.83\n",
       "1     2006-01-04   222.84\n",
       "2     2006-01-05   225.85\n",
       "3     2006-01-06   233.06\n",
       "4     2006-01-09   233.68\n",
       "...          ...      ...\n",
       "3014  2017-12-22  1068.86\n",
       "3015  2017-12-26  1065.85\n",
       "3016  2017-12-27  1060.20\n",
       "3017  2017-12-28  1055.95\n",
       "3018  2017-12-29  1053.40\n",
       "\n",
       "[3019 rows x 2 columns]"
      ]
     },
     "execution_count": 56,
     "metadata": {},
     "output_type": "execute_result"
    }
   ],
   "source": [
    "data"
   ]
  },
  {
   "cell_type": "code",
   "execution_count": 57,
   "id": "131dbb56-33d7-43ff-b50c-1cca3859f0ab",
   "metadata": {},
   "outputs": [],
   "source": [
    "data['Date'] = pd.to_datetime(data.loc[:, 'Date'], format = '%Y-%m-%d')"
   ]
  },
  {
   "cell_type": "code",
   "execution_count": 58,
   "id": "bd7b2866-67b7-4ff8-b2bb-5e1c96ae52c0",
   "metadata": {},
   "outputs": [
    {
     "data": {
      "text/html": [
       "<div>\n",
       "<style scoped>\n",
       "    .dataframe tbody tr th:only-of-type {\n",
       "        vertical-align: middle;\n",
       "    }\n",
       "\n",
       "    .dataframe tbody tr th {\n",
       "        vertical-align: top;\n",
       "    }\n",
       "\n",
       "    .dataframe thead th {\n",
       "        text-align: right;\n",
       "    }\n",
       "</style>\n",
       "<table border=\"1\" class=\"dataframe\">\n",
       "  <thead>\n",
       "    <tr style=\"text-align: right;\">\n",
       "      <th></th>\n",
       "      <th>Date</th>\n",
       "      <th>Close</th>\n",
       "    </tr>\n",
       "  </thead>\n",
       "  <tbody>\n",
       "    <tr>\n",
       "      <th>0</th>\n",
       "      <td>2006-01-03</td>\n",
       "      <td>217.83</td>\n",
       "    </tr>\n",
       "    <tr>\n",
       "      <th>1</th>\n",
       "      <td>2006-01-04</td>\n",
       "      <td>222.84</td>\n",
       "    </tr>\n",
       "    <tr>\n",
       "      <th>2</th>\n",
       "      <td>2006-01-05</td>\n",
       "      <td>225.85</td>\n",
       "    </tr>\n",
       "    <tr>\n",
       "      <th>3</th>\n",
       "      <td>2006-01-06</td>\n",
       "      <td>233.06</td>\n",
       "    </tr>\n",
       "    <tr>\n",
       "      <th>4</th>\n",
       "      <td>2006-01-09</td>\n",
       "      <td>233.68</td>\n",
       "    </tr>\n",
       "    <tr>\n",
       "      <th>...</th>\n",
       "      <td>...</td>\n",
       "      <td>...</td>\n",
       "    </tr>\n",
       "    <tr>\n",
       "      <th>3014</th>\n",
       "      <td>2017-12-22</td>\n",
       "      <td>1068.86</td>\n",
       "    </tr>\n",
       "    <tr>\n",
       "      <th>3015</th>\n",
       "      <td>2017-12-26</td>\n",
       "      <td>1065.85</td>\n",
       "    </tr>\n",
       "    <tr>\n",
       "      <th>3016</th>\n",
       "      <td>2017-12-27</td>\n",
       "      <td>1060.20</td>\n",
       "    </tr>\n",
       "    <tr>\n",
       "      <th>3017</th>\n",
       "      <td>2017-12-28</td>\n",
       "      <td>1055.95</td>\n",
       "    </tr>\n",
       "    <tr>\n",
       "      <th>3018</th>\n",
       "      <td>2017-12-29</td>\n",
       "      <td>1053.40</td>\n",
       "    </tr>\n",
       "  </tbody>\n",
       "</table>\n",
       "<p>3019 rows × 2 columns</p>\n",
       "</div>"
      ],
      "text/plain": [
       "           Date    Close\n",
       "0    2006-01-03   217.83\n",
       "1    2006-01-04   222.84\n",
       "2    2006-01-05   225.85\n",
       "3    2006-01-06   233.06\n",
       "4    2006-01-09   233.68\n",
       "...         ...      ...\n",
       "3014 2017-12-22  1068.86\n",
       "3015 2017-12-26  1065.85\n",
       "3016 2017-12-27  1060.20\n",
       "3017 2017-12-28  1055.95\n",
       "3018 2017-12-29  1053.40\n",
       "\n",
       "[3019 rows x 2 columns]"
      ]
     },
     "execution_count": 58,
     "metadata": {},
     "output_type": "execute_result"
    }
   ],
   "source": [
    "data"
   ]
  },
  {
   "cell_type": "code",
   "execution_count": 59,
   "id": "5036e316-5916-4be5-b902-f86eea2067f1",
   "metadata": {},
   "outputs": [
    {
     "data": {
      "text/plain": [
       "[<matplotlib.lines.Line2D at 0x7fe2aa34d550>]"
      ]
     },
     "execution_count": 59,
     "metadata": {},
     "output_type": "execute_result"
    },
    {
     "data": {
      "image/png": "[encoded data removed]",
      "text/plain": [
       "<Figure size 432x288 with 1 Axes>"
      ]
     },
     "metadata": {
      "needs_background": "light"
     },
     "output_type": "display_data"
    }
   ],
   "source": [
    "pyplot.plot(data.Date, data.Close )"
   ]
  },
  {
   "cell_type": "code",
   "execution_count": 46,
   "id": "d272af09-3bdd-4a7c-97c1-d74acfe20c37",
   "metadata": {},
   "outputs": [],
   "source": [
    "data.header = None\n",
    "data.index_col = None\n",
    "data.parse_dates = True\n",
    "data.squeeze = True"
   ]
  },
  {
   "cell_type": "code",
   "execution_count": 60,
   "id": "9dd24c20-11dd-4620-bc8a-23605f12f1df",
   "metadata": {},
   "outputs": [],
   "source": [
    "data['a'] = data.Date.apply(lambda x: 'y' if str(x)[:4] == '2017' else 'n')"
   ]
  },
  {
   "cell_type": "code",
   "execution_count": 61,
   "id": "3d077bb1-8c8c-43c3-be94-251f830a05ab",
   "metadata": {},
   "outputs": [
    {
     "data": {
      "text/html": [
       "<div>\n",
       "<style scoped>\n",
       "    .dataframe tbody tr th:only-of-type {\n",
       "        vertical-align: middle;\n",
       "    }\n",
       "\n",
       "    .dataframe tbody tr th {\n",
       "        vertical-align: top;\n",
       "    }\n",
       "\n",
       "    .dataframe thead th {\n",
       "        text-align: right;\n",
       "    }\n",
       "</style>\n",
       "<table border=\"1\" class=\"dataframe\">\n",
       "  <thead>\n",
       "    <tr style=\"text-align: right;\">\n",
       "      <th></th>\n",
       "      <th>Date</th>\n",
       "      <th>Close</th>\n",
       "      <th>a</th>\n",
       "    </tr>\n",
       "  </thead>\n",
       "  <tbody>\n",
       "    <tr>\n",
       "      <th>0</th>\n",
       "      <td>2006-01-03</td>\n",
       "      <td>217.83</td>\n",
       "      <td>n</td>\n",
       "    </tr>\n",
       "    <tr>\n",
       "      <th>1</th>\n",
       "      <td>2006-01-04</td>\n",
       "      <td>222.84</td>\n",
       "      <td>n</td>\n",
       "    </tr>\n",
       "    <tr>\n",
       "      <th>2</th>\n",
       "      <td>2006-01-05</td>\n",
       "      <td>225.85</td>\n",
       "      <td>n</td>\n",
       "    </tr>\n",
       "    <tr>\n",
       "      <th>3</th>\n",
       "      <td>2006-01-06</td>\n",
       "      <td>233.06</td>\n",
       "      <td>n</td>\n",
       "    </tr>\n",
       "    <tr>\n",
       "      <th>4</th>\n",
       "      <td>2006-01-09</td>\n",
       "      <td>233.68</td>\n",
       "      <td>n</td>\n",
       "    </tr>\n",
       "    <tr>\n",
       "      <th>...</th>\n",
       "      <td>...</td>\n",
       "      <td>...</td>\n",
       "      <td>...</td>\n",
       "    </tr>\n",
       "    <tr>\n",
       "      <th>3014</th>\n",
       "      <td>2017-12-22</td>\n",
       "      <td>1068.86</td>\n",
       "      <td>y</td>\n",
       "    </tr>\n",
       "    <tr>\n",
       "      <th>3015</th>\n",
       "      <td>2017-12-26</td>\n",
       "      <td>1065.85</td>\n",
       "      <td>y</td>\n",
       "    </tr>\n",
       "    <tr>\n",
       "      <th>3016</th>\n",
       "      <td>2017-12-27</td>\n",
       "      <td>1060.20</td>\n",
       "      <td>y</td>\n",
       "    </tr>\n",
       "    <tr>\n",
       "      <th>3017</th>\n",
       "      <td>2017-12-28</td>\n",
       "      <td>1055.95</td>\n",
       "      <td>y</td>\n",
       "    </tr>\n",
       "    <tr>\n",
       "      <th>3018</th>\n",
       "      <td>2017-12-29</td>\n",
       "      <td>1053.40</td>\n",
       "      <td>y</td>\n",
       "    </tr>\n",
       "  </tbody>\n",
       "</table>\n",
       "<p>3019 rows × 3 columns</p>\n",
       "</div>"
      ],
      "text/plain": [
       "           Date    Close  a\n",
       "0    2006-01-03   217.83  n\n",
       "1    2006-01-04   222.84  n\n",
       "2    2006-01-05   225.85  n\n",
       "3    2006-01-06   233.06  n\n",
       "4    2006-01-09   233.68  n\n",
       "...         ...      ... ..\n",
       "3014 2017-12-22  1068.86  y\n",
       "3015 2017-12-26  1065.85  y\n",
       "3016 2017-12-27  1060.20  y\n",
       "3017 2017-12-28  1055.95  y\n",
       "3018 2017-12-29  1053.40  y\n",
       "\n",
       "[3019 rows x 3 columns]"
      ]
     },
     "execution_count": 61,
     "metadata": {},
     "output_type": "execute_result"
    }
   ],
   "source": [
    "data"
   ]
  },
  {
   "cell_type": "code",
   "execution_count": 65,
   "id": "c8a09233-28aa-47fc-a8ad-87d97be3abd7",
   "metadata": {},
   "outputs": [
    {
     "data": {
      "text/html": [
       "<div>\n",
       "<style scoped>\n",
       "    .dataframe tbody tr th:only-of-type {\n",
       "        vertical-align: middle;\n",
       "    }\n",
       "\n",
       "    .dataframe tbody tr th {\n",
       "        vertical-align: top;\n",
       "    }\n",
       "\n",
       "    .dataframe thead th {\n",
       "        text-align: right;\n",
       "    }\n",
       "</style>\n",
       "<table border=\"1\" class=\"dataframe\">\n",
       "  <thead>\n",
       "    <tr style=\"text-align: right;\">\n",
       "      <th></th>\n",
       "      <th>Date</th>\n",
       "      <th>Close</th>\n",
       "      <th>a</th>\n",
       "    </tr>\n",
       "  </thead>\n",
       "  <tbody>\n",
       "    <tr>\n",
       "      <th>0</th>\n",
       "      <td>2006-01-03</td>\n",
       "      <td>217.83</td>\n",
       "      <td>n</td>\n",
       "    </tr>\n",
       "    <tr>\n",
       "      <th>1</th>\n",
       "      <td>2006-01-04</td>\n",
       "      <td>222.84</td>\n",
       "      <td>n</td>\n",
       "    </tr>\n",
       "    <tr>\n",
       "      <th>2</th>\n",
       "      <td>2006-01-05</td>\n",
       "      <td>225.85</td>\n",
       "      <td>n</td>\n",
       "    </tr>\n",
       "    <tr>\n",
       "      <th>3</th>\n",
       "      <td>2006-01-06</td>\n",
       "      <td>233.06</td>\n",
       "      <td>n</td>\n",
       "    </tr>\n",
       "    <tr>\n",
       "      <th>4</th>\n",
       "      <td>2006-01-09</td>\n",
       "      <td>233.68</td>\n",
       "      <td>n</td>\n",
       "    </tr>\n",
       "    <tr>\n",
       "      <th>...</th>\n",
       "      <td>...</td>\n",
       "      <td>...</td>\n",
       "      <td>...</td>\n",
       "    </tr>\n",
       "    <tr>\n",
       "      <th>2763</th>\n",
       "      <td>2016-12-23</td>\n",
       "      <td>807.80</td>\n",
       "      <td>n</td>\n",
       "    </tr>\n",
       "    <tr>\n",
       "      <th>2764</th>\n",
       "      <td>2016-12-27</td>\n",
       "      <td>809.93</td>\n",
       "      <td>n</td>\n",
       "    </tr>\n",
       "    <tr>\n",
       "      <th>2765</th>\n",
       "      <td>2016-12-28</td>\n",
       "      <td>804.57</td>\n",
       "      <td>n</td>\n",
       "    </tr>\n",
       "    <tr>\n",
       "      <th>2766</th>\n",
       "      <td>2016-12-29</td>\n",
       "      <td>802.88</td>\n",
       "      <td>n</td>\n",
       "    </tr>\n",
       "    <tr>\n",
       "      <th>2767</th>\n",
       "      <td>2016-12-30</td>\n",
       "      <td>792.45</td>\n",
       "      <td>n</td>\n",
       "    </tr>\n",
       "  </tbody>\n",
       "</table>\n",
       "<p>2768 rows × 3 columns</p>\n",
       "</div>"
      ],
      "text/plain": [
       "           Date   Close  a\n",
       "0    2006-01-03  217.83  n\n",
       "1    2006-01-04  222.84  n\n",
       "2    2006-01-05  225.85  n\n",
       "3    2006-01-06  233.06  n\n",
       "4    2006-01-09  233.68  n\n",
       "...         ...     ... ..\n",
       "2763 2016-12-23  807.80  n\n",
       "2764 2016-12-27  809.93  n\n",
       "2765 2016-12-28  804.57  n\n",
       "2766 2016-12-29  802.88  n\n",
       "2767 2016-12-30  792.45  n\n",
       "\n",
       "[2768 rows x 3 columns]"
      ]
     },
     "execution_count": 65,
     "metadata": {},
     "output_type": "execute_result"
    }
   ],
   "source": [
    "train"
   ]
  },
  {
   "cell_type": "code",
   "execution_count": 88,
   "id": "7593f07a-dc36-4f51-9a85-02d6c3e205a1",
   "metadata": {},
   "outputs": [],
   "source": [
    "train = data[data.a=='n']\n",
    "test = data[data.a=='y']\n",
    "train = train.drop('a', axis = 1)\n",
    "test = test.drop('a', axis = 1)"
   ]
  },
  {
   "cell_type": "code",
   "execution_count": 89,
   "id": "bed052a9-0e1e-4758-8266-7cf46bdc021d",
   "metadata": {},
   "outputs": [
    {
     "data": {
      "text/html": [
       "<div>\n",
       "<style scoped>\n",
       "    .dataframe tbody tr th:only-of-type {\n",
       "        vertical-align: middle;\n",
       "    }\n",
       "\n",
       "    .dataframe tbody tr th {\n",
       "        vertical-align: top;\n",
       "    }\n",
       "\n",
       "    .dataframe thead th {\n",
       "        text-align: right;\n",
       "    }\n",
       "</style>\n",
       "<table border=\"1\" class=\"dataframe\">\n",
       "  <thead>\n",
       "    <tr style=\"text-align: right;\">\n",
       "      <th></th>\n",
       "      <th>Date</th>\n",
       "      <th>Close</th>\n",
       "    </tr>\n",
       "  </thead>\n",
       "  <tbody>\n",
       "    <tr>\n",
       "      <th>0</th>\n",
       "      <td>2006-01-03</td>\n",
       "      <td>217.83</td>\n",
       "    </tr>\n",
       "    <tr>\n",
       "      <th>1</th>\n",
       "      <td>2006-01-04</td>\n",
       "      <td>222.84</td>\n",
       "    </tr>\n",
       "    <tr>\n",
       "      <th>2</th>\n",
       "      <td>2006-01-05</td>\n",
       "      <td>225.85</td>\n",
       "    </tr>\n",
       "    <tr>\n",
       "      <th>3</th>\n",
       "      <td>2006-01-06</td>\n",
       "      <td>233.06</td>\n",
       "    </tr>\n",
       "    <tr>\n",
       "      <th>4</th>\n",
       "      <td>2006-01-09</td>\n",
       "      <td>233.68</td>\n",
       "    </tr>\n",
       "  </tbody>\n",
       "</table>\n",
       "</div>"
      ],
      "text/plain": [
       "        Date   Close\n",
       "0 2006-01-03  217.83\n",
       "1 2006-01-04  222.84\n",
       "2 2006-01-05  225.85\n",
       "3 2006-01-06  233.06\n",
       "4 2006-01-09  233.68"
      ]
     },
     "execution_count": 89,
     "metadata": {},
     "output_type": "execute_result"
    }
   ],
   "source": [
    "train.head()"
   ]
  },
  {
   "cell_type": "code",
   "execution_count": 90,
   "id": "54864ef7-9946-48d8-a657-d87c02e1dea0",
   "metadata": {},
   "outputs": [
    {
     "data": {
      "text/html": [
       "<div>\n",
       "<style scoped>\n",
       "    .dataframe tbody tr th:only-of-type {\n",
       "        vertical-align: middle;\n",
       "    }\n",
       "\n",
       "    .dataframe tbody tr th {\n",
       "        vertical-align: top;\n",
       "    }\n",
       "\n",
       "    .dataframe thead th {\n",
       "        text-align: right;\n",
       "    }\n",
       "</style>\n",
       "<table border=\"1\" class=\"dataframe\">\n",
       "  <thead>\n",
       "    <tr style=\"text-align: right;\">\n",
       "      <th></th>\n",
       "      <th>Date</th>\n",
       "      <th>Close</th>\n",
       "    </tr>\n",
       "  </thead>\n",
       "  <tbody>\n",
       "    <tr>\n",
       "      <th>2768</th>\n",
       "      <td>2017-01-03</td>\n",
       "      <td>808.01</td>\n",
       "    </tr>\n",
       "    <tr>\n",
       "      <th>2769</th>\n",
       "      <td>2017-01-04</td>\n",
       "      <td>807.77</td>\n",
       "    </tr>\n",
       "    <tr>\n",
       "      <th>2770</th>\n",
       "      <td>2017-01-05</td>\n",
       "      <td>813.02</td>\n",
       "    </tr>\n",
       "    <tr>\n",
       "      <th>2771</th>\n",
       "      <td>2017-01-06</td>\n",
       "      <td>825.21</td>\n",
       "    </tr>\n",
       "    <tr>\n",
       "      <th>2772</th>\n",
       "      <td>2017-01-09</td>\n",
       "      <td>827.18</td>\n",
       "    </tr>\n",
       "  </tbody>\n",
       "</table>\n",
       "</div>"
      ],
      "text/plain": [
       "           Date   Close\n",
       "2768 2017-01-03  808.01\n",
       "2769 2017-01-04  807.77\n",
       "2770 2017-01-05  813.02\n",
       "2771 2017-01-06  825.21\n",
       "2772 2017-01-09  827.18"
      ]
     },
     "execution_count": 90,
     "metadata": {},
     "output_type": "execute_result"
    }
   ],
   "source": [
    "test.head()"
   ]
  },
  {
   "cell_type": "code",
   "execution_count": 91,
   "id": "66c6116e-f633-4ae7-a200-fc1063093e86",
   "metadata": {},
   "outputs": [],
   "source": [
    "# fit model\n",
    "model = ARIMA(train.Close, order=(5,1,0))"
   ]
  },
  {
   "cell_type": "code",
   "execution_count": 92,
   "id": "5e3acfad-f4ad-4c86-b99a-2af1c7e2e5d8",
   "metadata": {},
   "outputs": [],
   "source": [
    "model_fit = model.fit()"
   ]
  },
  {
   "cell_type": "code",
   "execution_count": 93,
   "id": "ee493496-aea4-4ef3-8790-077c386f0500",
   "metadata": {},
   "outputs": [
    {
     "name": "stdout",
     "output_type": "stream",
     "text": [
      "                               SARIMAX Results                                \n",
      "==============================================================================\n",
      "Dep. Variable:                  Close   No. Observations:                 2768\n",
      "Model:                 ARIMA(5, 1, 0)   Log Likelihood               -9171.935\n",
      "Date:                Sun, 07 Nov 2021   AIC                          18355.871\n",
      "Time:                        22:46:32   BIC                          18391.424\n",
      "Sample:                             0   HQIC                         18368.712\n",
      "                               - 2768                                         \n",
      "Covariance Type:                  opg                                         \n",
      "==============================================================================\n",
      "                 coef    std err          z      P>|z|      [0.025      0.975]\n",
      "------------------------------------------------------------------------------\n",
      "ar.L1          0.0237      0.014      1.684      0.092      -0.004       0.051\n",
      "ar.L2          0.0066      0.015      0.428      0.669      -0.024       0.037\n",
      "ar.L3         -0.0467      0.013     -3.478      0.001      -0.073      -0.020\n",
      "ar.L4         -0.0177      0.012     -1.422      0.155      -0.042       0.007\n",
      "ar.L5         -0.0027      0.014     -0.195      0.845      -0.029       0.024\n",
      "sigma2        44.3286      0.379    117.068      0.000      43.586      45.071\n",
      "===================================================================================\n",
      "Ljung-Box (L1) (Q):                   0.00   Jarque-Bera (JB):             67102.48\n",
      "Prob(Q):                              0.96   Prob(JB):                         0.00\n",
      "Heteroskedasticity (H):               2.89   Skew:                             1.40\n",
      "Prob(H) (two-sided):                  0.00   Kurtosis:                        26.96\n",
      "===================================================================================\n",
      "\n",
      "Warnings:\n",
      "[1] Covariance matrix calculated using the outer product of gradients (complex-step).\n"
     ]
    }
   ],
   "source": [
    "# summary of fit model\n",
    "print(model_fit.summary())"
   ]
  },
  {
   "cell_type": "code",
   "execution_count": 94,
   "id": "93ec3251-9ed9-4160-851c-0c9bf3e9c17e",
   "metadata": {},
   "outputs": [
    {
     "data": {
      "image/png": "[encoded data removed]",
      "text/plain": [
       "<Figure size 432x288 with 1 Axes>"
      ]
     },
     "metadata": {
      "needs_background": "light"
     },
     "output_type": "display_data"
    },
    {
     "data": {
      "image/png": "[encoded data removed]",
      "text/plain": [
       "<Figure size 432x288 with 1 Axes>"
      ]
     },
     "metadata": {
      "needs_background": "light"
     },
     "output_type": "display_data"
    },
    {
     "name": "stdout",
     "output_type": "stream",
     "text": [
      "                 0\n",
      "count  2768.000000\n",
      "mean      0.294210\n",
      "std       7.835231\n",
      "min     -42.727425\n",
      "25%      -2.648161\n",
      "50%       0.125455\n",
      "75%       3.208466\n",
      "max     217.830000\n"
     ]
    }
   ],
   "source": [
    "# line plot of residuals\n",
    "residuals = pd.DataFrame(model_fit.resid)\n",
    "residuals.plot()\n",
    "pyplot.show()\n",
    "# density plot of residuals\n",
    "residuals.plot(kind='kde')\n",
    "pyplot.show()\n",
    "# summary stats of residuals\n",
    "print(residuals.describe())"
   ]
  },
  {
   "cell_type": "code",
   "execution_count": 95,
   "id": "6146cd20-068b-4a3c-8937-d43692edcc1f",
   "metadata": {},
   "outputs": [
    {
     "data": {
      "text/html": [
       "<div>\n",
       "<style scoped>\n",
       "    .dataframe tbody tr th:only-of-type {\n",
       "        vertical-align: middle;\n",
       "    }\n",
       "\n",
       "    .dataframe tbody tr th {\n",
       "        vertical-align: top;\n",
       "    }\n",
       "\n",
       "    .dataframe thead th {\n",
       "        text-align: right;\n",
       "    }\n",
       "</style>\n",
       "<table border=\"1\" class=\"dataframe\">\n",
       "  <thead>\n",
       "    <tr style=\"text-align: right;\">\n",
       "      <th></th>\n",
       "      <th>Date</th>\n",
       "      <th>Close</th>\n",
       "    </tr>\n",
       "  </thead>\n",
       "  <tbody>\n",
       "    <tr>\n",
       "      <th>0</th>\n",
       "      <td>2006-01-03</td>\n",
       "      <td>217.83</td>\n",
       "    </tr>\n",
       "    <tr>\n",
       "      <th>1</th>\n",
       "      <td>2006-01-04</td>\n",
       "      <td>222.84</td>\n",
       "    </tr>\n",
       "    <tr>\n",
       "      <th>2</th>\n",
       "      <td>2006-01-05</td>\n",
       "      <td>225.85</td>\n",
       "    </tr>\n",
       "    <tr>\n",
       "      <th>3</th>\n",
       "      <td>2006-01-06</td>\n",
       "      <td>233.06</td>\n",
       "    </tr>\n",
       "    <tr>\n",
       "      <th>4</th>\n",
       "      <td>2006-01-09</td>\n",
       "      <td>233.68</td>\n",
       "    </tr>\n",
       "    <tr>\n",
       "      <th>...</th>\n",
       "      <td>...</td>\n",
       "      <td>...</td>\n",
       "    </tr>\n",
       "    <tr>\n",
       "      <th>2763</th>\n",
       "      <td>2016-12-23</td>\n",
       "      <td>807.80</td>\n",
       "    </tr>\n",
       "    <tr>\n",
       "      <th>2764</th>\n",
       "      <td>2016-12-27</td>\n",
       "      <td>809.93</td>\n",
       "    </tr>\n",
       "    <tr>\n",
       "      <th>2765</th>\n",
       "      <td>2016-12-28</td>\n",
       "      <td>804.57</td>\n",
       "    </tr>\n",
       "    <tr>\n",
       "      <th>2766</th>\n",
       "      <td>2016-12-29</td>\n",
       "      <td>802.88</td>\n",
       "    </tr>\n",
       "    <tr>\n",
       "      <th>2767</th>\n",
       "      <td>2016-12-30</td>\n",
       "      <td>792.45</td>\n",
       "    </tr>\n",
       "  </tbody>\n",
       "</table>\n",
       "<p>2768 rows × 2 columns</p>\n",
       "</div>"
      ],
      "text/plain": [
       "           Date   Close\n",
       "0    2006-01-03  217.83\n",
       "1    2006-01-04  222.84\n",
       "2    2006-01-05  225.85\n",
       "3    2006-01-06  233.06\n",
       "4    2006-01-09  233.68\n",
       "...         ...     ...\n",
       "2763 2016-12-23  807.80\n",
       "2764 2016-12-27  809.93\n",
       "2765 2016-12-28  804.57\n",
       "2766 2016-12-29  802.88\n",
       "2767 2016-12-30  792.45\n",
       "\n",
       "[2768 rows x 2 columns]"
      ]
     },
     "execution_count": 95,
     "metadata": {},
     "output_type": "execute_result"
    }
   ],
   "source": [
    "train"
   ]
  },
  {
   "cell_type": "markdown",
   "id": "b916556d-409b-4a7f-93b4-0ba2747830ff",
   "metadata": {},
   "source": [
    "# 1. First model"
   ]
  },
  {
   "cell_type": "markdown",
   "id": "20192fa9-9e2c-4d5b-8284-dd236da94a47",
   "metadata": {},
   "source": [
    "Use ARIMA model"
   ]
  },
  {
   "cell_type": "code",
   "execution_count": 96,
   "id": "ae6cb07d-3223-42b8-b4d6-3f402fc52eba",
   "metadata": {},
   "outputs": [
    {
     "name": "stdout",
     "output_type": "stream",
     "text": [
      "[217.83 222.84 225.85 ... 804.57 802.88 792.45]\n",
      "predicted=792.409611, expected=808.010000\n",
      "predicted=808.458615, expected=807.770000\n",
      "predicted=808.404122, expected=813.020000\n",
      "predicted=812.579277, expected=825.210000\n",
      "predicted=825.280327, expected=827.180000\n",
      "predicted=827.019682, expected=826.010000\n",
      "predicted=825.338657, expected=829.860000\n",
      "predicted=829.610449, expected=829.530000\n",
      "predicted=829.523708, expected=830.940000\n",
      "predicted=830.808108, expected=827.460000\n",
      "predicted=827.340223, expected=829.020000\n",
      "predicted=828.958728, expected=824.370000\n",
      "predicted=824.411271, expected=828.170000\n",
      "predicted=828.207596, expected=844.430000\n",
      "predicted=845.026798, expected=849.530000\n",
      "predicted=849.665156, expected=858.450000\n",
      "predicted=857.905450, expected=856.980000\n",
      "predicted=856.464927, expected=845.030000\n",
      "predicted=844.156836, expected=823.830000\n",
      "predicted=823.048373, expected=820.190000\n",
      "predicted=820.480324, expected=815.240000\n",
      "predicted=816.339379, expected=818.260000\n",
      "predicted=818.999742, expected=820.130000\n",
      "predicted=820.662552, expected=821.620000\n",
      "predicted=821.661971, expected=829.230000\n",
      "predicted=829.325871, expected=829.880000\n",
      "predicted=829.827569, expected=830.060000\n",
      "predicted=829.663838, expected=834.850000\n",
      "predicted=834.773480, expected=838.960000\n",
      "predicted=839.033136, expected=840.030000\n",
      "predicted=839.859211, expected=837.320000\n",
      "predicted=836.959589, expected=842.170000\n",
      "predicted=842.105628, expected=846.550000\n",
      "predicted=846.783802, expected=849.270000\n",
      "predicted=849.200954, expected=851.360000\n",
      "predicted=851.150497, expected=851.000000\n",
      "predicted=850.755500, expected=847.810000\n",
      "predicted=847.535345, expected=849.670000\n",
      "predicted=849.647694, expected=844.930000\n",
      "predicted=844.961641, expected=856.750000\n",
      "predicted=857.002143, expected=849.850000\n",
      "predicted=849.986022, expected=849.080000\n",
      "predicted=848.526413, expected=847.270000\n",
      "predicted=847.328232, expected=851.150000\n",
      "predicted=851.330891, expected=853.640000\n",
      "predicted=853.886908, expected=857.840000\n",
      "predicted=857.828517, expected=861.400000\n",
      "predicted=861.343818, expected=864.580000\n",
      "predicted=864.417399, expected=865.910000\n",
      "predicted=865.701063, expected=868.390000\n",
      "predicted=868.214410, expected=870.000000\n",
      "predicted=869.912904, expected=872.370000\n",
      "predicted=872.281157, expected=867.910000\n",
      "predicted=867.679415, expected=850.140000\n",
      "predicted=849.461488, expected=849.800000\n",
      "predicted=849.783902, expected=839.650000\n",
      "predicted=840.294463, expected=835.140000\n",
      "predicted=835.330319, expected=838.510000\n",
      "predicted=839.164409, expected=840.630000\n",
      "predicted=841.150042, expected=849.870000\n",
      "predicted=850.158086, expected=849.480000\n",
      "predicted=849.424202, expected=847.800000\n",
      "predicted=847.244334, expected=856.750000\n",
      "predicted=856.775072, expected=852.570000\n",
      "predicted=852.570381, expected=848.910000\n",
      "predicted=848.396487, expected=845.100000\n",
      "predicted=844.970448, expected=842.100000\n",
      "predicted=842.177870, expected=841.700000\n",
      "predicted=841.948258, expected=839.880000\n",
      "predicted=840.077585, expected=841.460000\n",
      "predicted=841.597443, expected=840.180000\n",
      "predicted=840.277070, expected=855.130000\n",
      "predicted=855.485985, expected=853.990000\n",
      "predicted=854.153711, expected=856.510000\n",
      "predicted=855.883317, expected=860.080000\n",
      "predicted=859.931011, expected=858.950000\n",
      "predicted=858.752753, expected=878.930000\n",
      "predicted=879.230002, expected=888.840000\n",
      "predicted=889.297637, expected=889.140000\n",
      "predicted=888.355523, expected=891.440000\n",
      "predicted=890.618251, expected=924.520000\n",
      "predicted=925.200721, expected=932.820000\n",
      "predicted=933.305477, expected=937.090000\n",
      "predicted=935.878460, expected=948.450000\n",
      "predicted=947.985571, expected=954.720000\n",
      "predicted=954.652582, expected=950.280000\n",
      "predicted=949.670014, expected=958.690000\n",
      "predicted=958.470319, expected=956.710000\n",
      "predicted=956.786086, expected=954.840000\n",
      "predicted=954.469252, expected=955.890000\n",
      "predicted=955.869371, expected=955.140000\n",
      "predicted=955.192147, expected=959.220000\n",
      "predicted=959.334405, expected=964.610000\n",
      "predicted=964.854738, expected=942.170000\n",
      "predicted=941.404451, expected=950.500000\n",
      "predicted=950.186712, expected=954.650000\n",
      "predicted=955.615188, expected=964.070000\n",
      "predicted=964.389211, expected=970.550000\n",
      "predicted=970.652793, expected=977.610000\n",
      "predicted=977.444556, expected=991.860000\n",
      "predicted=992.001855, expected=993.270000\n",
      "predicted=993.119423, expected=996.170000\n",
      "predicted=995.623100, expected=987.090000\n",
      "predicted=986.551000, expected=988.290000\n",
      "predicted=988.008629, expected=996.120000\n",
      "predicted=996.676198, expected=1003.880000\n",
      "predicted=1004.313709, expected=996.680000\n",
      "predicted=996.271222, expected=1001.590000\n",
      "predicted=1001.229090, expected=1004.280000\n",
      "predicted=1004.567364, expected=970.120000\n",
      "predicted=969.023121, expected=961.810000\n",
      "predicted=961.002427, expected=970.500000\n",
      "predicted=971.848777, expected=967.930000\n",
      "predicted=968.732046, expected=960.180000\n",
      "predicted=959.965019, expected=958.620000\n",
      "predicted=958.531144, expected=975.220000\n",
      "predicted=975.960058, expected=968.990000\n",
      "predicted=969.103239, expected=978.590000\n",
      "predicted=978.329640, expected=976.620000\n",
      "predicted=976.677722, expected=986.090000\n",
      "predicted=985.940619, expected=972.090000\n",
      "predicted=971.822251, expected=948.090000\n",
      "predicted=946.815100, expected=961.010000\n",
      "predicted=961.591697, expected=937.820000\n",
      "predicted=938.268507, expected=929.680000\n",
      "predicted=929.249032, expected=919.460000\n",
      "predicted=919.832204, expected=932.260000\n",
      "predicted=932.885159, expected=927.690000\n",
      "predicted=928.376698, expected=940.810000\n",
      "predicted=940.856390, expected=951.000000\n",
      "predicted=951.592011, expected=953.530000\n",
      "predicted=953.172190, expected=967.660000\n",
      "predicted=967.663069, expected=968.850000\n",
      "predicted=968.734751, expected=976.910000\n",
      "predicted=976.562545, expected=975.960000\n",
      "predicted=975.838591, expected=986.950000\n",
      "predicted=986.821078, expected=992.770000\n",
      "predicted=993.048927, expected=992.190000\n",
      "predicted=991.842626, expected=993.840000\n",
      "predicted=993.598714, expected=998.310000\n",
      "predicted=998.318835, expected=969.030000\n",
      "predicted=968.179529, expected=965.310000\n",
      "predicted=964.615720, expected=952.510000\n",
      "predicted=952.945095, expected=958.330000\n",
      "predicted=958.634797, expected=945.500000\n",
      "predicted=946.077659, expected=946.560000\n",
      "predicted=946.300383, expected=947.640000\n",
      "predicted=948.228250, expected=940.300000\n",
      "predicted=940.118901, expected=945.790000\n",
      "predicted=945.908563, expected=945.750000\n",
      "predicted=946.063408, expected=944.190000\n",
      "predicted=944.023243, expected=940.080000\n",
      "predicted=939.983470, expected=923.590000\n",
      "predicted=923.051755, expected=930.090000\n",
      "predicted=930.100154, expected=938.930000\n",
      "predicted=939.867410, expected=938.080000\n",
      "predicted=938.197183, expected=944.270000\n",
      "predicted=944.255879, expected=927.660000\n",
      "predicted=927.216974, expected=926.180000\n",
      "predicted=925.569181, expected=920.870000\n",
      "predicted=921.192975, expected=940.400000\n",
      "predicted=940.956374, expected=942.580000\n",
      "predicted=943.350895, expected=936.890000\n",
      "predicted=936.162052, expected=930.500000\n",
      "predicted=930.013137, expected=928.130000\n",
      "predicted=927.977761, expected=935.750000\n",
      "predicted=936.178266, expected=943.630000\n",
      "predicted=944.158713, expected=955.240000\n",
      "predicted=955.483793, expected=951.990000\n",
      "predicted=951.752300, expected=941.480000\n",
      "predicted=940.565764, expected=942.020000\n",
      "predicted=941.798230, expected=949.890000\n",
      "predicted=950.462279, expected=941.410000\n",
      "predicted=941.422647, expected=943.290000\n",
      "predicted=942.985222, expected=946.650000\n",
      "predicted=946.994512, expected=950.440000\n",
      "predicted=950.547747, expected=940.130000\n",
      "predicted=939.849028, expected=935.290000\n",
      "predicted=934.815046, expected=929.750000\n",
      "predicted=929.847619, expected=936.860000\n",
      "predicted=937.209947, expected=947.540000\n",
      "predicted=948.274330, expected=947.550000\n",
      "predicted=947.533459, expected=943.260000\n",
      "predicted=942.706120, expected=934.280000\n",
      "predicted=933.812123, expected=937.430000\n",
      "predicted=937.475347, expected=959.900000\n",
      "predicted=960.958656, expected=964.810000\n",
      "predicted=965.237259, expected=973.720000\n",
      "predicted=973.164543, expected=967.470000\n",
      "predicted=966.967568, expected=972.080000\n",
      "predicted=971.592696, expected=966.780000\n",
      "predicted=966.841522, expected=985.190000\n",
      "predicted=985.419814, expected=993.640000\n",
      "predicted=994.368117, expected=992.310000\n",
      "predicted=991.668579, expected=987.800000\n",
      "predicted=987.153811, expected=1005.650000\n",
      "predicted=1005.970944, expected=1005.650000\n",
      "predicted=1006.061745, expected=1007.870000\n",
      "predicted=1007.238081, expected=1009.350000\n",
      "predicted=1009.324558, expected=1011.000000\n",
      "predicted=1010.881491, expected=1012.740000\n",
      "predicted=1012.737633, expected=1001.840000\n",
      "predicted=1001.479634, expected=1005.070000\n",
      "predicted=1004.904070, expected=985.540000\n",
      "predicted=985.501025, expected=988.490000\n",
      "predicted=988.177246, expected=991.460000\n",
      "predicted=992.420483, expected=991.420000\n",
      "predicted=991.473576, expected=1033.670000\n",
      "predicted=1034.680089, expected=1033.130000\n",
      "predicted=1033.793922, expected=1033.040000\n",
      "predicted=1031.329394, expected=1042.600000\n",
      "predicted=1042.288914, expected=1042.970000\n",
      "predicted=1043.001540, expected=1049.990000\n",
      "predicted=1049.826598, expected=1042.680000\n",
      "predicted=1042.477027, expected=1052.390000\n",
      "predicted=1052.219099, expected=1058.290000\n",
      "predicted=1058.787689, expected=1047.720000\n",
      "predicted=1047.298213, expected=1044.150000\n",
      "predicted=1043.551607, expected=1041.200000\n",
      "predicted=1041.363664, expected=1041.640000\n",
      "predicted=1041.865762, expected=1036.410000\n",
      "predicted=1036.454848, expected=1048.470000\n",
      "predicted=1048.705420, expected=1035.890000\n",
      "predicted=1036.000105, expected=1034.660000\n",
      "predicted=1034.037607, expected=1050.300000\n",
      "predicted=1050.932723, expected=1051.920000\n",
      "predicted=1052.396695, expected=1056.520000\n",
      "predicted=1056.137540, expected=1072.010000\n",
      "predicted=1072.185335, expected=1063.290000\n",
      "predicted=1063.118259, expected=1037.380000\n",
      "predicted=1036.019495, expected=1036.170000\n",
      "predicted=1035.835242, expected=1025.070000\n",
      "predicted=1025.703098, expected=1011.870000\n",
      "predicted=1011.869371, expected=1019.600000\n",
      "predicted=1020.172706, expected=1032.720000\n",
      "predicted=1033.780055, expected=1044.570000\n",
      "predicted=1045.156813, expected=1049.380000\n",
      "predicted=1049.247780, expected=1051.970000\n",
      "predicted=1051.403786, expected=1048.770000\n",
      "predicted=1048.205097, expected=1051.390000\n",
      "predicted=1051.115282, expected=1057.470000\n",
      "predicted=1057.680141, expected=1072.000000\n",
      "predicted=1072.430892, expected=1085.090000\n",
      "predicted=1085.469956, expected=1079.780000\n",
      "predicted=1079.209870, expected=1073.560000\n",
      "predicted=1072.550735, expected=1070.850000\n",
      "predicted=1070.488625, expected=1068.860000\n",
      "predicted=1068.944619, expected=1065.850000\n",
      "predicted=1065.992344, expected=1060.200000\n",
      "predicted=1060.170692, expected=1055.950000\n",
      "predicted=1055.907814, expected=1053.400000\n",
      "Test RMSE: 9.218\n"
     ]
    },
    {
     "data": {
      "image/png": "[encoded data removed]",
      "text/plain": [
       "<Figure size 432x288 with 1 Axes>"
      ]
     },
     "metadata": {
      "needs_background": "light"
     },
     "output_type": "display_data"
    }
   ],
   "source": [
    "train, test = train.Close.values, test.Close.values\n",
    "history = [x for x in train]\n",
    "predictions = list()\n",
    "print(train)\n",
    "# walk-forward validation\n",
    "for t in range(len(test)):\n",
    "    model = ARIMA(history, order=(5,1,0))\n",
    "    model_fit = model.fit()\n",
    "    output = model_fit.forecast()\n",
    "    yhat = output[0]\n",
    "    predictions.append(yhat)\n",
    "    obs = test[t]\n",
    "    history.append(obs)\n",
    "    print('predicted=%f, expected=%f' % (yhat, obs))\n",
    "# evaluate forecasts\n",
    "rmse = sqrt(mean_squared_error(test, predictions))\n",
    "print('Test RMSE: %.3f' % rmse)\n",
    "# plot forecasts against actual outcomes\n",
    "pyplot.plot(test)\n",
    "pyplot.plot(predictions, color='red')\n",
    "pyplot.show()"
   ]
  },
  {
   "cell_type": "markdown",
   "id": "e4dccd5c-bf42-4f91-a4a9-8c2af8527f90",
   "metadata": {},
   "source": [
    "It fits well and its RMSE is 9.218"
   ]
  },
  {
   "cell_type": "markdown",
   "id": "df0ef043-d781-4318-972f-2f88a368f8e3",
   "metadata": {},
   "source": [
    "# 2. Second model"
   ]
  },
  {
   "cell_type": "markdown",
   "id": "6da80e2b-a25c-4785-863e-18ed1f6d7f65",
   "metadata": {},
   "source": [
    "Use ARMA model."
   ]
  },
  {
   "cell_type": "code",
   "execution_count": 102,
   "id": "28bfdec2-670e-4276-8021-02363dabccf5",
   "metadata": {},
   "outputs": [],
   "source": [
    "from statsmodels.tsa.arima_model import ARMA"
   ]
  },
  {
   "cell_type": "code",
   "execution_count": 110,
   "id": "e8b2ca91-a233-4b0e-94f1-504caa3c781f",
   "metadata": {},
   "outputs": [
    {
     "name": "stdout",
     "output_type": "stream",
     "text": [
      "[217.83 222.84 225.85 ... 804.57 802.88 792.45]\n",
      "predicted=792.071265, expected=808.010000\n",
      "predicted=808.254936, expected=807.770000\n",
      "predicted=807.647423, expected=813.020000\n",
      "predicted=813.025675, expected=825.210000\n",
      "predicted=825.386777, expected=827.180000\n",
      "predicted=827.113673, expected=826.010000\n",
      "predicted=825.849928, expected=829.860000\n",
      "predicted=829.839344, expected=829.530000\n",
      "predicted=829.409297, expected=830.940000\n",
      "predicted=830.862949, expected=827.460000\n",
      "predicted=827.263152, expected=829.020000\n",
      "predicted=828.946487, expected=824.370000\n",
      "predicted=824.146545, expected=828.170000\n",
      "predicted=828.146477, expected=844.430000\n",
      "predicted=844.813277, expected=849.530000\n",
      "predicted=849.548269, expected=858.450000\n",
      "predicted=858.566674, expected=856.980000\n",
      "predicted=856.836001, expected=845.030000\n",
      "predicted=844.620468, expected=823.830000\n",
      "predicted=823.140835, expected=820.190000\n",
      "predicted=819.973471, expected=815.240000\n",
      "predicted=814.988183, expected=818.260000\n",
      "predicted=818.227944, expected=820.130000\n",
      "predicted=818.154794, expected=821.620000\n"
     ]
    },
    {
     "name": "stderr",
     "output_type": "stream",
     "text": [
      "/opt/anaconda3/envs/ml/lib/python3.8/site-packages/statsmodels/base/model.py:547: HessianInversionWarning: Inverting hessian failed, no bse or cov_params available\n",
      "  warnings.warn('Inverting hessian failed, no bse or cov_params '\n"
     ]
    },
    {
     "name": "stdout",
     "output_type": "stream",
     "text": [
      "predicted=821.544484, expected=829.230000\n",
      "predicted=829.328613, expected=829.880000\n",
      "predicted=829.787287, expected=830.060000\n",
      "predicted=829.770953, expected=834.850000\n",
      "predicted=834.982186, expected=838.960000\n"
     ]
    },
    {
     "name": "stderr",
     "output_type": "stream",
     "text": [
      "/opt/anaconda3/envs/ml/lib/python3.8/site-packages/statsmodels/base/model.py:547: HessianInversionWarning: Inverting hessian failed, no bse or cov_params available\n",
      "  warnings.warn('Inverting hessian failed, no bse or cov_params '\n",
      "/opt/anaconda3/envs/ml/lib/python3.8/site-packages/statsmodels/base/model.py:547: HessianInversionWarning: Inverting hessian failed, no bse or cov_params available\n",
      "  warnings.warn('Inverting hessian failed, no bse or cov_params '\n",
      "/opt/anaconda3/envs/ml/lib/python3.8/site-packages/statsmodels/base/model.py:566: ConvergenceWarning: Maximum Likelihood optimization failed to converge. Check mle_retvals\n",
      "  warnings.warn(\"Maximum Likelihood optimization failed to \"\n",
      "/opt/anaconda3/envs/ml/lib/python3.8/site-packages/statsmodels/base/model.py:547: HessianInversionWarning: Inverting hessian failed, no bse or cov_params available\n",
      "  warnings.warn('Inverting hessian failed, no bse or cov_params '\n"
     ]
    },
    {
     "name": "stdout",
     "output_type": "stream",
     "text": [
      "predicted=839.074046, expected=840.030000\n",
      "predicted=839.950854, expected=837.320000\n",
      "predicted=837.132899, expected=842.170000\n",
      "predicted=842.196319, expected=846.550000\n",
      "predicted=846.563398, expected=849.270000\n",
      "predicted=849.236436, expected=851.360000\n",
      "predicted=851.311364, expected=851.000000\n",
      "predicted=850.882353, expected=847.810000\n",
      "predicted=847.611635, expected=849.670000\n",
      "predicted=849.615711, expected=844.930000\n",
      "predicted=844.690423, expected=856.750000\n",
      "predicted=856.970567, expected=849.850000\n",
      "predicted=849.555770, expected=849.080000\n",
      "predicted=848.951971, expected=847.270000\n",
      "predicted=847.110713, expected=851.150000\n",
      "predicted=851.147376, expected=853.640000\n",
      "predicted=853.603464, expected=857.840000\n"
     ]
    },
    {
     "name": "stderr",
     "output_type": "stream",
     "text": [
      "/opt/anaconda3/envs/ml/lib/python3.8/site-packages/statsmodels/base/model.py:547: HessianInversionWarning: Inverting hessian failed, no bse or cov_params available\n",
      "  warnings.warn('Inverting hessian failed, no bse or cov_params '\n",
      "/opt/anaconda3/envs/ml/lib/python3.8/site-packages/statsmodels/base/model.py:566: ConvergenceWarning: Maximum Likelihood optimization failed to converge. Check mle_retvals\n",
      "  warnings.warn(\"Maximum Likelihood optimization failed to \"\n"
     ]
    },
    {
     "name": "stdout",
     "output_type": "stream",
     "text": [
      "predicted=857.952649, expected=861.400000\n",
      "predicted=861.389196, expected=864.580000\n",
      "predicted=864.566095, expected=865.910000\n",
      "predicted=865.840250, expected=868.390000\n",
      "predicted=868.353360, expected=870.000000\n",
      "predicted=869.944628, expected=872.370000\n",
      "predicted=872.330329, expected=867.910000\n",
      "predicted=867.684093, expected=850.140000\n",
      "predicted=849.538415, expected=849.800000\n",
      "predicted=849.684829, expected=839.650000\n",
      "predicted=839.257679, expected=835.140000\n",
      "predicted=834.902995, expected=838.510000\n"
     ]
    },
    {
     "name": "stderr",
     "output_type": "stream",
     "text": [
      "/opt/anaconda3/envs/ml/lib/python3.8/site-packages/statsmodels/base/model.py:547: HessianInversionWarning: Inverting hessian failed, no bse or cov_params available\n",
      "  warnings.warn('Inverting hessian failed, no bse or cov_params '\n"
     ]
    },
    {
     "name": "stdout",
     "output_type": "stream",
     "text": [
      "predicted=838.602718, expected=840.630000\n",
      "predicted=840.581267, expected=849.870000\n",
      "predicted=850.024776, expected=849.480000\n",
      "predicted=849.363205, expected=847.800000\n",
      "predicted=847.627320, expected=856.750000\n",
      "predicted=856.896882, expected=852.570000\n",
      "predicted=852.348271, expected=848.910000\n",
      "predicted=848.700852, expected=845.100000\n",
      "predicted=844.885763, expected=842.100000\n",
      "predicted=841.909770, expected=841.700000\n",
      "predicted=841.580742, expected=839.880000\n",
      "predicted=839.720827, expected=841.460000\n",
      "predicted=841.392321, expected=840.180000\n",
      "predicted=840.034133, expected=855.130000\n",
      "predicted=855.441589, expected=853.990000\n",
      "predicted=853.853885, expected=856.510000\n",
      "predicted=856.475193, expected=860.080000\n",
      "predicted=860.075009, expected=858.950000\n",
      "predicted=858.815480, expected=878.930000\n",
      "predicted=879.381156, expected=888.840000\n",
      "predicted=889.029253, expected=889.140000\n",
      "predicted=889.051566, expected=891.440000\n",
      "predicted=891.408204, expected=924.520000\n",
      "predicted=925.407915, expected=932.820000\n",
      "predicted=932.991288, expected=937.090000\n",
      "predicted=937.133270, expected=948.450000\n",
      "predicted=948.727232, expected=954.720000\n",
      "predicted=954.924207, expected=950.280000\n",
      "predicted=950.046992, expected=958.690000\n",
      "predicted=958.873669, expected=956.710000\n"
     ]
    },
    {
     "name": "stderr",
     "output_type": "stream",
     "text": [
      "/opt/anaconda3/envs/ml/lib/python3.8/site-packages/statsmodels/base/model.py:566: ConvergenceWarning: Maximum Likelihood optimization failed to converge. Check mle_retvals\n",
      "  warnings.warn(\"Maximum Likelihood optimization failed to \"\n"
     ]
    },
    {
     "name": "stdout",
     "output_type": "stream",
     "text": [
      "predicted=956.646814, expected=954.840000\n",
      "predicted=954.690784, expected=955.890000\n",
      "predicted=955.833657, expected=955.140000\n",
      "predicted=955.029070, expected=959.220000\n",
      "predicted=959.260787, expected=964.610000\n",
      "predicted=964.780257, expected=942.170000\n",
      "predicted=941.375861, expected=950.500000\n",
      "predicted=950.654468, expected=954.650000\n",
      "predicted=954.682810, expected=964.070000\n",
      "predicted=964.268158, expected=970.550000\n",
      "predicted=970.666408, expected=977.610000\n",
      "predicted=977.828037, expected=991.860000\n",
      "predicted=992.228527, expected=993.270000\n"
     ]
    },
    {
     "name": "stderr",
     "output_type": "stream",
     "text": [
      "/opt/anaconda3/envs/ml/lib/python3.8/site-packages/statsmodels/base/model.py:547: HessianInversionWarning: Inverting hessian failed, no bse or cov_params available\n",
      "  warnings.warn('Inverting hessian failed, no bse or cov_params '\n",
      "/opt/anaconda3/envs/ml/lib/python3.8/site-packages/statsmodels/base/model.py:566: ConvergenceWarning: Maximum Likelihood optimization failed to converge. Check mle_retvals\n",
      "  warnings.warn(\"Maximum Likelihood optimization failed to \"\n",
      "/opt/anaconda3/envs/ml/lib/python3.8/site-packages/statsmodels/base/model.py:547: HessianInversionWarning: Inverting hessian failed, no bse or cov_params available\n",
      "  warnings.warn('Inverting hessian failed, no bse or cov_params '\n",
      "/opt/anaconda3/envs/ml/lib/python3.8/site-packages/statsmodels/base/model.py:566: ConvergenceWarning: Maximum Likelihood optimization failed to converge. Check mle_retvals\n",
      "  warnings.warn(\"Maximum Likelihood optimization failed to \"\n"
     ]
    },
    {
     "name": "stdout",
     "output_type": "stream",
     "text": [
      "predicted=993.314780, expected=996.170000\n",
      "predicted=996.179947, expected=987.090000\n",
      "predicted=986.803326, expected=988.290000\n"
     ]
    },
    {
     "name": "stderr",
     "output_type": "stream",
     "text": [
      "/opt/anaconda3/envs/ml/lib/python3.8/site-packages/statsmodels/base/model.py:547: HessianInversionWarning: Inverting hessian failed, no bse or cov_params available\n",
      "  warnings.warn('Inverting hessian failed, no bse or cov_params '\n",
      "/opt/anaconda3/envs/ml/lib/python3.8/site-packages/statsmodels/base/model.py:566: ConvergenceWarning: Maximum Likelihood optimization failed to converge. Check mle_retvals\n",
      "  warnings.warn(\"Maximum Likelihood optimization failed to \"\n"
     ]
    },
    {
     "name": "stdout",
     "output_type": "stream",
     "text": [
      "predicted=988.244859, expected=996.120000\n",
      "predicted=996.289057, expected=1003.880000\n"
     ]
    },
    {
     "name": "stderr",
     "output_type": "stream",
     "text": [
      "/opt/anaconda3/envs/ml/lib/python3.8/site-packages/statsmodels/base/model.py:566: ConvergenceWarning: Maximum Likelihood optimization failed to converge. Check mle_retvals\n",
      "  warnings.warn(\"Maximum Likelihood optimization failed to \"\n"
     ]
    },
    {
     "name": "stdout",
     "output_type": "stream",
     "text": [
      "predicted=1004.128237, expected=996.680000\n",
      "predicted=996.452744, expected=1001.590000\n",
      "predicted=1001.662875, expected=1004.280000\n",
      "predicted=1004.282442, expected=970.120000\n",
      "predicted=968.979888, expected=961.810000\n"
     ]
    },
    {
     "name": "stderr",
     "output_type": "stream",
     "text": [
      "/opt/anaconda3/envs/ml/lib/python3.8/site-packages/statsmodels/base/model.py:547: HessianInversionWarning: Inverting hessian failed, no bse or cov_params available\n",
      "  warnings.warn('Inverting hessian failed, no bse or cov_params '\n",
      "/opt/anaconda3/envs/ml/lib/python3.8/site-packages/statsmodels/base/model.py:566: ConvergenceWarning: Maximum Likelihood optimization failed to converge. Check mle_retvals\n",
      "  warnings.warn(\"Maximum Likelihood optimization failed to \"\n",
      "/opt/anaconda3/envs/ml/lib/python3.8/site-packages/statsmodels/base/model.py:566: ConvergenceWarning: Maximum Likelihood optimization failed to converge. Check mle_retvals\n",
      "  warnings.warn(\"Maximum Likelihood optimization failed to \"\n"
     ]
    },
    {
     "name": "stdout",
     "output_type": "stream",
     "text": [
      "predicted=961.539480, expected=970.500000\n",
      "predicted=970.778944, expected=967.930000\n",
      "predicted=967.761861, expected=960.180000\n",
      "predicted=959.841377, expected=958.620000\n",
      "predicted=958.569987, expected=975.220000\n",
      "predicted=975.662120, expected=968.990000\n",
      "predicted=968.708374, expected=978.590000\n",
      "predicted=978.798686, expected=976.620000\n",
      "predicted=976.472228, expected=986.090000\n",
      "predicted=986.297285, expected=972.090000\n",
      "predicted=971.589973, expected=948.090000\n",
      "predicted=947.234336, expected=961.010000\n",
      "predicted=961.300310, expected=937.820000\n",
      "predicted=937.101265, expected=929.680000\n",
      "predicted=929.353865, expected=919.460000\n",
      "predicted=919.067880, expected=932.260000\n",
      "predicted=932.522553, expected=927.690000\n",
      "predicted=927.469054, expected=940.810000\n",
      "predicted=941.070277, expected=951.000000\n",
      "predicted=951.192264, expected=953.530000\n",
      "predicted=953.512787, expected=967.660000\n",
      "predicted=967.965134, expected=968.850000\n",
      "predicted=968.883746, expected=976.910000\n",
      "predicted=977.053598, expected=975.960000\n"
     ]
    },
    {
     "name": "stderr",
     "output_type": "stream",
     "text": [
      "/opt/anaconda3/envs/ml/lib/python3.8/site-packages/statsmodels/base/model.py:547: HessianInversionWarning: Inverting hessian failed, no bse or cov_params available\n",
      "  warnings.warn('Inverting hessian failed, no bse or cov_params '\n",
      "/opt/anaconda3/envs/ml/lib/python3.8/site-packages/statsmodels/base/model.py:566: ConvergenceWarning: Maximum Likelihood optimization failed to converge. Check mle_retvals\n",
      "  warnings.warn(\"Maximum Likelihood optimization failed to \"\n"
     ]
    },
    {
     "name": "stdout",
     "output_type": "stream",
     "text": [
      "predicted=975.845240, expected=986.950000\n",
      "predicted=987.178530, expected=992.770000\n",
      "predicted=992.937554, expected=992.190000\n",
      "predicted=992.090532, expected=993.840000\n",
      "predicted=993.803112, expected=998.310000\n"
     ]
    },
    {
     "name": "stderr",
     "output_type": "stream",
     "text": [
      "/opt/anaconda3/envs/ml/lib/python3.8/site-packages/statsmodels/base/model.py:547: HessianInversionWarning: Inverting hessian failed, no bse or cov_params available\n",
      "  warnings.warn('Inverting hessian failed, no bse or cov_params '\n",
      "/opt/anaconda3/envs/ml/lib/python3.8/site-packages/statsmodels/base/model.py:547: HessianInversionWarning: Inverting hessian failed, no bse or cov_params available\n",
      "  warnings.warn('Inverting hessian failed, no bse or cov_params '\n",
      "/opt/anaconda3/envs/ml/lib/python3.8/site-packages/statsmodels/base/model.py:566: ConvergenceWarning: Maximum Likelihood optimization failed to converge. Check mle_retvals\n",
      "  warnings.warn(\"Maximum Likelihood optimization failed to \"\n"
     ]
    },
    {
     "name": "stdout",
     "output_type": "stream",
     "text": [
      "predicted=998.437319, expected=969.030000\n",
      "predicted=968.216759, expected=965.310000\n",
      "predicted=965.112100, expected=952.510000\n",
      "predicted=952.047088, expected=958.330000\n",
      "predicted=958.404507, expected=945.500000\n",
      "predicted=945.049303, expected=946.560000\n",
      "predicted=946.497487, expected=947.640000\n",
      "predicted=947.578130, expected=940.300000\n",
      "predicted=940.003751, expected=945.790000\n",
      "predicted=945.845905, expected=945.750000\n",
      "predicted=945.654651, expected=944.190000\n",
      "predicted=944.055193, expected=940.080000\n",
      "predicted=939.875383, expected=923.590000\n",
      "predicted=923.036188, expected=930.090000\n",
      "predicted=930.171330, expected=938.930000\n",
      "predicted=939.170463, expected=938.080000\n"
     ]
    },
    {
     "name": "stderr",
     "output_type": "stream",
     "text": [
      "/opt/anaconda3/envs/ml/lib/python3.8/site-packages/statsmodels/base/model.py:547: HessianInversionWarning: Inverting hessian failed, no bse or cov_params available\n",
      "  warnings.warn('Inverting hessian failed, no bse or cov_params '\n",
      "/opt/anaconda3/envs/ml/lib/python3.8/site-packages/statsmodels/base/model.py:566: ConvergenceWarning: Maximum Likelihood optimization failed to converge. Check mle_retvals\n",
      "  warnings.warn(\"Maximum Likelihood optimization failed to \"\n"
     ]
    },
    {
     "name": "stdout",
     "output_type": "stream",
     "text": [
      "predicted=937.961004, expected=944.270000\n",
      "predicted=944.346550, expected=927.660000\n",
      "predicted=927.123553, expected=926.180000\n",
      "predicted=927.515280, expected=920.870000\n",
      "predicted=920.632026, expected=940.400000\n"
     ]
    },
    {
     "name": "stderr",
     "output_type": "stream",
     "text": [
      "/opt/anaconda3/envs/ml/lib/python3.8/site-packages/statsmodels/base/model.py:547: HessianInversionWarning: Inverting hessian failed, no bse or cov_params available\n",
      "  warnings.warn('Inverting hessian failed, no bse or cov_params '\n"
     ]
    },
    {
     "name": "stdout",
     "output_type": "stream",
     "text": [
      "predicted=940.813539, expected=942.580000\n",
      "predicted=942.547027, expected=936.890000\n",
      "predicted=936.648848, expected=930.500000\n",
      "predicted=930.238298, expected=928.130000\n",
      "predicted=928.067734, expected=935.750000\n"
     ]
    },
    {
     "name": "stderr",
     "output_type": "stream",
     "text": [
      "/opt/anaconda3/envs/ml/lib/python3.8/site-packages/statsmodels/base/model.py:547: HessianInversionWarning: Inverting hessian failed, no bse or cov_params available\n",
      "  warnings.warn('Inverting hessian failed, no bse or cov_params '\n",
      "/opt/anaconda3/envs/ml/lib/python3.8/site-packages/statsmodels/base/model.py:566: ConvergenceWarning: Maximum Likelihood optimization failed to converge. Check mle_retvals\n",
      "  warnings.warn(\"Maximum Likelihood optimization failed to \"\n"
     ]
    },
    {
     "name": "stdout",
     "output_type": "stream",
     "text": [
      "predicted=935.857262, expected=943.630000\n",
      "predicted=943.750958, expected=955.240000\n",
      "predicted=955.465282, expected=951.990000\n",
      "predicted=951.811359, expected=941.480000\n",
      "predicted=941.098406, expected=942.020000\n",
      "predicted=941.941702, expected=949.890000\n",
      "predicted=950.013874, expected=941.410000\n",
      "predicted=941.093198, expected=943.290000\n",
      "predicted=943.248066, expected=946.650000\n",
      "predicted=946.648649, expected=950.440000\n",
      "predicted=950.449339, expected=940.130000\n",
      "predicted=939.858267, expected=935.290000\n"
     ]
    },
    {
     "name": "stderr",
     "output_type": "stream",
     "text": [
      "/opt/anaconda3/envs/ml/lib/python3.8/site-packages/statsmodels/base/model.py:547: HessianInversionWarning: Inverting hessian failed, no bse or cov_params available\n",
      "  warnings.warn('Inverting hessian failed, no bse or cov_params '\n",
      "/opt/anaconda3/envs/ml/lib/python3.8/site-packages/statsmodels/base/model.py:566: ConvergenceWarning: Maximum Likelihood optimization failed to converge. Check mle_retvals\n",
      "  warnings.warn(\"Maximum Likelihood optimization failed to \"\n"
     ]
    },
    {
     "name": "stdout",
     "output_type": "stream",
     "text": [
      "predicted=935.064872, expected=929.750000\n",
      "predicted=929.505362, expected=936.860000\n",
      "predicted=936.957264, expected=947.540000\n",
      "predicted=947.738240, expected=947.550000\n",
      "predicted=947.461796, expected=943.260000\n",
      "predicted=943.051175, expected=934.280000\n",
      "predicted=934.039214, expected=937.430000\n",
      "predicted=937.424342, expected=959.900000\n",
      "predicted=960.436456, expected=964.810000\n",
      "predicted=964.858580, expected=973.720000\n",
      "predicted=973.887946, expected=967.470000\n",
      "predicted=967.202316, expected=972.080000\n",
      "predicted=972.123581, expected=966.780000\n",
      "predicted=966.542471, expected=985.190000\n",
      "predicted=985.606635, expected=993.640000\n"
     ]
    },
    {
     "name": "stderr",
     "output_type": "stream",
     "text": [
      "/opt/anaconda3/envs/ml/lib/python3.8/site-packages/statsmodels/base/model.py:547: HessianInversionWarning: Inverting hessian failed, no bse or cov_params available\n",
      "  warnings.warn('Inverting hessian failed, no bse or cov_params '\n"
     ]
    },
    {
     "name": "stdout",
     "output_type": "stream",
     "text": [
      "predicted=985.098644, expected=992.310000\n",
      "predicted=992.184361, expected=987.800000\n",
      "predicted=987.589649, expected=1005.650000\n",
      "predicted=1006.060350, expected=1005.650000\n",
      "predicted=1005.565412, expected=1007.870000\n",
      "predicted=1007.851871, expected=1009.350000\n",
      "predicted=1009.308528, expected=1011.000000\n"
     ]
    },
    {
     "name": "stderr",
     "output_type": "stream",
     "text": [
      "/opt/anaconda3/envs/ml/lib/python3.8/site-packages/statsmodels/base/model.py:547: HessianInversionWarning: Inverting hessian failed, no bse or cov_params available\n",
      "  warnings.warn('Inverting hessian failed, no bse or cov_params '\n"
     ]
    },
    {
     "name": "stdout",
     "output_type": "stream",
     "text": [
      "predicted=1011.045483, expected=1012.740000\n",
      "predicted=1012.705982, expected=1001.840000\n"
     ]
    },
    {
     "name": "stderr",
     "output_type": "stream",
     "text": [
      "/opt/anaconda3/envs/ml/lib/python3.8/site-packages/statsmodels/base/model.py:547: HessianInversionWarning: Inverting hessian failed, no bse or cov_params available\n",
      "  warnings.warn('Inverting hessian failed, no bse or cov_params '\n",
      "/opt/anaconda3/envs/ml/lib/python3.8/site-packages/statsmodels/base/model.py:566: ConvergenceWarning: Maximum Likelihood optimization failed to converge. Check mle_retvals\n",
      "  warnings.warn(\"Maximum Likelihood optimization failed to \"\n"
     ]
    },
    {
     "name": "stdout",
     "output_type": "stream",
     "text": [
      "predicted=1001.540869, expected=1005.070000\n",
      "predicted=1005.073909, expected=985.540000\n",
      "predicted=984.928323, expected=988.490000\n",
      "predicted=988.482351, expected=991.460000\n",
      "predicted=991.454638, expected=991.420000\n",
      "predicted=991.333060, expected=1033.670000\n",
      "predicted=1034.778378, expected=1033.130000\n",
      "predicted=1033.116038, expected=1033.040000\n",
      "predicted=1032.954969, expected=1042.600000\n",
      "predicted=1042.768625, expected=1042.970000\n",
      "predicted=1042.899330, expected=1049.990000\n",
      "predicted=1050.171119, expected=1042.680000\n"
     ]
    },
    {
     "name": "stderr",
     "output_type": "stream",
     "text": [
      "/opt/anaconda3/envs/ml/lib/python3.8/site-packages/statsmodels/base/model.py:547: HessianInversionWarning: Inverting hessian failed, no bse or cov_params available\n",
      "  warnings.warn('Inverting hessian failed, no bse or cov_params '\n"
     ]
    },
    {
     "name": "stdout",
     "output_type": "stream",
     "text": [
      "predicted=1042.410847, expected=1052.390000\n",
      "predicted=1052.554605, expected=1058.290000\n",
      "predicted=1058.361747, expected=1047.720000\n",
      "predicted=1047.457324, expected=1044.150000\n"
     ]
    },
    {
     "name": "stderr",
     "output_type": "stream",
     "text": [
      "/opt/anaconda3/envs/ml/lib/python3.8/site-packages/statsmodels/base/model.py:547: HessianInversionWarning: Inverting hessian failed, no bse or cov_params available\n",
      "  warnings.warn('Inverting hessian failed, no bse or cov_params '\n",
      "/opt/anaconda3/envs/ml/lib/python3.8/site-packages/statsmodels/base/model.py:566: ConvergenceWarning: Maximum Likelihood optimization failed to converge. Check mle_retvals\n",
      "  warnings.warn(\"Maximum Likelihood optimization failed to \"\n",
      "/opt/anaconda3/envs/ml/lib/python3.8/site-packages/statsmodels/base/model.py:547: HessianInversionWarning: Inverting hessian failed, no bse or cov_params available\n",
      "  warnings.warn('Inverting hessian failed, no bse or cov_params '\n"
     ]
    },
    {
     "name": "stdout",
     "output_type": "stream",
     "text": [
      "predicted=1044.060544, expected=1041.200000\n",
      "predicted=1041.043746, expected=1041.640000\n",
      "predicted=1041.569303, expected=1036.410000\n",
      "predicted=1036.197601, expected=1048.470000\n",
      "predicted=1048.690885, expected=1035.890000\n",
      "predicted=1035.507631, expected=1034.660000\n",
      "predicted=1034.551050, expected=1050.300000\n",
      "predicted=1050.592242, expected=1051.920000\n",
      "predicted=1051.878511, expected=1056.520000\n",
      "predicted=1056.628073, expected=1072.010000\n",
      "predicted=1072.310419, expected=1063.290000\n",
      "predicted=1063.007038, expected=1037.380000\n",
      "predicted=1036.654305, expected=1036.170000\n",
      "predicted=1036.058679, expected=1025.070000\n",
      "predicted=1024.706576, expected=1011.870000\n",
      "predicted=1011.440856, expected=1019.600000\n",
      "predicted=1019.712735, expected=1032.720000\n",
      "predicted=1032.983024, expected=1044.570000\n",
      "predicted=1044.812660, expected=1049.380000\n",
      "predicted=1049.434133, expected=1051.970000\n",
      "predicted=1051.961303, expected=1048.770000\n",
      "predicted=1048.682260, expected=1051.390000\n",
      "predicted=1051.382015, expected=1057.470000\n"
     ]
    },
    {
     "name": "stderr",
     "output_type": "stream",
     "text": [
      "/opt/anaconda3/envs/ml/lib/python3.8/site-packages/statsmodels/base/model.py:566: ConvergenceWarning: Maximum Likelihood optimization failed to converge. Check mle_retvals\n",
      "  warnings.warn(\"Maximum Likelihood optimization failed to \"\n"
     ]
    },
    {
     "name": "stdout",
     "output_type": "stream",
     "text": [
      "predicted=1057.562791, expected=1072.000000\n",
      "predicted=1072.401479, expected=1085.090000\n"
     ]
    },
    {
     "name": "stderr",
     "output_type": "stream",
     "text": [
      "/opt/anaconda3/envs/ml/lib/python3.8/site-packages/statsmodels/base/model.py:566: ConvergenceWarning: Maximum Likelihood optimization failed to converge. Check mle_retvals\n",
      "  warnings.warn(\"Maximum Likelihood optimization failed to \"\n"
     ]
    },
    {
     "name": "stdout",
     "output_type": "stream",
     "text": [
      "predicted=1085.474094, expected=1079.780000\n",
      "predicted=1079.551960, expected=1073.560000\n",
      "predicted=1073.379965, expected=1070.850000\n",
      "predicted=1070.771718, expected=1068.860000\n"
     ]
    },
    {
     "name": "stderr",
     "output_type": "stream",
     "text": [
      "/opt/anaconda3/envs/ml/lib/python3.8/site-packages/statsmodels/base/model.py:547: HessianInversionWarning: Inverting hessian failed, no bse or cov_params available\n",
      "  warnings.warn('Inverting hessian failed, no bse or cov_params '\n",
      "/opt/anaconda3/envs/ml/lib/python3.8/site-packages/statsmodels/base/model.py:547: HessianInversionWarning: Inverting hessian failed, no bse or cov_params available\n",
      "  warnings.warn('Inverting hessian failed, no bse or cov_params '\n"
     ]
    },
    {
     "name": "stdout",
     "output_type": "stream",
     "text": [
      "predicted=1068.802120, expected=1065.850000\n",
      "predicted=1065.689457, expected=1060.200000\n",
      "predicted=1059.954372, expected=1055.950000\n",
      "predicted=1055.744448, expected=1053.400000\n",
      "Test RMSE: 9.220\n"
     ]
    },
    {
     "data": {
      "image/png": "[encoded data removed]",
      "text/plain": [
       "<Figure size 432x288 with 1 Axes>"
      ]
     },
     "metadata": {
      "needs_background": "light"
     },
     "output_type": "display_data"
    }
   ],
   "source": [
    "history = [x for x in train]\n",
    "predictions = list()\n",
    "print(train)\n",
    "# walk-forward validation\n",
    "for t in range(len(test)):\n",
    "    model = ARMA(history, order=(2, 0, 2))\n",
    "    model_fit = model.fit()\n",
    "    output = model_fit.forecast()\n",
    "    yhat = output[0]\n",
    "    predictions.append(yhat)\n",
    "    obs = test[t]\n",
    "    history.append(obs)\n",
    "    print('predicted=%f, expected=%f' % (yhat, obs))\n",
    "# evaluate forecasts\n",
    "rmse = sqrt(mean_squared_error(test, predictions))\n",
    "print('Test RMSE: %.3f' % rmse)\n",
    "# plot forecasts against actual outcomes\n",
    "pyplot.plot(test)\n",
    "pyplot.plot(predictions, color='red')\n",
    "pyplot.show()"
   ]
  },
  {
   "cell_type": "markdown",
   "id": "2cc887f6-c392-4d31-a4e2-e5d9bc140685",
   "metadata": {},
   "source": [
    "It fits well and its RMSE is 9.220, its RMSE is great than ARIMA model."
   ]
  },
  {
   "cell_type": "markdown",
   "id": "3866ed20-4150-4873-895b-d3ce78060c1a",
   "metadata": {},
   "source": [
    "# 3.Third model"
   ]
  },
  {
   "cell_type": "markdown",
   "id": "b4e8a7ed-ae4f-43aa-8bff-10d9cec6ff8a",
   "metadata": {},
   "source": [
    "Use Markov model."
   ]
  },
  {
   "cell_type": "code",
   "execution_count": 121,
   "id": "5b79afec-e3ba-4e8b-8ce9-e4e4e3651080",
   "metadata": {},
   "outputs": [],
   "source": [
    "from statsmodels.tsa.regime_switching.markov_regression import MarkovRegression"
   ]
  },
  {
   "cell_type": "code",
   "execution_count": 125,
   "id": "b24bcb32-4c41-4c62-81c4-e827f9e84f74",
   "metadata": {},
   "outputs": [
    {
     "name": "stdout",
     "output_type": "stream",
     "text": [
      "[217.83 222.84 225.85 ... 804.57 802.88 792.45]\n",
      "predicted=274.201170, expected=808.010000\n",
      "predicted=274.199771, expected=807.770000\n"
     ]
    },
    {
     "name": "stderr",
     "output_type": "stream",
     "text": [
      "/opt/anaconda3/envs/ml/lib/python3.8/site-packages/statsmodels/base/model.py:566: ConvergenceWarning: Maximum Likelihood optimization failed to converge. Check mle_retvals\n",
      "  warnings.warn(\"Maximum Likelihood optimization failed to \"\n"
     ]
    },
    {
     "name": "stdout",
     "output_type": "stream",
     "text": [
      "predicted=267.774972, expected=813.020000\n",
      "predicted=274.122573, expected=825.210000\n",
      "predicted=274.204309, expected=827.180000\n",
      "predicted=274.197101, expected=826.010000\n"
     ]
    },
    {
     "name": "stderr",
     "output_type": "stream",
     "text": [
      "/opt/anaconda3/envs/ml/lib/python3.8/site-packages/numpy/core/fromnumeric.py:87: RuntimeWarning: invalid value encountered in reduce\n",
      "  return ufunc.reduce(obj, axis, dtype, out, **passkwargs)\n"
     ]
    },
    {
     "name": "stdout",
     "output_type": "stream",
     "text": [
      "predicted=274.182259, expected=829.860000\n",
      "predicted=274.193085, expected=829.530000\n",
      "predicted=274.199045, expected=830.940000\n",
      "predicted=274.198614, expected=827.460000\n",
      "predicted=274.137539, expected=829.020000\n",
      "predicted=274.208483, expected=824.370000\n",
      "predicted=274.207929, expected=828.170000\n",
      "predicted=274.169874, expected=844.430000\n",
      "predicted=274.184684, expected=849.530000\n",
      "predicted=274.184623, expected=858.450000\n",
      "predicted=274.216230, expected=856.980000\n",
      "predicted=274.284074, expected=845.030000\n",
      "predicted=274.245622, expected=823.830000\n",
      "predicted=274.203477, expected=820.190000\n",
      "predicted=274.218662, expected=815.240000\n",
      "predicted=274.173077, expected=818.260000\n",
      "predicted=274.209998, expected=820.130000\n",
      "predicted=274.209262, expected=821.620000\n",
      "predicted=274.216935, expected=829.230000\n",
      "predicted=274.239994, expected=829.880000\n",
      "predicted=274.212323, expected=830.060000\n",
      "predicted=274.291327, expected=834.850000\n",
      "predicted=274.217158, expected=838.960000\n",
      "predicted=274.212395, expected=840.030000\n",
      "predicted=274.219738, expected=837.320000\n",
      "predicted=274.231917, expected=842.170000\n",
      "predicted=274.217081, expected=846.550000\n",
      "predicted=274.216365, expected=849.270000\n",
      "predicted=274.213406, expected=851.360000\n",
      "predicted=274.210327, expected=851.000000\n",
      "predicted=274.228706, expected=847.810000\n",
      "predicted=274.250180, expected=849.670000\n",
      "predicted=274.246985, expected=844.930000\n",
      "predicted=274.264740, expected=856.750000\n",
      "predicted=274.279502, expected=849.850000\n",
      "predicted=274.277404, expected=849.080000\n",
      "predicted=274.317122, expected=847.270000\n",
      "predicted=274.248438, expected=851.150000\n",
      "predicted=274.245660, expected=853.640000\n",
      "predicted=274.237223, expected=857.840000\n",
      "predicted=274.221915, expected=861.400000\n",
      "predicted=274.211250, expected=864.580000\n",
      "predicted=274.221939, expected=865.910000\n",
      "predicted=274.223533, expected=868.390000\n",
      "predicted=274.214038, expected=870.000000\n",
      "predicted=274.159379, expected=872.370000\n",
      "predicted=274.190139, expected=867.910000\n",
      "predicted=274.225053, expected=850.140000\n",
      "predicted=274.234948, expected=849.800000\n",
      "predicted=274.226344, expected=839.650000\n",
      "predicted=274.222634, expected=835.140000\n",
      "predicted=274.255740, expected=838.510000\n",
      "predicted=274.266273, expected=840.630000\n",
      "predicted=274.249126, expected=849.870000\n",
      "predicted=274.230102, expected=849.480000\n",
      "predicted=274.228825, expected=847.800000\n",
      "predicted=274.225556, expected=856.750000\n",
      "predicted=274.295768, expected=852.570000\n",
      "predicted=274.238941, expected=848.910000\n",
      "predicted=274.234072, expected=845.100000\n",
      "predicted=274.332469, expected=842.100000\n",
      "predicted=274.230106, expected=841.700000\n",
      "predicted=274.230914, expected=839.880000\n",
      "predicted=274.231354, expected=841.460000\n",
      "predicted=274.240251, expected=840.180000\n",
      "predicted=274.233185, expected=855.130000\n",
      "predicted=274.232964, expected=853.990000\n",
      "predicted=274.234038, expected=856.510000\n",
      "predicted=274.234092, expected=860.080000\n",
      "predicted=274.232913, expected=858.950000\n",
      "predicted=274.294272, expected=878.930000\n",
      "predicted=274.296984, expected=888.840000\n",
      "predicted=274.328658, expected=889.140000\n",
      "predicted=274.322710, expected=891.440000\n",
      "predicted=274.267977, expected=924.520000\n",
      "predicted=274.265404, expected=932.820000\n",
      "predicted=274.246783, expected=937.090000\n",
      "predicted=274.257467, expected=948.450000\n",
      "predicted=274.340046, expected=954.720000\n",
      "predicted=274.258515, expected=950.280000\n",
      "predicted=274.276007, expected=958.690000\n",
      "predicted=274.241670, expected=956.710000\n",
      "predicted=274.254058, expected=954.840000\n",
      "predicted=274.282982, expected=955.890000\n",
      "predicted=274.278551, expected=955.140000\n",
      "predicted=274.274565, expected=959.220000\n",
      "predicted=274.287627, expected=964.610000\n",
      "predicted=274.284129, expected=942.170000\n",
      "predicted=274.317769, expected=950.500000\n",
      "predicted=274.246090, expected=954.650000\n",
      "predicted=274.264154, expected=964.070000\n",
      "predicted=274.247446, expected=970.550000\n",
      "predicted=274.246869, expected=977.610000\n",
      "predicted=274.296161, expected=991.860000\n",
      "predicted=274.298627, expected=993.270000\n",
      "predicted=274.267919, expected=996.170000\n",
      "predicted=274.304747, expected=987.090000\n",
      "predicted=274.298983, expected=988.290000\n",
      "predicted=274.290825, expected=996.120000\n",
      "predicted=274.277308, expected=1003.880000\n",
      "predicted=274.295645, expected=996.680000\n",
      "predicted=274.337915, expected=1001.590000\n",
      "predicted=274.274089, expected=1004.280000\n",
      "predicted=274.267822, expected=970.120000\n",
      "predicted=274.279964, expected=961.810000\n",
      "predicted=274.339348, expected=970.500000\n",
      "predicted=274.266616, expected=967.930000\n",
      "predicted=274.269789, expected=960.180000\n",
      "predicted=274.284740, expected=958.620000\n",
      "predicted=274.308801, expected=975.220000\n",
      "predicted=274.266582, expected=968.990000\n",
      "predicted=274.265162, expected=978.590000\n",
      "predicted=274.295185, expected=976.620000\n",
      "predicted=274.315434, expected=986.090000\n",
      "predicted=274.326049, expected=972.090000\n",
      "predicted=274.322632, expected=948.090000\n",
      "predicted=274.332140, expected=961.010000\n",
      "predicted=274.322886, expected=937.820000\n",
      "predicted=274.311091, expected=929.680000\n",
      "predicted=274.275171, expected=919.460000\n",
      "predicted=274.350074, expected=932.260000\n",
      "predicted=274.326838, expected=927.690000\n",
      "predicted=274.271224, expected=940.810000\n",
      "predicted=274.285241, expected=951.000000\n",
      "predicted=274.277567, expected=953.530000\n",
      "predicted=274.279636, expected=967.660000\n",
      "predicted=274.280148, expected=968.850000\n",
      "predicted=274.325158, expected=976.910000\n",
      "predicted=274.294866, expected=975.960000\n",
      "predicted=274.282646, expected=986.950000\n",
      "predicted=274.276955, expected=992.770000\n",
      "predicted=274.281317, expected=992.190000\n",
      "predicted=274.324304, expected=993.840000\n",
      "predicted=274.398763, expected=998.310000\n",
      "predicted=274.287243, expected=969.030000\n",
      "predicted=274.288680, expected=965.310000\n",
      "predicted=274.289088, expected=952.510000\n",
      "predicted=274.284238, expected=958.330000\n",
      "predicted=274.292533, expected=945.500000\n",
      "predicted=274.317184, expected=946.560000\n",
      "predicted=274.405465, expected=947.640000\n",
      "predicted=274.332077, expected=940.300000\n",
      "predicted=274.324670, expected=945.790000\n",
      "predicted=274.297880, expected=945.750000\n",
      "predicted=274.304861, expected=944.190000\n",
      "predicted=274.287610, expected=940.080000\n",
      "predicted=274.364617, expected=923.590000\n",
      "predicted=274.297881, expected=930.090000\n",
      "predicted=274.301193, expected=938.930000\n",
      "predicted=274.305035, expected=938.080000\n",
      "predicted=274.322749, expected=944.270000\n",
      "predicted=274.407186, expected=927.660000\n",
      "predicted=274.403391, expected=926.180000\n",
      "predicted=274.310385, expected=920.870000\n",
      "predicted=274.378111, expected=940.400000\n",
      "predicted=274.291846, expected=942.580000\n",
      "predicted=274.393155, expected=936.890000\n",
      "predicted=274.400273, expected=930.500000\n",
      "predicted=274.393727, expected=928.130000\n",
      "predicted=274.410577, expected=935.750000\n",
      "predicted=274.407974, expected=943.630000\n",
      "predicted=274.401965, expected=955.240000\n",
      "predicted=274.407854, expected=951.990000\n",
      "predicted=274.407559, expected=941.480000\n",
      "predicted=274.369187, expected=942.020000\n",
      "predicted=274.322481, expected=949.890000\n",
      "predicted=274.324431, expected=941.410000\n",
      "predicted=274.441317, expected=943.290000\n",
      "predicted=274.331760, expected=946.650000\n",
      "predicted=274.337222, expected=950.440000\n",
      "predicted=274.397969, expected=940.130000\n",
      "predicted=274.309536, expected=935.290000\n",
      "predicted=274.322556, expected=929.750000\n",
      "predicted=274.304525, expected=936.860000\n",
      "predicted=274.324132, expected=947.540000\n",
      "predicted=274.406923, expected=947.550000\n",
      "predicted=274.342434, expected=943.260000\n",
      "predicted=274.378612, expected=934.280000\n",
      "predicted=274.357028, expected=937.430000\n",
      "predicted=274.312203, expected=959.900000\n",
      "predicted=274.402315, expected=964.810000\n",
      "predicted=274.323386, expected=973.720000\n",
      "predicted=274.328385, expected=967.470000\n",
      "predicted=274.337182, expected=972.080000\n",
      "predicted=274.396704, expected=966.780000\n",
      "predicted=274.379134, expected=985.190000\n",
      "predicted=274.381803, expected=993.640000\n",
      "predicted=274.434525, expected=992.310000\n",
      "predicted=274.428836, expected=987.800000\n",
      "predicted=274.372700, expected=1005.650000\n",
      "predicted=274.359216, expected=1005.650000\n",
      "predicted=274.344825, expected=1007.870000\n",
      "predicted=274.395791, expected=1009.350000\n",
      "predicted=274.324288, expected=1011.000000\n",
      "predicted=274.348787, expected=1012.740000\n",
      "predicted=274.363631, expected=1001.840000\n",
      "predicted=274.339837, expected=1005.070000\n",
      "predicted=274.420226, expected=985.540000\n",
      "predicted=274.333368, expected=988.490000\n",
      "predicted=274.355644, expected=991.460000\n",
      "predicted=274.418653, expected=991.420000\n",
      "predicted=274.333672, expected=1033.670000\n",
      "predicted=274.387921, expected=1033.130000\n",
      "predicted=274.370460, expected=1033.040000\n",
      "predicted=274.349144, expected=1042.600000\n",
      "predicted=274.418518, expected=1042.970000\n",
      "predicted=274.426772, expected=1049.990000\n",
      "predicted=274.394697, expected=1042.680000\n",
      "predicted=274.397921, expected=1052.390000\n",
      "predicted=274.506910, expected=1058.290000\n",
      "predicted=274.439952, expected=1047.720000\n",
      "predicted=274.392271, expected=1044.150000\n",
      "predicted=274.350246, expected=1041.200000\n",
      "predicted=274.384349, expected=1041.640000\n",
      "predicted=274.370816, expected=1036.410000\n",
      "predicted=274.378954, expected=1048.470000\n",
      "predicted=274.414732, expected=1035.890000\n",
      "predicted=274.434770, expected=1034.660000\n",
      "predicted=274.506385, expected=1050.300000\n",
      "predicted=274.393670, expected=1051.920000\n",
      "predicted=274.406567, expected=1056.520000\n",
      "predicted=274.368805, expected=1072.010000\n",
      "predicted=274.503511, expected=1063.290000\n",
      "predicted=274.394404, expected=1037.380000\n",
      "predicted=274.368919, expected=1036.170000\n",
      "predicted=274.384996, expected=1025.070000\n",
      "predicted=274.381588, expected=1011.870000\n",
      "predicted=274.373233, expected=1019.600000\n",
      "predicted=274.400868, expected=1032.720000\n",
      "predicted=274.417724, expected=1044.570000\n",
      "predicted=274.495972, expected=1049.380000\n",
      "predicted=274.425220, expected=1051.970000\n",
      "predicted=274.380295, expected=1048.770000\n",
      "predicted=274.382216, expected=1051.390000\n",
      "predicted=274.384589, expected=1057.470000\n",
      "predicted=274.485065, expected=1072.000000\n",
      "predicted=274.484889, expected=1085.090000\n",
      "predicted=274.523701, expected=1079.780000\n",
      "predicted=274.529525, expected=1073.560000\n",
      "predicted=274.399086, expected=1070.850000\n",
      "predicted=274.401469, expected=1068.860000\n",
      "predicted=274.568636, expected=1065.850000\n",
      "predicted=274.432181, expected=1060.200000\n",
      "predicted=274.430447, expected=1055.950000\n",
      "predicted=274.431095, expected=1053.400000\n",
      "Test RMSE: 669.714\n"
     ]
    },
    {
     "data": {
      "image/png": "[encoded data removed]",
      "text/plain": [
       "<Figure size 432x288 with 1 Axes>"
      ]
     },
     "metadata": {
      "needs_background": "light"
     },
     "output_type": "display_data"
    }
   ],
   "source": [
    "history = [x for x in train]\n",
    "predictions = list()\n",
    "print(train)\n",
    "# walk-forward validation\n",
    "for t in range(len(test)):\n",
    "    model = MarkovRegression(history, k_regimes=2)\n",
    "    model_fit = model.fit()\n",
    "    output = model_fit.predict()\n",
    "    yhat = output[0]\n",
    "    predictions.append(yhat)\n",
    "    obs = test[t]\n",
    "    history.append(obs)\n",
    "    print('predicted=%f, expected=%f' % (yhat, obs))\n",
    "# evaluate forecasts\n",
    "rmse = sqrt(mean_squared_error(test, predictions))\n",
    "print('Test RMSE: %.3f' % rmse)\n",
    "# plot forecasts against actual outcomes\n",
    "pyplot.plot(test)\n",
    "pyplot.plot(predictions, color='red')\n",
    "pyplot.show()"
   ]
  },
  {
   "cell_type": "markdown",
   "id": "378b3dc5-8ade-4471-b67e-39267d611fd3",
   "metadata": {},
   "source": [
    "A bad model to fit in this case. The ARIMA model is best in this case because its RMSE is lowest."
   ]
  },
  {
   "cell_type": "code",
   "execution_count": null,
   "id": "18d35d2d-fd8d-471a-8a4d-6545fd9f4824",
   "metadata": {},
   "outputs": [],
   "source": []
  }
 ],
 "metadata": {
  "kernelspec": {
   "display_name": "Python 3 (ipykernel)",
   "language": "python",
   "name": "python3"
  },
  "language_info": {
   "codemirror_mode": {
    "name": "ipython",
    "version": 3
   },
   "file_extension": ".py",
   "mimetype": "text/x-python",
   "name": "python",
   "nbconvert_exporter": "python",
   "pygments_lexer": "ipython3",
   "version": "3.8.11"
  }
 },
 "nbformat": 4,
 "nbformat_minor": 5
}
