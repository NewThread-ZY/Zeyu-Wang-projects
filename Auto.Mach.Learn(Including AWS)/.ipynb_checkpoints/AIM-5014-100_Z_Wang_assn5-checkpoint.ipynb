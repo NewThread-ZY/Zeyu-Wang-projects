{
 "cells": [
  {
   "cell_type": "markdown",
   "id": "61cef75d-d6bf-49b3-b70e-5c3e1352418d",
   "metadata": {},
   "source": [
    "## AIM-5014-100\n",
    "## By Zeyu Wang\n",
    "## Fall 2021"
   ]
  },
  {
   "cell_type": "code",
   "execution_count": 2,
   "id": "cc626409-26d1-4c5b-85d3-8ff75e9b9312",
   "metadata": {},
   "outputs": [],
   "source": [
    "import pandas as pd\n",
    "import numpy as np\n",
    "import matplotlib.pyplot as plt\n",
    "import seaborn as sns\n",
    "sns.set()\n",
    "from sklearn.linear_model import LinearRegression\n",
    "from sklearn.model_selection import train_test_split\n",
    "import xgboost as xgb\n",
    "from sklearn.model_selection import cross_val_score, KFold\n",
    "from sklearn.tree import DecisionTreeRegressor\n",
    "from sklearn.svm import SVR\n",
    "from sklearn.pipeline import make_pipeline\n",
    "from sklearn.preprocessing import StandardScaler\n",
    "from tabulate import tabulate\n",
    "from sklearn.linear_model import LogisticRegression\n",
    "from sklearn import metrics\n",
    "from sklearn.metrics import confusion_matrix"
   ]
  },
  {
   "cell_type": "markdown",
   "id": "c7a0473c-45ce-4904-a8ef-e842070e4fe0",
   "metadata": {},
   "source": [
    "# Part A"
   ]
  },
  {
   "cell_type": "markdown",
   "id": "2c596e59-02ec-4c9b-bf7e-af7300e3aa30",
   "metadata": {},
   "source": [
    "I choose the dataset is about the COVID vaccination vs. mortality. I'd like to compare the relationship between them and predict death in the future. I download it from Kaggle."
   ]
  },
  {
   "cell_type": "code",
   "execution_count": 2,
   "id": "729e2d2e-4d25-421c-a2d6-3f059b9de84c",
   "metadata": {},
   "outputs": [],
   "source": [
    "data = pd.read_csv('https://raw.githubusercontent.com/NewThread-ZY/AIM-5014-100/53c1be57674c9638777c16c69624af55f4000b05/covid_vaccination_vs_death_ratio.csv')"
   ]
  },
  {
   "cell_type": "code",
   "execution_count": 3,
   "id": "807b5cdc-c046-4dac-98a7-3ed35df423b0",
   "metadata": {},
   "outputs": [
    {
     "data": {
      "text/html": [
       "<div>\n",
       "<style scoped>\n",
       "    .dataframe tbody tr th:only-of-type {\n",
       "        vertical-align: middle;\n",
       "    }\n",
       "\n",
       "    .dataframe tbody tr th {\n",
       "        vertical-align: top;\n",
       "    }\n",
       "\n",
       "    .dataframe thead th {\n",
       "        text-align: right;\n",
       "    }\n",
       "</style>\n",
       "<table border=\"1\" class=\"dataframe\">\n",
       "  <thead>\n",
       "    <tr style=\"text-align: right;\">\n",
       "      <th></th>\n",
       "      <th>country</th>\n",
       "      <th>iso_code</th>\n",
       "      <th>date</th>\n",
       "      <th>total_vaccinations</th>\n",
       "      <th>people_vaccinated</th>\n",
       "      <th>people_fully_vaccinated</th>\n",
       "      <th>New_deaths</th>\n",
       "      <th>population</th>\n",
       "      <th>ratio</th>\n",
       "    </tr>\n",
       "  </thead>\n",
       "  <tbody>\n",
       "    <tr>\n",
       "      <th>0</th>\n",
       "      <td>Afghanistan</td>\n",
       "      <td>AFG</td>\n",
       "      <td>2021-05-11</td>\n",
       "      <td>504502.0</td>\n",
       "      <td>448878.0</td>\n",
       "      <td>55624.0</td>\n",
       "      <td>12</td>\n",
       "      <td>40094444.0</td>\n",
       "      <td>1.119552</td>\n",
       "    </tr>\n",
       "    <tr>\n",
       "      <th>1</th>\n",
       "      <td>Afghanistan</td>\n",
       "      <td>AFG</td>\n",
       "      <td>2021-05-20</td>\n",
       "      <td>547901.0</td>\n",
       "      <td>470341.0</td>\n",
       "      <td>77560.0</td>\n",
       "      <td>10</td>\n",
       "      <td>40094444.0</td>\n",
       "      <td>1.173083</td>\n",
       "    </tr>\n",
       "    <tr>\n",
       "      <th>2</th>\n",
       "      <td>Afghanistan</td>\n",
       "      <td>AFG</td>\n",
       "      <td>2021-05-24</td>\n",
       "      <td>573277.0</td>\n",
       "      <td>476367.0</td>\n",
       "      <td>96910.0</td>\n",
       "      <td>10</td>\n",
       "      <td>40094444.0</td>\n",
       "      <td>1.188112</td>\n",
       "    </tr>\n",
       "    <tr>\n",
       "      <th>3</th>\n",
       "      <td>Afghanistan</td>\n",
       "      <td>AFG</td>\n",
       "      <td>2021-05-26</td>\n",
       "      <td>590454.0</td>\n",
       "      <td>479372.0</td>\n",
       "      <td>111082.0</td>\n",
       "      <td>19</td>\n",
       "      <td>40094444.0</td>\n",
       "      <td>1.195607</td>\n",
       "    </tr>\n",
       "    <tr>\n",
       "      <th>4</th>\n",
       "      <td>Afghanistan</td>\n",
       "      <td>AFG</td>\n",
       "      <td>2021-05-27</td>\n",
       "      <td>593313.0</td>\n",
       "      <td>479574.0</td>\n",
       "      <td>113739.0</td>\n",
       "      <td>14</td>\n",
       "      <td>40094444.0</td>\n",
       "      <td>1.196111</td>\n",
       "    </tr>\n",
       "    <tr>\n",
       "      <th>...</th>\n",
       "      <td>...</td>\n",
       "      <td>...</td>\n",
       "      <td>...</td>\n",
       "      <td>...</td>\n",
       "      <td>...</td>\n",
       "      <td>...</td>\n",
       "      <td>...</td>\n",
       "      <td>...</td>\n",
       "      <td>...</td>\n",
       "    </tr>\n",
       "    <tr>\n",
       "      <th>20327</th>\n",
       "      <td>Zimbabwe</td>\n",
       "      <td>ZWE</td>\n",
       "      <td>2021-10-04</td>\n",
       "      <td>5441379.0</td>\n",
       "      <td>3117596.0</td>\n",
       "      <td>2323783.0</td>\n",
       "      <td>2</td>\n",
       "      <td>15158323.0</td>\n",
       "      <td>20.566893</td>\n",
       "    </tr>\n",
       "    <tr>\n",
       "      <th>20328</th>\n",
       "      <td>Zimbabwe</td>\n",
       "      <td>ZWE</td>\n",
       "      <td>2021-10-05</td>\n",
       "      <td>5472485.0</td>\n",
       "      <td>3128598.0</td>\n",
       "      <td>2343887.0</td>\n",
       "      <td>0</td>\n",
       "      <td>15158323.0</td>\n",
       "      <td>20.639473</td>\n",
       "    </tr>\n",
       "    <tr>\n",
       "      <th>20329</th>\n",
       "      <td>Zimbabwe</td>\n",
       "      <td>ZWE</td>\n",
       "      <td>2021-10-06</td>\n",
       "      <td>5499530.0</td>\n",
       "      <td>3140386.0</td>\n",
       "      <td>2359144.0</td>\n",
       "      <td>0</td>\n",
       "      <td>15158323.0</td>\n",
       "      <td>20.717239</td>\n",
       "    </tr>\n",
       "    <tr>\n",
       "      <th>20330</th>\n",
       "      <td>Zimbabwe</td>\n",
       "      <td>ZWE</td>\n",
       "      <td>2021-10-07</td>\n",
       "      <td>5527583.0</td>\n",
       "      <td>3152617.0</td>\n",
       "      <td>2374966.0</td>\n",
       "      <td>3</td>\n",
       "      <td>15158323.0</td>\n",
       "      <td>20.797927</td>\n",
       "    </tr>\n",
       "    <tr>\n",
       "      <th>20331</th>\n",
       "      <td>Zimbabwe</td>\n",
       "      <td>ZWE</td>\n",
       "      <td>2021-10-09</td>\n",
       "      <td>5556506.0</td>\n",
       "      <td>3161809.0</td>\n",
       "      <td>2394697.0</td>\n",
       "      <td>3</td>\n",
       "      <td>15158323.0</td>\n",
       "      <td>20.858567</td>\n",
       "    </tr>\n",
       "  </tbody>\n",
       "</table>\n",
       "<p>20332 rows × 9 columns</p>\n",
       "</div>"
      ],
      "text/plain": [
       "           country iso_code        date  total_vaccinations  \\\n",
       "0      Afghanistan      AFG  2021-05-11            504502.0   \n",
       "1      Afghanistan      AFG  2021-05-20            547901.0   \n",
       "2      Afghanistan      AFG  2021-05-24            573277.0   \n",
       "3      Afghanistan      AFG  2021-05-26            590454.0   \n",
       "4      Afghanistan      AFG  2021-05-27            593313.0   \n",
       "...            ...      ...         ...                 ...   \n",
       "20327     Zimbabwe      ZWE  2021-10-04           5441379.0   \n",
       "20328     Zimbabwe      ZWE  2021-10-05           5472485.0   \n",
       "20329     Zimbabwe      ZWE  2021-10-06           5499530.0   \n",
       "20330     Zimbabwe      ZWE  2021-10-07           5527583.0   \n",
       "20331     Zimbabwe      ZWE  2021-10-09           5556506.0   \n",
       "\n",
       "       people_vaccinated  people_fully_vaccinated  New_deaths  population  \\\n",
       "0               448878.0                  55624.0          12  40094444.0   \n",
       "1               470341.0                  77560.0          10  40094444.0   \n",
       "2               476367.0                  96910.0          10  40094444.0   \n",
       "3               479372.0                 111082.0          19  40094444.0   \n",
       "4               479574.0                 113739.0          14  40094444.0   \n",
       "...                  ...                      ...         ...         ...   \n",
       "20327          3117596.0                2323783.0           2  15158323.0   \n",
       "20328          3128598.0                2343887.0           0  15158323.0   \n",
       "20329          3140386.0                2359144.0           0  15158323.0   \n",
       "20330          3152617.0                2374966.0           3  15158323.0   \n",
       "20331          3161809.0                2394697.0           3  15158323.0   \n",
       "\n",
       "           ratio  \n",
       "0       1.119552  \n",
       "1       1.173083  \n",
       "2       1.188112  \n",
       "3       1.195607  \n",
       "4       1.196111  \n",
       "...          ...  \n",
       "20327  20.566893  \n",
       "20328  20.639473  \n",
       "20329  20.717239  \n",
       "20330  20.797927  \n",
       "20331  20.858567  \n",
       "\n",
       "[20332 rows x 9 columns]"
      ]
     },
     "execution_count": 3,
     "metadata": {},
     "output_type": "execute_result"
    }
   ],
   "source": [
    "data = data.drop('Unnamed: 0', axis = 1)\n",
    "data"
   ]
  },
  {
   "cell_type": "code",
   "execution_count": 4,
   "id": "5dab010f-be8c-493a-b06e-6a1482de6bd5",
   "metadata": {},
   "outputs": [
    {
     "data": {
      "text/html": [
       "<div>\n",
       "<style scoped>\n",
       "    .dataframe tbody tr th:only-of-type {\n",
       "        vertical-align: middle;\n",
       "    }\n",
       "\n",
       "    .dataframe tbody tr th {\n",
       "        vertical-align: top;\n",
       "    }\n",
       "\n",
       "    .dataframe thead th {\n",
       "        text-align: right;\n",
       "    }\n",
       "</style>\n",
       "<table border=\"1\" class=\"dataframe\">\n",
       "  <thead>\n",
       "    <tr style=\"text-align: right;\">\n",
       "      <th></th>\n",
       "      <th>total_vaccinations</th>\n",
       "      <th>people_vaccinated</th>\n",
       "      <th>people_fully_vaccinated</th>\n",
       "      <th>New_deaths</th>\n",
       "      <th>population</th>\n",
       "      <th>ratio</th>\n",
       "    </tr>\n",
       "  </thead>\n",
       "  <tbody>\n",
       "    <tr>\n",
       "      <th>count</th>\n",
       "      <td>2.033200e+04</td>\n",
       "      <td>2.033200e+04</td>\n",
       "      <td>2.033200e+04</td>\n",
       "      <td>20332.000000</td>\n",
       "      <td>2.033200e+04</td>\n",
       "      <td>20332.000000</td>\n",
       "    </tr>\n",
       "    <tr>\n",
       "      <th>mean</th>\n",
       "      <td>1.798981e+07</td>\n",
       "      <td>1.155247e+07</td>\n",
       "      <td>6.571098e+06</td>\n",
       "      <td>108.781871</td>\n",
       "      <td>4.863896e+07</td>\n",
       "      <td>29.920624</td>\n",
       "    </tr>\n",
       "    <tr>\n",
       "      <th>std</th>\n",
       "      <td>6.328884e+07</td>\n",
       "      <td>4.242151e+07</td>\n",
       "      <td>2.284904e+07</td>\n",
       "      <td>353.037676</td>\n",
       "      <td>1.559664e+08</td>\n",
       "      <td>24.936193</td>\n",
       "    </tr>\n",
       "    <tr>\n",
       "      <th>min</th>\n",
       "      <td>1.630000e+02</td>\n",
       "      <td>1.620000e+02</td>\n",
       "      <td>1.000000e+00</td>\n",
       "      <td>-41.000000</td>\n",
       "      <td>1.619000e+03</td>\n",
       "      <td>0.003023</td>\n",
       "    </tr>\n",
       "    <tr>\n",
       "      <th>25%</th>\n",
       "      <td>4.106325e+05</td>\n",
       "      <td>2.971550e+05</td>\n",
       "      <td>9.506200e+04</td>\n",
       "      <td>1.000000</td>\n",
       "      <td>2.871380e+06</td>\n",
       "      <td>7.197272</td>\n",
       "    </tr>\n",
       "    <tr>\n",
       "      <th>50%</th>\n",
       "      <td>2.363600e+06</td>\n",
       "      <td>1.548864e+06</td>\n",
       "      <td>7.438710e+05</td>\n",
       "      <td>10.000000</td>\n",
       "      <td>1.015944e+07</td>\n",
       "      <td>24.266101</td>\n",
       "    </tr>\n",
       "    <tr>\n",
       "      <th>75%</th>\n",
       "      <td>1.059296e+07</td>\n",
       "      <td>6.060886e+06</td>\n",
       "      <td>4.137016e+06</td>\n",
       "      <td>58.000000</td>\n",
       "      <td>3.816076e+07</td>\n",
       "      <td>50.225309</td>\n",
       "    </tr>\n",
       "    <tr>\n",
       "      <th>max</th>\n",
       "      <td>2.174043e+09</td>\n",
       "      <td>1.100842e+09</td>\n",
       "      <td>1.022207e+09</td>\n",
       "      <td>8786.000000</td>\n",
       "      <td>1.445585e+09</td>\n",
       "      <td>118.567868</td>\n",
       "    </tr>\n",
       "  </tbody>\n",
       "</table>\n",
       "</div>"
      ],
      "text/plain": [
       "       total_vaccinations  people_vaccinated  people_fully_vaccinated  \\\n",
       "count        2.033200e+04       2.033200e+04             2.033200e+04   \n",
       "mean         1.798981e+07       1.155247e+07             6.571098e+06   \n",
       "std          6.328884e+07       4.242151e+07             2.284904e+07   \n",
       "min          1.630000e+02       1.620000e+02             1.000000e+00   \n",
       "25%          4.106325e+05       2.971550e+05             9.506200e+04   \n",
       "50%          2.363600e+06       1.548864e+06             7.438710e+05   \n",
       "75%          1.059296e+07       6.060886e+06             4.137016e+06   \n",
       "max          2.174043e+09       1.100842e+09             1.022207e+09   \n",
       "\n",
       "         New_deaths    population         ratio  \n",
       "count  20332.000000  2.033200e+04  20332.000000  \n",
       "mean     108.781871  4.863896e+07     29.920624  \n",
       "std      353.037676  1.559664e+08     24.936193  \n",
       "min      -41.000000  1.619000e+03      0.003023  \n",
       "25%        1.000000  2.871380e+06      7.197272  \n",
       "50%       10.000000  1.015944e+07     24.266101  \n",
       "75%       58.000000  3.816076e+07     50.225309  \n",
       "max     8786.000000  1.445585e+09    118.567868  "
      ]
     },
     "execution_count": 4,
     "metadata": {},
     "output_type": "execute_result"
    }
   ],
   "source": [
    "data.describe()"
   ]
  },
  {
   "cell_type": "markdown",
   "id": "80f76049-d748-49df-8005-dec7ca3eb379",
   "metadata": {},
   "source": [
    "### Clean data."
   ]
  },
  {
   "cell_type": "markdown",
   "id": "d5ecb5e5-56f4-4dc3-b45d-86430e32df59",
   "metadata": {},
   "source": [
    "Because the some country's date only including several days. And the USA data is from 2021-01-14 to 2021-10-09 and its data is more suit to be analyzed in the relationship between vaccinated and New_deaths. So we just pick up the data of USA."
   ]
  },
  {
   "cell_type": "code",
   "execution_count": 5,
   "id": "93208372-94d9-40a1-b789-1aba1ea1f0d6",
   "metadata": {},
   "outputs": [
    {
     "data": {
      "text/html": [
       "<div>\n",
       "<style scoped>\n",
       "    .dataframe tbody tr th:only-of-type {\n",
       "        vertical-align: middle;\n",
       "    }\n",
       "\n",
       "    .dataframe tbody tr th {\n",
       "        vertical-align: top;\n",
       "    }\n",
       "\n",
       "    .dataframe thead th {\n",
       "        text-align: right;\n",
       "    }\n",
       "</style>\n",
       "<table border=\"1\" class=\"dataframe\">\n",
       "  <thead>\n",
       "    <tr style=\"text-align: right;\">\n",
       "      <th></th>\n",
       "      <th>country</th>\n",
       "      <th>iso_code</th>\n",
       "      <th>date</th>\n",
       "      <th>total_vaccinations</th>\n",
       "      <th>people_vaccinated</th>\n",
       "      <th>people_fully_vaccinated</th>\n",
       "      <th>New_deaths</th>\n",
       "      <th>population</th>\n",
       "      <th>ratio</th>\n",
       "    </tr>\n",
       "  </thead>\n",
       "  <tbody>\n",
       "    <tr>\n",
       "      <th>0</th>\n",
       "      <td>United States of America</td>\n",
       "      <td>USA</td>\n",
       "      <td>2021-01-14</td>\n",
       "      <td>11148991.0</td>\n",
       "      <td>9690757.0</td>\n",
       "      <td>1342086.0</td>\n",
       "      <td>4048</td>\n",
       "      <td>333464266.0</td>\n",
       "      <td>2.906086</td>\n",
       "    </tr>\n",
       "    <tr>\n",
       "      <th>1</th>\n",
       "      <td>United States of America</td>\n",
       "      <td>USA</td>\n",
       "      <td>2021-01-15</td>\n",
       "      <td>12279180.0</td>\n",
       "      <td>10595866.0</td>\n",
       "      <td>1610524.0</td>\n",
       "      <td>4004</td>\n",
       "      <td>333464266.0</td>\n",
       "      <td>3.177512</td>\n",
       "    </tr>\n",
       "    <tr>\n",
       "      <th>2</th>\n",
       "      <td>United States of America</td>\n",
       "      <td>USA</td>\n",
       "      <td>2021-01-19</td>\n",
       "      <td>15707588.0</td>\n",
       "      <td>13595803.0</td>\n",
       "      <td>2023124.0</td>\n",
       "      <td>2136</td>\n",
       "      <td>333464266.0</td>\n",
       "      <td>4.077139</td>\n",
       "    </tr>\n",
       "    <tr>\n",
       "      <th>3</th>\n",
       "      <td>United States of America</td>\n",
       "      <td>USA</td>\n",
       "      <td>2021-01-20</td>\n",
       "      <td>16525281.0</td>\n",
       "      <td>14270441.0</td>\n",
       "      <td>2161419.0</td>\n",
       "      <td>2030</td>\n",
       "      <td>333464266.0</td>\n",
       "      <td>4.279451</td>\n",
       "    </tr>\n",
       "    <tr>\n",
       "      <th>4</th>\n",
       "      <td>United States of America</td>\n",
       "      <td>USA</td>\n",
       "      <td>2021-01-21</td>\n",
       "      <td>17546374.0</td>\n",
       "      <td>15053257.0</td>\n",
       "      <td>2394961.0</td>\n",
       "      <td>2384</td>\n",
       "      <td>333464266.0</td>\n",
       "      <td>4.514204</td>\n",
       "    </tr>\n",
       "    <tr>\n",
       "      <th>...</th>\n",
       "      <td>...</td>\n",
       "      <td>...</td>\n",
       "      <td>...</td>\n",
       "      <td>...</td>\n",
       "      <td>...</td>\n",
       "      <td>...</td>\n",
       "      <td>...</td>\n",
       "      <td>...</td>\n",
       "      <td>...</td>\n",
       "    </tr>\n",
       "    <tr>\n",
       "      <th>255</th>\n",
       "      <td>United States of America</td>\n",
       "      <td>USA</td>\n",
       "      <td>2021-10-05</td>\n",
       "      <td>397718055.0</td>\n",
       "      <td>215737487.0</td>\n",
       "      <td>186060146.0</td>\n",
       "      <td>2627</td>\n",
       "      <td>333464266.0</td>\n",
       "      <td>64.695834</td>\n",
       "    </tr>\n",
       "    <tr>\n",
       "      <th>256</th>\n",
       "      <td>United States of America</td>\n",
       "      <td>USA</td>\n",
       "      <td>2021-10-06</td>\n",
       "      <td>398675414.0</td>\n",
       "      <td>216012495.0</td>\n",
       "      <td>186385751.0</td>\n",
       "      <td>1040</td>\n",
       "      <td>333464266.0</td>\n",
       "      <td>64.778304</td>\n",
       "    </tr>\n",
       "    <tr>\n",
       "      <th>257</th>\n",
       "      <td>United States of America</td>\n",
       "      <td>USA</td>\n",
       "      <td>2021-10-07</td>\n",
       "      <td>399552444.0</td>\n",
       "      <td>216268034.0</td>\n",
       "      <td>186618184.0</td>\n",
       "      <td>2803</td>\n",
       "      <td>333464266.0</td>\n",
       "      <td>64.854935</td>\n",
       "    </tr>\n",
       "    <tr>\n",
       "      <th>258</th>\n",
       "      <td>United States of America</td>\n",
       "      <td>USA</td>\n",
       "      <td>2021-10-08</td>\n",
       "      <td>400669422.0</td>\n",
       "      <td>216573911.0</td>\n",
       "      <td>186917921.0</td>\n",
       "      <td>1891</td>\n",
       "      <td>333464266.0</td>\n",
       "      <td>64.946662</td>\n",
       "    </tr>\n",
       "    <tr>\n",
       "      <th>259</th>\n",
       "      <td>United States of America</td>\n",
       "      <td>USA</td>\n",
       "      <td>2021-10-09</td>\n",
       "      <td>401819240.0</td>\n",
       "      <td>216889814.0</td>\n",
       "      <td>187215471.0</td>\n",
       "      <td>0</td>\n",
       "      <td>333464266.0</td>\n",
       "      <td>65.041396</td>\n",
       "    </tr>\n",
       "  </tbody>\n",
       "</table>\n",
       "<p>260 rows × 9 columns</p>\n",
       "</div>"
      ],
      "text/plain": [
       "                      country iso_code        date  total_vaccinations  \\\n",
       "0    United States of America      USA  2021-01-14          11148991.0   \n",
       "1    United States of America      USA  2021-01-15          12279180.0   \n",
       "2    United States of America      USA  2021-01-19          15707588.0   \n",
       "3    United States of America      USA  2021-01-20          16525281.0   \n",
       "4    United States of America      USA  2021-01-21          17546374.0   \n",
       "..                        ...      ...         ...                 ...   \n",
       "255  United States of America      USA  2021-10-05         397718055.0   \n",
       "256  United States of America      USA  2021-10-06         398675414.0   \n",
       "257  United States of America      USA  2021-10-07         399552444.0   \n",
       "258  United States of America      USA  2021-10-08         400669422.0   \n",
       "259  United States of America      USA  2021-10-09         401819240.0   \n",
       "\n",
       "     people_vaccinated  people_fully_vaccinated  New_deaths   population  \\\n",
       "0            9690757.0                1342086.0        4048  333464266.0   \n",
       "1           10595866.0                1610524.0        4004  333464266.0   \n",
       "2           13595803.0                2023124.0        2136  333464266.0   \n",
       "3           14270441.0                2161419.0        2030  333464266.0   \n",
       "4           15053257.0                2394961.0        2384  333464266.0   \n",
       "..                 ...                      ...         ...          ...   \n",
       "255        215737487.0              186060146.0        2627  333464266.0   \n",
       "256        216012495.0              186385751.0        1040  333464266.0   \n",
       "257        216268034.0              186618184.0        2803  333464266.0   \n",
       "258        216573911.0              186917921.0        1891  333464266.0   \n",
       "259        216889814.0              187215471.0           0  333464266.0   \n",
       "\n",
       "         ratio  \n",
       "0     2.906086  \n",
       "1     3.177512  \n",
       "2     4.077139  \n",
       "3     4.279451  \n",
       "4     4.514204  \n",
       "..         ...  \n",
       "255  64.695834  \n",
       "256  64.778304  \n",
       "257  64.854935  \n",
       "258  64.946662  \n",
       "259  65.041396  \n",
       "\n",
       "[260 rows x 9 columns]"
      ]
     },
     "execution_count": 5,
     "metadata": {},
     "output_type": "execute_result"
    }
   ],
   "source": [
    "data_usa = data[data.iso_code == 'USA'].copy()\n",
    "data_usa = data_usa.reset_index(drop = True)\n",
    "data_usa"
   ]
  },
  {
   "cell_type": "code",
   "execution_count": 6,
   "id": "6f15635e-6ee4-42fb-94b2-97c72e4ea94c",
   "metadata": {},
   "outputs": [],
   "source": [
    "data_usa.date = pd.to_datetime(data_usa.date, format = '%Y-%m-%d')"
   ]
  },
  {
   "cell_type": "markdown",
   "id": "d8927bbc-1e15-4d66-912c-5902eeaa6dd3",
   "metadata": {},
   "source": [
    "### EDA\n",
    "We can firstly use the matplotlib to plot the data and find the relationship between these data. It's better to choose the data to compare from the plot."
   ]
  },
  {
   "cell_type": "code",
   "execution_count": 7,
   "id": "1cacf7cc-2f5a-4974-b4fd-500200b4c26a",
   "metadata": {},
   "outputs": [
    {
     "data": {
      "image/png": "[encoded data removed]",
      "text/plain": [
       "<Figure size 888x666 with 1 Axes>"
      ]
     },
     "metadata": {},
     "output_type": "display_data"
    }
   ],
   "source": [
    "plt.figure(figsize=(8, 6), dpi=111)\n",
    "plt.plot(data_usa.date, data_usa.total_vaccinations)\n",
    "plt.xlabel(\"date\")\n",
    "plt.ylabel(\"total_vaccinations\")\n",
    "plt.title(\"total_vaccinations in each data\")\n",
    "plt.show()"
   ]
  },
  {
   "cell_type": "code",
   "execution_count": 8,
   "id": "caec4794-00b0-47b4-af98-06ce4510c2b7",
   "metadata": {},
   "outputs": [
    {
     "data": {
      "image/png": "[encoded data removed]",
      "text/plain": [
       "<Figure size 888x666 with 1 Axes>"
      ]
     },
     "metadata": {},
     "output_type": "display_data"
    }
   ],
   "source": [
    "plt.figure(figsize=(8, 6), dpi=111)\n",
    "plt.plot(data_usa.date, data_usa.people_vaccinated)\n",
    "plt.xlabel(\"date\")\n",
    "plt.ylabel(\"people_vaccinated\")\n",
    "plt.title(\"people_vaccinated in each data\")\n",
    "plt.show()"
   ]
  },
  {
   "cell_type": "code",
   "execution_count": 9,
   "id": "a7a51ed5-2774-454f-8e67-3b54e78a4e7f",
   "metadata": {},
   "outputs": [
    {
     "data": {
      "image/png": "[encoded data removed]",
      "text/plain": [
       "<Figure size 888x666 with 1 Axes>"
      ]
     },
     "metadata": {},
     "output_type": "display_data"
    }
   ],
   "source": [
    "plt.figure(figsize=(8, 6), dpi=111)\n",
    "plt.plot(data_usa.date, data_usa.people_fully_vaccinated)\n",
    "plt.xlabel(\"date\")\n",
    "plt.ylabel(\"people_fully_vaccinated\")\n",
    "plt.title(\"people_fully_vaccinated in each data\")\n",
    "plt.show()"
   ]
  },
  {
   "cell_type": "code",
   "execution_count": 10,
   "id": "4f2d79a5-9fcf-402d-b789-c93473d865b1",
   "metadata": {},
   "outputs": [
    {
     "data": {
      "image/png": "[encoded data removed]",
      "text/plain": [
       "<Figure size 888x666 with 1 Axes>"
      ]
     },
     "metadata": {},
     "output_type": "display_data"
    }
   ],
   "source": [
    "plt.figure(figsize=(8, 6), dpi=111)\n",
    "plt.plot(data_usa.date, data_usa.New_deaths)\n",
    "plt.xlabel(\"date\")\n",
    "plt.ylabel(\"New_deaths\")\n",
    "plt.title(\"New_deaths in each data\")\n",
    "plt.show()"
   ]
  },
  {
   "cell_type": "code",
   "execution_count": 11,
   "id": "a0f0d7f9-3eec-4c0a-a55b-af5974f803a3",
   "metadata": {},
   "outputs": [
    {
     "data": {
      "image/png": "[encoded data removed]",
      "text/plain": [
       "<Figure size 888x666 with 1 Axes>"
      ]
     },
     "metadata": {},
     "output_type": "display_data"
    }
   ],
   "source": [
    "plt.figure(figsize=(8, 6), dpi=111)\n",
    "plt.plot(data_usa.date, data_usa.ratio)\n",
    "plt.xlabel(\"date\")\n",
    "plt.ylabel(\"ratio\")\n",
    "plt.title(\"ratio in each data\")\n",
    "plt.show()"
   ]
  },
  {
   "cell_type": "code",
   "execution_count": 12,
   "id": "96a53a14-c05d-4b88-ad9c-43a0ef637f6a",
   "metadata": {},
   "outputs": [
    {
     "data": {
      "image/png": "[encoded data removed]",
      "text/plain": [
       "<Figure size 888x666 with 1 Axes>"
      ]
     },
     "metadata": {},
     "output_type": "display_data"
    }
   ],
   "source": [
    "plt.figure(figsize=(8, 6), dpi=111)\n",
    "plt.plot(data_usa.date, data_usa.total_vaccinations, label = 'total_vaccinations')\n",
    "plt.plot(data_usa.date, data_usa.people_vaccinated, label = 'people_vaccinated')\n",
    "plt.plot(data_usa.date, data_usa.people_fully_vaccinated, label = 'people_fully_vaccinated')\n",
    "plt.plot(data_usa.date, data_usa.New_deaths, label = 'New_deaths')\n",
    "plt.plot(data_usa.date, data_usa.ratio, label = 'ratio')\n",
    "plt.xlabel(\"date\")\n",
    "plt.title(\"data\")\n",
    "plt.show()"
   ]
  },
  {
   "cell_type": "markdown",
   "id": "c0ad1a55-b504-40c8-843d-ba04886beaa5",
   "metadata": {},
   "source": [
    "### Normalization\n",
    "data_usa.total_vaccinations.minBecause the data's magnitude is different so we need to normalizate them. I'd like to use Max-Min Normalization."
   ]
  },
  {
   "cell_type": "code",
   "execution_count": 13,
   "id": "44c62e26-bd25-4810-aee8-18f5c0a26f65",
   "metadata": {},
   "outputs": [
    {
     "data": {
      "text/html": [
       "<div>\n",
       "<style scoped>\n",
       "    .dataframe tbody tr th:only-of-type {\n",
       "        vertical-align: middle;\n",
       "    }\n",
       "\n",
       "    .dataframe tbody tr th {\n",
       "        vertical-align: top;\n",
       "    }\n",
       "\n",
       "    .dataframe thead th {\n",
       "        text-align: right;\n",
       "    }\n",
       "</style>\n",
       "<table border=\"1\" class=\"dataframe\">\n",
       "  <thead>\n",
       "    <tr style=\"text-align: right;\">\n",
       "      <th></th>\n",
       "      <th>country</th>\n",
       "      <th>iso_code</th>\n",
       "      <th>date</th>\n",
       "      <th>total_vaccinations</th>\n",
       "      <th>people_vaccinated</th>\n",
       "      <th>people_fully_vaccinated</th>\n",
       "      <th>New_deaths</th>\n",
       "      <th>population</th>\n",
       "      <th>ratio</th>\n",
       "    </tr>\n",
       "  </thead>\n",
       "  <tbody>\n",
       "    <tr>\n",
       "      <th>0</th>\n",
       "      <td>United States of America</td>\n",
       "      <td>USA</td>\n",
       "      <td>2021-01-14</td>\n",
       "      <td>0.000000</td>\n",
       "      <td>0.000000</td>\n",
       "      <td>0.000000</td>\n",
       "      <td>0.766957</td>\n",
       "      <td>333464266.0</td>\n",
       "      <td>0.000000</td>\n",
       "    </tr>\n",
       "    <tr>\n",
       "      <th>1</th>\n",
       "      <td>United States of America</td>\n",
       "      <td>USA</td>\n",
       "      <td>2021-01-15</td>\n",
       "      <td>0.002893</td>\n",
       "      <td>0.004368</td>\n",
       "      <td>0.001444</td>\n",
       "      <td>0.758621</td>\n",
       "      <td>333464266.0</td>\n",
       "      <td>0.004368</td>\n",
       "    </tr>\n",
       "    <tr>\n",
       "      <th>2</th>\n",
       "      <td>United States of America</td>\n",
       "      <td>USA</td>\n",
       "      <td>2021-01-19</td>\n",
       "      <td>0.011669</td>\n",
       "      <td>0.018847</td>\n",
       "      <td>0.003664</td>\n",
       "      <td>0.404699</td>\n",
       "      <td>333464266.0</td>\n",
       "      <td>0.018847</td>\n",
       "    </tr>\n",
       "    <tr>\n",
       "      <th>3</th>\n",
       "      <td>United States of America</td>\n",
       "      <td>USA</td>\n",
       "      <td>2021-01-20</td>\n",
       "      <td>0.013762</td>\n",
       "      <td>0.022103</td>\n",
       "      <td>0.004408</td>\n",
       "      <td>0.384615</td>\n",
       "      <td>333464266.0</td>\n",
       "      <td>0.022103</td>\n",
       "    </tr>\n",
       "    <tr>\n",
       "      <th>4</th>\n",
       "      <td>United States of America</td>\n",
       "      <td>USA</td>\n",
       "      <td>2021-01-21</td>\n",
       "      <td>0.016375</td>\n",
       "      <td>0.025881</td>\n",
       "      <td>0.005664</td>\n",
       "      <td>0.451686</td>\n",
       "      <td>333464266.0</td>\n",
       "      <td>0.025881</td>\n",
       "    </tr>\n",
       "    <tr>\n",
       "      <th>...</th>\n",
       "      <td>...</td>\n",
       "      <td>...</td>\n",
       "      <td>...</td>\n",
       "      <td>...</td>\n",
       "      <td>...</td>\n",
       "      <td>...</td>\n",
       "      <td>...</td>\n",
       "      <td>...</td>\n",
       "      <td>...</td>\n",
       "    </tr>\n",
       "    <tr>\n",
       "      <th>255</th>\n",
       "      <td>United States of America</td>\n",
       "      <td>USA</td>\n",
       "      <td>2021-10-05</td>\n",
       "      <td>0.989502</td>\n",
       "      <td>0.994439</td>\n",
       "      <td>0.993784</td>\n",
       "      <td>0.497726</td>\n",
       "      <td>333464266.0</td>\n",
       "      <td>0.994439</td>\n",
       "    </tr>\n",
       "    <tr>\n",
       "      <th>256</th>\n",
       "      <td>United States of America</td>\n",
       "      <td>USA</td>\n",
       "      <td>2021-10-06</td>\n",
       "      <td>0.991953</td>\n",
       "      <td>0.995766</td>\n",
       "      <td>0.995536</td>\n",
       "      <td>0.197044</td>\n",
       "      <td>333464266.0</td>\n",
       "      <td>0.995766</td>\n",
       "    </tr>\n",
       "    <tr>\n",
       "      <th>257</th>\n",
       "      <td>United States of America</td>\n",
       "      <td>USA</td>\n",
       "      <td>2021-10-07</td>\n",
       "      <td>0.994198</td>\n",
       "      <td>0.996999</td>\n",
       "      <td>0.996787</td>\n",
       "      <td>0.531072</td>\n",
       "      <td>333464266.0</td>\n",
       "      <td>0.996999</td>\n",
       "    </tr>\n",
       "    <tr>\n",
       "      <th>258</th>\n",
       "      <td>United States of America</td>\n",
       "      <td>USA</td>\n",
       "      <td>2021-10-08</td>\n",
       "      <td>0.997057</td>\n",
       "      <td>0.998475</td>\n",
       "      <td>0.998399</td>\n",
       "      <td>0.358280</td>\n",
       "      <td>333464266.0</td>\n",
       "      <td>0.998475</td>\n",
       "    </tr>\n",
       "    <tr>\n",
       "      <th>259</th>\n",
       "      <td>United States of America</td>\n",
       "      <td>USA</td>\n",
       "      <td>2021-10-09</td>\n",
       "      <td>1.000000</td>\n",
       "      <td>1.000000</td>\n",
       "      <td>1.000000</td>\n",
       "      <td>0.000000</td>\n",
       "      <td>333464266.0</td>\n",
       "      <td>1.000000</td>\n",
       "    </tr>\n",
       "  </tbody>\n",
       "</table>\n",
       "<p>260 rows × 9 columns</p>\n",
       "</div>"
      ],
      "text/plain": [
       "                      country iso_code       date  total_vaccinations  \\\n",
       "0    United States of America      USA 2021-01-14            0.000000   \n",
       "1    United States of America      USA 2021-01-15            0.002893   \n",
       "2    United States of America      USA 2021-01-19            0.011669   \n",
       "3    United States of America      USA 2021-01-20            0.013762   \n",
       "4    United States of America      USA 2021-01-21            0.016375   \n",
       "..                        ...      ...        ...                 ...   \n",
       "255  United States of America      USA 2021-10-05            0.989502   \n",
       "256  United States of America      USA 2021-10-06            0.991953   \n",
       "257  United States of America      USA 2021-10-07            0.994198   \n",
       "258  United States of America      USA 2021-10-08            0.997057   \n",
       "259  United States of America      USA 2021-10-09            1.000000   \n",
       "\n",
       "     people_vaccinated  people_fully_vaccinated  New_deaths   population  \\\n",
       "0             0.000000                 0.000000    0.766957  333464266.0   \n",
       "1             0.004368                 0.001444    0.758621  333464266.0   \n",
       "2             0.018847                 0.003664    0.404699  333464266.0   \n",
       "3             0.022103                 0.004408    0.384615  333464266.0   \n",
       "4             0.025881                 0.005664    0.451686  333464266.0   \n",
       "..                 ...                      ...         ...          ...   \n",
       "255           0.994439                 0.993784    0.497726  333464266.0   \n",
       "256           0.995766                 0.995536    0.197044  333464266.0   \n",
       "257           0.996999                 0.996787    0.531072  333464266.0   \n",
       "258           0.998475                 0.998399    0.358280  333464266.0   \n",
       "259           1.000000                 1.000000    0.000000  333464266.0   \n",
       "\n",
       "        ratio  \n",
       "0    0.000000  \n",
       "1    0.004368  \n",
       "2    0.018847  \n",
       "3    0.022103  \n",
       "4    0.025881  \n",
       "..        ...  \n",
       "255  0.994439  \n",
       "256  0.995766  \n",
       "257  0.996999  \n",
       "258  0.998475  \n",
       "259  1.000000  \n",
       "\n",
       "[260 rows x 9 columns]"
      ]
     },
     "execution_count": 13,
     "metadata": {},
     "output_type": "execute_result"
    }
   ],
   "source": [
    "data_usa.total_vaccinations = (data_usa.total_vaccinations-data_usa.total_vaccinations.min())/(data_usa.total_vaccinations.max()-data_usa.total_vaccinations.min())\n",
    "data_usa.people_vaccinated = (data_usa.people_vaccinated-data_usa.people_vaccinated.min())/(data_usa.people_vaccinated.max()-data_usa.people_vaccinated.min())\n",
    "data_usa.people_fully_vaccinated = (data_usa.people_fully_vaccinated-data_usa.people_fully_vaccinated.min())/(data_usa.people_fully_vaccinated.max()-data_usa.people_fully_vaccinated.min())\n",
    "data_usa.New_deaths = (data_usa.New_deaths-data_usa.New_deaths.min())/(data_usa.New_deaths.max()-data_usa.New_deaths.min())\n",
    "data_usa.ratio = (data_usa.ratio-data_usa.ratio.min())/(data_usa.ratio.max()-data_usa.ratio.min())\n",
    "data_usa"
   ]
  },
  {
   "cell_type": "code",
   "execution_count": 14,
   "id": "2967d08e-3282-4613-b0a1-da165779fe12",
   "metadata": {},
   "outputs": [
    {
     "data": {
      "image/png": "[encoded data removed]",
      "text/plain": [
       "<Figure size 888x666 with 1 Axes>"
      ]
     },
     "metadata": {},
     "output_type": "display_data"
    }
   ],
   "source": [
    "plt.figure(figsize=(8, 6), dpi=111)\n",
    "plt.plot(data_usa.date, data_usa.total_vaccinations, label = 'total_vaccinations')\n",
    "plt.plot(data_usa.date, data_usa.people_vaccinated, label = 'people_vaccinated')\n",
    "plt.plot(data_usa.date, data_usa.people_fully_vaccinated, label = 'people_fully_vaccinated')\n",
    "plt.plot(data_usa.date, data_usa.New_deaths, label = 'New_deaths')\n",
    "plt.plot(data_usa.date, data_usa.ratio, label = 'ratio')\n",
    "plt.xlabel(\"date\")\n",
    "plt.title(\"data\")\n",
    "plt.show()"
   ]
  },
  {
   "cell_type": "code",
   "execution_count": 15,
   "id": "7ebfcc1d-c8c4-4305-a23a-15c1bc672122",
   "metadata": {},
   "outputs": [
    {
     "data": {
      "image/png": "[encoded data removed]",
      "text/plain": [
       "<Figure size 432x288 with 1 Axes>"
      ]
     },
     "metadata": {},
     "output_type": "display_data"
    }
   ],
   "source": [
    "plt.scatter(data_usa.ratio, data_usa.New_deaths)\n",
    "plt.scatter(data_usa.people_fully_vaccinated, data_usa.New_deaths)\n",
    "plt.scatter(data_usa.total_vaccinations, data_usa.New_deaths)\n",
    "plt.show()"
   ]
  },
  {
   "cell_type": "markdown",
   "id": "ca116671-8203-4461-a55e-d441fbe88ac9",
   "metadata": {},
   "source": [
    "## Choose data\n",
    "Because three data has the same trends with new deaths, so we just need to pick up one of them to compare with new deaths. I think the ratio is a good choice and I choose it."
   ]
  },
  {
   "cell_type": "code",
   "execution_count": 16,
   "id": "a2547499-3897-4b49-81b7-4d74aa1daaef",
   "metadata": {},
   "outputs": [
    {
     "data": {
      "text/html": [
       "<div>\n",
       "<style scoped>\n",
       "    .dataframe tbody tr th:only-of-type {\n",
       "        vertical-align: middle;\n",
       "    }\n",
       "\n",
       "    .dataframe tbody tr th {\n",
       "        vertical-align: top;\n",
       "    }\n",
       "\n",
       "    .dataframe thead th {\n",
       "        text-align: right;\n",
       "    }\n",
       "</style>\n",
       "<table border=\"1\" class=\"dataframe\">\n",
       "  <thead>\n",
       "    <tr style=\"text-align: right;\">\n",
       "      <th></th>\n",
       "      <th>ratio</th>\n",
       "      <th>New_deaths</th>\n",
       "    </tr>\n",
       "  </thead>\n",
       "  <tbody>\n",
       "    <tr>\n",
       "      <th>0</th>\n",
       "      <td>0.000000</td>\n",
       "      <td>0.766957</td>\n",
       "    </tr>\n",
       "    <tr>\n",
       "      <th>1</th>\n",
       "      <td>0.004368</td>\n",
       "      <td>0.758621</td>\n",
       "    </tr>\n",
       "    <tr>\n",
       "      <th>2</th>\n",
       "      <td>0.018847</td>\n",
       "      <td>0.404699</td>\n",
       "    </tr>\n",
       "    <tr>\n",
       "      <th>3</th>\n",
       "      <td>0.022103</td>\n",
       "      <td>0.384615</td>\n",
       "    </tr>\n",
       "    <tr>\n",
       "      <th>4</th>\n",
       "      <td>0.025881</td>\n",
       "      <td>0.451686</td>\n",
       "    </tr>\n",
       "    <tr>\n",
       "      <th>...</th>\n",
       "      <td>...</td>\n",
       "      <td>...</td>\n",
       "    </tr>\n",
       "    <tr>\n",
       "      <th>255</th>\n",
       "      <td>0.994439</td>\n",
       "      <td>0.497726</td>\n",
       "    </tr>\n",
       "    <tr>\n",
       "      <th>256</th>\n",
       "      <td>0.995766</td>\n",
       "      <td>0.197044</td>\n",
       "    </tr>\n",
       "    <tr>\n",
       "      <th>257</th>\n",
       "      <td>0.996999</td>\n",
       "      <td>0.531072</td>\n",
       "    </tr>\n",
       "    <tr>\n",
       "      <th>258</th>\n",
       "      <td>0.998475</td>\n",
       "      <td>0.358280</td>\n",
       "    </tr>\n",
       "    <tr>\n",
       "      <th>259</th>\n",
       "      <td>1.000000</td>\n",
       "      <td>0.000000</td>\n",
       "    </tr>\n",
       "  </tbody>\n",
       "</table>\n",
       "<p>260 rows × 2 columns</p>\n",
       "</div>"
      ],
      "text/plain": [
       "        ratio  New_deaths\n",
       "0    0.000000    0.766957\n",
       "1    0.004368    0.758621\n",
       "2    0.018847    0.404699\n",
       "3    0.022103    0.384615\n",
       "4    0.025881    0.451686\n",
       "..        ...         ...\n",
       "255  0.994439    0.497726\n",
       "256  0.995766    0.197044\n",
       "257  0.996999    0.531072\n",
       "258  0.998475    0.358280\n",
       "259  1.000000    0.000000\n",
       "\n",
       "[260 rows x 2 columns]"
      ]
     },
     "execution_count": 16,
     "metadata": {},
     "output_type": "execute_result"
    }
   ],
   "source": [
    "data1 = data_usa[['ratio', 'New_deaths']].copy()\n",
    "data1"
   ]
  },
  {
   "cell_type": "markdown",
   "id": "209a57d2-6098-4f0c-8ea1-ffb996b24e03",
   "metadata": {},
   "source": [
    "### Fliter the outliers\n",
    "Here I will use IQR method to filter outlier"
   ]
  },
  {
   "cell_type": "code",
   "execution_count": 17,
   "id": "16b46560-a670-4b55-afbc-9a3b81fc8c3e",
   "metadata": {},
   "outputs": [],
   "source": [
    "New_deaths75, New_deaths25 = np.percentile(data1.New_deaths, [75 ,25]) \n",
    "New_deaths_IQR = New_deaths75 - New_deaths25 \n",
    "New_deaths_min_value = New_deaths25 - (New_deaths_IQR*1.5)\n",
    "New_deaths_max_value = New_deaths75 + (New_deaths_IQR*1.5)\n",
    "data1.New_deaths[data1.New_deaths<New_deaths_min_value]=np.nan\n",
    "data1.New_deaths[data1.New_deaths>New_deaths_max_value]=np.nan"
   ]
  },
  {
   "cell_type": "code",
   "execution_count": 18,
   "id": "dfe00c61-04f3-4f10-b4f6-d9d57d058744",
   "metadata": {},
   "outputs": [],
   "source": [
    "data1 = data1.dropna()"
   ]
  },
  {
   "cell_type": "code",
   "execution_count": 19,
   "id": "554dd3c2-265f-4917-a3dc-84771695e528",
   "metadata": {},
   "outputs": [
    {
     "data": {
      "image/png": "[encoded data removed]",
      "text/plain": [
       "<Figure size 432x288 with 1 Axes>"
      ]
     },
     "metadata": {},
     "output_type": "display_data"
    }
   ],
   "source": [
    "plt.scatter(data1.ratio, data1.New_deaths)\n",
    "plt.show()"
   ]
  },
  {
   "cell_type": "markdown",
   "id": "d55ca014-be8a-41b5-8121-24e55af821bf",
   "metadata": {},
   "source": [
    "### split data into Train and test"
   ]
  },
  {
   "cell_type": "code",
   "execution_count": 20,
   "id": "94f9cb96-841c-4dbb-b68b-b4bbb3d26648",
   "metadata": {},
   "outputs": [],
   "source": [
    "X_train, X_test, y_train, y_test = train_test_split(data1.ratio, data1.New_deaths, test_size=0.3, random_state=42)"
   ]
  },
  {
   "cell_type": "markdown",
   "id": "b5783559-6942-42d1-93e3-61fa82440404",
   "metadata": {},
   "source": [
    "# Linear Regression"
   ]
  },
  {
   "cell_type": "code",
   "execution_count": 21,
   "id": "b04dc32e-5991-4d06-857d-bf91648ffcf6",
   "metadata": {},
   "outputs": [
    {
     "data": {
      "text/plain": [
       "LinearRegression()"
      ]
     },
     "execution_count": 21,
     "metadata": {},
     "output_type": "execute_result"
    }
   ],
   "source": [
    "lm = LinearRegression()\n",
    "lm.fit(np.array(X_train).reshape(-1, 1), y_train)"
   ]
  },
  {
   "cell_type": "code",
   "execution_count": 22,
   "id": "7e6a797f-5209-4331-b1d3-7c488d55f444",
   "metadata": {},
   "outputs": [],
   "source": [
    "y_predict = lm.predict(np.array(X_test).reshape(-1, 1))"
   ]
  },
  {
   "cell_type": "code",
   "execution_count": 23,
   "id": "475c61c5-d161-4455-b622-9f4e3d2b8858",
   "metadata": {},
   "outputs": [],
   "source": [
    "coef = lm.coef_\n",
    "intercept = lm.intercept_"
   ]
  },
  {
   "cell_type": "code",
   "execution_count": 24,
   "id": "fee5ff8e-baaa-4f1b-a28f-20b1a2d71f74",
   "metadata": {},
   "outputs": [
    {
     "data": {
      "image/png": "[encoded data removed]",
      "text/plain": [
       "<Figure size 432x288 with 1 Axes>"
      ]
     },
     "metadata": {},
     "output_type": "display_data"
    }
   ],
   "source": [
    "plt.scatter(X_train, y_train)\n",
    "plt.plot(X_train, intercept+coef*X_train, color = '#FF0000')\n",
    "plt.show()"
   ]
  },
  {
   "cell_type": "markdown",
   "id": "0e0f3bb7-b475-4a52-8688-cde498c9855e",
   "metadata": {},
   "source": [
    "### performance metrics"
   ]
  },
  {
   "cell_type": "markdown",
   "id": "78887cf4-5ef2-4341-b9d9-158c7932471f",
   "metadata": {},
   "source": [
    "A. RMSE"
   ]
  },
  {
   "cell_type": "code",
   "execution_count": 25,
   "id": "2c8a86c4-96d4-4fce-98a7-434007186fd9",
   "metadata": {},
   "outputs": [
    {
     "name": "stdout",
     "output_type": "stream",
     "text": [
      "The RMSE of Linear Regression is 0.16399058890683793\n"
     ]
    }
   ],
   "source": [
    "rmse_linear_regression = ((((y_test-y_predict)**2)/len(y_test)).sum())**0.5\n",
    "print(f'The RMSE of Linear Regression is {rmse_linear_regression}')"
   ]
  },
  {
   "cell_type": "markdown",
   "id": "7d18ebd5-0780-4f65-b5d4-01b1eb07b5fc",
   "metadata": {},
   "source": [
    "B. MAE"
   ]
  },
  {
   "cell_type": "code",
   "execution_count": 26,
   "id": "10ec36b9-eae3-49bc-947e-afc7f61a7f17",
   "metadata": {},
   "outputs": [
    {
     "name": "stdout",
     "output_type": "stream",
     "text": [
      "The MAE of Linear Regression is 0.12018591352955298\n"
     ]
    }
   ],
   "source": [
    "MAE_linear_regression = (np.abs(y_test-y_predict)/len(y_test)).sum()\n",
    "print(f'The MAE of Linear Regression is {MAE_linear_regression}')"
   ]
  },
  {
   "cell_type": "markdown",
   "id": "44e19dfe-dd87-499d-aa83-bc9348810386",
   "metadata": {},
   "source": [
    "C. R2"
   ]
  },
  {
   "cell_type": "code",
   "execution_count": 27,
   "id": "a36ed481-7d73-4229-acce-32e77c3d0b1c",
   "metadata": {},
   "outputs": [
    {
     "name": "stdout",
     "output_type": "stream",
     "text": [
      "The R2 of Linear Regression is 0.06133599286563873\n"
     ]
    }
   ],
   "source": [
    "R2_linear_regression = 1 - (((y_test-y_predict)**2).sum()/((y_test-y_test.mean())**2).sum())\n",
    "print(f'The R2 of Linear Regression is {R2_linear_regression}')"
   ]
  },
  {
   "cell_type": "code",
   "execution_count": 28,
   "id": "6b5f4e16-3f0e-4e5e-808c-d8e4d7d03c18",
   "metadata": {},
   "outputs": [
    {
     "data": {
      "image/png": "[encoded data removed]",
      "text/plain": [
       "<Figure size 432x288 with 1 Axes>"
      ]
     },
     "metadata": {},
     "output_type": "display_data"
    }
   ],
   "source": [
    "plt.scatter(X_test, y_test)\n",
    "plt.plot(X_test, intercept+coef*X_test, color = '#FF0000')\n",
    "plt.show()"
   ]
  },
  {
   "cell_type": "markdown",
   "id": "691c3a2e-8439-426a-ad1a-eb1e7f0cc519",
   "metadata": {},
   "source": [
    "# xgboost"
   ]
  },
  {
   "cell_type": "code",
   "execution_count": 29,
   "id": "2343c3c2-fbb8-4969-aa7f-b52c71727bf5",
   "metadata": {},
   "outputs": [],
   "source": [
    "xgbr = xgb.XGBRegressor(verbosity=0) "
   ]
  },
  {
   "cell_type": "code",
   "execution_count": 30,
   "id": "442b739f-bc3c-4248-be80-be6393e1e267",
   "metadata": {},
   "outputs": [
    {
     "data": {
      "text/plain": [
       "XGBRegressor(base_score=0.5, booster='gbtree', colsample_bylevel=1,\n",
       "             colsample_bynode=1, colsample_bytree=1, gamma=0, gpu_id=-1,\n",
       "             importance_type='gain', interaction_constraints='',\n",
       "             learning_rate=0.300000012, max_delta_step=0, max_depth=6,\n",
       "             min_child_weight=1, missing=nan, monotone_constraints='()',\n",
       "             n_estimators=100, n_jobs=8, num_parallel_tree=1, random_state=0,\n",
       "             reg_alpha=0, reg_lambda=1, scale_pos_weight=1, subsample=1,\n",
       "             tree_method='exact', validate_parameters=1, verbosity=0)"
      ]
     },
     "execution_count": 30,
     "metadata": {},
     "output_type": "execute_result"
    }
   ],
   "source": [
    "xgbr.fit(X_train.to_frame(), y_train)"
   ]
  },
  {
   "cell_type": "code",
   "execution_count": 31,
   "id": "01f2c2fb-b5ef-4cbb-afc7-aafbeadf4696",
   "metadata": {},
   "outputs": [],
   "source": [
    "y_predict = xgbr.predict(X_test.to_frame())"
   ]
  },
  {
   "cell_type": "markdown",
   "id": "c9d3c09e-f5c4-40ad-9d9b-08738e0f4c20",
   "metadata": {},
   "source": [
    "### performance metrics"
   ]
  },
  {
   "cell_type": "markdown",
   "id": "a92e0ca6-0650-402d-854c-4021220d93ae",
   "metadata": {},
   "source": [
    "A. RMSE"
   ]
  },
  {
   "cell_type": "code",
   "execution_count": 32,
   "id": "73c1f784-439d-44cb-a5a0-b143f352ac2f",
   "metadata": {},
   "outputs": [
    {
     "name": "stdout",
     "output_type": "stream",
     "text": [
      "The RMSE of xgboost is 0.15965360907364134\n"
     ]
    }
   ],
   "source": [
    "rmse_xgboost = ((((y_test-y_predict)**2)/len(y_test)).sum())**0.5\n",
    "print(f'The RMSE of xgboost is {rmse_xgboost}')"
   ]
  },
  {
   "cell_type": "markdown",
   "id": "412e26e7-7f1e-4e0c-b658-a9b02447fb24",
   "metadata": {},
   "source": [
    "B. MAE"
   ]
  },
  {
   "cell_type": "code",
   "execution_count": 33,
   "id": "03e636cf-4dd7-4223-a8c5-2af177eceea2",
   "metadata": {},
   "outputs": [
    {
     "name": "stdout",
     "output_type": "stream",
     "text": [
      "The MAE of xgboost is 0.09648188796631726\n"
     ]
    }
   ],
   "source": [
    "MAE_xgboost = (np.abs(y_test-y_predict)/len(y_test)).sum()\n",
    "print(f'The MAE of xgboost is {MAE_xgboost}')"
   ]
  },
  {
   "cell_type": "markdown",
   "id": "6866a48d-7ac8-4835-a908-c21a62f2874e",
   "metadata": {},
   "source": [
    "C. R2"
   ]
  },
  {
   "cell_type": "code",
   "execution_count": 34,
   "id": "67b13580-2afd-4973-b0cd-b9ca84f13578",
   "metadata": {},
   "outputs": [
    {
     "name": "stdout",
     "output_type": "stream",
     "text": [
      "The R2 of xgboost is 0.11032826064647905\n"
     ]
    }
   ],
   "source": [
    "R2_xgboost = 1 - (((y_test-y_predict)**2).sum()/((y_test-y_test.mean())**2).sum())\n",
    "print(f'The R2 of xgboost is {R2_xgboost}')"
   ]
  },
  {
   "cell_type": "markdown",
   "id": "5a45bcf9-2719-4504-abdc-d8dbb6b743e7",
   "metadata": {},
   "source": [
    "# Decision Tree"
   ]
  },
  {
   "cell_type": "code",
   "execution_count": 35,
   "id": "66d53328-1d63-4864-bdd8-bc3ceaa886d3",
   "metadata": {},
   "outputs": [],
   "source": [
    "d_tree = DecisionTreeRegressor(random_state = 100, max_depth=3, min_samples_leaf=5)"
   ]
  },
  {
   "cell_type": "code",
   "execution_count": 36,
   "id": "ecd4dc3b-6ef8-40a4-8617-022a58264d6e",
   "metadata": {},
   "outputs": [
    {
     "data": {
      "text/plain": [
       "DecisionTreeRegressor(max_depth=3, min_samples_leaf=5, random_state=100)"
      ]
     },
     "execution_count": 36,
     "metadata": {},
     "output_type": "execute_result"
    }
   ],
   "source": [
    "d_tree.fit(X_train.to_frame(), y_train)"
   ]
  },
  {
   "cell_type": "code",
   "execution_count": 37,
   "id": "af50691d-755e-4845-ab2d-20634fd13690",
   "metadata": {},
   "outputs": [],
   "source": [
    "y_predict = d_tree.predict(X_test.to_frame())"
   ]
  },
  {
   "cell_type": "markdown",
   "id": "86771f14-6344-4500-a987-6f9d68f3f0d2",
   "metadata": {},
   "source": [
    "### performance metrics"
   ]
  },
  {
   "cell_type": "markdown",
   "id": "0b4df428-c69e-4a73-9508-eda3f9f9994b",
   "metadata": {},
   "source": [
    "A. RMSE"
   ]
  },
  {
   "cell_type": "code",
   "execution_count": 38,
   "id": "388b970d-667c-4e56-b136-a48a7073352a",
   "metadata": {},
   "outputs": [
    {
     "name": "stdout",
     "output_type": "stream",
     "text": [
      "The RMSE of decision tree is 0.10547606462647002\n"
     ]
    }
   ],
   "source": [
    "rmse_dt = ((((y_test-y_predict)**2)/len(y_test)).sum())**0.5\n",
    "print(f'The RMSE of decision tree is {rmse_dt}')"
   ]
  },
  {
   "cell_type": "markdown",
   "id": "2817d044-c06c-424c-979d-ce47f93d8030",
   "metadata": {},
   "source": [
    "B. MAE"
   ]
  },
  {
   "cell_type": "code",
   "execution_count": 39,
   "id": "1d5d8c1c-07c5-4091-9ad6-71feeda63986",
   "metadata": {},
   "outputs": [
    {
     "name": "stdout",
     "output_type": "stream",
     "text": [
      "The MAE of decision tree is 0.07738830370852309\n"
     ]
    }
   ],
   "source": [
    "MAE_dt = (np.abs(y_test-y_predict)/len(y_test)).sum()\n",
    "print(f'The MAE of decision tree is {MAE_dt}')"
   ]
  },
  {
   "cell_type": "markdown",
   "id": "46cee473-79b3-4cb1-a911-47ce7e433b44",
   "metadata": {},
   "source": [
    "C. R2"
   ]
  },
  {
   "cell_type": "code",
   "execution_count": 40,
   "id": "d2ffbc32-df73-439b-962e-1dfb6f7ae803",
   "metadata": {},
   "outputs": [
    {
     "name": "stdout",
     "output_type": "stream",
     "text": [
      "The R2 of decision tree is 0.6116885920334633\n"
     ]
    }
   ],
   "source": [
    "R2_dt = 1 - (((y_test-y_predict)**2).sum()/((y_test-y_test.mean())**2).sum())\n",
    "print(f'The R2 of decision tree is {R2_dt}')"
   ]
  },
  {
   "cell_type": "markdown",
   "id": "49318f78-f736-458f-b9c1-f6224fb13bfc",
   "metadata": {},
   "source": [
    "# SVM"
   ]
  },
  {
   "cell_type": "code",
   "execution_count": 41,
   "id": "055a6e73-9a98-4712-be24-01f097aad74f",
   "metadata": {},
   "outputs": [],
   "source": [
    "regr = make_pipeline(StandardScaler(), SVR(C=1.0, epsilon=0.2))"
   ]
  },
  {
   "cell_type": "code",
   "execution_count": 42,
   "id": "2f25bc7f-5176-4a37-a5d1-b376bb1fd273",
   "metadata": {},
   "outputs": [
    {
     "data": {
      "text/plain": [
       "Pipeline(steps=[('standardscaler', StandardScaler()),\n",
       "                ('svr', SVR(epsilon=0.2))])"
      ]
     },
     "execution_count": 42,
     "metadata": {},
     "output_type": "execute_result"
    }
   ],
   "source": [
    "regr.fit(X_train.to_frame(), y_train)"
   ]
  },
  {
   "cell_type": "code",
   "execution_count": 43,
   "id": "17a59b18-c799-42a3-b9bb-7a50e08d55b3",
   "metadata": {},
   "outputs": [],
   "source": [
    "y_predict = regr.predict(X_test.to_frame())"
   ]
  },
  {
   "cell_type": "markdown",
   "id": "17514694-62da-433d-a2b9-896d27da6ab0",
   "metadata": {},
   "source": [
    "### performance metrics"
   ]
  },
  {
   "cell_type": "markdown",
   "id": "0ee33bae-cabc-4c8b-8cd8-a36af42c8e56",
   "metadata": {},
   "source": [
    "A. RMSE"
   ]
  },
  {
   "cell_type": "code",
   "execution_count": 44,
   "id": "db3d20c5-5bd4-4c88-b84f-bb5a2ca878f8",
   "metadata": {},
   "outputs": [
    {
     "name": "stdout",
     "output_type": "stream",
     "text": [
      "The RMSE of svm is 0.1320395236087434\n"
     ]
    }
   ],
   "source": [
    "rmse_svm = ((((y_test-y_predict)**2)/len(y_test)).sum())**0.5\n",
    "print(f'The RMSE of svm is {rmse_svm}')"
   ]
  },
  {
   "cell_type": "markdown",
   "id": "b44892c7-ab00-420e-a7e6-2fdfd9fb583b",
   "metadata": {},
   "source": [
    "B. MAE"
   ]
  },
  {
   "cell_type": "code",
   "execution_count": 45,
   "id": "35b10647-208c-4f70-892e-9d29fe19123a",
   "metadata": {},
   "outputs": [
    {
     "name": "stdout",
     "output_type": "stream",
     "text": [
      "The MAE of svm is 0.11159875335529913\n"
     ]
    }
   ],
   "source": [
    "MAE_svm = (np.abs(y_test-y_predict)/len(y_test)).sum()\n",
    "print(f'The MAE of svm is {MAE_svm}')"
   ]
  },
  {
   "cell_type": "markdown",
   "id": "43d5a932-ed2c-45c3-881f-14dc88043d8c",
   "metadata": {},
   "source": [
    "C. R2"
   ]
  },
  {
   "cell_type": "code",
   "execution_count": 46,
   "id": "0229e85c-181f-423e-861c-4b069ca8b7e7",
   "metadata": {},
   "outputs": [
    {
     "name": "stdout",
     "output_type": "stream",
     "text": [
      "The R2 of svm is 0.3914724963726589\n"
     ]
    }
   ],
   "source": [
    "R2_svm = 1 - (((y_test-y_predict)**2).sum()/((y_test-y_test.mean())**2).sum())\n",
    "print(f'The R2 of svm is {R2_svm}')"
   ]
  },
  {
   "cell_type": "markdown",
   "id": "007b746e-b9a9-4aa8-941b-23bd8560f2d0",
   "metadata": {},
   "source": [
    "## Step 3: Analyze model performance metrics (RMSE, MAE and R2) and select the best model"
   ]
  },
  {
   "cell_type": "code",
   "execution_count": 57,
   "id": "cfa44b84-61df-4bf2-a3d9-5ddf5f77dd86",
   "metadata": {},
   "outputs": [
    {
     "name": "stdout",
     "output_type": "stream",
     "text": [
      "+------+---------------------+-----------+-----------------+----------+\n",
      "|      |   Linear regression |   xgboost |   decision tree |      SVM |\n",
      "+======+=====================+===========+=================+==========+\n",
      "| RMSE |            0.163991 | 0.159654  |       0.105476  | 0.13204  |\n",
      "+------+---------------------+-----------+-----------------+----------+\n",
      "| MAE  |            0.120186 | 0.0964819 |       0.0773883 | 0.111599 |\n",
      "+------+---------------------+-----------+-----------------+----------+\n",
      "| R2   |            0.061336 | 0.110328  |       0.611689  | 0.391472 |\n",
      "+------+---------------------+-----------+-----------------+----------+\n"
     ]
    }
   ],
   "source": [
    "mydata = [\n",
    "          ['RMSE', rmse_linear_regression, rmse_xgboost, rmse_dt, rmse_svm],\n",
    "          ['MAE', MAE_linear_regression, MAE_xgboost, MAE_dt, MAE_svm],\n",
    "         ['R2', R2_linear_regression, R2_xgboost, R2_dt, R2_svm]]\n",
    "head = ['Linear regression', 'xgboost', 'decision tree', 'SVM']\n",
    "print(tabulate(mydata, headers=head, tablefmt=\"grid\"))"
   ]
  },
  {
   "cell_type": "markdown",
   "id": "c61d172e-04c6-4782-a414-6643a6ced023",
   "metadata": {},
   "source": [
    "It seems like that decision tree has the best performance on this dataset. I choose decision tree because it has the lowest RMSE and hightest R2. The R2 highter, the model better. The RMSE lower, the model better."
   ]
  },
  {
   "cell_type": "markdown",
   "id": "7ec49717-2a5d-4be4-a047-28c4a9773a47",
   "metadata": {},
   "source": [
    "# Part B"
   ]
  },
  {
   "cell_type": "markdown",
   "id": "8d104593-b01b-43e0-b5a1-2e10946fdc0d",
   "metadata": {},
   "source": [
    "In this part, I download the data from Kaggle and it's about heart disease. We will use it to predict whether a person is suffering from heart disease."
   ]
  },
  {
   "cell_type": "code",
   "execution_count": 4,
   "id": "39a9c90c-cfea-4c05-b199-52f720cbfc6f",
   "metadata": {},
   "outputs": [],
   "source": [
    "data_hd = pd.read_csv('https://raw.githubusercontent.com/NewThread-ZY/AIM-5014-100/main/h5/framingham.csv')"
   ]
  },
  {
   "cell_type": "code",
   "execution_count": 5,
   "id": "6246ce5c-cfaa-4f6c-b3a3-b803a54577c2",
   "metadata": {},
   "outputs": [
    {
     "data": {
      "text/html": [
       "<div>\n",
       "<style scoped>\n",
       "    .dataframe tbody tr th:only-of-type {\n",
       "        vertical-align: middle;\n",
       "    }\n",
       "\n",
       "    .dataframe tbody tr th {\n",
       "        vertical-align: top;\n",
       "    }\n",
       "\n",
       "    .dataframe thead th {\n",
       "        text-align: right;\n",
       "    }\n",
       "</style>\n",
       "<table border=\"1\" class=\"dataframe\">\n",
       "  <thead>\n",
       "    <tr style=\"text-align: right;\">\n",
       "      <th></th>\n",
       "      <th>male</th>\n",
       "      <th>age</th>\n",
       "      <th>education</th>\n",
       "      <th>currentSmoker</th>\n",
       "      <th>cigsPerDay</th>\n",
       "      <th>BPMeds</th>\n",
       "      <th>prevalentStroke</th>\n",
       "      <th>prevalentHyp</th>\n",
       "      <th>diabetes</th>\n",
       "      <th>totChol</th>\n",
       "      <th>sysBP</th>\n",
       "      <th>diaBP</th>\n",
       "      <th>BMI</th>\n",
       "      <th>heartRate</th>\n",
       "      <th>glucose</th>\n",
       "      <th>TenYearCHD</th>\n",
       "    </tr>\n",
       "  </thead>\n",
       "  <tbody>\n",
       "    <tr>\n",
       "      <th>0</th>\n",
       "      <td>1</td>\n",
       "      <td>39</td>\n",
       "      <td>4.0</td>\n",
       "      <td>0</td>\n",
       "      <td>0.0</td>\n",
       "      <td>0.0</td>\n",
       "      <td>0</td>\n",
       "      <td>0</td>\n",
       "      <td>0</td>\n",
       "      <td>195.0</td>\n",
       "      <td>106.0</td>\n",
       "      <td>70.0</td>\n",
       "      <td>26.97</td>\n",
       "      <td>80.0</td>\n",
       "      <td>77.0</td>\n",
       "      <td>0</td>\n",
       "    </tr>\n",
       "    <tr>\n",
       "      <th>1</th>\n",
       "      <td>0</td>\n",
       "      <td>46</td>\n",
       "      <td>2.0</td>\n",
       "      <td>0</td>\n",
       "      <td>0.0</td>\n",
       "      <td>0.0</td>\n",
       "      <td>0</td>\n",
       "      <td>0</td>\n",
       "      <td>0</td>\n",
       "      <td>250.0</td>\n",
       "      <td>121.0</td>\n",
       "      <td>81.0</td>\n",
       "      <td>28.73</td>\n",
       "      <td>95.0</td>\n",
       "      <td>76.0</td>\n",
       "      <td>0</td>\n",
       "    </tr>\n",
       "    <tr>\n",
       "      <th>2</th>\n",
       "      <td>1</td>\n",
       "      <td>48</td>\n",
       "      <td>1.0</td>\n",
       "      <td>1</td>\n",
       "      <td>20.0</td>\n",
       "      <td>0.0</td>\n",
       "      <td>0</td>\n",
       "      <td>0</td>\n",
       "      <td>0</td>\n",
       "      <td>245.0</td>\n",
       "      <td>127.5</td>\n",
       "      <td>80.0</td>\n",
       "      <td>25.34</td>\n",
       "      <td>75.0</td>\n",
       "      <td>70.0</td>\n",
       "      <td>0</td>\n",
       "    </tr>\n",
       "    <tr>\n",
       "      <th>3</th>\n",
       "      <td>0</td>\n",
       "      <td>61</td>\n",
       "      <td>3.0</td>\n",
       "      <td>1</td>\n",
       "      <td>30.0</td>\n",
       "      <td>0.0</td>\n",
       "      <td>0</td>\n",
       "      <td>1</td>\n",
       "      <td>0</td>\n",
       "      <td>225.0</td>\n",
       "      <td>150.0</td>\n",
       "      <td>95.0</td>\n",
       "      <td>28.58</td>\n",
       "      <td>65.0</td>\n",
       "      <td>103.0</td>\n",
       "      <td>1</td>\n",
       "    </tr>\n",
       "    <tr>\n",
       "      <th>4</th>\n",
       "      <td>0</td>\n",
       "      <td>46</td>\n",
       "      <td>3.0</td>\n",
       "      <td>1</td>\n",
       "      <td>23.0</td>\n",
       "      <td>0.0</td>\n",
       "      <td>0</td>\n",
       "      <td>0</td>\n",
       "      <td>0</td>\n",
       "      <td>285.0</td>\n",
       "      <td>130.0</td>\n",
       "      <td>84.0</td>\n",
       "      <td>23.10</td>\n",
       "      <td>85.0</td>\n",
       "      <td>85.0</td>\n",
       "      <td>0</td>\n",
       "    </tr>\n",
       "    <tr>\n",
       "      <th>...</th>\n",
       "      <td>...</td>\n",
       "      <td>...</td>\n",
       "      <td>...</td>\n",
       "      <td>...</td>\n",
       "      <td>...</td>\n",
       "      <td>...</td>\n",
       "      <td>...</td>\n",
       "      <td>...</td>\n",
       "      <td>...</td>\n",
       "      <td>...</td>\n",
       "      <td>...</td>\n",
       "      <td>...</td>\n",
       "      <td>...</td>\n",
       "      <td>...</td>\n",
       "      <td>...</td>\n",
       "      <td>...</td>\n",
       "    </tr>\n",
       "    <tr>\n",
       "      <th>4233</th>\n",
       "      <td>1</td>\n",
       "      <td>50</td>\n",
       "      <td>1.0</td>\n",
       "      <td>1</td>\n",
       "      <td>1.0</td>\n",
       "      <td>0.0</td>\n",
       "      <td>0</td>\n",
       "      <td>1</td>\n",
       "      <td>0</td>\n",
       "      <td>313.0</td>\n",
       "      <td>179.0</td>\n",
       "      <td>92.0</td>\n",
       "      <td>25.97</td>\n",
       "      <td>66.0</td>\n",
       "      <td>86.0</td>\n",
       "      <td>1</td>\n",
       "    </tr>\n",
       "    <tr>\n",
       "      <th>4234</th>\n",
       "      <td>1</td>\n",
       "      <td>51</td>\n",
       "      <td>3.0</td>\n",
       "      <td>1</td>\n",
       "      <td>43.0</td>\n",
       "      <td>0.0</td>\n",
       "      <td>0</td>\n",
       "      <td>0</td>\n",
       "      <td>0</td>\n",
       "      <td>207.0</td>\n",
       "      <td>126.5</td>\n",
       "      <td>80.0</td>\n",
       "      <td>19.71</td>\n",
       "      <td>65.0</td>\n",
       "      <td>68.0</td>\n",
       "      <td>0</td>\n",
       "    </tr>\n",
       "    <tr>\n",
       "      <th>4235</th>\n",
       "      <td>0</td>\n",
       "      <td>48</td>\n",
       "      <td>2.0</td>\n",
       "      <td>1</td>\n",
       "      <td>20.0</td>\n",
       "      <td>NaN</td>\n",
       "      <td>0</td>\n",
       "      <td>0</td>\n",
       "      <td>0</td>\n",
       "      <td>248.0</td>\n",
       "      <td>131.0</td>\n",
       "      <td>72.0</td>\n",
       "      <td>22.00</td>\n",
       "      <td>84.0</td>\n",
       "      <td>86.0</td>\n",
       "      <td>0</td>\n",
       "    </tr>\n",
       "    <tr>\n",
       "      <th>4236</th>\n",
       "      <td>0</td>\n",
       "      <td>44</td>\n",
       "      <td>1.0</td>\n",
       "      <td>1</td>\n",
       "      <td>15.0</td>\n",
       "      <td>0.0</td>\n",
       "      <td>0</td>\n",
       "      <td>0</td>\n",
       "      <td>0</td>\n",
       "      <td>210.0</td>\n",
       "      <td>126.5</td>\n",
       "      <td>87.0</td>\n",
       "      <td>19.16</td>\n",
       "      <td>86.0</td>\n",
       "      <td>NaN</td>\n",
       "      <td>0</td>\n",
       "    </tr>\n",
       "    <tr>\n",
       "      <th>4237</th>\n",
       "      <td>0</td>\n",
       "      <td>52</td>\n",
       "      <td>2.0</td>\n",
       "      <td>0</td>\n",
       "      <td>0.0</td>\n",
       "      <td>0.0</td>\n",
       "      <td>0</td>\n",
       "      <td>0</td>\n",
       "      <td>0</td>\n",
       "      <td>269.0</td>\n",
       "      <td>133.5</td>\n",
       "      <td>83.0</td>\n",
       "      <td>21.47</td>\n",
       "      <td>80.0</td>\n",
       "      <td>107.0</td>\n",
       "      <td>0</td>\n",
       "    </tr>\n",
       "  </tbody>\n",
       "</table>\n",
       "<p>4238 rows × 16 columns</p>\n",
       "</div>"
      ],
      "text/plain": [
       "      male  age  education  currentSmoker  cigsPerDay  BPMeds  \\\n",
       "0        1   39        4.0              0         0.0     0.0   \n",
       "1        0   46        2.0              0         0.0     0.0   \n",
       "2        1   48        1.0              1        20.0     0.0   \n",
       "3        0   61        3.0              1        30.0     0.0   \n",
       "4        0   46        3.0              1        23.0     0.0   \n",
       "...    ...  ...        ...            ...         ...     ...   \n",
       "4233     1   50        1.0              1         1.0     0.0   \n",
       "4234     1   51        3.0              1        43.0     0.0   \n",
       "4235     0   48        2.0              1        20.0     NaN   \n",
       "4236     0   44        1.0              1        15.0     0.0   \n",
       "4237     0   52        2.0              0         0.0     0.0   \n",
       "\n",
       "      prevalentStroke  prevalentHyp  diabetes  totChol  sysBP  diaBP    BMI  \\\n",
       "0                   0             0         0    195.0  106.0   70.0  26.97   \n",
       "1                   0             0         0    250.0  121.0   81.0  28.73   \n",
       "2                   0             0         0    245.0  127.5   80.0  25.34   \n",
       "3                   0             1         0    225.0  150.0   95.0  28.58   \n",
       "4                   0             0         0    285.0  130.0   84.0  23.10   \n",
       "...               ...           ...       ...      ...    ...    ...    ...   \n",
       "4233                0             1         0    313.0  179.0   92.0  25.97   \n",
       "4234                0             0         0    207.0  126.5   80.0  19.71   \n",
       "4235                0             0         0    248.0  131.0   72.0  22.00   \n",
       "4236                0             0         0    210.0  126.5   87.0  19.16   \n",
       "4237                0             0         0    269.0  133.5   83.0  21.47   \n",
       "\n",
       "      heartRate  glucose  TenYearCHD  \n",
       "0          80.0     77.0           0  \n",
       "1          95.0     76.0           0  \n",
       "2          75.0     70.0           0  \n",
       "3          65.0    103.0           1  \n",
       "4          85.0     85.0           0  \n",
       "...         ...      ...         ...  \n",
       "4233       66.0     86.0           1  \n",
       "4234       65.0     68.0           0  \n",
       "4235       84.0     86.0           0  \n",
       "4236       86.0      NaN           0  \n",
       "4237       80.0    107.0           0  \n",
       "\n",
       "[4238 rows x 16 columns]"
      ]
     },
     "execution_count": 5,
     "metadata": {},
     "output_type": "execute_result"
    }
   ],
   "source": [
    "data_hd"
   ]
  },
  {
   "cell_type": "code",
   "execution_count": 6,
   "id": "7a62862f-c9bc-42cb-9de1-2fe99bb3c1e7",
   "metadata": {},
   "outputs": [
    {
     "data": {
      "text/html": [
       "<div>\n",
       "<style scoped>\n",
       "    .dataframe tbody tr th:only-of-type {\n",
       "        vertical-align: middle;\n",
       "    }\n",
       "\n",
       "    .dataframe tbody tr th {\n",
       "        vertical-align: top;\n",
       "    }\n",
       "\n",
       "    .dataframe thead th {\n",
       "        text-align: right;\n",
       "    }\n",
       "</style>\n",
       "<table border=\"1\" class=\"dataframe\">\n",
       "  <thead>\n",
       "    <tr style=\"text-align: right;\">\n",
       "      <th></th>\n",
       "      <th>male</th>\n",
       "      <th>age</th>\n",
       "      <th>education</th>\n",
       "      <th>currentSmoker</th>\n",
       "      <th>cigsPerDay</th>\n",
       "      <th>BPMeds</th>\n",
       "      <th>prevalentStroke</th>\n",
       "      <th>prevalentHyp</th>\n",
       "      <th>diabetes</th>\n",
       "      <th>totChol</th>\n",
       "      <th>sysBP</th>\n",
       "      <th>diaBP</th>\n",
       "      <th>BMI</th>\n",
       "      <th>heartRate</th>\n",
       "      <th>glucose</th>\n",
       "      <th>TenYearCHD</th>\n",
       "    </tr>\n",
       "  </thead>\n",
       "  <tbody>\n",
       "    <tr>\n",
       "      <th>count</th>\n",
       "      <td>4238.000000</td>\n",
       "      <td>4238.000000</td>\n",
       "      <td>4133.000000</td>\n",
       "      <td>4238.000000</td>\n",
       "      <td>4209.000000</td>\n",
       "      <td>4185.000000</td>\n",
       "      <td>4238.000000</td>\n",
       "      <td>4238.000000</td>\n",
       "      <td>4238.000000</td>\n",
       "      <td>4188.000000</td>\n",
       "      <td>4238.000000</td>\n",
       "      <td>4238.000000</td>\n",
       "      <td>4219.000000</td>\n",
       "      <td>4237.000000</td>\n",
       "      <td>3850.000000</td>\n",
       "      <td>4238.000000</td>\n",
       "    </tr>\n",
       "    <tr>\n",
       "      <th>mean</th>\n",
       "      <td>0.429212</td>\n",
       "      <td>49.584946</td>\n",
       "      <td>1.978950</td>\n",
       "      <td>0.494101</td>\n",
       "      <td>9.003089</td>\n",
       "      <td>0.029630</td>\n",
       "      <td>0.005899</td>\n",
       "      <td>0.310524</td>\n",
       "      <td>0.025720</td>\n",
       "      <td>236.721585</td>\n",
       "      <td>132.352407</td>\n",
       "      <td>82.893464</td>\n",
       "      <td>25.802008</td>\n",
       "      <td>75.878924</td>\n",
       "      <td>81.966753</td>\n",
       "      <td>0.151958</td>\n",
       "    </tr>\n",
       "    <tr>\n",
       "      <th>std</th>\n",
       "      <td>0.495022</td>\n",
       "      <td>8.572160</td>\n",
       "      <td>1.019791</td>\n",
       "      <td>0.500024</td>\n",
       "      <td>11.920094</td>\n",
       "      <td>0.169584</td>\n",
       "      <td>0.076587</td>\n",
       "      <td>0.462763</td>\n",
       "      <td>0.158316</td>\n",
       "      <td>44.590334</td>\n",
       "      <td>22.038097</td>\n",
       "      <td>11.910850</td>\n",
       "      <td>4.080111</td>\n",
       "      <td>12.026596</td>\n",
       "      <td>23.959998</td>\n",
       "      <td>0.359023</td>\n",
       "    </tr>\n",
       "    <tr>\n",
       "      <th>min</th>\n",
       "      <td>0.000000</td>\n",
       "      <td>32.000000</td>\n",
       "      <td>1.000000</td>\n",
       "      <td>0.000000</td>\n",
       "      <td>0.000000</td>\n",
       "      <td>0.000000</td>\n",
       "      <td>0.000000</td>\n",
       "      <td>0.000000</td>\n",
       "      <td>0.000000</td>\n",
       "      <td>107.000000</td>\n",
       "      <td>83.500000</td>\n",
       "      <td>48.000000</td>\n",
       "      <td>15.540000</td>\n",
       "      <td>44.000000</td>\n",
       "      <td>40.000000</td>\n",
       "      <td>0.000000</td>\n",
       "    </tr>\n",
       "    <tr>\n",
       "      <th>25%</th>\n",
       "      <td>0.000000</td>\n",
       "      <td>42.000000</td>\n",
       "      <td>1.000000</td>\n",
       "      <td>0.000000</td>\n",
       "      <td>0.000000</td>\n",
       "      <td>0.000000</td>\n",
       "      <td>0.000000</td>\n",
       "      <td>0.000000</td>\n",
       "      <td>0.000000</td>\n",
       "      <td>206.000000</td>\n",
       "      <td>117.000000</td>\n",
       "      <td>75.000000</td>\n",
       "      <td>23.070000</td>\n",
       "      <td>68.000000</td>\n",
       "      <td>71.000000</td>\n",
       "      <td>0.000000</td>\n",
       "    </tr>\n",
       "    <tr>\n",
       "      <th>50%</th>\n",
       "      <td>0.000000</td>\n",
       "      <td>49.000000</td>\n",
       "      <td>2.000000</td>\n",
       "      <td>0.000000</td>\n",
       "      <td>0.000000</td>\n",
       "      <td>0.000000</td>\n",
       "      <td>0.000000</td>\n",
       "      <td>0.000000</td>\n",
       "      <td>0.000000</td>\n",
       "      <td>234.000000</td>\n",
       "      <td>128.000000</td>\n",
       "      <td>82.000000</td>\n",
       "      <td>25.400000</td>\n",
       "      <td>75.000000</td>\n",
       "      <td>78.000000</td>\n",
       "      <td>0.000000</td>\n",
       "    </tr>\n",
       "    <tr>\n",
       "      <th>75%</th>\n",
       "      <td>1.000000</td>\n",
       "      <td>56.000000</td>\n",
       "      <td>3.000000</td>\n",
       "      <td>1.000000</td>\n",
       "      <td>20.000000</td>\n",
       "      <td>0.000000</td>\n",
       "      <td>0.000000</td>\n",
       "      <td>1.000000</td>\n",
       "      <td>0.000000</td>\n",
       "      <td>263.000000</td>\n",
       "      <td>144.000000</td>\n",
       "      <td>89.875000</td>\n",
       "      <td>28.040000</td>\n",
       "      <td>83.000000</td>\n",
       "      <td>87.000000</td>\n",
       "      <td>0.000000</td>\n",
       "    </tr>\n",
       "    <tr>\n",
       "      <th>max</th>\n",
       "      <td>1.000000</td>\n",
       "      <td>70.000000</td>\n",
       "      <td>4.000000</td>\n",
       "      <td>1.000000</td>\n",
       "      <td>70.000000</td>\n",
       "      <td>1.000000</td>\n",
       "      <td>1.000000</td>\n",
       "      <td>1.000000</td>\n",
       "      <td>1.000000</td>\n",
       "      <td>696.000000</td>\n",
       "      <td>295.000000</td>\n",
       "      <td>142.500000</td>\n",
       "      <td>56.800000</td>\n",
       "      <td>143.000000</td>\n",
       "      <td>394.000000</td>\n",
       "      <td>1.000000</td>\n",
       "    </tr>\n",
       "  </tbody>\n",
       "</table>\n",
       "</div>"
      ],
      "text/plain": [
       "              male          age    education  currentSmoker   cigsPerDay  \\\n",
       "count  4238.000000  4238.000000  4133.000000    4238.000000  4209.000000   \n",
       "mean      0.429212    49.584946     1.978950       0.494101     9.003089   \n",
       "std       0.495022     8.572160     1.019791       0.500024    11.920094   \n",
       "min       0.000000    32.000000     1.000000       0.000000     0.000000   \n",
       "25%       0.000000    42.000000     1.000000       0.000000     0.000000   \n",
       "50%       0.000000    49.000000     2.000000       0.000000     0.000000   \n",
       "75%       1.000000    56.000000     3.000000       1.000000    20.000000   \n",
       "max       1.000000    70.000000     4.000000       1.000000    70.000000   \n",
       "\n",
       "            BPMeds  prevalentStroke  prevalentHyp     diabetes      totChol  \\\n",
       "count  4185.000000      4238.000000   4238.000000  4238.000000  4188.000000   \n",
       "mean      0.029630         0.005899      0.310524     0.025720   236.721585   \n",
       "std       0.169584         0.076587      0.462763     0.158316    44.590334   \n",
       "min       0.000000         0.000000      0.000000     0.000000   107.000000   \n",
       "25%       0.000000         0.000000      0.000000     0.000000   206.000000   \n",
       "50%       0.000000         0.000000      0.000000     0.000000   234.000000   \n",
       "75%       0.000000         0.000000      1.000000     0.000000   263.000000   \n",
       "max       1.000000         1.000000      1.000000     1.000000   696.000000   \n",
       "\n",
       "             sysBP        diaBP          BMI    heartRate      glucose  \\\n",
       "count  4238.000000  4238.000000  4219.000000  4237.000000  3850.000000   \n",
       "mean    132.352407    82.893464    25.802008    75.878924    81.966753   \n",
       "std      22.038097    11.910850     4.080111    12.026596    23.959998   \n",
       "min      83.500000    48.000000    15.540000    44.000000    40.000000   \n",
       "25%     117.000000    75.000000    23.070000    68.000000    71.000000   \n",
       "50%     128.000000    82.000000    25.400000    75.000000    78.000000   \n",
       "75%     144.000000    89.875000    28.040000    83.000000    87.000000   \n",
       "max     295.000000   142.500000    56.800000   143.000000   394.000000   \n",
       "\n",
       "        TenYearCHD  \n",
       "count  4238.000000  \n",
       "mean      0.151958  \n",
       "std       0.359023  \n",
       "min       0.000000  \n",
       "25%       0.000000  \n",
       "50%       0.000000  \n",
       "75%       0.000000  \n",
       "max       1.000000  "
      ]
     },
     "execution_count": 6,
     "metadata": {},
     "output_type": "execute_result"
    }
   ],
   "source": [
    "data_hd.describe()"
   ]
  },
  {
   "cell_type": "markdown",
   "id": "08599e63-796c-4295-b71f-ee48a2b5e114",
   "metadata": {},
   "source": [
    "## Clean data"
   ]
  },
  {
   "cell_type": "markdown",
   "id": "d7844b3b-e71e-4bde-acfb-fc7ce83a725e",
   "metadata": {},
   "source": [
    "delete nan data"
   ]
  },
  {
   "cell_type": "code",
   "execution_count": 7,
   "id": "d2661698-9697-473e-8c9c-29300e224207",
   "metadata": {},
   "outputs": [],
   "source": [
    "data_hd = data_hd.dropna()"
   ]
  },
  {
   "cell_type": "code",
   "execution_count": 8,
   "id": "4bcd23c7-90e3-4433-b4c6-c1f133b18866",
   "metadata": {},
   "outputs": [],
   "source": [
    "data_hd = data_hd.reset_index(drop = True)"
   ]
  },
  {
   "cell_type": "markdown",
   "id": "ae03505e-dafd-4101-8bbc-859b2cb50d9e",
   "metadata": {},
   "source": [
    "max-min normalization"
   ]
  },
  {
   "cell_type": "code",
   "execution_count": 9,
   "id": "4f514fc6-b62e-4a44-9bd3-e629e1816aa6",
   "metadata": {},
   "outputs": [],
   "source": [
    "data_hd = (data_hd-data_hd.min())/(data_hd.max()-data_hd.min())"
   ]
  },
  {
   "cell_type": "code",
   "execution_count": 10,
   "id": "f64b6f30-603b-4d74-bf6e-19f413b485e2",
   "metadata": {},
   "outputs": [
    {
     "data": {
      "text/html": [
       "<div>\n",
       "<style scoped>\n",
       "    .dataframe tbody tr th:only-of-type {\n",
       "        vertical-align: middle;\n",
       "    }\n",
       "\n",
       "    .dataframe tbody tr th {\n",
       "        vertical-align: top;\n",
       "    }\n",
       "\n",
       "    .dataframe thead th {\n",
       "        text-align: right;\n",
       "    }\n",
       "</style>\n",
       "<table border=\"1\" class=\"dataframe\">\n",
       "  <thead>\n",
       "    <tr style=\"text-align: right;\">\n",
       "      <th></th>\n",
       "      <th>male</th>\n",
       "      <th>age</th>\n",
       "      <th>education</th>\n",
       "      <th>currentSmoker</th>\n",
       "      <th>cigsPerDay</th>\n",
       "      <th>BPMeds</th>\n",
       "      <th>prevalentStroke</th>\n",
       "      <th>prevalentHyp</th>\n",
       "      <th>diabetes</th>\n",
       "      <th>totChol</th>\n",
       "      <th>sysBP</th>\n",
       "      <th>diaBP</th>\n",
       "      <th>BMI</th>\n",
       "      <th>heartRate</th>\n",
       "      <th>glucose</th>\n",
       "      <th>TenYearCHD</th>\n",
       "    </tr>\n",
       "  </thead>\n",
       "  <tbody>\n",
       "    <tr>\n",
       "      <th>0</th>\n",
       "      <td>1.0</td>\n",
       "      <td>0.184211</td>\n",
       "      <td>1.000000</td>\n",
       "      <td>0.0</td>\n",
       "      <td>0.000000</td>\n",
       "      <td>0.0</td>\n",
       "      <td>0.0</td>\n",
       "      <td>0.0</td>\n",
       "      <td>0.0</td>\n",
       "      <td>0.168378</td>\n",
       "      <td>0.106383</td>\n",
       "      <td>0.232804</td>\n",
       "      <td>0.277024</td>\n",
       "      <td>0.363636</td>\n",
       "      <td>0.104520</td>\n",
       "      <td>0.0</td>\n",
       "    </tr>\n",
       "    <tr>\n",
       "      <th>1</th>\n",
       "      <td>0.0</td>\n",
       "      <td>0.368421</td>\n",
       "      <td>0.333333</td>\n",
       "      <td>0.0</td>\n",
       "      <td>0.000000</td>\n",
       "      <td>0.0</td>\n",
       "      <td>0.0</td>\n",
       "      <td>0.0</td>\n",
       "      <td>0.0</td>\n",
       "      <td>0.281314</td>\n",
       "      <td>0.177305</td>\n",
       "      <td>0.349206</td>\n",
       "      <td>0.319680</td>\n",
       "      <td>0.515152</td>\n",
       "      <td>0.101695</td>\n",
       "      <td>0.0</td>\n",
       "    </tr>\n",
       "    <tr>\n",
       "      <th>2</th>\n",
       "      <td>1.0</td>\n",
       "      <td>0.421053</td>\n",
       "      <td>0.000000</td>\n",
       "      <td>1.0</td>\n",
       "      <td>0.285714</td>\n",
       "      <td>0.0</td>\n",
       "      <td>0.0</td>\n",
       "      <td>0.0</td>\n",
       "      <td>0.0</td>\n",
       "      <td>0.271047</td>\n",
       "      <td>0.208038</td>\n",
       "      <td>0.338624</td>\n",
       "      <td>0.237518</td>\n",
       "      <td>0.313131</td>\n",
       "      <td>0.084746</td>\n",
       "      <td>0.0</td>\n",
       "    </tr>\n",
       "    <tr>\n",
       "      <th>3</th>\n",
       "      <td>0.0</td>\n",
       "      <td>0.763158</td>\n",
       "      <td>0.666667</td>\n",
       "      <td>1.0</td>\n",
       "      <td>0.428571</td>\n",
       "      <td>0.0</td>\n",
       "      <td>0.0</td>\n",
       "      <td>1.0</td>\n",
       "      <td>0.0</td>\n",
       "      <td>0.229979</td>\n",
       "      <td>0.314421</td>\n",
       "      <td>0.497354</td>\n",
       "      <td>0.316045</td>\n",
       "      <td>0.212121</td>\n",
       "      <td>0.177966</td>\n",
       "      <td>1.0</td>\n",
       "    </tr>\n",
       "    <tr>\n",
       "      <th>4</th>\n",
       "      <td>0.0</td>\n",
       "      <td>0.368421</td>\n",
       "      <td>0.666667</td>\n",
       "      <td>1.0</td>\n",
       "      <td>0.328571</td>\n",
       "      <td>0.0</td>\n",
       "      <td>0.0</td>\n",
       "      <td>0.0</td>\n",
       "      <td>0.0</td>\n",
       "      <td>0.353183</td>\n",
       "      <td>0.219858</td>\n",
       "      <td>0.380952</td>\n",
       "      <td>0.183228</td>\n",
       "      <td>0.414141</td>\n",
       "      <td>0.127119</td>\n",
       "      <td>0.0</td>\n",
       "    </tr>\n",
       "    <tr>\n",
       "      <th>...</th>\n",
       "      <td>...</td>\n",
       "      <td>...</td>\n",
       "      <td>...</td>\n",
       "      <td>...</td>\n",
       "      <td>...</td>\n",
       "      <td>...</td>\n",
       "      <td>...</td>\n",
       "      <td>...</td>\n",
       "      <td>...</td>\n",
       "      <td>...</td>\n",
       "      <td>...</td>\n",
       "      <td>...</td>\n",
       "      <td>...</td>\n",
       "      <td>...</td>\n",
       "      <td>...</td>\n",
       "      <td>...</td>\n",
       "    </tr>\n",
       "    <tr>\n",
       "      <th>3651</th>\n",
       "      <td>1.0</td>\n",
       "      <td>0.684211</td>\n",
       "      <td>0.666667</td>\n",
       "      <td>0.0</td>\n",
       "      <td>0.000000</td>\n",
       "      <td>0.0</td>\n",
       "      <td>0.0</td>\n",
       "      <td>1.0</td>\n",
       "      <td>0.0</td>\n",
       "      <td>0.151951</td>\n",
       "      <td>0.271868</td>\n",
       "      <td>0.349206</td>\n",
       "      <td>0.228308</td>\n",
       "      <td>0.363636</td>\n",
       "      <td>0.115819</td>\n",
       "      <td>0.0</td>\n",
       "    </tr>\n",
       "    <tr>\n",
       "      <th>3652</th>\n",
       "      <td>1.0</td>\n",
       "      <td>0.947368</td>\n",
       "      <td>0.000000</td>\n",
       "      <td>0.0</td>\n",
       "      <td>0.000000</td>\n",
       "      <td>0.0</td>\n",
       "      <td>0.0</td>\n",
       "      <td>1.0</td>\n",
       "      <td>0.0</td>\n",
       "      <td>0.129363</td>\n",
       "      <td>0.399527</td>\n",
       "      <td>0.518519</td>\n",
       "      <td>0.184198</td>\n",
       "      <td>0.161616</td>\n",
       "      <td>0.110169</td>\n",
       "      <td>1.0</td>\n",
       "    </tr>\n",
       "    <tr>\n",
       "      <th>3653</th>\n",
       "      <td>1.0</td>\n",
       "      <td>0.473684</td>\n",
       "      <td>0.000000</td>\n",
       "      <td>1.0</td>\n",
       "      <td>0.014286</td>\n",
       "      <td>0.0</td>\n",
       "      <td>0.0</td>\n",
       "      <td>1.0</td>\n",
       "      <td>0.0</td>\n",
       "      <td>0.410678</td>\n",
       "      <td>0.451537</td>\n",
       "      <td>0.465608</td>\n",
       "      <td>0.252787</td>\n",
       "      <td>0.222222</td>\n",
       "      <td>0.129944</td>\n",
       "      <td>1.0</td>\n",
       "    </tr>\n",
       "    <tr>\n",
       "      <th>3654</th>\n",
       "      <td>1.0</td>\n",
       "      <td>0.500000</td>\n",
       "      <td>0.666667</td>\n",
       "      <td>1.0</td>\n",
       "      <td>0.614286</td>\n",
       "      <td>0.0</td>\n",
       "      <td>0.0</td>\n",
       "      <td>0.0</td>\n",
       "      <td>0.0</td>\n",
       "      <td>0.193018</td>\n",
       "      <td>0.203310</td>\n",
       "      <td>0.338624</td>\n",
       "      <td>0.101066</td>\n",
       "      <td>0.212121</td>\n",
       "      <td>0.079096</td>\n",
       "      <td>0.0</td>\n",
       "    </tr>\n",
       "    <tr>\n",
       "      <th>3655</th>\n",
       "      <td>0.0</td>\n",
       "      <td>0.526316</td>\n",
       "      <td>0.333333</td>\n",
       "      <td>0.0</td>\n",
       "      <td>0.000000</td>\n",
       "      <td>0.0</td>\n",
       "      <td>0.0</td>\n",
       "      <td>0.0</td>\n",
       "      <td>0.0</td>\n",
       "      <td>0.320329</td>\n",
       "      <td>0.236407</td>\n",
       "      <td>0.370370</td>\n",
       "      <td>0.143723</td>\n",
       "      <td>0.363636</td>\n",
       "      <td>0.189266</td>\n",
       "      <td>0.0</td>\n",
       "    </tr>\n",
       "  </tbody>\n",
       "</table>\n",
       "<p>3656 rows × 16 columns</p>\n",
       "</div>"
      ],
      "text/plain": [
       "      male       age  education  currentSmoker  cigsPerDay  BPMeds  \\\n",
       "0      1.0  0.184211   1.000000            0.0    0.000000     0.0   \n",
       "1      0.0  0.368421   0.333333            0.0    0.000000     0.0   \n",
       "2      1.0  0.421053   0.000000            1.0    0.285714     0.0   \n",
       "3      0.0  0.763158   0.666667            1.0    0.428571     0.0   \n",
       "4      0.0  0.368421   0.666667            1.0    0.328571     0.0   \n",
       "...    ...       ...        ...            ...         ...     ...   \n",
       "3651   1.0  0.684211   0.666667            0.0    0.000000     0.0   \n",
       "3652   1.0  0.947368   0.000000            0.0    0.000000     0.0   \n",
       "3653   1.0  0.473684   0.000000            1.0    0.014286     0.0   \n",
       "3654   1.0  0.500000   0.666667            1.0    0.614286     0.0   \n",
       "3655   0.0  0.526316   0.333333            0.0    0.000000     0.0   \n",
       "\n",
       "      prevalentStroke  prevalentHyp  diabetes   totChol     sysBP     diaBP  \\\n",
       "0                 0.0           0.0       0.0  0.168378  0.106383  0.232804   \n",
       "1                 0.0           0.0       0.0  0.281314  0.177305  0.349206   \n",
       "2                 0.0           0.0       0.0  0.271047  0.208038  0.338624   \n",
       "3                 0.0           1.0       0.0  0.229979  0.314421  0.497354   \n",
       "4                 0.0           0.0       0.0  0.353183  0.219858  0.380952   \n",
       "...               ...           ...       ...       ...       ...       ...   \n",
       "3651              0.0           1.0       0.0  0.151951  0.271868  0.349206   \n",
       "3652              0.0           1.0       0.0  0.129363  0.399527  0.518519   \n",
       "3653              0.0           1.0       0.0  0.410678  0.451537  0.465608   \n",
       "3654              0.0           0.0       0.0  0.193018  0.203310  0.338624   \n",
       "3655              0.0           0.0       0.0  0.320329  0.236407  0.370370   \n",
       "\n",
       "           BMI  heartRate   glucose  TenYearCHD  \n",
       "0     0.277024   0.363636  0.104520         0.0  \n",
       "1     0.319680   0.515152  0.101695         0.0  \n",
       "2     0.237518   0.313131  0.084746         0.0  \n",
       "3     0.316045   0.212121  0.177966         1.0  \n",
       "4     0.183228   0.414141  0.127119         0.0  \n",
       "...        ...        ...       ...         ...  \n",
       "3651  0.228308   0.363636  0.115819         0.0  \n",
       "3652  0.184198   0.161616  0.110169         1.0  \n",
       "3653  0.252787   0.222222  0.129944         1.0  \n",
       "3654  0.101066   0.212121  0.079096         0.0  \n",
       "3655  0.143723   0.363636  0.189266         0.0  \n",
       "\n",
       "[3656 rows x 16 columns]"
      ]
     },
     "execution_count": 10,
     "metadata": {},
     "output_type": "execute_result"
    }
   ],
   "source": [
    "data_hd"
   ]
  },
  {
   "cell_type": "markdown",
   "id": "7897e0d0-0ab3-41b8-97d1-0d9efc1659d4",
   "metadata": {},
   "source": [
    "Split data into train and test"
   ]
  },
  {
   "cell_type": "code",
   "execution_count": 11,
   "id": "6da0aa67-5fc9-4c71-8928-3d8f680cac75",
   "metadata": {},
   "outputs": [],
   "source": [
    "x = data_hd.drop('TenYearCHD', axis = 1)"
   ]
  },
  {
   "cell_type": "code",
   "execution_count": 12,
   "id": "f1172fda-9d08-4628-bba2-20d17bffc087",
   "metadata": {},
   "outputs": [],
   "source": [
    "y = data_hd.TenYearCHD"
   ]
  },
  {
   "cell_type": "code",
   "execution_count": 13,
   "id": "79407473-8977-4ee1-b1f6-18117804ba5c",
   "metadata": {},
   "outputs": [],
   "source": [
    "X_train, X_test, y_train, y_test = train_test_split(x, y, test_size=0.3, random_state=42)"
   ]
  },
  {
   "cell_type": "markdown",
   "id": "3ab971eb-9d0b-4290-9cbe-63d15bfe1056",
   "metadata": {},
   "source": [
    "### Binary Logistic Regression"
   ]
  },
  {
   "cell_type": "code",
   "execution_count": 14,
   "id": "2e9be997-8fe7-4eb1-8bc8-e4abd9ddf4d9",
   "metadata": {},
   "outputs": [],
   "source": [
    "clf = LogisticRegression(random_state=0).fit(X_train, y_train)"
   ]
  },
  {
   "cell_type": "code",
   "execution_count": 15,
   "id": "1544f5fa-6cd9-4ef0-a2e4-f6164ba533e4",
   "metadata": {},
   "outputs": [],
   "source": [
    "y_pred = clf.predict(X_test)"
   ]
  },
  {
   "cell_type": "code",
   "execution_count": 16,
   "id": "964c258a-c147-4e11-9057-ae744235682f",
   "metadata": {},
   "outputs": [],
   "source": [
    "y_pred_proba_test = clf.predict_proba(X_test)[::,1]\n",
    "fpr, tpr, _ = metrics.roc_curve(y_test,  y_pred_proba_test)"
   ]
  },
  {
   "cell_type": "code",
   "execution_count": 17,
   "id": "f33e648d-9e72-4620-8409-c9fece77072b",
   "metadata": {},
   "outputs": [
    {
     "data": {
      "image/png": "[encoded data removed]",
      "text/plain": [
       "<Figure size 576x396 with 1 Axes>"
      ]
     },
     "metadata": {},
     "output_type": "display_data"
    }
   ],
   "source": [
    "plt.plot(fpr,tpr, label = f\"Binary Logistic Regression AUC = {metrics.auc(fpr, tpr)}\")\n",
    "plt.ylabel('True Positive Rate')\n",
    "plt.xlabel('False Positive Rate')\n",
    "plt.legend()\n",
    "plt.show()"
   ]
  },
  {
   "cell_type": "code",
   "execution_count": 18,
   "id": "d4a7e38c-2efe-48dd-96e7-abea543dd5c9",
   "metadata": {},
   "outputs": [
    {
     "data": {
      "text/plain": [
       "array([[917,   6],\n",
       "       [161,  13]])"
      ]
     },
     "execution_count": 18,
     "metadata": {},
     "output_type": "execute_result"
    }
   ],
   "source": [
    "confusion_matrix(y_test, y_pred)"
   ]
  },
  {
   "cell_type": "markdown",
   "id": "2637e756-214b-4c75-a951-6ea251c5265a",
   "metadata": {},
   "source": [
    "### Multinomial Logistic Regression"
   ]
  },
  {
   "cell_type": "markdown",
   "id": "2f3ee7a1-ef92-449f-aeac-b2d36afaaf47",
   "metadata": {},
   "source": [
    "Here we want to do Multinomial Logistic Regression. But because TenYearCHD is the binomial data so we just try to predict the heartRate. I will be the heartRate under 0.3 is 0, 0.3-0.6 is 1 and 0.6-1 is 2"
   ]
  },
  {
   "cell_type": "code",
   "execution_count": 52,
   "id": "6f184dcd-1d8a-46ad-a811-1ffee4609cc1",
   "metadata": {},
   "outputs": [
    {
     "data": {
      "text/html": [
       "<div>\n",
       "<style scoped>\n",
       "    .dataframe tbody tr th:only-of-type {\n",
       "        vertical-align: middle;\n",
       "    }\n",
       "\n",
       "    .dataframe tbody tr th {\n",
       "        vertical-align: top;\n",
       "    }\n",
       "\n",
       "    .dataframe thead th {\n",
       "        text-align: right;\n",
       "    }\n",
       "</style>\n",
       "<table border=\"1\" class=\"dataframe\">\n",
       "  <thead>\n",
       "    <tr style=\"text-align: right;\">\n",
       "      <th></th>\n",
       "      <th>male</th>\n",
       "      <th>age</th>\n",
       "      <th>education</th>\n",
       "      <th>currentSmoker</th>\n",
       "      <th>cigsPerDay</th>\n",
       "      <th>BPMeds</th>\n",
       "      <th>prevalentStroke</th>\n",
       "      <th>prevalentHyp</th>\n",
       "      <th>diabetes</th>\n",
       "      <th>totChol</th>\n",
       "      <th>sysBP</th>\n",
       "      <th>diaBP</th>\n",
       "      <th>BMI</th>\n",
       "      <th>heartRate</th>\n",
       "      <th>glucose</th>\n",
       "      <th>TenYearCHD</th>\n",
       "    </tr>\n",
       "  </thead>\n",
       "  <tbody>\n",
       "    <tr>\n",
       "      <th>0</th>\n",
       "      <td>1.0</td>\n",
       "      <td>0.184211</td>\n",
       "      <td>1.000000</td>\n",
       "      <td>0.0</td>\n",
       "      <td>0.000000</td>\n",
       "      <td>0.0</td>\n",
       "      <td>0.0</td>\n",
       "      <td>0.0</td>\n",
       "      <td>0.0</td>\n",
       "      <td>0.168378</td>\n",
       "      <td>0.106383</td>\n",
       "      <td>0.232804</td>\n",
       "      <td>0.277024</td>\n",
       "      <td>0.363636</td>\n",
       "      <td>0.104520</td>\n",
       "      <td>0.0</td>\n",
       "    </tr>\n",
       "    <tr>\n",
       "      <th>1</th>\n",
       "      <td>0.0</td>\n",
       "      <td>0.368421</td>\n",
       "      <td>0.333333</td>\n",
       "      <td>0.0</td>\n",
       "      <td>0.000000</td>\n",
       "      <td>0.0</td>\n",
       "      <td>0.0</td>\n",
       "      <td>0.0</td>\n",
       "      <td>0.0</td>\n",
       "      <td>0.281314</td>\n",
       "      <td>0.177305</td>\n",
       "      <td>0.349206</td>\n",
       "      <td>0.319680</td>\n",
       "      <td>0.515152</td>\n",
       "      <td>0.101695</td>\n",
       "      <td>0.0</td>\n",
       "    </tr>\n",
       "    <tr>\n",
       "      <th>2</th>\n",
       "      <td>1.0</td>\n",
       "      <td>0.421053</td>\n",
       "      <td>0.000000</td>\n",
       "      <td>1.0</td>\n",
       "      <td>0.285714</td>\n",
       "      <td>0.0</td>\n",
       "      <td>0.0</td>\n",
       "      <td>0.0</td>\n",
       "      <td>0.0</td>\n",
       "      <td>0.271047</td>\n",
       "      <td>0.208038</td>\n",
       "      <td>0.338624</td>\n",
       "      <td>0.237518</td>\n",
       "      <td>0.313131</td>\n",
       "      <td>0.084746</td>\n",
       "      <td>0.0</td>\n",
       "    </tr>\n",
       "    <tr>\n",
       "      <th>3</th>\n",
       "      <td>0.0</td>\n",
       "      <td>0.763158</td>\n",
       "      <td>0.666667</td>\n",
       "      <td>1.0</td>\n",
       "      <td>0.428571</td>\n",
       "      <td>0.0</td>\n",
       "      <td>0.0</td>\n",
       "      <td>1.0</td>\n",
       "      <td>0.0</td>\n",
       "      <td>0.229979</td>\n",
       "      <td>0.314421</td>\n",
       "      <td>0.497354</td>\n",
       "      <td>0.316045</td>\n",
       "      <td>0.212121</td>\n",
       "      <td>0.177966</td>\n",
       "      <td>1.0</td>\n",
       "    </tr>\n",
       "    <tr>\n",
       "      <th>4</th>\n",
       "      <td>0.0</td>\n",
       "      <td>0.368421</td>\n",
       "      <td>0.666667</td>\n",
       "      <td>1.0</td>\n",
       "      <td>0.328571</td>\n",
       "      <td>0.0</td>\n",
       "      <td>0.0</td>\n",
       "      <td>0.0</td>\n",
       "      <td>0.0</td>\n",
       "      <td>0.353183</td>\n",
       "      <td>0.219858</td>\n",
       "      <td>0.380952</td>\n",
       "      <td>0.183228</td>\n",
       "      <td>0.414141</td>\n",
       "      <td>0.127119</td>\n",
       "      <td>0.0</td>\n",
       "    </tr>\n",
       "    <tr>\n",
       "      <th>...</th>\n",
       "      <td>...</td>\n",
       "      <td>...</td>\n",
       "      <td>...</td>\n",
       "      <td>...</td>\n",
       "      <td>...</td>\n",
       "      <td>...</td>\n",
       "      <td>...</td>\n",
       "      <td>...</td>\n",
       "      <td>...</td>\n",
       "      <td>...</td>\n",
       "      <td>...</td>\n",
       "      <td>...</td>\n",
       "      <td>...</td>\n",
       "      <td>...</td>\n",
       "      <td>...</td>\n",
       "      <td>...</td>\n",
       "    </tr>\n",
       "    <tr>\n",
       "      <th>3651</th>\n",
       "      <td>1.0</td>\n",
       "      <td>0.684211</td>\n",
       "      <td>0.666667</td>\n",
       "      <td>0.0</td>\n",
       "      <td>0.000000</td>\n",
       "      <td>0.0</td>\n",
       "      <td>0.0</td>\n",
       "      <td>1.0</td>\n",
       "      <td>0.0</td>\n",
       "      <td>0.151951</td>\n",
       "      <td>0.271868</td>\n",
       "      <td>0.349206</td>\n",
       "      <td>0.228308</td>\n",
       "      <td>0.363636</td>\n",
       "      <td>0.115819</td>\n",
       "      <td>0.0</td>\n",
       "    </tr>\n",
       "    <tr>\n",
       "      <th>3652</th>\n",
       "      <td>1.0</td>\n",
       "      <td>0.947368</td>\n",
       "      <td>0.000000</td>\n",
       "      <td>0.0</td>\n",
       "      <td>0.000000</td>\n",
       "      <td>0.0</td>\n",
       "      <td>0.0</td>\n",
       "      <td>1.0</td>\n",
       "      <td>0.0</td>\n",
       "      <td>0.129363</td>\n",
       "      <td>0.399527</td>\n",
       "      <td>0.518519</td>\n",
       "      <td>0.184198</td>\n",
       "      <td>0.161616</td>\n",
       "      <td>0.110169</td>\n",
       "      <td>1.0</td>\n",
       "    </tr>\n",
       "    <tr>\n",
       "      <th>3653</th>\n",
       "      <td>1.0</td>\n",
       "      <td>0.473684</td>\n",
       "      <td>0.000000</td>\n",
       "      <td>1.0</td>\n",
       "      <td>0.014286</td>\n",
       "      <td>0.0</td>\n",
       "      <td>0.0</td>\n",
       "      <td>1.0</td>\n",
       "      <td>0.0</td>\n",
       "      <td>0.410678</td>\n",
       "      <td>0.451537</td>\n",
       "      <td>0.465608</td>\n",
       "      <td>0.252787</td>\n",
       "      <td>0.222222</td>\n",
       "      <td>0.129944</td>\n",
       "      <td>1.0</td>\n",
       "    </tr>\n",
       "    <tr>\n",
       "      <th>3654</th>\n",
       "      <td>1.0</td>\n",
       "      <td>0.500000</td>\n",
       "      <td>0.666667</td>\n",
       "      <td>1.0</td>\n",
       "      <td>0.614286</td>\n",
       "      <td>0.0</td>\n",
       "      <td>0.0</td>\n",
       "      <td>0.0</td>\n",
       "      <td>0.0</td>\n",
       "      <td>0.193018</td>\n",
       "      <td>0.203310</td>\n",
       "      <td>0.338624</td>\n",
       "      <td>0.101066</td>\n",
       "      <td>0.212121</td>\n",
       "      <td>0.079096</td>\n",
       "      <td>0.0</td>\n",
       "    </tr>\n",
       "    <tr>\n",
       "      <th>3655</th>\n",
       "      <td>0.0</td>\n",
       "      <td>0.526316</td>\n",
       "      <td>0.333333</td>\n",
       "      <td>0.0</td>\n",
       "      <td>0.000000</td>\n",
       "      <td>0.0</td>\n",
       "      <td>0.0</td>\n",
       "      <td>0.0</td>\n",
       "      <td>0.0</td>\n",
       "      <td>0.320329</td>\n",
       "      <td>0.236407</td>\n",
       "      <td>0.370370</td>\n",
       "      <td>0.143723</td>\n",
       "      <td>0.363636</td>\n",
       "      <td>0.189266</td>\n",
       "      <td>0.0</td>\n",
       "    </tr>\n",
       "  </tbody>\n",
       "</table>\n",
       "<p>3656 rows × 16 columns</p>\n",
       "</div>"
      ],
      "text/plain": [
       "      male       age  education  currentSmoker  cigsPerDay  BPMeds  \\\n",
       "0      1.0  0.184211   1.000000            0.0    0.000000     0.0   \n",
       "1      0.0  0.368421   0.333333            0.0    0.000000     0.0   \n",
       "2      1.0  0.421053   0.000000            1.0    0.285714     0.0   \n",
       "3      0.0  0.763158   0.666667            1.0    0.428571     0.0   \n",
       "4      0.0  0.368421   0.666667            1.0    0.328571     0.0   \n",
       "...    ...       ...        ...            ...         ...     ...   \n",
       "3651   1.0  0.684211   0.666667            0.0    0.000000     0.0   \n",
       "3652   1.0  0.947368   0.000000            0.0    0.000000     0.0   \n",
       "3653   1.0  0.473684   0.000000            1.0    0.014286     0.0   \n",
       "3654   1.0  0.500000   0.666667            1.0    0.614286     0.0   \n",
       "3655   0.0  0.526316   0.333333            0.0    0.000000     0.0   \n",
       "\n",
       "      prevalentStroke  prevalentHyp  diabetes   totChol     sysBP     diaBP  \\\n",
       "0                 0.0           0.0       0.0  0.168378  0.106383  0.232804   \n",
       "1                 0.0           0.0       0.0  0.281314  0.177305  0.349206   \n",
       "2                 0.0           0.0       0.0  0.271047  0.208038  0.338624   \n",
       "3                 0.0           1.0       0.0  0.229979  0.314421  0.497354   \n",
       "4                 0.0           0.0       0.0  0.353183  0.219858  0.380952   \n",
       "...               ...           ...       ...       ...       ...       ...   \n",
       "3651              0.0           1.0       0.0  0.151951  0.271868  0.349206   \n",
       "3652              0.0           1.0       0.0  0.129363  0.399527  0.518519   \n",
       "3653              0.0           1.0       0.0  0.410678  0.451537  0.465608   \n",
       "3654              0.0           0.0       0.0  0.193018  0.203310  0.338624   \n",
       "3655              0.0           0.0       0.0  0.320329  0.236407  0.370370   \n",
       "\n",
       "           BMI  heartRate   glucose  TenYearCHD  \n",
       "0     0.277024   0.363636  0.104520         0.0  \n",
       "1     0.319680   0.515152  0.101695         0.0  \n",
       "2     0.237518   0.313131  0.084746         0.0  \n",
       "3     0.316045   0.212121  0.177966         1.0  \n",
       "4     0.183228   0.414141  0.127119         0.0  \n",
       "...        ...        ...       ...         ...  \n",
       "3651  0.228308   0.363636  0.115819         0.0  \n",
       "3652  0.184198   0.161616  0.110169         1.0  \n",
       "3653  0.252787   0.222222  0.129944         1.0  \n",
       "3654  0.101066   0.212121  0.079096         0.0  \n",
       "3655  0.143723   0.363636  0.189266         0.0  \n",
       "\n",
       "[3656 rows x 16 columns]"
      ]
     },
     "execution_count": 52,
     "metadata": {},
     "output_type": "execute_result"
    }
   ],
   "source": [
    "data2 = data_hd.copy()\n",
    "data2"
   ]
  },
  {
   "cell_type": "code",
   "execution_count": 53,
   "id": "275c1c0f-0669-4989-92e5-2e1e24dba9a4",
   "metadata": {},
   "outputs": [],
   "source": [
    "data2.heartRate = data2.heartRate.apply(lambda x:0 if x<0.3 else (1 if x<0.6 else 2))"
   ]
  },
  {
   "cell_type": "code",
   "execution_count": 54,
   "id": "284d5bfb-22f8-4c2a-b798-58177d9fd172",
   "metadata": {},
   "outputs": [],
   "source": [
    "xx = data2.drop(['TenYearCHD', 'heartRate'], axis = 1)"
   ]
  },
  {
   "cell_type": "code",
   "execution_count": 55,
   "id": "d58b25a9-8bba-4076-b2b0-3f5826621abf",
   "metadata": {},
   "outputs": [],
   "source": [
    "yy = data2.heartRate"
   ]
  },
  {
   "cell_type": "code",
   "execution_count": 56,
   "id": "0ef89f7f-2b48-408e-ae15-316dab1b8aa8",
   "metadata": {},
   "outputs": [],
   "source": [
    "XX_train, XX_test, yy_train, yy_test = train_test_split(xx, yy, test_size=0.3, random_state=42)"
   ]
  },
  {
   "cell_type": "code",
   "execution_count": 57,
   "id": "edf8e011-0d23-4e3b-a261-2e7a342be26d",
   "metadata": {},
   "outputs": [],
   "source": [
    "model = LogisticRegression(multi_class='multinomial', solver='lbfgs')"
   ]
  },
  {
   "cell_type": "code",
   "execution_count": 58,
   "id": "c8503317-df96-4bb1-913a-af6c2961a5c1",
   "metadata": {},
   "outputs": [
    {
     "data": {
      "text/plain": [
       "LogisticRegression(C=1.0, class_weight=None, dual=False, fit_intercept=True,\n",
       "                   intercept_scaling=1, l1_ratio=None, max_iter=100,\n",
       "                   multi_class='multinomial', n_jobs=None, penalty='l2',\n",
       "                   random_state=None, solver='lbfgs', tol=0.0001, verbose=0,\n",
       "                   warm_start=False)"
      ]
     },
     "execution_count": 58,
     "metadata": {},
     "output_type": "execute_result"
    }
   ],
   "source": [
    "model.fit(XX_train, yy_train)"
   ]
  },
  {
   "cell_type": "code",
   "execution_count": 59,
   "id": "e98ce9ad-cd66-4e76-90d5-9aa7ecc8c528",
   "metadata": {},
   "outputs": [],
   "source": [
    "yy_predict = model.predict(XX_test)"
   ]
  },
  {
   "cell_type": "code",
   "execution_count": 60,
   "id": "4f89e405-63ec-4f1a-8046-b29431066ce0",
   "metadata": {},
   "outputs": [
    {
     "name": "stdout",
     "output_type": "stream",
     "text": [
      "accuracy = 0.5697356426618049\n"
     ]
    }
   ],
   "source": [
    "print(f'accuracy = {len(yy_predict[yy_predict==yy_test])/len(yy_predict)}')"
   ]
  },
  {
   "cell_type": "code",
   "execution_count": 61,
   "id": "3adcc022-5ee6-4b45-9060-d603eaa7ba87",
   "metadata": {},
   "outputs": [],
   "source": [
    "n_class = len(yy.unique())"
   ]
  },
  {
   "cell_type": "code",
   "execution_count": 62,
   "id": "4150c179-ff95-4ed0-a11e-94512f744893",
   "metadata": {},
   "outputs": [],
   "source": [
    "y_pred_proba = model.predict_proba(XX_test)[::,1]"
   ]
  },
  {
   "cell_type": "code",
   "execution_count": 63,
   "id": "2c6edb36-2bb1-4089-8ca9-5412b56f9694",
   "metadata": {},
   "outputs": [],
   "source": [
    "from yellowbrick.classifier import ROCAUC\n",
    "from yellowbrick.datasets import load_game"
   ]
  },
  {
   "cell_type": "code",
   "execution_count": 64,
   "id": "ad053939-ca8a-4070-ad73-289d7d793549",
   "metadata": {},
   "outputs": [
    {
     "name": "stderr",
     "output_type": "stream",
     "text": [
      "/opt/anaconda3/envs/ml/lib/python3.8/site-packages/sklearn/base.py:193: FutureWarning: From version 0.24, get_params will raise an AttributeError if a parameter cannot be retrieved as an instance attribute. Previously it would return None.\n",
      "  warnings.warn('From version 0.24, get_params will raise an '\n"
     ]
    },
    {
     "data": {
      "image/png": "[encoded data removed]",
      "text/plain": [
       "<Figure size 576x396 with 1 Axes>"
      ]
     },
     "metadata": {},
     "output_type": "display_data"
    },
    {
     "data": {
      "text/plain": [
       "<AxesSubplot:title={'center':'ROC Curves for LogisticRegression'}, xlabel='False Positive Rate', ylabel='True Positive Rate'>"
      ]
     },
     "execution_count": 64,
     "metadata": {},
     "output_type": "execute_result"
    }
   ],
   "source": [
    "visualizer = ROCAUC(model, classes=[\"0\", \"1\", \"2\"])\n",
    "visualizer.fit(XX_train, yy_train) \n",
    "visualizer.score(XX_test, yy_test)\n",
    "visualizer.show()"
   ]
  },
  {
   "cell_type": "code",
   "execution_count": 65,
   "id": "86585f0f-e9aa-479b-a2ba-c54174317dee",
   "metadata": {},
   "outputs": [
    {
     "data": {
      "text/plain": [
       "array([[184, 300,   0],\n",
       "       [152, 441,   0],\n",
       "       [  1,  19,   0]])"
      ]
     },
     "execution_count": 65,
     "metadata": {},
     "output_type": "execute_result"
    }
   ],
   "source": [
    "confusion_matrix(yy_test, yy_predict)"
   ]
  },
  {
   "cell_type": "markdown",
   "id": "595c5d46-2749-485c-a495-ca7f0f1f0189",
   "metadata": {},
   "source": [
    "### Ordinal Logistic Regression"
   ]
  },
  {
   "cell_type": "code",
   "execution_count": 36,
   "id": "d931b6c0-80ca-4d25-855e-95281df8ad86",
   "metadata": {},
   "outputs": [],
   "source": [
    "from sklearn.linear_model import LinearRegression, LogisticRegression  \n",
    "from mord import LogisticAT    \n",
    "model_ordinal = LogisticAT(alpha=0)"
   ]
  },
  {
   "cell_type": "code",
   "execution_count": 46,
   "id": "53edec5c-84bd-4452-94b1-cdc1ddeb77db",
   "metadata": {},
   "outputs": [
    {
     "data": {
      "text/plain": [
       "LogisticAT(alpha=0, max_iter=1000, verbose=0)"
      ]
     },
     "execution_count": 46,
     "metadata": {},
     "output_type": "execute_result"
    }
   ],
   "source": [
    "model_ordinal.fit(X_train, y_train.astype(int))"
   ]
  },
  {
   "cell_type": "code",
   "execution_count": 48,
   "id": "d428c381-ab7e-4078-803b-084ec5da0be5",
   "metadata": {},
   "outputs": [],
   "source": [
    "predict = model_ordinal.predict(X_test)"
   ]
  },
  {
   "cell_type": "code",
   "execution_count": 49,
   "id": "ffcc317a-8a87-4a3c-9edb-4d8e8b3c1af8",
   "metadata": {},
   "outputs": [],
   "source": [
    "y_pred_proba_test = model_ordinal.predict_proba(X_test)[::,1]\n",
    "fpr, tpr, _ = metrics.roc_curve(y_test,  y_pred_proba_test)"
   ]
  },
  {
   "cell_type": "code",
   "execution_count": 50,
   "id": "2b5a4c22-d49a-4197-a94d-a042397031ed",
   "metadata": {},
   "outputs": [
    {
     "data": {
      "image/png": "[encoded data removed]",
      "text/plain": [
       "<Figure size 576x396 with 1 Axes>"
      ]
     },
     "metadata": {},
     "output_type": "display_data"
    }
   ],
   "source": [
    "plt.plot(fpr,tpr, label = f\"Binary Logistic Regression AUC = {metrics.auc(fpr, tpr)}\")\n",
    "plt.ylabel('True Positive Rate')\n",
    "plt.xlabel('False Positive Rate')\n",
    "plt.legend()\n",
    "plt.show()"
   ]
  },
  {
   "cell_type": "code",
   "execution_count": 51,
   "id": "ddbbef24-6d37-455a-968d-d550b508d27f",
   "metadata": {},
   "outputs": [
    {
     "data": {
      "text/plain": [
       "array([[912,  11],\n",
       "       [157,  17]])"
      ]
     },
     "execution_count": 51,
     "metadata": {},
     "output_type": "execute_result"
    }
   ],
   "source": [
    "confusion_matrix(y_test, predict)"
   ]
  },
  {
   "cell_type": "markdown",
   "id": "b3cf689a-7218-4197-ac97-a26bbb448bd1",
   "metadata": {},
   "source": [
    "### step3"
   ]
  },
  {
   "cell_type": "markdown",
   "id": "b2d9f405-15ce-4402-82eb-3a5043d002cc",
   "metadata": {},
   "source": [
    "A. Binary Logistic Regression:\n",
    "AUC = 0.70920\n",
    "Confusion Matrix = array([[917,   6],\n",
    "       [161,  13]])\n"
   ]
  },
  {
   "cell_type": "markdown",
   "id": "e9134cba-f00e-439d-8dcd-e82137fa781f",
   "metadata": {},
   "source": [
    "B. Multinomial Logistic Regression: AUC = 0.62-0.80 Confusion Matrix = array([[184, 300,   0],\n",
    "       [152, 441,   0],\n",
    "       [  1,  19,   0]])"
   ]
  },
  {
   "cell_type": "markdown",
   "id": "aaf0ccfc-cff0-423d-9eaf-c40ede4c0bec",
   "metadata": {},
   "source": [
    "C. Ordinal Logistic Regression: AUC = 0.707257 Confusion Matrix = array([[912,  11],\n",
    "       [157,  17]])"
   ]
  },
  {
   "cell_type": "markdown",
   "id": "182bd8b0-8a4c-449b-9a52-57b3fe47ac62",
   "metadata": {},
   "source": [
    "Here because the Multinomial Logistic Regression has three classes so I just compare the other two classes Logistic Regression.\n",
    "I think Binary Logistic Regression is best because it has a higher AUC and better Confusion Matrix. For example, its tp is higher."
   ]
  },
  {
   "cell_type": "markdown",
   "id": "0bbc2718-f250-4a5d-8a73-1db821375cc7",
   "metadata": {},
   "source": [
    "# Part C Clustering"
   ]
  },
  {
   "cell_type": "code",
   "execution_count": 176,
   "id": "233fbf97-9dd8-4e2e-b00e-30f60436181c",
   "metadata": {},
   "outputs": [
    {
     "data": {
      "text/html": [
       "<div>\n",
       "<style scoped>\n",
       "    .dataframe tbody tr th:only-of-type {\n",
       "        vertical-align: middle;\n",
       "    }\n",
       "\n",
       "    .dataframe tbody tr th {\n",
       "        vertical-align: top;\n",
       "    }\n",
       "\n",
       "    .dataframe thead th {\n",
       "        text-align: right;\n",
       "    }\n",
       "</style>\n",
       "<table border=\"1\" class=\"dataframe\">\n",
       "  <thead>\n",
       "    <tr style=\"text-align: right;\">\n",
       "      <th></th>\n",
       "      <th>ratio</th>\n",
       "      <th>New_deaths</th>\n",
       "    </tr>\n",
       "  </thead>\n",
       "  <tbody>\n",
       "    <tr>\n",
       "      <th>2</th>\n",
       "      <td>0.018847</td>\n",
       "      <td>0.404699</td>\n",
       "    </tr>\n",
       "    <tr>\n",
       "      <th>3</th>\n",
       "      <td>0.022103</td>\n",
       "      <td>0.384615</td>\n",
       "    </tr>\n",
       "    <tr>\n",
       "      <th>4</th>\n",
       "      <td>0.025881</td>\n",
       "      <td>0.451686</td>\n",
       "    </tr>\n",
       "    <tr>\n",
       "      <th>8</th>\n",
       "      <td>0.046147</td>\n",
       "      <td>0.604396</td>\n",
       "    </tr>\n",
       "    <tr>\n",
       "      <th>9</th>\n",
       "      <td>0.049283</td>\n",
       "      <td>0.406214</td>\n",
       "    </tr>\n",
       "    <tr>\n",
       "      <th>...</th>\n",
       "      <td>...</td>\n",
       "      <td>...</td>\n",
       "    </tr>\n",
       "    <tr>\n",
       "      <th>255</th>\n",
       "      <td>0.994439</td>\n",
       "      <td>0.497726</td>\n",
       "    </tr>\n",
       "    <tr>\n",
       "      <th>256</th>\n",
       "      <td>0.995766</td>\n",
       "      <td>0.197044</td>\n",
       "    </tr>\n",
       "    <tr>\n",
       "      <th>257</th>\n",
       "      <td>0.996999</td>\n",
       "      <td>0.531072</td>\n",
       "    </tr>\n",
       "    <tr>\n",
       "      <th>258</th>\n",
       "      <td>0.998475</td>\n",
       "      <td>0.358280</td>\n",
       "    </tr>\n",
       "    <tr>\n",
       "      <th>259</th>\n",
       "      <td>1.000000</td>\n",
       "      <td>0.000000</td>\n",
       "    </tr>\n",
       "  </tbody>\n",
       "</table>\n",
       "<p>247 rows × 2 columns</p>\n",
       "</div>"
      ],
      "text/plain": [
       "        ratio  New_deaths\n",
       "2    0.018847    0.404699\n",
       "3    0.022103    0.384615\n",
       "4    0.025881    0.451686\n",
       "8    0.046147    0.604396\n",
       "9    0.049283    0.406214\n",
       "..        ...         ...\n",
       "255  0.994439    0.497726\n",
       "256  0.995766    0.197044\n",
       "257  0.996999    0.531072\n",
       "258  0.998475    0.358280\n",
       "259  1.000000    0.000000\n",
       "\n",
       "[247 rows x 2 columns]"
      ]
     },
     "execution_count": 176,
     "metadata": {},
     "output_type": "execute_result"
    }
   ],
   "source": [
    "data1"
   ]
  },
  {
   "cell_type": "code",
   "execution_count": 178,
   "id": "9462ccf5-e59a-408f-b1e2-cbd53ffad48d",
   "metadata": {},
   "outputs": [
    {
     "data": {
      "image/png": "[encoded data removed]",
      "text/plain": [
       "<Figure size 432x288 with 1 Axes>"
      ]
     },
     "metadata": {},
     "output_type": "display_data"
    }
   ],
   "source": [
    "plt.scatter(data1.ratio, data1.New_deaths)\n",
    "plt.show()"
   ]
  },
  {
   "cell_type": "code",
   "execution_count": 211,
   "id": "1490c6b1-280d-4a3b-a46d-a55ac16a0259",
   "metadata": {},
   "outputs": [],
   "source": [
    "from sklearn import mixture"
   ]
  },
  {
   "cell_type": "code",
   "execution_count": 216,
   "id": "a3f59bdf-25a5-4a60-bd3d-1ebcf68fd0f1",
   "metadata": {},
   "outputs": [],
   "source": [
    "model = mixture.GaussianMixture(n_components=4, covariance_type='full')"
   ]
  },
  {
   "cell_type": "code",
   "execution_count": 217,
   "id": "3b224632-8876-4c8f-9404-a2251ed70acd",
   "metadata": {},
   "outputs": [
    {
     "data": {
      "text/plain": [
       "GaussianMixture(n_components=4)"
      ]
     },
     "execution_count": 217,
     "metadata": {},
     "output_type": "execute_result"
    }
   ],
   "source": [
    "model.fit(data1)"
   ]
  },
  {
   "cell_type": "code",
   "execution_count": 218,
   "id": "5f685909-c2c7-4b3e-8c90-8dcb65f7432e",
   "metadata": {},
   "outputs": [],
   "source": [
    "predict_label = model.predict(data1)"
   ]
  },
  {
   "cell_type": "code",
   "execution_count": 219,
   "id": "d6e08891-f739-4983-8bed-50c78b46bfea",
   "metadata": {},
   "outputs": [
    {
     "data": {
      "image/png": "[encoded data removed]",
      "text/plain": [
       "<Figure size 432x288 with 1 Axes>"
      ]
     },
     "metadata": {},
     "output_type": "display_data"
    }
   ],
   "source": [
    "for i in range(len(predict_label)):\n",
    "    if predict_label[i] == 1:\n",
    "        plt.scatter(data1.ratio.iloc[i], data1.New_deaths.iloc[i], color = '#FF0000')\n",
    "    else:\n",
    "        plt.scatter(data1.ratio.iloc[i], data1.New_deaths.iloc[i], color = '#00FF00')\n",
    "plt.show()"
   ]
  },
  {
   "cell_type": "markdown",
   "id": "a6bcfa8b-9603-4f3f-8f01-d10d26018522",
   "metadata": {},
   "source": [
    "Here I choose Gaussian Mixture to cluster the data because it can batter to cluster the line data. By using clustering, we can delete the red data by deleting the data which predict labels equal 1. Then we can get a better linear model about vaccine and death."
   ]
  },
  {
   "cell_type": "markdown",
   "id": "52966396-585f-49fc-8408-846c6fffb551",
   "metadata": {},
   "source": [
    "I learn different models can suit different datasets. Choosing a suitable model is important for our predicting work. Sometimes we can combine several models to help me work better."
   ]
  }
 ],
 "metadata": {
  "kernelspec": {
   "display_name": "Python 3",
   "language": "python",
   "name": "python3"
  },
  "language_info": {
   "codemirror_mode": {
    "name": "ipython",
    "version": 3
   },
   "file_extension": ".py",
   "mimetype": "text/x-python",
   "name": "python",
   "nbconvert_exporter": "python",
   "pygments_lexer": "ipython3",
   "version": "3.8.0"
  }
 },
 "nbformat": 4,
 "nbformat_minor": 5
}
