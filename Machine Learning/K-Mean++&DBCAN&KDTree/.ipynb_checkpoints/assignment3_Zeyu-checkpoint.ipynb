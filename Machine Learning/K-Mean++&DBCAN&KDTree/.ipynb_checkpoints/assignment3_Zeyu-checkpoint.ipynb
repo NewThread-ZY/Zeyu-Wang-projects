{
 "cells": [
  {
   "cell_type": "code",
   "execution_count": 3227,
   "id": "09c992e7",
   "metadata": {},
   "outputs": [],
   "source": [
    "import numpy as np\n",
    "import matplotlib.pyplot as plt\n",
    "from collections import deque\n",
    "import pandas as pd\n",
    "import random\n",
    "from scipy.spatial import KDTree\n",
    "import warnings\n",
    "from scipy.spatial import KDTree\n",
    "import time\n",
    "warnings.filterwarnings('ignore')"
   ]
  },
  {
   "cell_type": "markdown",
   "id": "299295e4",
   "metadata": {},
   "source": [
    "# 1. K-Mean++"
   ]
  },
  {
   "cell_type": "code",
   "execution_count": 3049,
   "id": "3eb5f8fa",
   "metadata": {},
   "outputs": [],
   "source": [
    "as31 = pd.read_csv('as3_1.txt', sep = '\\t', header = None)"
   ]
  },
  {
   "cell_type": "code",
   "execution_count": 3050,
   "id": "e00f1205",
   "metadata": {},
   "outputs": [
    {
     "data": {
      "text/html": [
       "<div>\n",
       "<style scoped>\n",
       "    .dataframe tbody tr th:only-of-type {\n",
       "        vertical-align: middle;\n",
       "    }\n",
       "\n",
       "    .dataframe tbody tr th {\n",
       "        vertical-align: top;\n",
       "    }\n",
       "\n",
       "    .dataframe thead th {\n",
       "        text-align: right;\n",
       "    }\n",
       "</style>\n",
       "<table border=\"1\" class=\"dataframe\">\n",
       "  <thead>\n",
       "    <tr style=\"text-align: right;\">\n",
       "      <th></th>\n",
       "      <th>0</th>\n",
       "      <th>1</th>\n",
       "      <th>2</th>\n",
       "    </tr>\n",
       "  </thead>\n",
       "  <tbody>\n",
       "    <tr>\n",
       "      <th>0</th>\n",
       "      <td>25.0514</td>\n",
       "      <td>5.7475</td>\n",
       "      <td>1</td>\n",
       "    </tr>\n",
       "    <tr>\n",
       "      <th>1</th>\n",
       "      <td>26.6614</td>\n",
       "      <td>7.3414</td>\n",
       "      <td>1</td>\n",
       "    </tr>\n",
       "    <tr>\n",
       "      <th>2</th>\n",
       "      <td>25.2653</td>\n",
       "      <td>6.2466</td>\n",
       "      <td>1</td>\n",
       "    </tr>\n",
       "    <tr>\n",
       "      <th>3</th>\n",
       "      <td>25.2285</td>\n",
       "      <td>4.7447</td>\n",
       "      <td>1</td>\n",
       "    </tr>\n",
       "    <tr>\n",
       "      <th>4</th>\n",
       "      <td>25.7529</td>\n",
       "      <td>5.1564</td>\n",
       "      <td>1</td>\n",
       "    </tr>\n",
       "    <tr>\n",
       "      <th>...</th>\n",
       "      <td>...</td>\n",
       "      <td>...</td>\n",
       "      <td>...</td>\n",
       "    </tr>\n",
       "    <tr>\n",
       "      <th>3095</th>\n",
       "      <td>5.1380</td>\n",
       "      <td>16.6150</td>\n",
       "      <td>31</td>\n",
       "    </tr>\n",
       "    <tr>\n",
       "      <th>3096</th>\n",
       "      <td>5.7360</td>\n",
       "      <td>16.9991</td>\n",
       "      <td>31</td>\n",
       "    </tr>\n",
       "    <tr>\n",
       "      <th>3097</th>\n",
       "      <td>5.2760</td>\n",
       "      <td>17.2475</td>\n",
       "      <td>31</td>\n",
       "    </tr>\n",
       "    <tr>\n",
       "      <th>3098</th>\n",
       "      <td>6.4444</td>\n",
       "      <td>16.2033</td>\n",
       "      <td>31</td>\n",
       "    </tr>\n",
       "    <tr>\n",
       "      <th>3099</th>\n",
       "      <td>7.1620</td>\n",
       "      <td>18.1836</td>\n",
       "      <td>31</td>\n",
       "    </tr>\n",
       "  </tbody>\n",
       "</table>\n",
       "<p>3100 rows × 3 columns</p>\n",
       "</div>"
      ],
      "text/plain": [
       "            0        1   2\n",
       "0     25.0514   5.7475   1\n",
       "1     26.6614   7.3414   1\n",
       "2     25.2653   6.2466   1\n",
       "3     25.2285   4.7447   1\n",
       "4     25.7529   5.1564   1\n",
       "...       ...      ...  ..\n",
       "3095   5.1380  16.6150  31\n",
       "3096   5.7360  16.9991  31\n",
       "3097   5.2760  17.2475  31\n",
       "3098   6.4444  16.2033  31\n",
       "3099   7.1620  18.1836  31\n",
       "\n",
       "[3100 rows x 3 columns]"
      ]
     },
     "execution_count": 3050,
     "metadata": {},
     "output_type": "execute_result"
    }
   ],
   "source": [
    "as31"
   ]
  },
  {
   "cell_type": "code",
   "execution_count": 3051,
   "id": "ce3d8395",
   "metadata": {},
   "outputs": [
    {
     "data": {
      "text/plain": [
       "<matplotlib.collections.PathCollection at 0x7fd1a8e8e130>"
      ]
     },
     "execution_count": 3051,
     "metadata": {},
     "output_type": "execute_result"
    },
    {
     "data": {
      "image/png": "[encoded data removed]",
      "text/plain": [
       "<Figure size 432x288 with 1 Axes>"
      ]
     },
     "metadata": {
      "needs_background": "light"
     },
     "output_type": "display_data"
    }
   ],
   "source": [
    "plt.scatter(as31[0], as31[1], color = 'g')"
   ]
  },
  {
   "cell_type": "code",
   "execution_count": 3052,
   "id": "2e6ded42",
   "metadata": {},
   "outputs": [
    {
     "data": {
      "text/plain": [
       "31"
      ]
     },
     "execution_count": 3052,
     "metadata": {},
     "output_type": "execute_result"
    }
   ],
   "source": [
    "k_num = len(as31[2].value_counts())\n",
    "k_num"
   ]
  },
  {
   "cell_type": "code",
   "execution_count": 3053,
   "id": "5d5c0d2a",
   "metadata": {},
   "outputs": [],
   "source": [
    "def calculate_disatnce(point1, point2):\n",
    "    return ((point1[0]-point2[0])**2+(point1[1]-point2[1])**2)**(1/2)"
   ]
  },
  {
   "cell_type": "code",
   "execution_count": 3065,
   "id": "aec9d1f5",
   "metadata": {},
   "outputs": [],
   "source": [
    "def myInit(x, y, k):\n",
    "    n = len(x)\n",
    "    first = np.random.randint(n)\n",
    "    first_cent = (x[first], y[first])\n",
    "    cent = []\n",
    "    cent.append(first_cent)\n",
    "    for k in range(k-1):\n",
    "        distant = []\n",
    "        for i in range(len(x)):\n",
    "            point_centroid = []\n",
    "            for j in cent:\n",
    "                point_centroid.append(calculate_disatnce((x[i], y[i]), j))\n",
    "            point_centroid = np.array(point_centroid)\n",
    "            if k ==0:\n",
    "                possile_pick = point_centroid.max()\n",
    "            else:\n",
    "                possile_pick = point_centroid.min()/point_centroid.sum()\n",
    "            distant.append(possile_pick)\n",
    "        distant = np.array(distant)\n",
    "        \n",
    "        maxpossile = np.argmax(distant)    \n",
    "        while (x[maxpossile], y[maxpossile]) in cent:\n",
    "            distant[maxpossile]=-1\n",
    "            maxpossile = np.argmax(distant)\n",
    "        cent.append((x[maxpossile], y[maxpossile]))\n",
    "    return cent"
   ]
  },
  {
   "cell_type": "code",
   "execution_count": 3066,
   "id": "1b8fe250",
   "metadata": {},
   "outputs": [],
   "source": [
    "cen = myInit(as31[0], as31[1], 31)"
   ]
  },
  {
   "cell_type": "code",
   "execution_count": 3071,
   "id": "8c5f32aa",
   "metadata": {},
   "outputs": [],
   "source": [
    "cen = np.array(cen)\n",
    "cen_x = cen[:,0]\n",
    "cen_y = cen[:,1]"
   ]
  },
  {
   "cell_type": "code",
   "execution_count": 3072,
   "id": "1b9c336b",
   "metadata": {},
   "outputs": [
    {
     "data": {
      "text/plain": [
       "<matplotlib.collections.PathCollection at 0x7fd1dcb2adf0>"
      ]
     },
     "execution_count": 3072,
     "metadata": {},
     "output_type": "execute_result"
    },
    {
     "data": {
      "image/png": "[encoded data removed]",
      "text/plain": [
       "<Figure size 432x288 with 1 Axes>"
      ]
     },
     "metadata": {
      "needs_background": "light"
     },
     "output_type": "display_data"
    }
   ],
   "source": [
    "plt.scatter(as31[0], as31[1], color = 'g')\n",
    "plt.scatter(cen_x, cen_y, color = 'r')"
   ]
  },
  {
   "cell_type": "code",
   "execution_count": 3073,
   "id": "c1011246",
   "metadata": {},
   "outputs": [],
   "source": [
    "def myUpdateCentroid(center):\n",
    "    return center"
   ]
  },
  {
   "cell_type": "code",
   "execution_count": 3074,
   "id": "013a6968",
   "metadata": {},
   "outputs": [],
   "source": [
    "def myCentroid(x, y, group):\n",
    "    centerr = []\n",
    "    for grou in group:\n",
    "        xx = 0\n",
    "        yx = 0\n",
    "        for i in grou:\n",
    "            n = len(i)\n",
    "            for j in i:\n",
    "                xx += x[j]\n",
    "                yx += y[j]  \n",
    "        centerr.append((xx/n, yx/n))\n",
    "    return centerr"
   ]
  },
  {
   "cell_type": "code",
   "execution_count": 3075,
   "id": "9bcc4d8b",
   "metadata": {},
   "outputs": [],
   "source": [
    "def myAssign(x, y, center, group):\n",
    "    lebel = [-1 for i in range(len(x))]\n",
    "    center_label = {}\n",
    "    for i in range(len(x)):\n",
    "        point_center = []\n",
    "        isself = False\n",
    "        for k in center:\n",
    "            if calculate_disatnce((x[i], y[i]), k)==0:\n",
    "                isself = True\n",
    "            point_center.append(calculate_disatnce((x[i], y[i]), k))\n",
    "        if isself==True:\n",
    "            continue\n",
    "        point_center = np.array(point_center)\n",
    "        nearest = np.argmin(point_center)\n",
    "        if center[nearest] in center_label.keys():\n",
    "            lebel[i] = center_label[center[nearest]]\n",
    "        else:\n",
    "            lebel[i] = (len(center_label.keys())+1)\n",
    "            index = -1\n",
    "            for p in range(len(x)):\n",
    "                if x[p]== center[nearest][0] and y[p]== center[nearest][1]:\n",
    "                    index = p\n",
    "            if index != -1:\n",
    "                lebel[index] = (len(center_label.keys())+1)\n",
    "            center_label[center[nearest]] = (len(center_label.keys())+1)\n",
    "    return(lebel)"
   ]
  },
  {
   "cell_type": "code",
   "execution_count": 3076,
   "id": "e1564a68",
   "metadata": {},
   "outputs": [],
   "source": [
    "def myKmeanPlusPlus(k, myTol, myMax):\n",
    "    center = myInit(as31[0], as31[1], k)\n",
    "    group = [-1]\n",
    "    label0 = [-1 for i in range(len(data))]\n",
    "    label = myAssign(as31[0], as31[1], center, group)\n",
    "    iterations = 0\n",
    "    group1 = []\n",
    "    for i in np.unique(label):\n",
    "        group1.append(np.where(label==i))\n",
    "    center = myCentroid(as31[0], as31[1], group1)\n",
    "    center = myUpdateCentroid(center)\n",
    "    group = np.array(group)\n",
    "    group1 = group1\n",
    "    comparison = (group == group1)\n",
    "    tol = np.Inf\n",
    "    while (iterations>myMax or np.array_equal(group, group1) or tol<myTol) == False:\n",
    "        label0 = label\n",
    "        label = myAssign(as31[0], as31[1], center, group1)\n",
    "        group = group1\n",
    "        group1 = []\n",
    "        for i in np.unique(label):\n",
    "            group1.append(np.where(label==i))\n",
    "        center = myCentroid(as31[0], as31[1], group1)\n",
    "        center = myUpdateCentroid(center)\n",
    "        iterations+=1\n",
    "        group = group\n",
    "        group1 = group1\n",
    "        label0_np = np.array(label0)\n",
    "        label_np = np.array(label)\n",
    "        tol = len(label0_np[label0_np!=label_np])\n",
    "        print(f'{tol} points are different from the last iteration')\n",
    "    print(f'-----{iterations} times iteration-----')\n",
    "    return group1"
   ]
  },
  {
   "cell_type": "code",
   "execution_count": 3077,
   "id": "5921d1dd",
   "metadata": {},
   "outputs": [],
   "source": [
    "def myPlot(clustering):\n",
    "    color = [\"#\"+''.join([random.choice('0123456789ABCDEF') for j in range(6)])\n",
    "             for i in range(len(clustering))]\n",
    "    for i in range(len(clustering)):\n",
    "        for j in clustering[i]:\n",
    "            plt.scatter(as31[0][j], as31[1][j], c = color[i])"
   ]
  },
  {
   "cell_type": "code",
   "execution_count": 3078,
   "id": "8150d397",
   "metadata": {},
   "outputs": [
    {
     "name": "stdout",
     "output_type": "stream",
     "text": [
      "1942 points are different from the last iteration\n",
      "1556 points are different from the last iteration\n",
      "2176 points are different from the last iteration\n",
      "1195 points are different from the last iteration\n",
      "2376 points are different from the last iteration\n",
      "20 points are different from the last iteration\n",
      "2074 points are different from the last iteration\n",
      "17 points are different from the last iteration\n",
      "9 points are different from the last iteration\n",
      "86 points are different from the last iteration\n",
      "3 points are different from the last iteration\n",
      "0 points are different from the last iteration\n",
      "-----12 times iteration-----\n"
     ]
    },
    {
     "data": {
      "image/png": "[encoded data removed]",
      "text/plain": [
       "<Figure size 432x288 with 1 Axes>"
      ]
     },
     "metadata": {
      "needs_background": "light"
     },
     "output_type": "display_data"
    }
   ],
   "source": [
    "clustering = myKmeanPlusPlus(44, 2, 100)\n",
    "myPlot(clustering)"
   ]
  },
  {
   "cell_type": "code",
   "execution_count": 3079,
   "id": "e2b983f1",
   "metadata": {},
   "outputs": [
    {
     "name": "stdout",
     "output_type": "stream",
     "text": [
      "2454 points are different from the last iteration\n",
      "1650 points are different from the last iteration\n",
      "869 points are different from the last iteration\n",
      "2137 points are different from the last iteration\n",
      "10 points are different from the last iteration\n",
      "7 points are different from the last iteration\n",
      "2 points are different from the last iteration\n",
      "2 points are different from the last iteration\n",
      "2 points are different from the last iteration\n",
      "2 points are different from the last iteration\n",
      "2 points are different from the last iteration\n",
      "1 points are different from the last iteration\n",
      "-----12 times iteration-----\n"
     ]
    },
    {
     "data": {
      "image/png": "[encoded data removed]",
      "text/plain": [
       "<Figure size 432x288 with 1 Axes>"
      ]
     },
     "metadata": {
      "needs_background": "light"
     },
     "output_type": "display_data"
    }
   ],
   "source": [
    "clustering = myKmeanPlusPlus(31, 2, 100)\n",
    "myPlot(clustering)"
   ]
  },
  {
   "cell_type": "code",
   "execution_count": 3080,
   "id": "0f2bbaa7",
   "metadata": {},
   "outputs": [
    {
     "name": "stdout",
     "output_type": "stream",
     "text": [
      "978 points are different from the last iteration\n",
      "1917 points are different from the last iteration\n",
      "284 points are different from the last iteration\n",
      "69 points are different from the last iteration\n",
      "259 points are different from the last iteration\n",
      "393 points are different from the last iteration\n",
      "34 points are different from the last iteration\n",
      "312 points are different from the last iteration\n",
      "404 points are different from the last iteration\n",
      "20 points are different from the last iteration\n",
      "18 points are different from the last iteration\n",
      "18 points are different from the last iteration\n",
      "22 points are different from the last iteration\n",
      "25 points are different from the last iteration\n",
      "27 points are different from the last iteration\n",
      "19 points are different from the last iteration\n",
      "14 points are different from the last iteration\n",
      "14 points are different from the last iteration\n",
      "10 points are different from the last iteration\n",
      "923 points are different from the last iteration\n",
      "2 points are different from the last iteration\n",
      "0 points are different from the last iteration\n",
      "-----22 times iteration-----\n"
     ]
    },
    {
     "data": {
      "image/png": "[encoded data removed]",
      "text/plain": [
       "<Figure size 432x288 with 1 Axes>"
      ]
     },
     "metadata": {
      "needs_background": "light"
     },
     "output_type": "display_data"
    }
   ],
   "source": [
    "clustering = myKmeanPlusPlus(20, 2, 100)\n",
    "myPlot(clustering)"
   ]
  },
  {
   "cell_type": "code",
   "execution_count": 3081,
   "id": "818ab573",
   "metadata": {},
   "outputs": [
    {
     "name": "stdout",
     "output_type": "stream",
     "text": [
      "237 points are different from the last iteration\n",
      "322 points are different from the last iteration\n",
      "374 points are different from the last iteration\n",
      "231 points are different from the last iteration\n",
      "69 points are different from the last iteration\n",
      "30 points are different from the last iteration\n",
      "20 points are different from the last iteration\n",
      "21 points are different from the last iteration\n",
      "28 points are different from the last iteration\n",
      "43 points are different from the last iteration\n",
      "60 points are different from the last iteration\n",
      "80 points are different from the last iteration\n",
      "111 points are different from the last iteration\n",
      "89 points are different from the last iteration\n",
      "77 points are different from the last iteration\n",
      "46 points are different from the last iteration\n",
      "43 points are different from the last iteration\n",
      "41 points are different from the last iteration\n",
      "52 points are different from the last iteration\n",
      "43 points are different from the last iteration\n",
      "42 points are different from the last iteration\n",
      "45 points are different from the last iteration\n",
      "41 points are different from the last iteration\n",
      "76 points are different from the last iteration\n",
      "127 points are different from the last iteration\n",
      "101 points are different from the last iteration\n",
      "32 points are different from the last iteration\n",
      "13 points are different from the last iteration\n",
      "3 points are different from the last iteration\n",
      "1 points are different from the last iteration\n",
      "-----30 times iteration-----\n"
     ]
    },
    {
     "data": {
      "image/png": "[encoded data removed]",
      "text/plain": [
       "<Figure size 432x288 with 1 Axes>"
      ]
     },
     "metadata": {
      "needs_background": "light"
     },
     "output_type": "display_data"
    }
   ],
   "source": [
    "clustering = myKmeanPlusPlus(3, 2, 100)\n",
    "myPlot(clustering)"
   ]
  },
  {
   "cell_type": "markdown",
   "id": "55108c5c",
   "metadata": {},
   "source": [
    "# 2 DBSCAN"
   ]
  },
  {
   "cell_type": "code",
   "execution_count": 3255,
   "id": "2cf8c35b",
   "metadata": {},
   "outputs": [],
   "source": [
    "as3_2 = np.genfromtxt('as3_2.csv', delimiter=',')"
   ]
  },
  {
   "cell_type": "code",
   "execution_count": 3256,
   "id": "27716ef5",
   "metadata": {},
   "outputs": [
    {
     "data": {
      "text/plain": [
       "array([[27.7 , 20.85,  1.  ],\n",
       "       [29.9 , 19.95,  1.  ],\n",
       "       [26.8 , 19.05,  1.  ],\n",
       "       ...,\n",
       "       [15.6 ,  9.45,  6.  ],\n",
       "       [15.3 ,  9.15,  6.  ],\n",
       "       [15.1 ,  9.55,  6.  ]])"
      ]
     },
     "execution_count": 3256,
     "metadata": {},
     "output_type": "execute_result"
    }
   ],
   "source": [
    "as3_2"
   ]
  },
  {
   "cell_type": "code",
   "execution_count": 3378,
   "id": "08ecebca",
   "metadata": {},
   "outputs": [],
   "source": [
    "def getLabel(data):\n",
    "    '''\n",
    "    This function require input a two dimension array.\n",
    "    ---------------------------------------------------\n",
    "    This function will extract the label from data set and return a label list\n",
    "    '''\n",
    "    return data[:,2]"
   ]
  },
  {
   "cell_type": "code",
   "execution_count": 3379,
   "id": "6f0d7e3f",
   "metadata": {},
   "outputs": [],
   "source": [
    "def getDate(data):\n",
    "    '''\n",
    "    This function require input a two dimension array.\n",
    "    ---------------------------------------------------\n",
    "    This function will extract the label from data set and return x and y list\n",
    "    '''\n",
    "    x = []\n",
    "    y = []\n",
    "    for i in data:\n",
    "        x.append(i[0])\n",
    "        y.append(i[1])\n",
    "    return x,y"
   ]
  },
  {
   "cell_type": "code",
   "execution_count": 3555,
   "id": "584a08a8",
   "metadata": {},
   "outputs": [],
   "source": [
    "label = getLabel(as3_2)\n",
    "x, y = getDate(as3_2)"
   ]
  },
  {
   "cell_type": "code",
   "execution_count": 3381,
   "id": "0551a74f",
   "metadata": {},
   "outputs": [
    {
     "data": {
      "image/png": "[encoded data removed]",
      "text/plain": [
       "<Figure size 432x288 with 1 Axes>"
      ]
     },
     "metadata": {
      "needs_background": "light"
     },
     "output_type": "display_data"
    }
   ],
   "source": [
    "plt.figure()\n",
    "plt.scatter(x,y,marker='o', c='g')\n",
    "plt.xlabel(\"x\")\n",
    "plt.ylabel(\"y\")\n",
    "plt.show();"
   ]
  },
  {
   "cell_type": "code",
   "execution_count": 3382,
   "id": "548ba1cc",
   "metadata": {},
   "outputs": [],
   "source": [
    "lists = [i for i in range(len(x))]\n",
    "listss = []\n",
    "for i in range(len(lists)):\n",
    "    listss.append(lists)"
   ]
  },
  {
   "cell_type": "code",
   "execution_count": 3383,
   "id": "e1dd509f",
   "metadata": {},
   "outputs": [],
   "source": [
    "class Queue(object):\n",
    "    def __init__(self):\n",
    "        self._deque = deque()\n",
    "    def push(self, value):\n",
    "        return self._deque.append(value)\n",
    "    def pop(self):\n",
    "        return self._deque.popleft()\n",
    "    def __len__(self):\n",
    "        return len(self._deque)"
   ]
  },
  {
   "cell_type": "code",
   "execution_count": 3384,
   "id": "61064e20",
   "metadata": {},
   "outputs": [],
   "source": [
    "def BFS(graph, start):\n",
    "    queue = Queue()\n",
    "    queue.push(start)\n",
    "    search = set()\n",
    "    while queue:\n",
    "        node = queue.pop()\n",
    "        if node not in search:\n",
    "            search.add(node)\n",
    "            if node in graph.keys():\n",
    "                for nodes in graph[node]:\n",
    "                    queue.push(nodes)\n",
    "    return search"
   ]
  },
  {
   "cell_type": "code",
   "execution_count": 3385,
   "id": "96edc067",
   "metadata": {},
   "outputs": [],
   "source": [
    "def getDBSCAN(x, y, epsilon, minPoints):\n",
    "    core = dict()\n",
    "    noise = []\n",
    "    cluster = []\n",
    "    for i in range(len(x)):\n",
    "        x_tempt = []\n",
    "        for j in range(len(x)):\n",
    "            if i!=j:\n",
    "                if (((y[j]-y[i])**2+(x[j]-x[i])**2)**(1/2)) < epsilon:\n",
    "                    x_tempt.append(j)\n",
    "        if len(x_tempt)<minPoints:\n",
    "            noise.append(i)\n",
    "        else:\n",
    "            core[i] = x_tempt\n",
    "    index = [iiii for iiii in range(len(x))]\n",
    "    cluster_temp = []\n",
    "    \n",
    "    noise = set(noise)\n",
    "    index = set(index)\n",
    "    index_incore = set()\n",
    "    index_incore.update(core.keys())  \n",
    "    index_incore = list(index_incore)\n",
    "    for ii in index_incore:\n",
    "        asin = True\n",
    "        for jj in cluster:\n",
    "            for kk in jj:\n",
    "                if ii == kk:\n",
    "                    asin = False\n",
    "        if asin == True:\n",
    "            clust = []\n",
    "            set_cluster = BFS(core, ii)\n",
    "            isexist = False\n",
    "            set_cluster = list(set_cluster)\n",
    "            for jjj in cluster:\n",
    "                for kkk in jjj:\n",
    "                    if set_cluster[0]== kkk[0]:\n",
    "                        isexist = True\n",
    "            if isexist==False:\n",
    "                clust.append(set_cluster)\n",
    "                cluster.append(clust)\n",
    "    return cluster"
   ]
  },
  {
   "cell_type": "code",
   "execution_count": 3386,
   "id": "144dbfbe",
   "metadata": {},
   "outputs": [],
   "source": [
    "def get_predictLebale(x, cluster):\n",
    "    label = [-1 for i in range(len(x))]\n",
    "    cluster_label = [-1 for i in range(len(cluster))]\n",
    "    cluster_label_count = 0\n",
    "    for i in range(len(x)):\n",
    "        for j in range(len(cluster)):\n",
    "            if i in cluster[j][0]:\n",
    "                if cluster_label[j]==-1:\n",
    "                    cluster_label_count += 1\n",
    "                    label[i] = cluster_label_count\n",
    "                    cluster_label[j] = cluster_label_count\n",
    "                else:\n",
    "                    label[i] = cluster_label[j]\n",
    "    label = np.array(label)+1\n",
    "    return label"
   ]
  },
  {
   "cell_type": "code",
   "execution_count": 3387,
   "id": "79061126",
   "metadata": {},
   "outputs": [
    {
     "data": {
      "text/plain": [
       "array([[27.7 , 20.85,  1.  ],\n",
       "       [29.9 , 19.95,  1.  ],\n",
       "       [26.8 , 19.05,  1.  ],\n",
       "       ...,\n",
       "       [15.6 ,  9.45,  6.  ],\n",
       "       [15.3 ,  9.15,  6.  ],\n",
       "       [15.1 ,  9.55,  6.  ]])"
      ]
     },
     "execution_count": 3387,
     "metadata": {},
     "output_type": "execute_result"
    }
   ],
   "source": [
    "as3_2"
   ]
  },
  {
   "cell_type": "code",
   "execution_count": 3388,
   "id": "544b375f",
   "metadata": {},
   "outputs": [],
   "source": [
    "def getAccuracy(data, label):\n",
    "    true_label = getLabel(data)\n",
    "    accuracy = len(label[true_label==label])/len(label)\n",
    "    print(f'accuracy = {accuracy}')\n",
    "    return accuracy"
   ]
  },
  {
   "cell_type": "code",
   "execution_count": null,
   "id": "e7c62cde",
   "metadata": {},
   "outputs": [],
   "source": []
  },
  {
   "cell_type": "code",
   "execution_count": 3389,
   "id": "cce53960",
   "metadata": {},
   "outputs": [],
   "source": [
    "def plotDBSCAN(x, y, label):\n",
    "    label = np.array(label)\n",
    "    color = [\"#\"+''.join([random.choice('0123456789ABCDEF') for j in range(6)])\n",
    "             for i in range(len(np.unique(label)))]\n",
    "    label_unique = np.unique(label)\n",
    "    for i in range(len(label)):\n",
    "        index = -1\n",
    "        for j in range(len(label_unique)):\n",
    "            if label[i] == label_unique[j]:\n",
    "                index = j\n",
    "        plt.scatter(x[i], y[i], c = color[index])"
   ]
  },
  {
   "cell_type": "code",
   "execution_count": 3390,
   "id": "03249ffc",
   "metadata": {},
   "outputs": [],
   "source": [
    "#1.5 13\n",
    "cluster = getDBSCAN(x, y, 1.5, 13)"
   ]
  },
  {
   "cell_type": "code",
   "execution_count": 3391,
   "id": "6d897e0c",
   "metadata": {},
   "outputs": [],
   "source": [
    "label2 = get_predictLebale(x, cluster)"
   ]
  },
  {
   "cell_type": "code",
   "execution_count": 3392,
   "id": "a823d214",
   "metadata": {},
   "outputs": [
    {
     "name": "stdout",
     "output_type": "stream",
     "text": [
      "accuracy = 0.76010101010101\n"
     ]
    }
   ],
   "source": [
    "accuracy = getAccuracy(as3_2, label2)"
   ]
  },
  {
   "cell_type": "code",
   "execution_count": 3393,
   "id": "45f6303b",
   "metadata": {},
   "outputs": [
    {
     "data": {
      "image/png": "[encoded data removed]",
      "text/plain": [
       "<Figure size 432x288 with 1 Axes>"
      ]
     },
     "metadata": {
      "needs_background": "light"
     },
     "output_type": "display_data"
    }
   ],
   "source": [
    "plotDBSCAN(x, y, label2)"
   ]
  },
  {
   "cell_type": "markdown",
   "id": "382b65d7",
   "metadata": {},
   "source": [
    "# 3 Improved DBSCAN"
   ]
  },
  {
   "cell_type": "markdown",
   "id": "b585330a",
   "metadata": {},
   "source": [
    "KDTree"
   ]
  },
  {
   "cell_type": "code",
   "execution_count": 3361,
   "id": "50d38712",
   "metadata": {},
   "outputs": [],
   "source": [
    "class visitlist:\n",
    "    def _init_(self, count=0):\n",
    "        self.unvisitedlist=[i for i in range(count)]\n",
    "        self.visitedlist=list()\n",
    "        self.unvisitednum=count\n",
    "    def visit(self, pointId):\n",
    "        self.visitedlist.append(pointId)\n",
    "        self.unvisitedlist.remove(pointId)\n",
    "        self.unvisitednum -= 1    "
   ]
  },
  {
   "cell_type": "code",
   "execution_count": 3362,
   "id": "71744e1d",
   "metadata": {},
   "outputs": [],
   "source": [
    "def kdtree_DBSCAN(dataSet, eps, minPts):\n",
    "    num = dataSet.shape[0]\n",
    "    k = -1\n",
    "    label = [-1 for i in range(num)]\n",
    "    kd = KDTree(dataSet)\n",
    "    point = visitlist()\n",
    "    point._init_(num)\n",
    "    while point.unvisitednum>0:\n",
    "        p = random.choice(point.unvisitedlist)\n",
    "        point.visit(p)\n",
    "        N = kd.query_ball_point(dataSet[p], eps)\n",
    "        if len(N) >= minPts:\n",
    "            k += 1\n",
    "            label[p] = k\n",
    "            for p1 in N:\n",
    "                if p1 in point.unvisitedlist:\n",
    "                    point.visit(p1)\n",
    "                    M = kd.query_ball_point(dataSet[p1], eps)\n",
    "                    if len(M) >= minPts:\n",
    "                        for i in M:\n",
    "                            if i not in N:\n",
    "                                N.append(i)\n",
    "                    if label[p1] == -1:\n",
    "                        label[p1] = k\n",
    "            else:\n",
    "                label[p1] = -1\n",
    "    return label"
   ]
  },
  {
   "cell_type": "code",
   "execution_count": 3553,
   "id": "d34606be",
   "metadata": {},
   "outputs": [],
   "source": [
    "label = kdtree_DBSCAN(data, 1.5, 13)"
   ]
  },
  {
   "cell_type": "code",
   "execution_count": 3556,
   "id": "baa18475",
   "metadata": {},
   "outputs": [
    {
     "data": {
      "image/png": "[encoded data removed]",
      "text/plain": [
       "<Figure size 432x288 with 1 Axes>"
      ]
     },
     "metadata": {
      "needs_background": "light"
     },
     "output_type": "display_data"
    }
   ],
   "source": [
    "plotDBSCAN(x, y, label)"
   ]
  },
  {
   "cell_type": "code",
   "execution_count": 3365,
   "id": "ba7aa8cb",
   "metadata": {},
   "outputs": [
    {
     "name": "stdout",
     "output_type": "stream",
     "text": [
      "KDtree need time 0.007496356964111328\n"
     ]
    }
   ],
   "source": [
    "start1 = time.time()\n",
    "label1 = kdtree_DBSCAN(data, 1.5, 13)\n",
    "end1 = time.time()\n",
    "print(f'KDtree need time {end1-start1}')"
   ]
  },
  {
   "cell_type": "code",
   "execution_count": 3366,
   "id": "a027fd08",
   "metadata": {},
   "outputs": [
    {
     "name": "stdout",
     "output_type": "stream",
     "text": [
      "DBSCAN need time 0.007121086120605469\n"
     ]
    }
   ],
   "source": [
    "start2 = time.time()\n",
    "label3 = get_predictLebale(x, cluster)\n",
    "end2 = time.time()\n",
    "print(f'DBSCAN need time {end2-start2}')"
   ]
  },
  {
   "cell_type": "code",
   "execution_count": 3367,
   "id": "0c5c64ed",
   "metadata": {},
   "outputs": [],
   "source": [
    "label1 = np.array(label1)\n",
    "label1 = label1+1\n"
   ]
  },
  {
   "cell_type": "markdown",
   "id": "92ff6392",
   "metadata": {},
   "source": [
    "-----------------The following steps can't be repeated."
   ]
  },
  {
   "cell_type": "code",
   "execution_count": 3368,
   "id": "0c837cac",
   "metadata": {},
   "outputs": [
    {
     "data": {
      "text/plain": [
       "array([0, 0, 0, 0, 0, 0, 0, 0, 0, 0, 0, 0, 0, 0, 0, 0, 0, 0, 0, 0, 0, 0,\n",
       "       0, 0, 0, 0, 0, 0, 0, 0, 0, 0, 0, 0, 0, 0, 0, 0, 0, 0, 0, 0, 0, 1,\n",
       "       0, 0, 0, 1, 1, 1, 1, 1, 1, 1, 1, 1, 1, 1, 1, 1, 1, 1, 1, 1, 1, 1,\n",
       "       1, 1, 1, 1, 1, 1, 1, 1, 1, 1, 1, 1, 1, 1, 0, 1, 1, 1, 1, 1, 1, 1,\n",
       "       1, 1, 1, 1, 1, 1, 1, 1, 1, 1, 1, 1, 1, 1, 1, 1, 1, 1, 1, 1, 1, 1,\n",
       "       1, 1, 1, 1, 1, 1, 1, 1, 1, 1, 1, 1, 1, 1, 1, 1, 1, 1, 1, 1, 1, 1,\n",
       "       1, 1, 1, 1, 1, 1, 1, 0, 0, 0, 0, 0, 0, 0, 5, 5, 0, 0, 5, 5, 0, 0,\n",
       "       0, 5, 5, 5, 5, 5, 5, 5, 5, 5, 5, 5, 5, 5, 0, 0, 5, 5, 0, 0, 0, 0,\n",
       "       0, 0, 0, 0, 0, 0, 0, 0, 0, 0, 4, 4, 4, 0, 0, 0, 0, 4, 4, 4, 4, 4,\n",
       "       4, 4, 4, 4, 4, 4, 4, 4, 4, 4, 4, 4, 4, 0, 0, 4, 4, 0, 0, 0, 4, 0,\n",
       "       0, 0, 3, 3, 3, 3, 3, 0, 3, 3, 3, 3, 3, 3, 3, 3, 3, 3, 3, 3, 3, 3,\n",
       "       3, 3, 3, 3, 3, 3, 3, 3, 3, 3, 3, 3, 3, 3, 3, 3, 3, 3, 3, 3, 3, 3,\n",
       "       3, 3, 3, 3, 3, 3, 3, 3, 3, 3, 3, 3, 3, 3, 3, 3, 3, 3, 3, 3, 3, 3,\n",
       "       3, 3, 3, 3, 3, 3, 3, 3, 3, 3, 3, 3, 3, 3, 3, 3, 3, 3, 3, 3, 3, 3,\n",
       "       3, 3, 3, 3, 3, 3, 3, 3, 3, 3, 3, 3, 3, 3, 3, 3, 3, 3, 3, 3, 3, 3,\n",
       "       3, 3, 3, 3, 3, 3, 3, 3, 3, 3, 3, 3, 3, 3, 3, 3, 3, 3, 3, 3, 3, 3,\n",
       "       3, 3, 3, 3, 3, 3, 3, 3, 3, 3, 3, 3, 3, 3, 3, 3, 3, 3, 3, 3, 3, 3,\n",
       "       3, 3, 3, 3, 3, 3, 2, 2, 2, 0, 2, 2, 2, 2, 2, 2, 2, 2, 2, 2, 2, 2])"
      ]
     },
     "execution_count": 3368,
     "metadata": {},
     "output_type": "execute_result"
    }
   ],
   "source": [
    "label1"
   ]
  },
  {
   "cell_type": "code",
   "execution_count": 3370,
   "id": "52c36360",
   "metadata": {},
   "outputs": [
    {
     "data": {
      "text/plain": [
       "array([0, 0, 0, 0, 0, 0, 0, 0, 0, 0, 0, 0, 0, 0, 0, 0, 0, 0, 0, 0, 0, 0,\n",
       "       0, 0, 0, 0, 0, 0, 0, 0, 0, 0, 0, 0, 0, 0, 0, 0, 0, 0, 0, 0, 0, 1,\n",
       "       0, 0, 0, 1, 1, 1, 1, 1, 1, 1, 1, 1, 1, 1, 1, 1, 1, 1, 1, 1, 1, 1,\n",
       "       1, 1, 1, 1, 1, 1, 1, 1, 1, 1, 1, 1, 1, 1, 0, 1, 1, 1, 1, 1, 1, 1,\n",
       "       1, 1, 1, 1, 1, 1, 1, 1, 1, 1, 1, 1, 1, 1, 1, 1, 1, 1, 1, 1, 1, 1,\n",
       "       1, 1, 1, 1, 1, 1, 1, 1, 1, 1, 1, 1, 1, 1, 1, 1, 1, 1, 1, 1, 1, 1,\n",
       "       1, 1, 1, 1, 1, 1, 1, 0, 0, 0, 0, 0, 0, 0, 5, 5, 0, 0, 5, 5, 0, 0,\n",
       "       0, 5, 5, 5, 5, 5, 5, 5, 5, 5, 5, 5, 5, 5, 0, 0, 5, 5, 0, 0, 0, 0,\n",
       "       0, 0, 0, 0, 0, 0, 0, 0, 0, 0, 4, 4, 4, 0, 0, 0, 0, 4, 4, 4, 4, 4,\n",
       "       4, 4, 4, 4, 4, 4, 4, 4, 4, 4, 4, 4, 4, 0, 0, 4, 4, 0, 0, 0, 4, 0,\n",
       "       0, 0, 3, 3, 3, 3, 3, 0, 3, 3, 3, 3, 3, 3, 3, 3, 3, 3, 3, 3, 3, 3,\n",
       "       3, 3, 3, 3, 3, 3, 3, 3, 3, 3, 3, 3, 3, 3, 3, 3, 3, 3, 3, 3, 3, 3,\n",
       "       3, 3, 3, 3, 3, 3, 3, 3, 3, 3, 3, 3, 3, 3, 3, 3, 3, 3, 3, 3, 3, 3,\n",
       "       3, 3, 3, 3, 3, 3, 3, 3, 3, 3, 3, 3, 3, 3, 3, 3, 3, 3, 3, 3, 3, 3,\n",
       "       3, 3, 3, 3, 3, 3, 3, 3, 3, 3, 3, 3, 3, 3, 3, 3, 3, 3, 3, 3, 3, 3,\n",
       "       3, 3, 3, 3, 3, 3, 3, 3, 3, 3, 3, 3, 3, 3, 3, 3, 3, 3, 3, 3, 3, 3,\n",
       "       3, 3, 3, 3, 3, 3, 3, 3, 3, 3, 3, 3, 3, 3, 3, 3, 3, 3, 3, 3, 3, 3,\n",
       "       3, 3, 3, 3, 3, 3, 6, 6, 6, 0, 6, 6, 6, 6, 6, 6, 6, 6, 6, 6, 6, 6])"
      ]
     },
     "execution_count": 3370,
     "metadata": {},
     "output_type": "execute_result"
    }
   ],
   "source": [
    "label1[label1==2]=6\n",
    "label1"
   ]
  },
  {
   "cell_type": "code",
   "execution_count": 3371,
   "id": "c004c984",
   "metadata": {},
   "outputs": [
    {
     "data": {
      "text/plain": [
       "array([0, 0, 0, 0, 0, 0, 0, 0, 0, 0, 0, 0, 0, 0, 0, 0, 0, 0, 0, 0, 0, 0,\n",
       "       0, 0, 0, 0, 0, 0, 0, 0, 0, 0, 0, 0, 0, 0, 0, 0, 0, 0, 0, 0, 0, 2,\n",
       "       0, 0, 0, 2, 2, 2, 2, 2, 2, 2, 2, 2, 2, 2, 2, 2, 2, 2, 2, 2, 2, 2,\n",
       "       2, 2, 2, 2, 2, 2, 2, 2, 2, 2, 2, 2, 2, 2, 0, 2, 2, 2, 2, 2, 2, 2,\n",
       "       2, 2, 2, 2, 2, 2, 2, 2, 2, 2, 2, 2, 2, 2, 2, 2, 2, 2, 2, 2, 2, 2,\n",
       "       2, 2, 2, 2, 2, 2, 2, 2, 2, 2, 2, 2, 2, 2, 2, 2, 2, 2, 2, 2, 2, 2,\n",
       "       2, 2, 2, 2, 2, 2, 2, 0, 0, 0, 0, 0, 0, 0, 5, 5, 0, 0, 5, 5, 0, 0,\n",
       "       0, 5, 5, 5, 5, 5, 5, 5, 5, 5, 5, 5, 5, 5, 0, 0, 5, 5, 0, 0, 0, 0,\n",
       "       0, 0, 0, 0, 0, 0, 0, 0, 0, 0, 4, 4, 4, 0, 0, 0, 0, 4, 4, 4, 4, 4,\n",
       "       4, 4, 4, 4, 4, 4, 4, 4, 4, 4, 4, 4, 4, 0, 0, 4, 4, 0, 0, 0, 4, 0,\n",
       "       0, 0, 3, 3, 3, 3, 3, 0, 3, 3, 3, 3, 3, 3, 3, 3, 3, 3, 3, 3, 3, 3,\n",
       "       3, 3, 3, 3, 3, 3, 3, 3, 3, 3, 3, 3, 3, 3, 3, 3, 3, 3, 3, 3, 3, 3,\n",
       "       3, 3, 3, 3, 3, 3, 3, 3, 3, 3, 3, 3, 3, 3, 3, 3, 3, 3, 3, 3, 3, 3,\n",
       "       3, 3, 3, 3, 3, 3, 3, 3, 3, 3, 3, 3, 3, 3, 3, 3, 3, 3, 3, 3, 3, 3,\n",
       "       3, 3, 3, 3, 3, 3, 3, 3, 3, 3, 3, 3, 3, 3, 3, 3, 3, 3, 3, 3, 3, 3,\n",
       "       3, 3, 3, 3, 3, 3, 3, 3, 3, 3, 3, 3, 3, 3, 3, 3, 3, 3, 3, 3, 3, 3,\n",
       "       3, 3, 3, 3, 3, 3, 3, 3, 3, 3, 3, 3, 3, 3, 3, 3, 3, 3, 3, 3, 3, 3,\n",
       "       3, 3, 3, 3, 3, 3, 6, 6, 6, 0, 6, 6, 6, 6, 6, 6, 6, 6, 6, 6, 6, 6])"
      ]
     },
     "execution_count": 3371,
     "metadata": {},
     "output_type": "execute_result"
    }
   ],
   "source": [
    "label1[label1==1]=2\n",
    "label1"
   ]
  },
  {
   "cell_type": "code",
   "execution_count": 3372,
   "id": "82dc99b5",
   "metadata": {},
   "outputs": [
    {
     "data": {
      "text/plain": [
       "array([ 0,  0,  0,  0,  0,  0,  0,  0,  0,  0,  0,  0,  0,  0,  0,  0,  0,\n",
       "        0,  0,  0,  0,  0,  0,  0,  0,  0,  0,  0,  0,  0,  0,  0,  0,  0,\n",
       "        0,  0,  0,  0,  0,  0,  0,  0,  0,  2,  0,  0,  0,  2,  2,  2,  2,\n",
       "        2,  2,  2,  2,  2,  2,  2,  2,  2,  2,  2,  2,  2,  2,  2,  2,  2,\n",
       "        2,  2,  2,  2,  2,  2,  2,  2,  2,  2,  2,  2,  0,  2,  2,  2,  2,\n",
       "        2,  2,  2,  2,  2,  2,  2,  2,  2,  2,  2,  2,  2,  2,  2,  2,  2,\n",
       "        2,  2,  2,  2,  2,  2,  2,  2,  2,  2,  2,  2,  2,  2,  2,  2,  2,\n",
       "        2,  2,  2,  2,  2,  2,  2,  2,  2,  2,  2,  2,  2,  2,  2,  2,  2,\n",
       "        2,  2,  2,  0,  0,  0,  0,  0,  0,  0, 45, 45,  0,  0, 45, 45,  0,\n",
       "        0,  0, 45, 45, 45, 45, 45, 45, 45, 45, 45, 45, 45, 45, 45,  0,  0,\n",
       "       45, 45,  0,  0,  0,  0,  0,  0,  0,  0,  0,  0,  0,  0,  0,  0,  4,\n",
       "        4,  4,  0,  0,  0,  0,  4,  4,  4,  4,  4,  4,  4,  4,  4,  4,  4,\n",
       "        4,  4,  4,  4,  4,  4,  4,  0,  0,  4,  4,  0,  0,  0,  4,  0,  0,\n",
       "        0,  3,  3,  3,  3,  3,  0,  3,  3,  3,  3,  3,  3,  3,  3,  3,  3,\n",
       "        3,  3,  3,  3,  3,  3,  3,  3,  3,  3,  3,  3,  3,  3,  3,  3,  3,\n",
       "        3,  3,  3,  3,  3,  3,  3,  3,  3,  3,  3,  3,  3,  3,  3,  3,  3,\n",
       "        3,  3,  3,  3,  3,  3,  3,  3,  3,  3,  3,  3,  3,  3,  3,  3,  3,\n",
       "        3,  3,  3,  3,  3,  3,  3,  3,  3,  3,  3,  3,  3,  3,  3,  3,  3,\n",
       "        3,  3,  3,  3,  3,  3,  3,  3,  3,  3,  3,  3,  3,  3,  3,  3,  3,\n",
       "        3,  3,  3,  3,  3,  3,  3,  3,  3,  3,  3,  3,  3,  3,  3,  3,  3,\n",
       "        3,  3,  3,  3,  3,  3,  3,  3,  3,  3,  3,  3,  3,  3,  3,  3,  3,\n",
       "        3,  3,  3,  3,  3,  3,  3,  3,  3,  3,  3,  3,  3,  3,  3,  3,  3,\n",
       "        3,  3,  3,  3,  3,  3,  6,  6,  6,  0,  6,  6,  6,  6,  6,  6,  6,\n",
       "        6,  6,  6,  6,  6])"
      ]
     },
     "execution_count": 3372,
     "metadata": {},
     "output_type": "execute_result"
    }
   ],
   "source": [
    "label1[label1==5]=45\n",
    "label1"
   ]
  },
  {
   "cell_type": "code",
   "execution_count": 3373,
   "id": "031af47c",
   "metadata": {},
   "outputs": [
    {
     "data": {
      "text/plain": [
       "array([ 0,  0,  0,  0,  0,  0,  0,  0,  0,  0,  0,  0,  0,  0,  0,  0,  0,\n",
       "        0,  0,  0,  0,  0,  0,  0,  0,  0,  0,  0,  0,  0,  0,  0,  0,  0,\n",
       "        0,  0,  0,  0,  0,  0,  0,  0,  0,  2,  0,  0,  0,  2,  2,  2,  2,\n",
       "        2,  2,  2,  2,  2,  2,  2,  2,  2,  2,  2,  2,  2,  2,  2,  2,  2,\n",
       "        2,  2,  2,  2,  2,  2,  2,  2,  2,  2,  2,  2,  0,  2,  2,  2,  2,\n",
       "        2,  2,  2,  2,  2,  2,  2,  2,  2,  2,  2,  2,  2,  2,  2,  2,  2,\n",
       "        2,  2,  2,  2,  2,  2,  2,  2,  2,  2,  2,  2,  2,  2,  2,  2,  2,\n",
       "        2,  2,  2,  2,  2,  2,  2,  2,  2,  2,  2,  2,  2,  2,  2,  2,  2,\n",
       "        2,  2,  2,  0,  0,  0,  0,  0,  0,  0, 45, 45,  0,  0, 45, 45,  0,\n",
       "        0,  0, 45, 45, 45, 45, 45, 45, 45, 45, 45, 45, 45, 45, 45,  0,  0,\n",
       "       45, 45,  0,  0,  0,  0,  0,  0,  0,  0,  0,  0,  0,  0,  0,  0,  4,\n",
       "        4,  4,  0,  0,  0,  0,  4,  4,  4,  4,  4,  4,  4,  4,  4,  4,  4,\n",
       "        4,  4,  4,  4,  4,  4,  4,  0,  0,  4,  4,  0,  0,  0,  4,  0,  0,\n",
       "        0,  5,  5,  5,  5,  5,  0,  5,  5,  5,  5,  5,  5,  5,  5,  5,  5,\n",
       "        5,  5,  5,  5,  5,  5,  5,  5,  5,  5,  5,  5,  5,  5,  5,  5,  5,\n",
       "        5,  5,  5,  5,  5,  5,  5,  5,  5,  5,  5,  5,  5,  5,  5,  5,  5,\n",
       "        5,  5,  5,  5,  5,  5,  5,  5,  5,  5,  5,  5,  5,  5,  5,  5,  5,\n",
       "        5,  5,  5,  5,  5,  5,  5,  5,  5,  5,  5,  5,  5,  5,  5,  5,  5,\n",
       "        5,  5,  5,  5,  5,  5,  5,  5,  5,  5,  5,  5,  5,  5,  5,  5,  5,\n",
       "        5,  5,  5,  5,  5,  5,  5,  5,  5,  5,  5,  5,  5,  5,  5,  5,  5,\n",
       "        5,  5,  5,  5,  5,  5,  5,  5,  5,  5,  5,  5,  5,  5,  5,  5,  5,\n",
       "        5,  5,  5,  5,  5,  5,  5,  5,  5,  5,  5,  5,  5,  5,  5,  5,  5,\n",
       "        5,  5,  5,  5,  5,  5,  6,  6,  6,  0,  6,  6,  6,  6,  6,  6,  6,\n",
       "        6,  6,  6,  6,  6])"
      ]
     },
     "execution_count": 3373,
     "metadata": {},
     "output_type": "execute_result"
    }
   ],
   "source": [
    "label1[label1==3]=5\n",
    "label1"
   ]
  },
  {
   "cell_type": "code",
   "execution_count": 3374,
   "id": "3b3d8331",
   "metadata": {},
   "outputs": [
    {
     "data": {
      "text/plain": [
       "array([0, 0, 0, 0, 0, 0, 0, 0, 0, 0, 0, 0, 0, 0, 0, 0, 0, 0, 0, 0, 0, 0,\n",
       "       0, 0, 0, 0, 0, 0, 0, 0, 0, 0, 0, 0, 0, 0, 0, 0, 0, 0, 0, 0, 0, 2,\n",
       "       0, 0, 0, 2, 2, 2, 2, 2, 2, 2, 2, 2, 2, 2, 2, 2, 2, 2, 2, 2, 2, 2,\n",
       "       2, 2, 2, 2, 2, 2, 2, 2, 2, 2, 2, 2, 2, 2, 0, 2, 2, 2, 2, 2, 2, 2,\n",
       "       2, 2, 2, 2, 2, 2, 2, 2, 2, 2, 2, 2, 2, 2, 2, 2, 2, 2, 2, 2, 2, 2,\n",
       "       2, 2, 2, 2, 2, 2, 2, 2, 2, 2, 2, 2, 2, 2, 2, 2, 2, 2, 2, 2, 2, 2,\n",
       "       2, 2, 2, 2, 2, 2, 2, 0, 0, 0, 0, 0, 0, 0, 3, 3, 0, 0, 3, 3, 0, 0,\n",
       "       0, 3, 3, 3, 3, 3, 3, 3, 3, 3, 3, 3, 3, 3, 0, 0, 3, 3, 0, 0, 0, 0,\n",
       "       0, 0, 0, 0, 0, 0, 0, 0, 0, 0, 4, 4, 4, 0, 0, 0, 0, 4, 4, 4, 4, 4,\n",
       "       4, 4, 4, 4, 4, 4, 4, 4, 4, 4, 4, 4, 4, 0, 0, 4, 4, 0, 0, 0, 4, 0,\n",
       "       0, 0, 5, 5, 5, 5, 5, 0, 5, 5, 5, 5, 5, 5, 5, 5, 5, 5, 5, 5, 5, 5,\n",
       "       5, 5, 5, 5, 5, 5, 5, 5, 5, 5, 5, 5, 5, 5, 5, 5, 5, 5, 5, 5, 5, 5,\n",
       "       5, 5, 5, 5, 5, 5, 5, 5, 5, 5, 5, 5, 5, 5, 5, 5, 5, 5, 5, 5, 5, 5,\n",
       "       5, 5, 5, 5, 5, 5, 5, 5, 5, 5, 5, 5, 5, 5, 5, 5, 5, 5, 5, 5, 5, 5,\n",
       "       5, 5, 5, 5, 5, 5, 5, 5, 5, 5, 5, 5, 5, 5, 5, 5, 5, 5, 5, 5, 5, 5,\n",
       "       5, 5, 5, 5, 5, 5, 5, 5, 5, 5, 5, 5, 5, 5, 5, 5, 5, 5, 5, 5, 5, 5,\n",
       "       5, 5, 5, 5, 5, 5, 5, 5, 5, 5, 5, 5, 5, 5, 5, 5, 5, 5, 5, 5, 5, 5,\n",
       "       5, 5, 5, 5, 5, 5, 6, 6, 6, 0, 6, 6, 6, 6, 6, 6, 6, 6, 6, 6, 6, 6])"
      ]
     },
     "execution_count": 3374,
     "metadata": {},
     "output_type": "execute_result"
    }
   ],
   "source": [
    "label1[label1==45]=3\n",
    "label1"
   ]
  },
  {
   "cell_type": "code",
   "execution_count": 3369,
   "id": "99f8501c",
   "metadata": {},
   "outputs": [
    {
     "data": {
      "text/plain": [
       "array([0, 0, 0, 0, 0, 0, 0, 0, 0, 0, 0, 0, 0, 0, 0, 0, 0, 0, 0, 0, 0, 0,\n",
       "       0, 0, 0, 0, 0, 0, 0, 0, 0, 0, 0, 0, 0, 0, 0, 0, 0, 0, 0, 0, 0, 0,\n",
       "       0, 0, 0, 2, 2, 2, 2, 2, 2, 2, 2, 2, 2, 2, 2, 2, 2, 2, 2, 2, 2, 2,\n",
       "       2, 2, 2, 2, 2, 2, 2, 2, 2, 2, 2, 2, 2, 2, 2, 2, 2, 2, 2, 2, 2, 2,\n",
       "       2, 2, 2, 2, 2, 2, 2, 2, 2, 2, 2, 2, 2, 2, 2, 2, 2, 2, 2, 2, 2, 2,\n",
       "       2, 2, 2, 2, 2, 2, 2, 2, 2, 2, 2, 2, 2, 2, 2, 2, 2, 2, 2, 2, 2, 2,\n",
       "       2, 2, 2, 2, 2, 2, 2, 0, 0, 0, 0, 0, 0, 0, 0, 0, 0, 0, 0, 0, 0, 0,\n",
       "       0, 3, 3, 3, 3, 0, 3, 3, 3, 3, 3, 3, 3, 3, 0, 0, 3, 3, 0, 0, 0, 0,\n",
       "       0, 0, 0, 0, 0, 0, 0, 0, 0, 0, 4, 4, 4, 0, 0, 0, 0, 0, 0, 4, 4, 4,\n",
       "       4, 4, 4, 4, 4, 4, 4, 4, 4, 4, 4, 4, 4, 0, 0, 4, 4, 0, 0, 0, 0, 0,\n",
       "       0, 0, 5, 5, 5, 5, 5, 5, 5, 5, 5, 5, 5, 5, 5, 5, 5, 5, 5, 5, 5, 5,\n",
       "       5, 5, 5, 5, 5, 5, 5, 5, 5, 5, 5, 5, 5, 5, 5, 5, 5, 5, 5, 5, 5, 5,\n",
       "       5, 5, 5, 5, 5, 5, 5, 5, 5, 5, 5, 5, 5, 5, 5, 5, 5, 5, 5, 5, 5, 5,\n",
       "       5, 5, 5, 5, 5, 5, 5, 5, 5, 5, 5, 5, 5, 5, 5, 5, 5, 5, 5, 5, 5, 5,\n",
       "       5, 5, 5, 5, 5, 5, 5, 5, 5, 5, 5, 5, 5, 5, 5, 5, 5, 5, 5, 5, 5, 5,\n",
       "       5, 5, 5, 5, 5, 5, 5, 5, 5, 5, 5, 5, 5, 5, 5, 5, 5, 5, 5, 5, 5, 5,\n",
       "       5, 5, 5, 5, 5, 5, 5, 5, 5, 5, 5, 5, 5, 5, 5, 5, 5, 5, 5, 5, 5, 5,\n",
       "       5, 5, 5, 5, 5, 5, 6, 6, 6, 6, 6, 6, 6, 6, 6, 6, 6, 6, 6, 6, 6, 6])"
      ]
     },
     "execution_count": 3369,
     "metadata": {},
     "output_type": "execute_result"
    }
   ],
   "source": [
    "label3"
   ]
  },
  {
   "cell_type": "code",
   "execution_count": 3394,
   "id": "b82f5bd7",
   "metadata": {},
   "outputs": [],
   "source": [
    "true_label = (getLabel(as3_2))"
   ]
  },
  {
   "cell_type": "code",
   "execution_count": 3396,
   "id": "cbbc095d",
   "metadata": {},
   "outputs": [
    {
     "name": "stdout",
     "output_type": "stream",
     "text": [
      "accuracy of kdtree is 0.7727272727272727\n"
     ]
    }
   ],
   "source": [
    "print(f'accuracy of kdtree is {len(label1[label1==true_label])/len(true_label)}')"
   ]
  },
  {
   "cell_type": "code",
   "execution_count": 3397,
   "id": "6d502076",
   "metadata": {},
   "outputs": [
    {
     "name": "stdout",
     "output_type": "stream",
     "text": [
      "accuracy of myDBSCAN is 0.76010101010101\n"
     ]
    }
   ],
   "source": [
    "print(f'accuracy of myDBSCAN is {len(label1[label3==true_label])/len(true_label)}')"
   ]
  },
  {
   "cell_type": "markdown",
   "id": "2f734966",
   "metadata": {},
   "source": [
    "So the accuracy improved."
   ]
  },
  {
   "cell_type": "code",
   "execution_count": null,
   "id": "5e1f6f12",
   "metadata": {},
   "outputs": [],
   "source": []
  },
  {
   "cell_type": "code",
   "execution_count": null,
   "id": "ff16440f",
   "metadata": {},
   "outputs": [],
   "source": []
  },
  {
   "cell_type": "code",
   "execution_count": 3604,
   "id": "440558cf",
   "metadata": {},
   "outputs": [],
   "source": [
    "new_data = pd.read_csv('https://raw.githubusercontent.com/wenbo/MLBook/master/chapter04/testdata/4k2_far.txt', sep='\\t', header=None)"
   ]
  },
  {
   "cell_type": "code",
   "execution_count": 3605,
   "id": "a7bc70db",
   "metadata": {},
   "outputs": [
    {
     "data": {
      "text/html": [
       "<div>\n",
       "<style scoped>\n",
       "    .dataframe tbody tr th:only-of-type {\n",
       "        vertical-align: middle;\n",
       "    }\n",
       "\n",
       "    .dataframe tbody tr th {\n",
       "        vertical-align: top;\n",
       "    }\n",
       "\n",
       "    .dataframe thead th {\n",
       "        text-align: right;\n",
       "    }\n",
       "</style>\n",
       "<table border=\"1\" class=\"dataframe\">\n",
       "  <thead>\n",
       "    <tr style=\"text-align: right;\">\n",
       "      <th></th>\n",
       "      <th>0</th>\n",
       "      <th>1</th>\n",
       "      <th>2</th>\n",
       "    </tr>\n",
       "  </thead>\n",
       "  <tbody>\n",
       "    <tr>\n",
       "      <th>0</th>\n",
       "      <td>1</td>\n",
       "      <td>2.7266</td>\n",
       "      <td>3.0102</td>\n",
       "    </tr>\n",
       "    <tr>\n",
       "      <th>1</th>\n",
       "      <td>1</td>\n",
       "      <td>3.1304</td>\n",
       "      <td>2.4673</td>\n",
       "    </tr>\n",
       "    <tr>\n",
       "      <th>2</th>\n",
       "      <td>1</td>\n",
       "      <td>3.0492</td>\n",
       "      <td>2.5250</td>\n",
       "    </tr>\n",
       "    <tr>\n",
       "      <th>3</th>\n",
       "      <td>1</td>\n",
       "      <td>3.2260</td>\n",
       "      <td>3.1649</td>\n",
       "    </tr>\n",
       "    <tr>\n",
       "      <th>4</th>\n",
       "      <td>1</td>\n",
       "      <td>2.7223</td>\n",
       "      <td>2.5713</td>\n",
       "    </tr>\n",
       "    <tr>\n",
       "      <th>...</th>\n",
       "      <td>...</td>\n",
       "      <td>...</td>\n",
       "      <td>...</td>\n",
       "    </tr>\n",
       "    <tr>\n",
       "      <th>395</th>\n",
       "      <td>4</td>\n",
       "      <td>7.6063</td>\n",
       "      <td>5.0272</td>\n",
       "    </tr>\n",
       "    <tr>\n",
       "      <th>396</th>\n",
       "      <td>4</td>\n",
       "      <td>7.2716</td>\n",
       "      <td>5.0681</td>\n",
       "    </tr>\n",
       "    <tr>\n",
       "      <th>397</th>\n",
       "      <td>4</td>\n",
       "      <td>6.7997</td>\n",
       "      <td>5.3631</td>\n",
       "    </tr>\n",
       "    <tr>\n",
       "      <th>398</th>\n",
       "      <td>4</td>\n",
       "      <td>6.8852</td>\n",
       "      <td>5.1578</td>\n",
       "    </tr>\n",
       "    <tr>\n",
       "      <th>399</th>\n",
       "      <td>4</td>\n",
       "      <td>7.0737</td>\n",
       "      <td>5.0648</td>\n",
       "    </tr>\n",
       "  </tbody>\n",
       "</table>\n",
       "<p>400 rows × 3 columns</p>\n",
       "</div>"
      ],
      "text/plain": [
       "     0       1       2\n",
       "0    1  2.7266  3.0102\n",
       "1    1  3.1304  2.4673\n",
       "2    1  3.0492  2.5250\n",
       "3    1  3.2260  3.1649\n",
       "4    1  2.7223  2.5713\n",
       "..  ..     ...     ...\n",
       "395  4  7.6063  5.0272\n",
       "396  4  7.2716  5.0681\n",
       "397  4  6.7997  5.3631\n",
       "398  4  6.8852  5.1578\n",
       "399  4  7.0737  5.0648\n",
       "\n",
       "[400 rows x 3 columns]"
      ]
     },
     "execution_count": 3605,
     "metadata": {},
     "output_type": "execute_result"
    }
   ],
   "source": [
    "new_data"
   ]
  },
  {
   "cell_type": "code",
   "execution_count": 3606,
   "id": "d256a01c",
   "metadata": {},
   "outputs": [],
   "source": [
    "train_data = new_data.iloc[:, 1:3]"
   ]
  },
  {
   "cell_type": "code",
   "execution_count": null,
   "id": "729c8013",
   "metadata": {},
   "outputs": [],
   "source": []
  },
  {
   "cell_type": "code",
   "execution_count": 3607,
   "id": "19e99d51",
   "metadata": {},
   "outputs": [
    {
     "data": {
      "text/plain": [
       "<matplotlib.collections.PathCollection at 0x7fd1dbdb3d60>"
      ]
     },
     "execution_count": 3607,
     "metadata": {},
     "output_type": "execute_result"
    },
    {
     "data": {
      "image/png": "[encoded data removed]",
      "text/plain": [
       "<Figure size 432x288 with 1 Axes>"
      ]
     },
     "metadata": {
      "needs_background": "light"
     },
     "output_type": "display_data"
    }
   ],
   "source": [
    "plt.scatter(train_data.iloc[:,0], train_data.iloc[:,1])"
   ]
  },
  {
   "cell_type": "code",
   "execution_count": 3613,
   "id": "e609d79e",
   "metadata": {},
   "outputs": [
    {
     "name": "stdout",
     "output_type": "stream",
     "text": [
      "KDtree need time 0.07535099983215332\n"
     ]
    }
   ],
   "source": [
    "start1 = time.time()\n",
    "label11 = np.array(kdtree_DBSCAN(data, 7, 88))\n",
    "end1 = time.time()\n",
    "print(f'KDtree need time {end1-start1}')"
   ]
  },
  {
   "cell_type": "code",
   "execution_count": 3614,
   "id": "182923c1",
   "metadata": {},
   "outputs": [
    {
     "data": {
      "image/png": "[encoded data removed]",
      "text/plain": [
       "<Figure size 432x288 with 1 Axes>"
      ]
     },
     "metadata": {
      "needs_background": "light"
     },
     "output_type": "display_data"
    }
   ],
   "source": [
    "plotDBSCAN(train_data.iloc[:,0], train_data.iloc[:,1], label11)"
   ]
  },
  {
   "cell_type": "code",
   "execution_count": 3621,
   "id": "a31fe11d",
   "metadata": {},
   "outputs": [
    {
     "name": "stdout",
     "output_type": "stream",
     "text": [
      "DBSCAN need time 0.0011467933654785156\n"
     ]
    }
   ],
   "source": [
    "cluster = getDBSCAN(x, y, 7, 88)\n",
    "start2 = time.time()\n",
    "label31 = get_predictLebale(data, cluster)\n",
    "end2 = time.time()\n",
    "print(f'DBSCAN need time {end2-start2}')"
   ]
  },
  {
   "cell_type": "code",
   "execution_count": 3622,
   "id": "d555595e",
   "metadata": {},
   "outputs": [
    {
     "data": {
      "image/png": "[encoded data removed]",
      "text/plain": [
       "<Figure size 432x288 with 1 Axes>"
      ]
     },
     "metadata": {
      "needs_background": "light"
     },
     "output_type": "display_data"
    }
   ],
   "source": [
    "plotDBSCAN(train_data.iloc[:,0], train_data.iloc[:,1], label31)"
   ]
  },
  {
   "cell_type": "markdown",
   "id": "b9bd0d6e",
   "metadata": {},
   "source": [
    "I use a data set to test. Whatever it is convergence or not, in this data set, my method is quicker."
   ]
  }
 ],
 "metadata": {
  "kernelspec": {
   "display_name": "Python 3 (ipykernel)",
   "language": "python",
   "name": "python3"
  },
  "language_info": {
   "codemirror_mode": {
    "name": "ipython",
    "version": 3
   },
   "file_extension": ".py",
   "mimetype": "text/x-python",
   "name": "python",
   "nbconvert_exporter": "python",
   "pygments_lexer": "ipython3",
   "version": "3.8.11"
  }
 },
 "nbformat": 4,
 "nbformat_minor": 5
}
