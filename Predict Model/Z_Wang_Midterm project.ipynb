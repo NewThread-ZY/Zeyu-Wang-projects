{
 "cells": [
  {
   "cell_type": "code",
   "execution_count": 439,
   "metadata": {},
   "outputs": [],
   "source": [
    "import pandas as pd\n",
    "import matplotlib.pyplot as plt\n",
    "import numpy as np\n",
    "from mpl_toolkits.mplot3d import Axes3D"
   ]
  },
  {
   "cell_type": "markdown",
   "metadata": {},
   "source": [
    "# Midterm project\n",
    "\n",
    "Congratulations! You've been hired as a data scientist at the hottest new social media startup.\n",
    "\n",
    "Your company produces an app via which users can post short videos for anyone to view. They can also like, repost, and comment on the videos they view. The key data product is a recommendation engine that determines the order in which videos are shown to a user.\n",
    "\n",
    "The recommendation engine has a parameter, *theta*, that affects the ordering of the videos. Recently the team of engineers that works on the recommendation engine ran it with different settings of *theta* and, for each setting, measured the amount of time users spent on the app. They have collected these measurements into a data set of 20 samples of (*theta*, *time_spent*) pairs.\n",
    "\n",
    "Additionally, they have identified two auxiliary features (*aux1* and *aux2*) that they hypoithesize should correlate with *time_spent*. These two features are measures of time spent by users in the recent past. The engineers have not verified that the features explain *time_spent*.\n",
    "\n",
    "(The engineers call these two features \"auxiliary\" because, while they might help explain *time_spent*, the engineers' ultimate interest lies in the dependence of *time_spent* on *theta*.)\n",
    "\n",
    "Your first project at your new company is to tell the engineers which setting you think they should use for *theta*, based on the data."
   ]
  },
  {
   "cell_type": "markdown",
   "metadata": {},
   "source": [
    "## 1. Prepare the data\n",
    "- Inspect the data. Identifiy and remove any suspicious or unusable samples.\n",
    "- Put the samples in a data structure that you can work with."
   ]
  },
  {
   "cell_type": "code",
   "execution_count": 46,
   "metadata": {},
   "outputs": [],
   "source": [
    "theta = [0.03906292, 0.05119367, 0.06004468, 0.06790036, 0.19152079,\n",
    "       0.28298816, 0.294665  , 0.3578136 , 0.48352862, 0.53058676,\n",
    "       0.55175137, 0.57560289, 0.59751325, 0.6375209 , 0.65241862,\n",
    "       0.65633352, 0.78698546, 0.8640421 , 0.87729053, 0.94568319]\n",
    "aux1 = [ 0.53983961, -1.77528229,  1.31487654, -0.47344805, -1.0922299 ,\n",
    "       -0.25002744, -0.9822943 ,  1.03126909,  0.49133378, -0.4466466 ,\n",
    "       -0.80636008,  0.13126776, -1.21256024,  0.15999085, -0.75522304,\n",
    "        0.34989599,  0.97754176, -0.13858525,  0.10385631,  0.30059104]\n",
    "aux2 = [ 0.9682053 ,  0.86962384,  0.56778309,  0.46528234, -1.16537308,\n",
    "       -2.03599479, -1.15541329,  3.34515739,  0.12672721, -0.6941789 ,\n",
    "        0.55767443,  0.0991466 ,  0.63792617,  0.70311068, -0.91609315,\n",
    "       -0.78601423,  1.1191818 , -0.98339611,  0.24452002, -0.58140974]\n",
    "time_spent = [10.79768391, 10.87648065, 10.29274937, 10.78756647,  9.51844772,\n",
    "        9.18078781,  9.90063639, 12.84823357, 10.92743478,  9.88927608,\n",
    "       11.3373709 , 11.43996915, 11.88392171, -11.88135476, 11.73452467,\n",
    "       11.18844425, 12.19144316, 11.35294826, 12.2385441 , 11.98428985]"
   ]
  },
  {
   "cell_type": "code",
   "execution_count": 47,
   "metadata": {},
   "outputs": [
    {
     "data": {
      "text/html": [
       "<div>\n",
       "<style scoped>\n",
       "    .dataframe tbody tr th:only-of-type {\n",
       "        vertical-align: middle;\n",
       "    }\n",
       "\n",
       "    .dataframe tbody tr th {\n",
       "        vertical-align: top;\n",
       "    }\n",
       "\n",
       "    .dataframe thead th {\n",
       "        text-align: right;\n",
       "    }\n",
       "</style>\n",
       "<table border=\"1\" class=\"dataframe\">\n",
       "  <thead>\n",
       "    <tr style=\"text-align: right;\">\n",
       "      <th></th>\n",
       "      <th>theta</th>\n",
       "      <th>aux1</th>\n",
       "      <th>aux2</th>\n",
       "      <th>time_spent</th>\n",
       "    </tr>\n",
       "  </thead>\n",
       "  <tbody>\n",
       "    <tr>\n",
       "      <th>0</th>\n",
       "      <td>0.039063</td>\n",
       "      <td>0.539840</td>\n",
       "      <td>0.968205</td>\n",
       "      <td>10.797684</td>\n",
       "    </tr>\n",
       "    <tr>\n",
       "      <th>1</th>\n",
       "      <td>0.051194</td>\n",
       "      <td>-1.775282</td>\n",
       "      <td>0.869624</td>\n",
       "      <td>10.876481</td>\n",
       "    </tr>\n",
       "    <tr>\n",
       "      <th>2</th>\n",
       "      <td>0.060045</td>\n",
       "      <td>1.314877</td>\n",
       "      <td>0.567783</td>\n",
       "      <td>10.292749</td>\n",
       "    </tr>\n",
       "    <tr>\n",
       "      <th>3</th>\n",
       "      <td>0.067900</td>\n",
       "      <td>-0.473448</td>\n",
       "      <td>0.465282</td>\n",
       "      <td>10.787566</td>\n",
       "    </tr>\n",
       "    <tr>\n",
       "      <th>4</th>\n",
       "      <td>0.191521</td>\n",
       "      <td>-1.092230</td>\n",
       "      <td>-1.165373</td>\n",
       "      <td>9.518448</td>\n",
       "    </tr>\n",
       "    <tr>\n",
       "      <th>5</th>\n",
       "      <td>0.282988</td>\n",
       "      <td>-0.250027</td>\n",
       "      <td>-2.035995</td>\n",
       "      <td>9.180788</td>\n",
       "    </tr>\n",
       "    <tr>\n",
       "      <th>6</th>\n",
       "      <td>0.294665</td>\n",
       "      <td>-0.982294</td>\n",
       "      <td>-1.155413</td>\n",
       "      <td>9.900636</td>\n",
       "    </tr>\n",
       "    <tr>\n",
       "      <th>7</th>\n",
       "      <td>0.357814</td>\n",
       "      <td>1.031269</td>\n",
       "      <td>3.345157</td>\n",
       "      <td>12.848234</td>\n",
       "    </tr>\n",
       "    <tr>\n",
       "      <th>8</th>\n",
       "      <td>0.483529</td>\n",
       "      <td>0.491334</td>\n",
       "      <td>0.126727</td>\n",
       "      <td>10.927435</td>\n",
       "    </tr>\n",
       "    <tr>\n",
       "      <th>9</th>\n",
       "      <td>0.530587</td>\n",
       "      <td>-0.446647</td>\n",
       "      <td>-0.694179</td>\n",
       "      <td>9.889276</td>\n",
       "    </tr>\n",
       "    <tr>\n",
       "      <th>10</th>\n",
       "      <td>0.551751</td>\n",
       "      <td>-0.806360</td>\n",
       "      <td>0.557674</td>\n",
       "      <td>11.337371</td>\n",
       "    </tr>\n",
       "    <tr>\n",
       "      <th>11</th>\n",
       "      <td>0.575603</td>\n",
       "      <td>0.131268</td>\n",
       "      <td>0.099147</td>\n",
       "      <td>11.439969</td>\n",
       "    </tr>\n",
       "    <tr>\n",
       "      <th>12</th>\n",
       "      <td>0.597513</td>\n",
       "      <td>-1.212560</td>\n",
       "      <td>0.637926</td>\n",
       "      <td>11.883922</td>\n",
       "    </tr>\n",
       "    <tr>\n",
       "      <th>13</th>\n",
       "      <td>0.637521</td>\n",
       "      <td>0.159991</td>\n",
       "      <td>0.703111</td>\n",
       "      <td>-11.881355</td>\n",
       "    </tr>\n",
       "    <tr>\n",
       "      <th>14</th>\n",
       "      <td>0.652419</td>\n",
       "      <td>-0.755223</td>\n",
       "      <td>-0.916093</td>\n",
       "      <td>11.734525</td>\n",
       "    </tr>\n",
       "    <tr>\n",
       "      <th>15</th>\n",
       "      <td>0.656334</td>\n",
       "      <td>0.349896</td>\n",
       "      <td>-0.786014</td>\n",
       "      <td>11.188444</td>\n",
       "    </tr>\n",
       "    <tr>\n",
       "      <th>16</th>\n",
       "      <td>0.786985</td>\n",
       "      <td>0.977542</td>\n",
       "      <td>1.119182</td>\n",
       "      <td>12.191443</td>\n",
       "    </tr>\n",
       "    <tr>\n",
       "      <th>17</th>\n",
       "      <td>0.864042</td>\n",
       "      <td>-0.138585</td>\n",
       "      <td>-0.983396</td>\n",
       "      <td>11.352948</td>\n",
       "    </tr>\n",
       "    <tr>\n",
       "      <th>18</th>\n",
       "      <td>0.877291</td>\n",
       "      <td>0.103856</td>\n",
       "      <td>0.244520</td>\n",
       "      <td>12.238544</td>\n",
       "    </tr>\n",
       "    <tr>\n",
       "      <th>19</th>\n",
       "      <td>0.945683</td>\n",
       "      <td>0.300591</td>\n",
       "      <td>-0.581410</td>\n",
       "      <td>11.984290</td>\n",
       "    </tr>\n",
       "  </tbody>\n",
       "</table>\n",
       "</div>"
      ],
      "text/plain": [
       "       theta      aux1      aux2  time_spent\n",
       "0   0.039063  0.539840  0.968205   10.797684\n",
       "1   0.051194 -1.775282  0.869624   10.876481\n",
       "2   0.060045  1.314877  0.567783   10.292749\n",
       "3   0.067900 -0.473448  0.465282   10.787566\n",
       "4   0.191521 -1.092230 -1.165373    9.518448\n",
       "5   0.282988 -0.250027 -2.035995    9.180788\n",
       "6   0.294665 -0.982294 -1.155413    9.900636\n",
       "7   0.357814  1.031269  3.345157   12.848234\n",
       "8   0.483529  0.491334  0.126727   10.927435\n",
       "9   0.530587 -0.446647 -0.694179    9.889276\n",
       "10  0.551751 -0.806360  0.557674   11.337371\n",
       "11  0.575603  0.131268  0.099147   11.439969\n",
       "12  0.597513 -1.212560  0.637926   11.883922\n",
       "13  0.637521  0.159991  0.703111  -11.881355\n",
       "14  0.652419 -0.755223 -0.916093   11.734525\n",
       "15  0.656334  0.349896 -0.786014   11.188444\n",
       "16  0.786985  0.977542  1.119182   12.191443\n",
       "17  0.864042 -0.138585 -0.983396   11.352948\n",
       "18  0.877291  0.103856  0.244520   12.238544\n",
       "19  0.945683  0.300591 -0.581410   11.984290"
      ]
     },
     "execution_count": 47,
     "metadata": {},
     "output_type": "execute_result"
    }
   ],
   "source": [
    "data = {'theta':theta, 'aux1':aux1, 'aux2':aux2, 'time_spent':time_spent}\n",
    "df = pd.DataFrame(data)\n",
    "df"
   ]
  },
  {
   "cell_type": "code",
   "execution_count": 48,
   "metadata": {},
   "outputs": [
    {
     "data": {
      "image/png": "[encoded data removed]",
      "text/plain": [
       "<Figure size 1080x288 with 3 Axes>"
      ]
     },
     "metadata": {
      "needs_background": "light"
     },
     "output_type": "display_data"
    }
   ],
   "source": [
    "plt.figure(figsize = (15,4))\n",
    "plt.subplot(1,3,1)\n",
    "x = df['theta']\n",
    "y = df['time_spent']\n",
    "plt.plot(x,y,'o')\n",
    "plt.xlabel(\"theta\")\n",
    "plt.ylabel(\"time_spent\");\n",
    "######################\n",
    "plt.subplot(1,3,2)\n",
    "x = df['aux1']\n",
    "y = df['time_spent']\n",
    "plt.plot(x,y,'o')\n",
    "plt.xlabel(\"aux1\")\n",
    "plt.ylabel(\"time_spent\");\n",
    "######################\n",
    "plt.subplot(1,3,3)\n",
    "x = df['aux2']\n",
    "y = df['time_spent']\n",
    "plt.plot(x,y,'o')\n",
    "plt.xlabel(\"aux2\")\n",
    "plt.ylabel(\"time_spent\");"
   ]
  },
  {
   "cell_type": "markdown",
   "metadata": {},
   "source": [
    "From these four plots, we can know that there is data that is far away from other data. This data will influence our analysis and so we need to remove it. Our next step is to try to find out this data and remove it."
   ]
  },
  {
   "cell_type": "code",
   "execution_count": 49,
   "metadata": {},
   "outputs": [],
   "source": [
    "def findNonormaldata(data):\n",
    "    '''\n",
    "    This method needs a data set and it will find which one is far away from its mean. Then return the index of this data.\n",
    "    '''\n",
    "    mean = data.mean()\n",
    "    index = -1\n",
    "    maxnum = -1\n",
    "    for i in range(len(data)):\n",
    "        if maxnum<((data[i]-mean)**2):\n",
    "            maxnum = (data[i]-mean)**2\n",
    "            index = i\n",
    "    return index"
   ]
  },
  {
   "cell_type": "code",
   "execution_count": 50,
   "metadata": {},
   "outputs": [
    {
     "data": {
      "text/plain": [
       "13"
      ]
     },
     "execution_count": 50,
     "metadata": {},
     "output_type": "execute_result"
    }
   ],
   "source": [
    "innormal_time_spent = findNonormaldata(df['time_spent'])\n",
    "innormal_time_spent"
   ]
  },
  {
   "cell_type": "code",
   "execution_count": 51,
   "metadata": {},
   "outputs": [
    {
     "data": {
      "text/plain": [
       "-11.88135476"
      ]
     },
     "execution_count": 51,
     "metadata": {},
     "output_type": "execute_result"
    }
   ],
   "source": [
    "df['time_spent'][innormal_time_spent]"
   ]
  },
  {
   "cell_type": "code",
   "execution_count": 52,
   "metadata": {},
   "outputs": [
    {
     "data": {
      "text/html": [
       "<div>\n",
       "<style scoped>\n",
       "    .dataframe tbody tr th:only-of-type {\n",
       "        vertical-align: middle;\n",
       "    }\n",
       "\n",
       "    .dataframe tbody tr th {\n",
       "        vertical-align: top;\n",
       "    }\n",
       "\n",
       "    .dataframe thead th {\n",
       "        text-align: right;\n",
       "    }\n",
       "</style>\n",
       "<table border=\"1\" class=\"dataframe\">\n",
       "  <thead>\n",
       "    <tr style=\"text-align: right;\">\n",
       "      <th></th>\n",
       "      <th>theta</th>\n",
       "      <th>aux1</th>\n",
       "      <th>aux2</th>\n",
       "      <th>time_spent</th>\n",
       "    </tr>\n",
       "  </thead>\n",
       "  <tbody>\n",
       "    <tr>\n",
       "      <th>0</th>\n",
       "      <td>0.039063</td>\n",
       "      <td>0.539840</td>\n",
       "      <td>0.968205</td>\n",
       "      <td>10.797684</td>\n",
       "    </tr>\n",
       "    <tr>\n",
       "      <th>1</th>\n",
       "      <td>0.051194</td>\n",
       "      <td>-1.775282</td>\n",
       "      <td>0.869624</td>\n",
       "      <td>10.876481</td>\n",
       "    </tr>\n",
       "    <tr>\n",
       "      <th>2</th>\n",
       "      <td>0.060045</td>\n",
       "      <td>1.314877</td>\n",
       "      <td>0.567783</td>\n",
       "      <td>10.292749</td>\n",
       "    </tr>\n",
       "    <tr>\n",
       "      <th>3</th>\n",
       "      <td>0.067900</td>\n",
       "      <td>-0.473448</td>\n",
       "      <td>0.465282</td>\n",
       "      <td>10.787566</td>\n",
       "    </tr>\n",
       "    <tr>\n",
       "      <th>4</th>\n",
       "      <td>0.191521</td>\n",
       "      <td>-1.092230</td>\n",
       "      <td>-1.165373</td>\n",
       "      <td>9.518448</td>\n",
       "    </tr>\n",
       "    <tr>\n",
       "      <th>5</th>\n",
       "      <td>0.282988</td>\n",
       "      <td>-0.250027</td>\n",
       "      <td>-2.035995</td>\n",
       "      <td>9.180788</td>\n",
       "    </tr>\n",
       "    <tr>\n",
       "      <th>6</th>\n",
       "      <td>0.294665</td>\n",
       "      <td>-0.982294</td>\n",
       "      <td>-1.155413</td>\n",
       "      <td>9.900636</td>\n",
       "    </tr>\n",
       "    <tr>\n",
       "      <th>7</th>\n",
       "      <td>0.357814</td>\n",
       "      <td>1.031269</td>\n",
       "      <td>3.345157</td>\n",
       "      <td>12.848234</td>\n",
       "    </tr>\n",
       "    <tr>\n",
       "      <th>8</th>\n",
       "      <td>0.483529</td>\n",
       "      <td>0.491334</td>\n",
       "      <td>0.126727</td>\n",
       "      <td>10.927435</td>\n",
       "    </tr>\n",
       "    <tr>\n",
       "      <th>9</th>\n",
       "      <td>0.530587</td>\n",
       "      <td>-0.446647</td>\n",
       "      <td>-0.694179</td>\n",
       "      <td>9.889276</td>\n",
       "    </tr>\n",
       "    <tr>\n",
       "      <th>10</th>\n",
       "      <td>0.551751</td>\n",
       "      <td>-0.806360</td>\n",
       "      <td>0.557674</td>\n",
       "      <td>11.337371</td>\n",
       "    </tr>\n",
       "    <tr>\n",
       "      <th>11</th>\n",
       "      <td>0.575603</td>\n",
       "      <td>0.131268</td>\n",
       "      <td>0.099147</td>\n",
       "      <td>11.439969</td>\n",
       "    </tr>\n",
       "    <tr>\n",
       "      <th>12</th>\n",
       "      <td>0.597513</td>\n",
       "      <td>-1.212560</td>\n",
       "      <td>0.637926</td>\n",
       "      <td>11.883922</td>\n",
       "    </tr>\n",
       "    <tr>\n",
       "      <th>14</th>\n",
       "      <td>0.652419</td>\n",
       "      <td>-0.755223</td>\n",
       "      <td>-0.916093</td>\n",
       "      <td>11.734525</td>\n",
       "    </tr>\n",
       "    <tr>\n",
       "      <th>15</th>\n",
       "      <td>0.656334</td>\n",
       "      <td>0.349896</td>\n",
       "      <td>-0.786014</td>\n",
       "      <td>11.188444</td>\n",
       "    </tr>\n",
       "    <tr>\n",
       "      <th>16</th>\n",
       "      <td>0.786985</td>\n",
       "      <td>0.977542</td>\n",
       "      <td>1.119182</td>\n",
       "      <td>12.191443</td>\n",
       "    </tr>\n",
       "    <tr>\n",
       "      <th>17</th>\n",
       "      <td>0.864042</td>\n",
       "      <td>-0.138585</td>\n",
       "      <td>-0.983396</td>\n",
       "      <td>11.352948</td>\n",
       "    </tr>\n",
       "    <tr>\n",
       "      <th>18</th>\n",
       "      <td>0.877291</td>\n",
       "      <td>0.103856</td>\n",
       "      <td>0.244520</td>\n",
       "      <td>12.238544</td>\n",
       "    </tr>\n",
       "    <tr>\n",
       "      <th>19</th>\n",
       "      <td>0.945683</td>\n",
       "      <td>0.300591</td>\n",
       "      <td>-0.581410</td>\n",
       "      <td>11.984290</td>\n",
       "    </tr>\n",
       "  </tbody>\n",
       "</table>\n",
       "</div>"
      ],
      "text/plain": [
       "       theta      aux1      aux2  time_spent\n",
       "0   0.039063  0.539840  0.968205   10.797684\n",
       "1   0.051194 -1.775282  0.869624   10.876481\n",
       "2   0.060045  1.314877  0.567783   10.292749\n",
       "3   0.067900 -0.473448  0.465282   10.787566\n",
       "4   0.191521 -1.092230 -1.165373    9.518448\n",
       "5   0.282988 -0.250027 -2.035995    9.180788\n",
       "6   0.294665 -0.982294 -1.155413    9.900636\n",
       "7   0.357814  1.031269  3.345157   12.848234\n",
       "8   0.483529  0.491334  0.126727   10.927435\n",
       "9   0.530587 -0.446647 -0.694179    9.889276\n",
       "10  0.551751 -0.806360  0.557674   11.337371\n",
       "11  0.575603  0.131268  0.099147   11.439969\n",
       "12  0.597513 -1.212560  0.637926   11.883922\n",
       "14  0.652419 -0.755223 -0.916093   11.734525\n",
       "15  0.656334  0.349896 -0.786014   11.188444\n",
       "16  0.786985  0.977542  1.119182   12.191443\n",
       "17  0.864042 -0.138585 -0.983396   11.352948\n",
       "18  0.877291  0.103856  0.244520   12.238544\n",
       "19  0.945683  0.300591 -0.581410   11.984290"
      ]
     },
     "execution_count": 52,
     "metadata": {},
     "output_type": "execute_result"
    }
   ],
   "source": [
    "df1 = df.drop(innormal_time_spent)\n",
    "df1"
   ]
  },
  {
   "cell_type": "code",
   "execution_count": 53,
   "metadata": {},
   "outputs": [
    {
     "data": {
      "image/png": "[encoded data removed]",
      "text/plain": [
       "<Figure size 1440x288 with 3 Axes>"
      ]
     },
     "metadata": {
      "needs_background": "light"
     },
     "output_type": "display_data"
    }
   ],
   "source": [
    "plt.figure(figsize = (20,4))\n",
    "plt.subplot(1,3,1)\n",
    "x = df1['theta']\n",
    "y = df1['time_spent']\n",
    "plt.plot(x,y,'o')\n",
    "plt.xlabel(\"theta\")\n",
    "plt.ylabel(\"time_spent\");\n",
    "######################\n",
    "plt.subplot(1,3,2)\n",
    "x = df1['aux1']\n",
    "y = df1['time_spent']\n",
    "plt.plot(x,y,'o')\n",
    "plt.xlabel(\"aux1\")\n",
    "plt.ylabel(\"time_spent\");\n",
    "######################\n",
    "plt.subplot(1,3,3)\n",
    "x = df1['aux2']\n",
    "y = df1['time_spent']\n",
    "plt.plot(x,y,'o')\n",
    "plt.xlabel(\"aux2\")\n",
    "plt.ylabel(\"time_spent\");"
   ]
  },
  {
   "cell_type": "markdown",
   "metadata": {},
   "source": [
    "I remove the data which index is 13 and prepare the data into Pandas.DataFrame."
   ]
  },
  {
   "cell_type": "markdown",
   "metadata": {},
   "source": [
    "## 2. Build a model  \n",
    "\n",
    "Write functions to run a regression, calculate the regression statistics listed below, and print a report.\n",
    "- B (regressor coefficients plus one for an intercept, if appropriate)\n",
    "- R2\n",
    "- RSS\n",
    "- RegSS\n",
    "- TSS\n",
    "- t statistic for each regressor coefficient\n",
    "\n",
    "I found it useful to decompose the problem into three functions: `regress_calc()`, `regress_tstat()`, and `regress_report()`. You may write it however you see fit.  \n",
    "\n",
    "You may include either, both, or neither of *aux1* and *aux2* in your final model. Experiment. What works best? Justify your decision."
   ]
  },
  {
   "cell_type": "code",
   "execution_count": 397,
   "metadata": {},
   "outputs": [],
   "source": [
    "class regress_report:\n",
    "    def regress_report_one(self):\n",
    "        print(f'The A = {self.A}, B = {self.B}, R2 = {self.R2}, RSS = {self.RSS}, RegSS = {self.RegSS}, TSS = {self.TSS}, t_A = {self.t_A}, t_B = {self.t_B}')\n",
    "    def regress_report_two(self):\n",
    "        print(f'The B1 = {self.B1}, B2 = {self.B2}, R2 = {self.R2}, RSS = {self.RSS}, RegSS = {self.RegSS}, TSS = {self.TSS}, t_B1 = {self.t_B1}, t_B2 = {self.t_B2}')\n",
    "    def regress_report_three(self):\n",
    "        print(f'The B1 = {self.B1}, B2 = {self.B2}, B3 = {self.B2}, R2 = {self.R2}, RSS = {self.RSS}, RegSS = {self.RegSS}, TSS = {self.TSS}, t_B1 = {self.t_B1}, t_B2 = {self.t_B2}, t_B3 = {self.t_B3}')"
   ]
  },
  {
   "cell_type": "code",
   "execution_count": 398,
   "metadata": {},
   "outputs": [],
   "source": [
    "def regress_calc(x, y, A, B, regress_report):\n",
    "    yhat = A + B*x\n",
    "    eps = y - yhat\n",
    "    TSS = ( (y-y.mean())**2 ).sum()\n",
    "    RSS = ( (y-yhat)**2 ).sum()\n",
    "    RegSS = TSS - RSS\n",
    "    R2 = RegSS / TSS\n",
    "    regress_report.R2 = R2\n",
    "    regress_report.RSS = RSS\n",
    "    regress_report.RegSS = RegSS\n",
    "    regress_report.TSS = TSS\n",
    "    print(f'R2 = {R2}, RSS = {RSS}, RegSS = {RegSS}, TSS = {TSS}')"
   ]
  },
  {
   "cell_type": "code",
   "execution_count": 399,
   "metadata": {},
   "outputs": [],
   "source": [
    "def regress_calc_two(x1, x2, y, A, B1, B2, regress_report):\n",
    "    yhat = A + B1*x1+B2*x2\n",
    "    eps = y - yhat\n",
    "    TSS = ( (y-y.mean())**2 ).sum()\n",
    "    RSS = ( (y-yhat)**2 ).sum()\n",
    "    RegSS = TSS - RSS\n",
    "    R2 = RegSS / TSS\n",
    "    regress_report.R2 = R2\n",
    "    regress_report.RSS = RSS\n",
    "    regress_report.RegSS = RegSS\n",
    "    regress_report.TSS = TSS\n",
    "    print(f'R2 = {R2}, RSS = {RSS}, RegSS = {RegSS}, TSS = {TSS}')"
   ]
  },
  {
   "cell_type": "code",
   "execution_count": 400,
   "metadata": {},
   "outputs": [],
   "source": [
    "def regress_calc_three(x1, x2, x3 , y, A, B1, B2, B3, regress_report):\n",
    "    yhat = A + B1*x1+B2*x2+B3*x3\n",
    "    eps = y - yhat\n",
    "    TSS = ( (y-y.mean())**2 ).sum()\n",
    "    RSS = ( (y-yhat)**2 ).sum()\n",
    "    RegSS = TSS - RSS\n",
    "    R2 = RegSS / TSS\n",
    "    regress_report.R2 = R2\n",
    "    regress_report.RSS = RSS\n",
    "    regress_report.RegSS = RegSS\n",
    "    regress_report.TSS = TSS\n",
    "    print(f'R2 = {R2}, RSS = {RSS}, RegSS = {RegSS}, TSS = {TSS}')"
   ]
  },
  {
   "cell_type": "code",
   "execution_count": 401,
   "metadata": {},
   "outputs": [],
   "source": [
    "def regress_tstat(x, y, A, B, k, regress_report):\n",
    "    yhat = A + B*x\n",
    "    E = y-yhat\n",
    "\n",
    "    SSE = (E**2).sum()\n",
    "    RegSS = ((yhat - y.mean())**2).sum()\n",
    "    TSS = SSE + RegSS\n",
    "    n = len(x)\n",
    "    # SE is estimate of sigma_eps, standard error of yhat\n",
    "    SE = np.sqrt( SSE / (n - k - 1) )\n",
    "    SSX = ((x-x.mean())**2).sum()\n",
    "    SE_B = np.sqrt(SE**2 / SSX)\n",
    "    SE_A = SE_B * np.sqrt((x**2).sum())\n",
    "    t_A = A / SE_A\n",
    "    t_B = B / SE_B\n",
    "    regress_report.t_A = t_A\n",
    "    regress_report.t_B = t_B\n",
    "    #print(f\"'t_A':{t_A}, 't_B':{t_B}\")"
   ]
  },
  {
   "cell_type": "code",
   "execution_count": 364,
   "metadata": {},
   "outputs": [],
   "source": [
    "def regress_tstat_two(x1,x2, y, A, B1, B2, k, regress_report):\n",
    "    yhat = A + B1*x1+B2*x2\n",
    "    E = y-yhat\n",
    "\n",
    "    SSE = (E**2).sum()\n",
    "    RegSS = ((yhat - y.mean())**2).sum()\n",
    "    TSS = SSE + RegSS\n",
    "    n = len(x)\n",
    "    # SE is estimate of sigma_eps, standard error of yhat\n",
    "    SE = np.sqrt( SSE / (n - k - 1) )\n",
    "    SSX1 = ((x1-x1.mean())**2).sum()\n",
    "    SE_B1 = np.sqrt(SE**2 / SSX1)\n",
    "    SSX2 = ((x2-x2.mean())**2).sum()\n",
    "    SE_B2 = np.sqrt(SE**2 / SSX2)\n",
    "    \n",
    "    #SE_A = SE_B * np.sqrt((x**2).sum())\n",
    "    \n",
    "    \n",
    "    #t_A = A / SE_A\n",
    "    t_B1 = B1 / SE_B1\n",
    "    t_B2 = B2 / SE_B2\n",
    "    #regress_report.t_A = t_A\n",
    "    regress_report.t_B1 = t_B1\n",
    "    regress_report.t_B2 = t_B2\n",
    "    #print(f\"'t_A':{t_A}, 't_B':{t_B}\")"
   ]
  },
  {
   "cell_type": "code",
   "execution_count": 402,
   "metadata": {},
   "outputs": [],
   "source": [
    "def regress_tstat_three(x1, x2, x3 , y, A, B1, B2, B3, k, regress_report):\n",
    "    yhat = A + B1*x1+B2*x2+B3*x3\n",
    "    E = y-yhat\n",
    "\n",
    "    SSE = (E**2).sum()\n",
    "    RegSS = ((yhat - y.mean())**2).sum()\n",
    "    TSS = SSE + RegSS\n",
    "    n = len(x)\n",
    "    # SE is estimate of sigma_eps, standard error of yhat\n",
    "    SE = np.sqrt( SSE / (n - k - 1) )\n",
    "    SSX1 = ((x1-x1.mean())**2).sum()\n",
    "    SE_B1 = np.sqrt(SE**2 / SSX1)\n",
    "    SSX2 = ((x2-x2.mean())**2).sum()\n",
    "    SE_B2 = np.sqrt(SE**2 / SSX2)\n",
    "    SSX3 = ((x3-x3.mean())**2).sum()\n",
    "    SE_B3 = np.sqrt(SE**2 / SSX3)\n",
    "    \n",
    "    #SE_A = SE_B * np.sqrt((x**2).sum())\n",
    "    \n",
    "    \n",
    "    #t_A = A / SE_A\n",
    "    t_B1 = B1 / SE_B1\n",
    "    t_B2 = B2 / SE_B2\n",
    "    t_B3 = B3 / SE_B3\n",
    "    #regress_report.t_A = t_A\n",
    "    regress_report.t_B1 = t_B1\n",
    "    regress_report.t_B2 = t_B2\n",
    "    regress_report.t_B3 = t_B3\n",
    "    #print(f\"'t_A':{t_A}, 't_B':{t_B}\")"
   ]
  },
  {
   "cell_type": "markdown",
   "metadata": {},
   "source": [
    "# A: theta and time_spent"
   ]
  },
  {
   "cell_type": "code",
   "execution_count": 403,
   "metadata": {},
   "outputs": [],
   "source": [
    "theta_report = regress_report()"
   ]
  },
  {
   "cell_type": "code",
   "execution_count": 404,
   "metadata": {},
   "outputs": [
    {
     "name": "stdout",
     "output_type": "stream",
     "text": [
      "A=10.187390486858531, B=1.8958469391274815\n"
     ]
    }
   ],
   "source": [
    "x = df1['theta']\n",
    "y = df1['time_spent']\n",
    "ym = y-y.mean()\n",
    "xm = x-x.mean()\n",
    "B = (xm*ym).sum() / (xm**2).sum()\n",
    "A = y.mean() - B * x.mean()\n",
    "print(f'A={A}, B={B}')\n",
    "theta_report.A = A\n",
    "theta_report.B = B"
   ]
  },
  {
   "cell_type": "code",
   "execution_count": 405,
   "metadata": {},
   "outputs": [
    {
     "data": {
      "image/png": "[encoded data removed]",
      "text/plain": [
       "<Figure size 432x288 with 1 Axes>"
      ]
     },
     "metadata": {
      "needs_background": "light"
     },
     "output_type": "display_data"
    }
   ],
   "source": [
    "x = df1['theta']\n",
    "y = df1['time_spent']\n",
    "plt.plot(x,y,'o')\n",
    "plt.plot(x,A+B*x,'-')\n",
    "plt.xlabel(\"theta\")\n",
    "plt.ylabel(\"time_spent\");"
   ]
  },
  {
   "cell_type": "code",
   "execution_count": 406,
   "metadata": {},
   "outputs": [
    {
     "name": "stdout",
     "output_type": "stream",
     "text": [
      "R2 = 0.32716648001512477, RSS = 11.829337228295257, RegSS = 5.752035989497417, TSS = 17.581373217792674\n"
     ]
    }
   ],
   "source": [
    "regress_calc(x, y, A, B, theta_report)"
   ]
  },
  {
   "cell_type": "code",
   "execution_count": 407,
   "metadata": {},
   "outputs": [],
   "source": [
    "regress_tstat(x, y, A, B, 1, theta_report)"
   ]
  },
  {
   "cell_type": "code",
   "execution_count": 408,
   "metadata": {},
   "outputs": [
    {
     "name": "stdout",
     "output_type": "stream",
     "text": [
      "The A = 10.187390486858531, B = 1.8958469391274815, R2 = 0.32716648001512477, RSS = 11.829337228295257, RegSS = 5.752035989497417, TSS = 17.581373217792674, t_A = 6.449417226514113, t_B = 2.875113882530189\n"
     ]
    }
   ],
   "source": [
    "theta_report.regress_report_one()"
   ]
  },
  {
   "cell_type": "markdown",
   "metadata": {},
   "source": [
    "# B theta, aux1 and time_spent"
   ]
  },
  {
   "cell_type": "code",
   "execution_count": 409,
   "metadata": {},
   "outputs": [],
   "source": [
    "theta_aux1_report = regress_report()"
   ]
  },
  {
   "cell_type": "code",
   "execution_count": 410,
   "metadata": {},
   "outputs": [
    {
     "name": "stdout",
     "output_type": "stream",
     "text": [
      "A=10.283645737202518, B1=1.7739870140974547, B2 = 0.27796261954851154\n"
     ]
    }
   ],
   "source": [
    "x = df1[['theta','aux1']].values\n",
    "y = df1['time_spent'].values\n",
    "ones = np.ones(x.shape[0]).reshape(-1,1)\n",
    "x = np.hstack((x,ones))\n",
    "w_ = np.dot(np.dot(np.linalg.inv(np.dot(x.T,x)),x.T),y)\n",
    "w_\n",
    "B1 = w_[0]\n",
    "B2 = w_[1]\n",
    "A = w_[2]\n",
    "print(f'A={A}, B1={B1}, B2 = {B2}')\n",
    "theta_aux1_report.A = A\n",
    "theta_aux1_report.B1 = B1\n",
    "theta_aux1_report.B2 = B2"
   ]
  },
  {
   "cell_type": "code",
   "execution_count": 411,
   "metadata": {},
   "outputs": [
    {
     "name": "stdout",
     "output_type": "stream",
     "text": [
      "R2 = 0.3813885891979515, RSS = 10.876038090096078, RegSS = 6.705335127696596, TSS = 17.581373217792674\n"
     ]
    }
   ],
   "source": [
    "regress_calc_two(df1['theta'], df1['aux1'], df1['time_spent'], A, B1, B2, theta_aux1_report)"
   ]
  },
  {
   "cell_type": "code",
   "execution_count": 412,
   "metadata": {},
   "outputs": [],
   "source": [
    "regress_tstat_two(df1['theta'],df1['aux1'], df1['time_spent'], A, B1, B2, 2, theta_aux1_report)"
   ]
  },
  {
   "cell_type": "code",
   "execution_count": 413,
   "metadata": {},
   "outputs": [
    {
     "name": "stdout",
     "output_type": "stream",
     "text": [
      "The B1 = 1.7739870140974547, B2 = 0.27796261954851154, R2 = 0.3813885891979515, RSS = 10.876038090096078, RegSS = 6.705335127696596, TSS = 17.581373217792674, t_B1 = 2.7219653559738193, t_B2 = 1.1989088235582022\n"
     ]
    }
   ],
   "source": [
    "theta_aux1_report.regress_report_two()"
   ]
  },
  {
   "cell_type": "markdown",
   "metadata": {},
   "source": [
    "# C theta, aux2 and time_spent"
   ]
  },
  {
   "cell_type": "code",
   "execution_count": 414,
   "metadata": {},
   "outputs": [],
   "source": [
    "theta_aux2_report = regress_report()"
   ]
  },
  {
   "cell_type": "code",
   "execution_count": 415,
   "metadata": {},
   "outputs": [
    {
     "name": "stdout",
     "output_type": "stream",
     "text": [
      "A=9.964892697273083, B1=2.32425661377999, B2 = 0.6274650811528504\n"
     ]
    }
   ],
   "source": [
    "x = df1[['theta','aux2']].values\n",
    "y = df1['time_spent'].values\n",
    "ones = np.ones(x.shape[0]).reshape(-1,1)\n",
    "x = np.hstack((x,ones))\n",
    "w_ = np.dot(np.dot(np.linalg.inv(np.dot(x.T,x)),x.T),y)\n",
    "w_\n",
    "B1 = w_[0]\n",
    "B2 = w_[1]\n",
    "A = w_[2]\n",
    "print(f'A={A}, B1={B1}, B2 = {B2}')\n",
    "theta_aux2_report.A = A\n",
    "theta_aux2_report.B1 = B1\n",
    "theta_aux2_report.B2 = B2"
   ]
  },
  {
   "cell_type": "code",
   "execution_count": 416,
   "metadata": {},
   "outputs": [
    {
     "name": "stdout",
     "output_type": "stream",
     "text": [
      "R2 = 0.8823200761284402, RSS = 2.0689746618273235, RegSS = 15.512398555965351, TSS = 17.581373217792674\n"
     ]
    }
   ],
   "source": [
    "regress_calc_two(df1['theta'], df1['aux2'], df1['time_spent'], A, B1, B2, theta_aux2_report)"
   ]
  },
  {
   "cell_type": "code",
   "execution_count": 417,
   "metadata": {},
   "outputs": [],
   "source": [
    "regress_tstat_two(df1['theta'],df1['aux2'], df1['time_spent'], A, B1, B2, 2, theta_aux2_report)"
   ]
  },
  {
   "cell_type": "code",
   "execution_count": 418,
   "metadata": {},
   "outputs": [
    {
     "name": "stdout",
     "output_type": "stream",
     "text": [
      "The B1 = 2.32425661377999, B2 = 0.6274650811528504, R2 = 0.8823200761284402, RSS = 2.0689746618273235, RegSS = 15.512398555965351, TSS = 17.581373217792674, t_B1 = 8.176623606282002, t_B2 = 8.817665709760577\n"
     ]
    }
   ],
   "source": [
    "theta_aux2_report.regress_report_two()"
   ]
  },
  {
   "cell_type": "markdown",
   "metadata": {},
   "source": [
    "# D theta, aux1, aux2 and time_spent"
   ]
  },
  {
   "cell_type": "code",
   "execution_count": 426,
   "metadata": {},
   "outputs": [],
   "source": [
    "theta_aux1_aux2_report = regress_report()"
   ]
  },
  {
   "cell_type": "code",
   "execution_count": 427,
   "metadata": {},
   "outputs": [
    {
     "name": "stdout",
     "output_type": "stream",
     "text": [
      "A=9.920094669515052, B1=2.3876759043922746, B2 = -0.10000621109209118, B3 = 0.6561370794126671\n"
     ]
    }
   ],
   "source": [
    "x = df1[['theta','aux1','aux2']].values\n",
    "y = df1['time_spent'].values\n",
    "ones = np.ones(x.shape[0]).reshape(-1,1)\n",
    "x = np.hstack((x,ones))\n",
    "w_ = np.dot(np.dot(np.linalg.inv(np.dot(x.T,x)),x.T),y)\n",
    "w_\n",
    "B1 = w_[0]\n",
    "B2 = w_[1]\n",
    "B3 = w_[2]\n",
    "A = w_[3]\n",
    "print(f'A={A}, B1={B1}, B2 = {B2}, B3 = {B3}')\n",
    "theta_aux1_aux2_report.A = A\n",
    "theta_aux1_aux2_report.B1 = B1\n",
    "theta_aux1_aux2_report.B2 = B2\n",
    "theta_aux1_aux2_report.B3 = B3"
   ]
  },
  {
   "cell_type": "code",
   "execution_count": 428,
   "metadata": {},
   "outputs": [
    {
     "name": "stdout",
     "output_type": "stream",
     "text": [
      "R2 = 0.888179612859572, RSS = 1.9659559596739293, RegSS = 15.615417258118745, TSS = 17.581373217792674\n"
     ]
    }
   ],
   "source": [
    "regress_calc_three(df1['theta'], df1['aux1'],df1['aux2'], df1['time_spent'], A, B1, B2, B3, theta_aux1_aux2_report)"
   ]
  },
  {
   "cell_type": "code",
   "execution_count": 429,
   "metadata": {},
   "outputs": [],
   "source": [
    "regress_tstat_three(df1['theta'],df1['aux1'], df1['aux2'], df1['time_spent'], A, B1, B2, B3, 3, theta_aux1_aux2_report)"
   ]
  },
  {
   "cell_type": "code",
   "execution_count": 430,
   "metadata": {},
   "outputs": [
    {
     "name": "stdout",
     "output_type": "stream",
     "text": [
      "The B1 = 2.3876759043922746, B2 = -0.10000621109209118, B3 = -0.10000621109209118, R2 = 0.888179612859572, RSS = 1.9659559596739293, RegSS = 15.615417258118745, TSS = 17.581373217792674, t_B1 = 8.343372612058136, t_B2 = -0.9823377640482508, t_B3 = 9.158724197282332\n"
     ]
    }
   ],
   "source": [
    "theta_aux1_aux2_report.regress_report_three()"
   ]
  },
  {
   "cell_type": "markdown",
   "metadata": {},
   "source": [
    "From these four experiences, from the value of R2, I think (theta, aux2, time_spent) and (theta, aux1, aux2, time_spent) is good. And combined with the t value, I think theta, aux2 is the best in the linear relationship with time_spent."
   ]
  },
  {
   "cell_type": "markdown",
   "metadata": {},
   "source": [
    "## 3. Propose a setting for *theta*\n",
    "\n",
    "Now that you have a model built, you should be able to plot estimated *time_spent* vs. *theta* over a reasonable range of *theta*.  By inspecting that plot -- and knowning that the company wants to maximize the time users spend on the app -- which value of *theta* would you propose the engineers use? Explain how the data and your model support your decision.\n",
    "\n",
    "The engineer's have capacity to take another set of measurements. Which settings of *theta* do you suggest they measure? Why?\n"
   ]
  },
  {
   "cell_type": "code",
   "execution_count": 432,
   "metadata": {},
   "outputs": [],
   "source": [
    "A = theta_aux2_report.A\n",
    "B1 = theta_aux2_report.B1\n",
    "B2 = theta_aux2_report.B2"
   ]
  },
  {
   "cell_type": "code",
   "execution_count": 433,
   "metadata": {},
   "outputs": [
    {
     "data": {
      "text/html": [
       "<div>\n",
       "<style scoped>\n",
       "    .dataframe tbody tr th:only-of-type {\n",
       "        vertical-align: middle;\n",
       "    }\n",
       "\n",
       "    .dataframe tbody tr th {\n",
       "        vertical-align: top;\n",
       "    }\n",
       "\n",
       "    .dataframe thead th {\n",
       "        text-align: right;\n",
       "    }\n",
       "</style>\n",
       "<table border=\"1\" class=\"dataframe\">\n",
       "  <thead>\n",
       "    <tr style=\"text-align: right;\">\n",
       "      <th></th>\n",
       "      <th>theta</th>\n",
       "      <th>aux1</th>\n",
       "      <th>aux2</th>\n",
       "      <th>time_spent</th>\n",
       "    </tr>\n",
       "  </thead>\n",
       "  <tbody>\n",
       "    <tr>\n",
       "      <th>0</th>\n",
       "      <td>0.039063</td>\n",
       "      <td>0.539840</td>\n",
       "      <td>0.968205</td>\n",
       "      <td>10.797684</td>\n",
       "    </tr>\n",
       "    <tr>\n",
       "      <th>1</th>\n",
       "      <td>0.051194</td>\n",
       "      <td>-1.775282</td>\n",
       "      <td>0.869624</td>\n",
       "      <td>10.876481</td>\n",
       "    </tr>\n",
       "    <tr>\n",
       "      <th>2</th>\n",
       "      <td>0.060045</td>\n",
       "      <td>1.314877</td>\n",
       "      <td>0.567783</td>\n",
       "      <td>10.292749</td>\n",
       "    </tr>\n",
       "    <tr>\n",
       "      <th>3</th>\n",
       "      <td>0.067900</td>\n",
       "      <td>-0.473448</td>\n",
       "      <td>0.465282</td>\n",
       "      <td>10.787566</td>\n",
       "    </tr>\n",
       "    <tr>\n",
       "      <th>4</th>\n",
       "      <td>0.191521</td>\n",
       "      <td>-1.092230</td>\n",
       "      <td>-1.165373</td>\n",
       "      <td>9.518448</td>\n",
       "    </tr>\n",
       "    <tr>\n",
       "      <th>5</th>\n",
       "      <td>0.282988</td>\n",
       "      <td>-0.250027</td>\n",
       "      <td>-2.035995</td>\n",
       "      <td>9.180788</td>\n",
       "    </tr>\n",
       "    <tr>\n",
       "      <th>6</th>\n",
       "      <td>0.294665</td>\n",
       "      <td>-0.982294</td>\n",
       "      <td>-1.155413</td>\n",
       "      <td>9.900636</td>\n",
       "    </tr>\n",
       "    <tr>\n",
       "      <th>7</th>\n",
       "      <td>0.357814</td>\n",
       "      <td>1.031269</td>\n",
       "      <td>3.345157</td>\n",
       "      <td>12.848234</td>\n",
       "    </tr>\n",
       "    <tr>\n",
       "      <th>8</th>\n",
       "      <td>0.483529</td>\n",
       "      <td>0.491334</td>\n",
       "      <td>0.126727</td>\n",
       "      <td>10.927435</td>\n",
       "    </tr>\n",
       "    <tr>\n",
       "      <th>9</th>\n",
       "      <td>0.530587</td>\n",
       "      <td>-0.446647</td>\n",
       "      <td>-0.694179</td>\n",
       "      <td>9.889276</td>\n",
       "    </tr>\n",
       "    <tr>\n",
       "      <th>10</th>\n",
       "      <td>0.551751</td>\n",
       "      <td>-0.806360</td>\n",
       "      <td>0.557674</td>\n",
       "      <td>11.337371</td>\n",
       "    </tr>\n",
       "    <tr>\n",
       "      <th>11</th>\n",
       "      <td>0.575603</td>\n",
       "      <td>0.131268</td>\n",
       "      <td>0.099147</td>\n",
       "      <td>11.439969</td>\n",
       "    </tr>\n",
       "    <tr>\n",
       "      <th>12</th>\n",
       "      <td>0.597513</td>\n",
       "      <td>-1.212560</td>\n",
       "      <td>0.637926</td>\n",
       "      <td>11.883922</td>\n",
       "    </tr>\n",
       "    <tr>\n",
       "      <th>14</th>\n",
       "      <td>0.652419</td>\n",
       "      <td>-0.755223</td>\n",
       "      <td>-0.916093</td>\n",
       "      <td>11.734525</td>\n",
       "    </tr>\n",
       "    <tr>\n",
       "      <th>15</th>\n",
       "      <td>0.656334</td>\n",
       "      <td>0.349896</td>\n",
       "      <td>-0.786014</td>\n",
       "      <td>11.188444</td>\n",
       "    </tr>\n",
       "    <tr>\n",
       "      <th>16</th>\n",
       "      <td>0.786985</td>\n",
       "      <td>0.977542</td>\n",
       "      <td>1.119182</td>\n",
       "      <td>12.191443</td>\n",
       "    </tr>\n",
       "    <tr>\n",
       "      <th>17</th>\n",
       "      <td>0.864042</td>\n",
       "      <td>-0.138585</td>\n",
       "      <td>-0.983396</td>\n",
       "      <td>11.352948</td>\n",
       "    </tr>\n",
       "    <tr>\n",
       "      <th>18</th>\n",
       "      <td>0.877291</td>\n",
       "      <td>0.103856</td>\n",
       "      <td>0.244520</td>\n",
       "      <td>12.238544</td>\n",
       "    </tr>\n",
       "    <tr>\n",
       "      <th>19</th>\n",
       "      <td>0.945683</td>\n",
       "      <td>0.300591</td>\n",
       "      <td>-0.581410</td>\n",
       "      <td>11.984290</td>\n",
       "    </tr>\n",
       "  </tbody>\n",
       "</table>\n",
       "</div>"
      ],
      "text/plain": [
       "       theta      aux1      aux2  time_spent\n",
       "0   0.039063  0.539840  0.968205   10.797684\n",
       "1   0.051194 -1.775282  0.869624   10.876481\n",
       "2   0.060045  1.314877  0.567783   10.292749\n",
       "3   0.067900 -0.473448  0.465282   10.787566\n",
       "4   0.191521 -1.092230 -1.165373    9.518448\n",
       "5   0.282988 -0.250027 -2.035995    9.180788\n",
       "6   0.294665 -0.982294 -1.155413    9.900636\n",
       "7   0.357814  1.031269  3.345157   12.848234\n",
       "8   0.483529  0.491334  0.126727   10.927435\n",
       "9   0.530587 -0.446647 -0.694179    9.889276\n",
       "10  0.551751 -0.806360  0.557674   11.337371\n",
       "11  0.575603  0.131268  0.099147   11.439969\n",
       "12  0.597513 -1.212560  0.637926   11.883922\n",
       "14  0.652419 -0.755223 -0.916093   11.734525\n",
       "15  0.656334  0.349896 -0.786014   11.188444\n",
       "16  0.786985  0.977542  1.119182   12.191443\n",
       "17  0.864042 -0.138585 -0.983396   11.352948\n",
       "18  0.877291  0.103856  0.244520   12.238544\n",
       "19  0.945683  0.300591 -0.581410   11.984290"
      ]
     },
     "execution_count": 433,
     "metadata": {},
     "output_type": "execute_result"
    }
   ],
   "source": [
    "df1"
   ]
  },
  {
   "cell_type": "code",
   "execution_count": 446,
   "metadata": {},
   "outputs": [
    {
     "data": {
      "image/png": "[encoded data removed]",
      "text/plain": [
       "<Figure size 432x288 with 1 Axes>"
      ]
     },
     "metadata": {
      "needs_background": "light"
     },
     "output_type": "display_data"
    }
   ],
   "source": [
    "fig = plt.figure()\n",
    "ax = Axes3D(fig)\n",
    "ax.scatter(df1['theta'], df1['aux2'], df1['time_spent'])\n",
    "ax.set_zlabel('Z——time_spent', fontdict={'size': 15, 'color': 'red'})\n",
    "ax.set_ylabel('Y——aux2', fontdict={'size': 15, 'color': 'red'})\n",
    "ax.set_xlabel('X——theta', fontdict={'size': 15, 'color': 'red'})\n",
    "plt.show()"
   ]
  },
  {
   "cell_type": "code",
   "execution_count": 447,
   "metadata": {},
   "outputs": [
    {
     "data": {
      "image/png": "[encoded data removed]",
      "text/plain": [
       "<Figure size 432x288 with 1 Axes>"
      ]
     },
     "metadata": {
      "needs_background": "light"
     },
     "output_type": "display_data"
    }
   ],
   "source": [
    "fig = plt.figure()\n",
    "ax = Axes3D(fig)\n",
    "ax.scatter(df1['theta'], df1['aux2'], A+B1*df1['theta']+B2*df1['aux2'])\n",
    "ax.set_zlabel('Z——time_spent', fontdict={'size': 15, 'color': 'red'})\n",
    "ax.set_ylabel('Y——aux2', fontdict={'size': 15, 'color': 'red'})\n",
    "ax.set_xlabel('X——theta', fontdict={'size': 15, 'color': 'red'})\n",
    "plt.show()"
   ]
  },
  {
   "cell_type": "markdown",
   "metadata": {},
   "source": [
    "We can know that the theta in the interval between 0.2 to 0.4 has a largest time_soent, so we should consider these interval."
   ]
  },
  {
   "cell_type": "code",
   "execution_count": 480,
   "metadata": {},
   "outputs": [
    {
     "data": {
      "image/png": "[encoded data removed]",
      "text/plain": [
       "<Figure size 432x288 with 1 Axes>"
      ]
     },
     "metadata": {
      "needs_background": "light"
     },
     "output_type": "display_data"
    }
   ],
   "source": [
    "fig = plt.figure()\n",
    "i = 0.191521\n",
    "xx = np.arange(0.1915, 0.4835, 0.0001)\n",
    "xx\n",
    "for i in xx:\n",
    "    plt.plot(df1['aux2'],A+B1*i+B2*df1['aux2'],'o')\n",
    "plt.xlabel('aux2')\n",
    "plt.ylabel('time_spent')\n",
    "plt.show();"
   ]
  },
  {
   "cell_type": "code",
   "execution_count": 481,
   "metadata": {},
   "outputs": [
    {
     "data": {
      "text/plain": [
       "0.48339999999996786"
      ]
     },
     "execution_count": 481,
     "metadata": {},
     "output_type": "execute_result"
    }
   ],
   "source": [
    "maxtime = -1\n",
    "bestthea = 0\n",
    "for i in xx:\n",
    "    if maxtime<(A+B1*i+B2*df1['aux2']).mean():\n",
    "        maxtime = (A+B1*df1['aux2']+B2*i).mean()\n",
    "        bestthea = i\n",
    "bestthea"
   ]
  },
  {
   "cell_type": "code",
   "execution_count": 482,
   "metadata": {},
   "outputs": [
    {
     "data": {
      "text/plain": [
       "10.351803640969928"
      ]
     },
     "execution_count": 482,
     "metadata": {},
     "output_type": "execute_result"
    }
   ],
   "source": [
    "maxtime"
   ]
  },
  {
   "cell_type": "code",
   "execution_count": 483,
   "metadata": {},
   "outputs": [
    {
     "data": {
      "image/png": "[encoded data removed]",
      "text/plain": [
       "<Figure size 432x288 with 1 Axes>"
      ]
     },
     "metadata": {
      "needs_background": "light"
     },
     "output_type": "display_data"
    }
   ],
   "source": [
    "#3.345157\n",
    "fig = plt.figure()\n",
    "xx = np.arange(0.1915, 0.4835, 0.0001)\n",
    "plt.plot(xx,A+B1*xx+B2*3.345157,'o')\n",
    "plt.xlabel('theta')\n",
    "plt.ylabel('time_spent')\n",
    "plt.show();"
   ]
  },
  {
   "cell_type": "code",
   "execution_count": 484,
   "metadata": {},
   "outputs": [
    {
     "name": "stdout",
     "output_type": "stream",
     "text": [
      "maxtime = 13.187407552848281, bestthea = 0.48339999999996786\n"
     ]
    }
   ],
   "source": [
    "maxtime = -1\n",
    "bestthea = 0\n",
    "for i in xx:\n",
    "    if maxtime<(A+B1*i+B2*3.345157):\n",
    "        maxtime = A+B1*i+B2*3.345157\n",
    "        bestthea = i\n",
    "print(f'maxtime = {maxtime}, bestthea = {bestthea}')"
   ]
  },
  {
   "cell_type": "markdown",
   "metadata": {},
   "source": [
    "I propose the engineers use theta = 0.48339999999996786 and aux2=3.345157. Because in my model when best theta = 0.48339999999996786, it has the longest time_spent for the user in APP."
   ]
  },
  {
   "cell_type": "markdown",
   "metadata": {},
   "source": [
    "If the engineers have the capacity to take another set of measurements, I suggest they use theta=0.357814 when aux2=3.345157 and theta=0.945683 when aux2=3.345157. Because theta=0.357814 has the best performance in origin data, it may be will have a good performance in APP. And in our model, B is greater than 0, which means that it has a strong linear relationship between theta and time_spent in that interval. As the theta increase, the time_spent will increase. So we better test the largest theta in that interval. Compare them the pick up the largest."
   ]
  },
  {
   "cell_type": "markdown",
   "metadata": {},
   "source": [
    "## 4. Experiment or observation?\n",
    "\n",
    "Is this data set experimental or observational? Explain clearly. Consider how the effect of *theta* on *time_spent* differs from the effect of *aux1* or *aux2*."
   ]
  },
  {
   "cell_type": "markdown",
   "metadata": {},
   "source": [
    "theta and time_spent are experimental because the engineer set the different values for it to do such an experience and record it. aux1, aux2 and time_spent are observational because the engineer collects them from theta experience and identified these two auxiliary features. From our analysis, we can see that all of the B1 is greater than 1 whatever it combine with aux1, aux2 or not and B2, B3 are less than 1. So theta has a bigger influence for time_spent than aux1 and aux2. On the other hand, aux2 has a more obvious linear relationship with time_spent than theta and aux1, so we are better to consider using theta and aux2."
   ]
  },
  {
   "cell_type": "markdown",
   "metadata": {},
   "source": [
    "## Presentation \n",
    "\n",
    "You will give a 5 minute presentation in class. Your presentation should focus on step 3, above: Summarize your results, display any relevant visualization, and provide guidance to the engineers in the form of recommended setting for *theta*. Also please let the engineers know which value(s) of *theta* you think they should measure next."
   ]
  },
  {
   "cell_type": "code",
   "execution_count": null,
   "metadata": {},
   "outputs": [],
   "source": []
  }
 ],
 "metadata": {
  "kernelspec": {
   "display_name": "Python 3",
   "language": "python",
   "name": "python3"
  },
  "language_info": {
   "codemirror_mode": {
    "name": "ipython",
    "version": 3
   },
   "file_extension": ".py",
   "mimetype": "text/x-python",
   "name": "python",
   "nbconvert_exporter": "python",
   "pygments_lexer": "ipython3",
   "version": "3.8.10"
  }
 },
 "nbformat": 4,
 "nbformat_minor": 4
}
