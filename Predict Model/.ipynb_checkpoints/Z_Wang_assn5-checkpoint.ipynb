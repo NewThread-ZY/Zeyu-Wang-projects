{
 "cells": [
  {
   "cell_type": "code",
   "execution_count": 286,
   "metadata": {},
   "outputs": [],
   "source": [
    "import numpy as np\n",
    "import pandas as pd\n",
    "import statsmodels.api as sm\n"
   ]
  },
  {
   "cell_type": "markdown",
   "metadata": {},
   "source": [
    "## Data set"
   ]
  },
  {
   "cell_type": "code",
   "execution_count": 287,
   "metadata": {},
   "outputs": [],
   "source": [
    "x1 = np.array([ 0.        ,  3.33333333,  6.66666667, 10.        ,  0.        ,\n",
    "        3.33333333,  6.66666667, 10.        ,  0.        ,  3.33333333,\n",
    "        6.66666667, 10.        ,  0.        ,  3.33333333,  6.66666667,\n",
    "       10.        ])\n",
    "x2 = np.array([0.        , 0.        , 0.        , 0.        , 0.33333333,\n",
    "       0.33333333, 0.33333333, 0.33333333, 0.66666667, 0.66666667,\n",
    "       0.66666667, 0.66666667, 1.        , 1.        , 1.        ,\n",
    "       1.        ])\n",
    "y = np.array([ 1.22353179,  3.57574634,  5.89217837,  8.19889324,  1.96307308,\n",
    "        4.57556858,  7.48364786,  9.2400334 ,  2.9048125 ,  5.74174653,\n",
    "        8.19832673, 10.69424417,  4.15380028,  7.12275093,  8.8976015 ,\n",
    "       11.76820779])"
   ]
  },
  {
   "cell_type": "markdown",
   "metadata": {},
   "source": [
    "## 1\n",
    "a) Run a linear regression to find A, B1, and B2.  \n",
    "b) Calculate SE(B1) and SE(B2)  \n",
    "c) Calculate a prediction, y_hat, at x1=5, x2=.5 along with $SE(yhat) = \\sqrt{RSS/(n-k-1)} / \\sqrt{n}$"
   ]
  },
  {
   "cell_type": "markdown",
   "metadata": {},
   "source": [
    "### a)"
   ]
  },
  {
   "cell_type": "code",
   "execution_count": 288,
   "metadata": {},
   "outputs": [
    {
     "data": {
      "text/html": [
       "<div>\n",
       "<style scoped>\n",
       "    .dataframe tbody tr th:only-of-type {\n",
       "        vertical-align: middle;\n",
       "    }\n",
       "\n",
       "    .dataframe tbody tr th {\n",
       "        vertical-align: top;\n",
       "    }\n",
       "\n",
       "    .dataframe thead th {\n",
       "        text-align: right;\n",
       "    }\n",
       "</style>\n",
       "<table border=\"1\" class=\"dataframe\">\n",
       "  <thead>\n",
       "    <tr style=\"text-align: right;\">\n",
       "      <th></th>\n",
       "      <th>x1</th>\n",
       "      <th>x2</th>\n",
       "      <th>y</th>\n",
       "    </tr>\n",
       "  </thead>\n",
       "  <tbody>\n",
       "    <tr>\n",
       "      <th>0</th>\n",
       "      <td>0.000000</td>\n",
       "      <td>0.000000</td>\n",
       "      <td>1.223532</td>\n",
       "    </tr>\n",
       "    <tr>\n",
       "      <th>1</th>\n",
       "      <td>3.333333</td>\n",
       "      <td>0.000000</td>\n",
       "      <td>3.575746</td>\n",
       "    </tr>\n",
       "    <tr>\n",
       "      <th>2</th>\n",
       "      <td>6.666667</td>\n",
       "      <td>0.000000</td>\n",
       "      <td>5.892178</td>\n",
       "    </tr>\n",
       "    <tr>\n",
       "      <th>3</th>\n",
       "      <td>10.000000</td>\n",
       "      <td>0.000000</td>\n",
       "      <td>8.198893</td>\n",
       "    </tr>\n",
       "    <tr>\n",
       "      <th>4</th>\n",
       "      <td>0.000000</td>\n",
       "      <td>0.333333</td>\n",
       "      <td>1.963073</td>\n",
       "    </tr>\n",
       "    <tr>\n",
       "      <th>5</th>\n",
       "      <td>3.333333</td>\n",
       "      <td>0.333333</td>\n",
       "      <td>4.575569</td>\n",
       "    </tr>\n",
       "    <tr>\n",
       "      <th>6</th>\n",
       "      <td>6.666667</td>\n",
       "      <td>0.333333</td>\n",
       "      <td>7.483648</td>\n",
       "    </tr>\n",
       "    <tr>\n",
       "      <th>7</th>\n",
       "      <td>10.000000</td>\n",
       "      <td>0.333333</td>\n",
       "      <td>9.240033</td>\n",
       "    </tr>\n",
       "    <tr>\n",
       "      <th>8</th>\n",
       "      <td>0.000000</td>\n",
       "      <td>0.666667</td>\n",
       "      <td>2.904812</td>\n",
       "    </tr>\n",
       "    <tr>\n",
       "      <th>9</th>\n",
       "      <td>3.333333</td>\n",
       "      <td>0.666667</td>\n",
       "      <td>5.741747</td>\n",
       "    </tr>\n",
       "    <tr>\n",
       "      <th>10</th>\n",
       "      <td>6.666667</td>\n",
       "      <td>0.666667</td>\n",
       "      <td>8.198327</td>\n",
       "    </tr>\n",
       "    <tr>\n",
       "      <th>11</th>\n",
       "      <td>10.000000</td>\n",
       "      <td>0.666667</td>\n",
       "      <td>10.694244</td>\n",
       "    </tr>\n",
       "    <tr>\n",
       "      <th>12</th>\n",
       "      <td>0.000000</td>\n",
       "      <td>1.000000</td>\n",
       "      <td>4.153800</td>\n",
       "    </tr>\n",
       "    <tr>\n",
       "      <th>13</th>\n",
       "      <td>3.333333</td>\n",
       "      <td>1.000000</td>\n",
       "      <td>7.122751</td>\n",
       "    </tr>\n",
       "    <tr>\n",
       "      <th>14</th>\n",
       "      <td>6.666667</td>\n",
       "      <td>1.000000</td>\n",
       "      <td>8.897602</td>\n",
       "    </tr>\n",
       "    <tr>\n",
       "      <th>15</th>\n",
       "      <td>10.000000</td>\n",
       "      <td>1.000000</td>\n",
       "      <td>11.768208</td>\n",
       "    </tr>\n",
       "  </tbody>\n",
       "</table>\n",
       "</div>"
      ],
      "text/plain": [
       "           x1        x2          y\n",
       "0    0.000000  0.000000   1.223532\n",
       "1    3.333333  0.000000   3.575746\n",
       "2    6.666667  0.000000   5.892178\n",
       "3   10.000000  0.000000   8.198893\n",
       "4    0.000000  0.333333   1.963073\n",
       "5    3.333333  0.333333   4.575569\n",
       "6    6.666667  0.333333   7.483648\n",
       "7   10.000000  0.333333   9.240033\n",
       "8    0.000000  0.666667   2.904812\n",
       "9    3.333333  0.666667   5.741747\n",
       "10   6.666667  0.666667   8.198327\n",
       "11  10.000000  0.666667  10.694244\n",
       "12   0.000000  1.000000   4.153800\n",
       "13   3.333333  1.000000   7.122751\n",
       "14   6.666667  1.000000   8.897602\n",
       "15  10.000000  1.000000  11.768208"
      ]
     },
     "execution_count": 288,
     "metadata": {},
     "output_type": "execute_result"
    }
   ],
   "source": [
    "data = {'x1':x1, 'x2':x2, 'y':y}\n",
    "df = pd.DataFrame(data)\n",
    "df"
   ]
  },
  {
   "cell_type": "code",
   "execution_count": 289,
   "metadata": {},
   "outputs": [
    {
     "data": {
      "text/plain": [
       "array([[ 0.        ,  0.        ,  1.        ],\n",
       "       [ 3.33333333,  0.        ,  1.        ],\n",
       "       [ 6.66666667,  0.        ,  1.        ],\n",
       "       [10.        ,  0.        ,  1.        ],\n",
       "       [ 0.        ,  0.33333333,  1.        ],\n",
       "       [ 3.33333333,  0.33333333,  1.        ],\n",
       "       [ 6.66666667,  0.33333333,  1.        ],\n",
       "       [10.        ,  0.33333333,  1.        ],\n",
       "       [ 0.        ,  0.66666667,  1.        ],\n",
       "       [ 3.33333333,  0.66666667,  1.        ],\n",
       "       [ 6.66666667,  0.66666667,  1.        ],\n",
       "       [10.        ,  0.66666667,  1.        ],\n",
       "       [ 0.        ,  1.        ,  1.        ],\n",
       "       [ 3.33333333,  1.        ,  1.        ],\n",
       "       [ 6.66666667,  1.        ,  1.        ],\n",
       "       [10.        ,  1.        ,  1.        ]])"
      ]
     },
     "execution_count": 289,
     "metadata": {},
     "output_type": "execute_result"
    }
   ],
   "source": [
    "x = df.iloc[:,0:2].values\n",
    "yy = df.iloc[:,2:3].values\n",
    "ones = np.ones(x.shape[0]).reshape(-1,1)\n",
    "x = np.hstack((x,ones))\n",
    "x"
   ]
  },
  {
   "cell_type": "code",
   "execution_count": 290,
   "metadata": {},
   "outputs": [
    {
     "data": {
      "text/plain": [
       "array([[0.73818319],\n",
       "       [3.25746294],\n",
       "       [1.03248779]])"
      ]
     },
     "execution_count": 290,
     "metadata": {},
     "output_type": "execute_result"
    }
   ],
   "source": [
    "w_ = np.dot(np.dot(np.linalg.inv(np.dot(x.T,x)),x.T),yy)\n",
    "w_"
   ]
  },
  {
   "cell_type": "code",
   "execution_count": 291,
   "metadata": {},
   "outputs": [
    {
     "name": "stdout",
     "output_type": "stream",
     "text": [
      "A = 1.0324877889494912, B1 = 0.7381831868215657, B2 = 3.2574629401353574\n"
     ]
    }
   ],
   "source": [
    "B1 = w_[0][0]\n",
    "B2 = w_[1][0]\n",
    "A = w_[2][0]\n",
    "print(f'A = {A}, B1 = {B1}, B2 = {B2}')"
   ]
  },
  {
   "cell_type": "markdown",
   "metadata": {},
   "source": [
    "### B"
   ]
  },
  {
   "cell_type": "code",
   "execution_count": 292,
   "metadata": {},
   "outputs": [
    {
     "name": "stderr",
     "output_type": "stream",
     "text": [
      "/opt/anaconda3/envs/ml/lib/python3.8/site-packages/scipy/stats/stats.py:1603: UserWarning: kurtosistest only valid for n>=20 ... continuing anyway, n=16\n",
      "  warnings.warn(\"kurtosistest only valid for n>=20 ... continuing \"\n"
     ]
    },
    {
     "data": {
      "text/html": [
       "<table class=\"simpletable\">\n",
       "<caption>OLS Regression Results</caption>\n",
       "<tr>\n",
       "  <th>Dep. Variable:</th>            <td>y</td>        <th>  R-squared:         </th> <td>   0.995</td>\n",
       "</tr>\n",
       "<tr>\n",
       "  <th>Model:</th>                   <td>OLS</td>       <th>  Adj. R-squared:    </th> <td>   0.994</td>\n",
       "</tr>\n",
       "<tr>\n",
       "  <th>Method:</th>             <td>Least Squares</td>  <th>  F-statistic:       </th> <td>   1238.</td>\n",
       "</tr>\n",
       "<tr>\n",
       "  <th>Date:</th>             <td>Sun, 27 Jun 2021</td> <th>  Prob (F-statistic):</th> <td>1.47e-15</td>\n",
       "</tr>\n",
       "<tr>\n",
       "  <th>Time:</th>                 <td>22:45:56</td>     <th>  Log-Likelihood:    </th> <td>  1.6754</td>\n",
       "</tr>\n",
       "<tr>\n",
       "  <th>No. Observations:</th>      <td>    16</td>      <th>  AIC:               </th> <td>   2.649</td>\n",
       "</tr>\n",
       "<tr>\n",
       "  <th>Df Residuals:</th>          <td>    13</td>      <th>  BIC:               </th> <td>   4.967</td>\n",
       "</tr>\n",
       "<tr>\n",
       "  <th>Df Model:</th>              <td>     2</td>      <th>                     </th>     <td> </td>   \n",
       "</tr>\n",
       "<tr>\n",
       "  <th>Covariance Type:</th>      <td>nonrobust</td>    <th>                     </th>     <td> </td>   \n",
       "</tr>\n",
       "</table>\n",
       "<table class=\"simpletable\">\n",
       "<tr>\n",
       "    <td></td>       <th>coef</th>     <th>std err</th>      <th>t</th>      <th>P>|t|</th>  <th>[0.025</th>    <th>0.975]</th>  \n",
       "</tr>\n",
       "<tr>\n",
       "  <th>x1</th>    <td>    0.7382</td> <td>    0.016</td> <td>   45.518</td> <td> 0.000</td> <td>    0.703</td> <td>    0.773</td>\n",
       "</tr>\n",
       "<tr>\n",
       "  <th>x2</th>    <td>    3.2575</td> <td>    0.162</td> <td>   20.086</td> <td> 0.000</td> <td>    2.907</td> <td>    3.608</td>\n",
       "</tr>\n",
       "<tr>\n",
       "  <th>const</th> <td>    1.0325</td> <td>    0.130</td> <td>    7.965</td> <td> 0.000</td> <td>    0.752</td> <td>    1.313</td>\n",
       "</tr>\n",
       "</table>\n",
       "<table class=\"simpletable\">\n",
       "<tr>\n",
       "  <th>Omnibus:</th>       <td> 0.564</td> <th>  Durbin-Watson:     </th> <td>   2.474</td>\n",
       "</tr>\n",
       "<tr>\n",
       "  <th>Prob(Omnibus):</th> <td> 0.754</td> <th>  Jarque-Bera (JB):  </th> <td>   0.600</td>\n",
       "</tr>\n",
       "<tr>\n",
       "  <th>Skew:</th>          <td> 0.350</td> <th>  Prob(JB):          </th> <td>   0.741</td>\n",
       "</tr>\n",
       "<tr>\n",
       "  <th>Kurtosis:</th>      <td> 2.359</td> <th>  Cond. No.          </th> <td>    19.7</td>\n",
       "</tr>\n",
       "</table><br/><br/>Notes:<br/>[1] Standard Errors assume that the covariance matrix of the errors is correctly specified."
      ],
      "text/plain": [
       "<class 'statsmodels.iolib.summary.Summary'>\n",
       "\"\"\"\n",
       "                            OLS Regression Results                            \n",
       "==============================================================================\n",
       "Dep. Variable:                      y   R-squared:                       0.995\n",
       "Model:                            OLS   Adj. R-squared:                  0.994\n",
       "Method:                 Least Squares   F-statistic:                     1238.\n",
       "Date:                Sun, 27 Jun 2021   Prob (F-statistic):           1.47e-15\n",
       "Time:                        22:45:56   Log-Likelihood:                 1.6754\n",
       "No. Observations:                  16   AIC:                             2.649\n",
       "Df Residuals:                      13   BIC:                             4.967\n",
       "Df Model:                           2                                         \n",
       "Covariance Type:            nonrobust                                         \n",
       "==============================================================================\n",
       "                 coef    std err          t      P>|t|      [0.025      0.975]\n",
       "------------------------------------------------------------------------------\n",
       "x1             0.7382      0.016     45.518      0.000       0.703       0.773\n",
       "x2             3.2575      0.162     20.086      0.000       2.907       3.608\n",
       "const          1.0325      0.130      7.965      0.000       0.752       1.313\n",
       "==============================================================================\n",
       "Omnibus:                        0.564   Durbin-Watson:                   2.474\n",
       "Prob(Omnibus):                  0.754   Jarque-Bera (JB):                0.600\n",
       "Skew:                           0.350   Prob(JB):                        0.741\n",
       "Kurtosis:                       2.359   Cond. No.                         19.7\n",
       "==============================================================================\n",
       "\n",
       "Notes:\n",
       "[1] Standard Errors assume that the covariance matrix of the errors is correctly specified.\n",
       "\"\"\""
      ]
     },
     "execution_count": 292,
     "metadata": {},
     "output_type": "execute_result"
    }
   ],
   "source": [
    "x = sm.add_constant(x)\n",
    "result = sm.OLS(yy,x).fit()\n",
    "result.summary()"
   ]
  },
  {
   "cell_type": "code",
   "execution_count": 293,
   "metadata": {},
   "outputs": [
    {
     "name": "stdout",
     "output_type": "stream",
     "text": [
      "SE(B1) = 0.016, SE(B2) = 0.162\n"
     ]
    }
   ],
   "source": [
    "print(f'SE(B1) = {0.016}, SE(B2) = {0.162}')"
   ]
  },
  {
   "cell_type": "markdown",
   "metadata": {},
   "source": [
    "### C"
   ]
  },
  {
   "cell_type": "code",
   "execution_count": 294,
   "metadata": {},
   "outputs": [
    {
     "name": "stdout",
     "output_type": "stream",
     "text": [
      "y_hat = 6.352135193124999\n"
     ]
    }
   ],
   "source": [
    "xx1=5\n",
    "xx2=.5\n",
    "y_hat = A+xx1*B1+xx2*B2\n",
    "print(f'y_hat = {y_hat}')"
   ]
  },
  {
   "cell_type": "code",
   "execution_count": 295,
   "metadata": {},
   "outputs": [],
   "source": [
    "RSS = ( (yy-y_hat)**2 ).sum()"
   ]
  },
  {
   "cell_type": "code",
   "execution_count": 296,
   "metadata": {},
   "outputs": [
    {
     "name": "stdout",
     "output_type": "stream",
     "text": [
      "SE(yhat) = 0.8361772658727425\n"
     ]
    }
   ],
   "source": [
    "𝑆𝐸𝑦ℎ𝑎𝑡 = ((RSS/(len(yy)-2-1))**0.5)/(len(yy)**0.5)\n",
    "print(f'SE(yhat) = {𝑆𝐸𝑦ℎ𝑎𝑡}')"
   ]
  },
  {
   "cell_type": "markdown",
   "metadata": {},
   "source": [
    "** [dsweet] See answer key (-.1) **"
   ]
  },
  {
   "cell_type": "markdown",
   "metadata": {},
   "source": [
    "## 2\n",
    "a) Calculate m=100 bootstrap sample sets from the original set of 16 samples and, for each bootstrap sample set, estimate A_bs, B1_bs, and B2_bs by regression. (You'll have 100 estimates of each of A_bs, B1_bs, and B2_bs.)  \n",
    "b) Compute SE(B1_bs) and SE(B2_bs) directly from the m=100 samples. Do they match SE(B1) and SE(B2) from part 1, above?  \n",
    "c) For each model, A_bs, B1_bs, and B2_bs, calculate a prediction, y_hat_bs, at x1=5, x2=.5. From that set of predictions, compute SE(y_hat_bs). Does it match SE(y_hat) from part 1, above?  \n",
    "  \n",
    "  \n",
    "Hint: Be sure the values of y, x1, and x2 stay aligned when you draw a sample from the original data. Ex: Randomly drawing the i'th sample would yield (y[i],x1[i],x2[i]) -- all with the same i."
   ]
  },
  {
   "cell_type": "code",
   "execution_count": 297,
   "metadata": {},
   "outputs": [
    {
     "data": {
      "text/plain": [
       "array([ 0.        ,  3.33333333,  6.66666667, 10.        ,  0.        ,\n",
       "        3.33333333,  6.66666667, 10.        ,  0.        ,  3.33333333,\n",
       "        6.66666667, 10.        ,  0.        ,  3.33333333,  6.66666667,\n",
       "       10.        ])"
      ]
     },
     "execution_count": 297,
     "metadata": {},
     "output_type": "execute_result"
    }
   ],
   "source": [
    "x1"
   ]
  },
  {
   "cell_type": "markdown",
   "metadata": {},
   "source": [
    "### a)"
   ]
  },
  {
   "cell_type": "code",
   "execution_count": 298,
   "metadata": {},
   "outputs": [],
   "source": [
    "sample = []\n",
    "for i in range(100):\n",
    "    x1_100 = []\n",
    "    x2_100 = []\n",
    "    y_100 = []\n",
    "    for i in range(16):\n",
    "        ii = np.random.randint(16)\n",
    "        x1_100.append(x1[ii])\n",
    "        x2_100.append(x2[ii])\n",
    "        y_100.append(y[ii])\n",
    "    data_100 = {'x1':x1_100,'x2':x2_100,'y':y_100}\n",
    "    df1 = pd.DataFrame(data_100)\n",
    "    sample.append(df1)"
   ]
  },
  {
   "cell_type": "code",
   "execution_count": 300,
   "metadata": {},
   "outputs": [
    {
     "data": {
      "text/html": [
       "<div>\n",
       "<style scoped>\n",
       "    .dataframe tbody tr th:only-of-type {\n",
       "        vertical-align: middle;\n",
       "    }\n",
       "\n",
       "    .dataframe tbody tr th {\n",
       "        vertical-align: top;\n",
       "    }\n",
       "\n",
       "    .dataframe thead th {\n",
       "        text-align: right;\n",
       "    }\n",
       "</style>\n",
       "<table border=\"1\" class=\"dataframe\">\n",
       "  <thead>\n",
       "    <tr style=\"text-align: right;\">\n",
       "      <th></th>\n",
       "      <th>A_bs</th>\n",
       "      <th>B1_bs</th>\n",
       "      <th>B2_bs</th>\n",
       "    </tr>\n",
       "  </thead>\n",
       "  <tbody>\n",
       "    <tr>\n",
       "      <th>0</th>\n",
       "      <td>1.048435</td>\n",
       "      <td>0.720168</td>\n",
       "      <td>3.315377</td>\n",
       "    </tr>\n",
       "    <tr>\n",
       "      <th>1</th>\n",
       "      <td>1.085188</td>\n",
       "      <td>0.724809</td>\n",
       "      <td>3.319955</td>\n",
       "    </tr>\n",
       "    <tr>\n",
       "      <th>2</th>\n",
       "      <td>1.151183</td>\n",
       "      <td>0.714850</td>\n",
       "      <td>3.132887</td>\n",
       "    </tr>\n",
       "    <tr>\n",
       "      <th>3</th>\n",
       "      <td>1.037979</td>\n",
       "      <td>0.725032</td>\n",
       "      <td>3.145057</td>\n",
       "    </tr>\n",
       "    <tr>\n",
       "      <th>4</th>\n",
       "      <td>1.039595</td>\n",
       "      <td>0.730366</td>\n",
       "      <td>3.164980</td>\n",
       "    </tr>\n",
       "    <tr>\n",
       "      <th>...</th>\n",
       "      <td>...</td>\n",
       "      <td>...</td>\n",
       "      <td>...</td>\n",
       "    </tr>\n",
       "    <tr>\n",
       "      <th>95</th>\n",
       "      <td>1.135159</td>\n",
       "      <td>0.719718</td>\n",
       "      <td>3.344875</td>\n",
       "    </tr>\n",
       "    <tr>\n",
       "      <th>96</th>\n",
       "      <td>1.116185</td>\n",
       "      <td>0.754851</td>\n",
       "      <td>2.958629</td>\n",
       "    </tr>\n",
       "    <tr>\n",
       "      <th>97</th>\n",
       "      <td>0.833558</td>\n",
       "      <td>0.751113</td>\n",
       "      <td>3.440062</td>\n",
       "    </tr>\n",
       "    <tr>\n",
       "      <th>98</th>\n",
       "      <td>1.154367</td>\n",
       "      <td>0.707235</td>\n",
       "      <td>3.262356</td>\n",
       "    </tr>\n",
       "    <tr>\n",
       "      <th>99</th>\n",
       "      <td>0.947905</td>\n",
       "      <td>0.747083</td>\n",
       "      <td>3.181740</td>\n",
       "    </tr>\n",
       "  </tbody>\n",
       "</table>\n",
       "<p>100 rows × 3 columns</p>\n",
       "</div>"
      ],
      "text/plain": [
       "        A_bs     B1_bs     B2_bs\n",
       "0   1.048435  0.720168  3.315377\n",
       "1   1.085188  0.724809  3.319955\n",
       "2   1.151183  0.714850  3.132887\n",
       "3   1.037979  0.725032  3.145057\n",
       "4   1.039595  0.730366  3.164980\n",
       "..       ...       ...       ...\n",
       "95  1.135159  0.719718  3.344875\n",
       "96  1.116185  0.754851  2.958629\n",
       "97  0.833558  0.751113  3.440062\n",
       "98  1.154367  0.707235  3.262356\n",
       "99  0.947905  0.747083  3.181740\n",
       "\n",
       "[100 rows x 3 columns]"
      ]
     },
     "execution_count": 300,
     "metadata": {},
     "output_type": "execute_result"
    }
   ],
   "source": [
    "A_bs = []\n",
    "B1_bs = []\n",
    "B2_bs = []\n",
    "for i in range(100):\n",
    "    x = sample[i].iloc[:,0:2].values\n",
    "    yy = sample[i].iloc[:,2:3].values\n",
    "    ones = np.ones(x.shape[0]).reshape(-1,1)\n",
    "    x = np.hstack((x,ones))\n",
    "    w_ = np.dot(np.dot(np.linalg.inv(np.dot(x.T,x)),x.T),yy)\n",
    "    A_bs.append(w_[2][0])\n",
    "    B1_bs.append(w_[0][0])\n",
    "    B2_bs.append(w_[1][0])\n",
    "df_100_bs = pd.DataFrame({'A_bs':A_bs, 'B1_bs':B1_bs, 'B2_bs':B2_bs})\n",
    "df_100_bs"
   ]
  },
  {
   "cell_type": "markdown",
   "metadata": {},
   "source": [
    "## B Compute SE(B1_bs) and SE(B2_bs) directly from the m=100 samples. Do they match SE(B1) and SE(B2) from part 1, above?"
   ]
  },
  {
   "cell_type": "code",
   "execution_count": 301,
   "metadata": {},
   "outputs": [
    {
     "data": {
      "text/html": [
       "<div>\n",
       "<style scoped>\n",
       "    .dataframe tbody tr th:only-of-type {\n",
       "        vertical-align: middle;\n",
       "    }\n",
       "\n",
       "    .dataframe tbody tr th {\n",
       "        vertical-align: top;\n",
       "    }\n",
       "\n",
       "    .dataframe thead th {\n",
       "        text-align: right;\n",
       "    }\n",
       "</style>\n",
       "<table border=\"1\" class=\"dataframe\">\n",
       "  <thead>\n",
       "    <tr style=\"text-align: right;\">\n",
       "      <th></th>\n",
       "      <th>SE_B1_bs</th>\n",
       "      <th>SE_B2_bs</th>\n",
       "    </tr>\n",
       "  </thead>\n",
       "  <tbody>\n",
       "    <tr>\n",
       "      <th>0</th>\n",
       "      <td>0.016123</td>\n",
       "      <td>0.185240</td>\n",
       "    </tr>\n",
       "    <tr>\n",
       "      <th>1</th>\n",
       "      <td>0.016105</td>\n",
       "      <td>0.151809</td>\n",
       "    </tr>\n",
       "    <tr>\n",
       "      <th>2</th>\n",
       "      <td>0.015435</td>\n",
       "      <td>0.107002</td>\n",
       "    </tr>\n",
       "    <tr>\n",
       "      <th>3</th>\n",
       "      <td>0.011282</td>\n",
       "      <td>0.102827</td>\n",
       "    </tr>\n",
       "    <tr>\n",
       "      <th>4</th>\n",
       "      <td>0.011032</td>\n",
       "      <td>0.122533</td>\n",
       "    </tr>\n",
       "    <tr>\n",
       "      <th>...</th>\n",
       "      <td>...</td>\n",
       "      <td>...</td>\n",
       "    </tr>\n",
       "    <tr>\n",
       "      <th>95</th>\n",
       "      <td>0.015746</td>\n",
       "      <td>0.167052</td>\n",
       "    </tr>\n",
       "    <tr>\n",
       "      <th>96</th>\n",
       "      <td>0.017663</td>\n",
       "      <td>0.204076</td>\n",
       "    </tr>\n",
       "    <tr>\n",
       "      <th>97</th>\n",
       "      <td>0.013076</td>\n",
       "      <td>0.129522</td>\n",
       "    </tr>\n",
       "    <tr>\n",
       "      <th>98</th>\n",
       "      <td>0.018328</td>\n",
       "      <td>0.129602</td>\n",
       "    </tr>\n",
       "    <tr>\n",
       "      <th>99</th>\n",
       "      <td>0.013980</td>\n",
       "      <td>0.154756</td>\n",
       "    </tr>\n",
       "  </tbody>\n",
       "</table>\n",
       "<p>100 rows × 2 columns</p>\n",
       "</div>"
      ],
      "text/plain": [
       "    SE_B1_bs  SE_B2_bs\n",
       "0   0.016123  0.185240\n",
       "1   0.016105  0.151809\n",
       "2   0.015435  0.107002\n",
       "3   0.011282  0.102827\n",
       "4   0.011032  0.122533\n",
       "..       ...       ...\n",
       "95  0.015746  0.167052\n",
       "96  0.017663  0.204076\n",
       "97  0.013076  0.129522\n",
       "98  0.018328  0.129602\n",
       "99  0.013980  0.154756\n",
       "\n",
       "[100 rows x 2 columns]"
      ]
     },
     "execution_count": 301,
     "metadata": {},
     "output_type": "execute_result"
    }
   ],
   "source": [
    "#get SE from each sample in m=100 samples\n",
    "SE_B1_bs = []\n",
    "SE_B2_bs = []\n",
    "for i in range(100):\n",
    "    dff = sample[i]\n",
    "    x = dff.iloc[:,0:2].values\n",
    "    yy = dff.iloc[:,2:3].values\n",
    "    x = sm.add_constant(x)\n",
    "    result = sm.OLS(yy,x).fit()\n",
    "    SE_B1_bs.append(result.bse[1])\n",
    "    SE_B2_bs.append(result.bse[2])\n",
    "df_se_bs = pd.DataFrame({'SE_B1_bs':SE_B1_bs, 'SE_B2_bs':SE_B2_bs})\n",
    "df_se_bs"
   ]
  },
  {
   "cell_type": "markdown",
   "metadata": {},
   "source": [
    "In part1, SE(B1) = 0.016, SE(B2) = 0.162"
   ]
  },
  {
   "cell_type": "markdown",
   "metadata": {},
   "source": [
    "**[dsweet] Please see the answer key. (-1) **"
   ]
  },
  {
   "cell_type": "code",
   "execution_count": 302,
   "metadata": {},
   "outputs": [
    {
     "data": {
      "text/html": [
       "<div>\n",
       "<style scoped>\n",
       "    .dataframe tbody tr th:only-of-type {\n",
       "        vertical-align: middle;\n",
       "    }\n",
       "\n",
       "    .dataframe tbody tr th {\n",
       "        vertical-align: top;\n",
       "    }\n",
       "\n",
       "    .dataframe thead th {\n",
       "        text-align: right;\n",
       "    }\n",
       "</style>\n",
       "<table border=\"1\" class=\"dataframe\">\n",
       "  <thead>\n",
       "    <tr style=\"text-align: right;\">\n",
       "      <th></th>\n",
       "      <th>x1</th>\n",
       "      <th>x2</th>\n",
       "      <th>y</th>\n",
       "    </tr>\n",
       "  </thead>\n",
       "  <tbody>\n",
       "    <tr>\n",
       "      <th>0</th>\n",
       "      <td>6.666667</td>\n",
       "      <td>0.666667</td>\n",
       "      <td>8.198327</td>\n",
       "    </tr>\n",
       "    <tr>\n",
       "      <th>1</th>\n",
       "      <td>10.000000</td>\n",
       "      <td>0.000000</td>\n",
       "      <td>8.198893</td>\n",
       "    </tr>\n",
       "    <tr>\n",
       "      <th>2</th>\n",
       "      <td>10.000000</td>\n",
       "      <td>0.333333</td>\n",
       "      <td>9.240033</td>\n",
       "    </tr>\n",
       "    <tr>\n",
       "      <th>3</th>\n",
       "      <td>6.666667</td>\n",
       "      <td>0.333333</td>\n",
       "      <td>7.483648</td>\n",
       "    </tr>\n",
       "    <tr>\n",
       "      <th>4</th>\n",
       "      <td>6.666667</td>\n",
       "      <td>1.000000</td>\n",
       "      <td>8.897602</td>\n",
       "    </tr>\n",
       "    <tr>\n",
       "      <th>...</th>\n",
       "      <td>...</td>\n",
       "      <td>...</td>\n",
       "      <td>...</td>\n",
       "    </tr>\n",
       "    <tr>\n",
       "      <th>11</th>\n",
       "      <td>0.000000</td>\n",
       "      <td>0.666667</td>\n",
       "      <td>2.904812</td>\n",
       "    </tr>\n",
       "    <tr>\n",
       "      <th>12</th>\n",
       "      <td>0.000000</td>\n",
       "      <td>1.000000</td>\n",
       "      <td>4.153800</td>\n",
       "    </tr>\n",
       "    <tr>\n",
       "      <th>13</th>\n",
       "      <td>6.666667</td>\n",
       "      <td>1.000000</td>\n",
       "      <td>8.897602</td>\n",
       "    </tr>\n",
       "    <tr>\n",
       "      <th>14</th>\n",
       "      <td>0.000000</td>\n",
       "      <td>0.000000</td>\n",
       "      <td>1.223532</td>\n",
       "    </tr>\n",
       "    <tr>\n",
       "      <th>15</th>\n",
       "      <td>3.333333</td>\n",
       "      <td>0.333333</td>\n",
       "      <td>4.575569</td>\n",
       "    </tr>\n",
       "  </tbody>\n",
       "</table>\n",
       "<p>1600 rows × 3 columns</p>\n",
       "</div>"
      ],
      "text/plain": [
       "           x1        x2         y\n",
       "0    6.666667  0.666667  8.198327\n",
       "1   10.000000  0.000000  8.198893\n",
       "2   10.000000  0.333333  9.240033\n",
       "3    6.666667  0.333333  7.483648\n",
       "4    6.666667  1.000000  8.897602\n",
       "..        ...       ...       ...\n",
       "11   0.000000  0.666667  2.904812\n",
       "12   0.000000  1.000000  4.153800\n",
       "13   6.666667  1.000000  8.897602\n",
       "14   0.000000  0.000000  1.223532\n",
       "15   3.333333  0.333333  4.575569\n",
       "\n",
       "[1600 rows x 3 columns]"
      ]
     },
     "execution_count": 302,
     "metadata": {},
     "output_type": "execute_result"
    }
   ],
   "source": [
    "#get se from m=100 samples\n",
    "frames = [i for i in sample]\n",
    "result = pd.concat(frames)\n",
    "result"
   ]
  },
  {
   "cell_type": "code",
   "execution_count": 303,
   "metadata": {},
   "outputs": [
    {
     "name": "stdout",
     "output_type": "stream",
     "text": [
      "SE(B1) = 0.013980344205198201, SE(B2) = 0.15475629190241533\n"
     ]
    }
   ],
   "source": [
    "x = dff.iloc[:,0:2].values\n",
    "yy = dff.iloc[:,2:3].values\n",
    "x = sm.add_constant(x)\n",
    "result = sm.OLS(yy,x).fit()\n",
    "print(f'SE(B1) = {result.bse[1]}, SE(B2) = {result.bse[2]}')"
   ]
  },
  {
   "cell_type": "markdown",
   "metadata": {},
   "source": [
    "In part1, SE(B1) = 0.016, SE(B2) = 0.162"
   ]
  },
  {
   "cell_type": "markdown",
   "metadata": {},
   "source": [
    "They are not match but they are very similary and close."
   ]
  },
  {
   "cell_type": "markdown",
   "metadata": {},
   "source": [
    "## c) For each model, A_bs, B1_bs, and B2_bs, calculate a prediction, y_hat_bs, at x1=5, x2=.5. From that set of predictions, compute SE(y_hat_bs). Does it match SE(y_hat) from part 1, above?  $SE(yhat) = \\sqrt{RSS/(n-k-1)} / \\sqrt{n}$"
   ]
  },
  {
   "cell_type": "code",
   "execution_count": 304,
   "metadata": {},
   "outputs": [
    {
     "data": {
      "text/html": [
       "<div>\n",
       "<style scoped>\n",
       "    .dataframe tbody tr th:only-of-type {\n",
       "        vertical-align: middle;\n",
       "    }\n",
       "\n",
       "    .dataframe tbody tr th {\n",
       "        vertical-align: top;\n",
       "    }\n",
       "\n",
       "    .dataframe thead th {\n",
       "        text-align: right;\n",
       "    }\n",
       "</style>\n",
       "<table border=\"1\" class=\"dataframe\">\n",
       "  <thead>\n",
       "    <tr style=\"text-align: right;\">\n",
       "      <th></th>\n",
       "      <th>A_bs</th>\n",
       "      <th>B1_bs</th>\n",
       "      <th>B2_bs</th>\n",
       "      <th>𝑦ℎ𝑎𝑡</th>\n",
       "    </tr>\n",
       "  </thead>\n",
       "  <tbody>\n",
       "    <tr>\n",
       "      <th>0</th>\n",
       "      <td>1.048435</td>\n",
       "      <td>0.720168</td>\n",
       "      <td>3.315377</td>\n",
       "      <td>6.306964</td>\n",
       "    </tr>\n",
       "    <tr>\n",
       "      <th>1</th>\n",
       "      <td>1.085188</td>\n",
       "      <td>0.724809</td>\n",
       "      <td>3.319955</td>\n",
       "      <td>6.369212</td>\n",
       "    </tr>\n",
       "    <tr>\n",
       "      <th>2</th>\n",
       "      <td>1.151183</td>\n",
       "      <td>0.714850</td>\n",
       "      <td>3.132887</td>\n",
       "      <td>6.291877</td>\n",
       "    </tr>\n",
       "    <tr>\n",
       "      <th>3</th>\n",
       "      <td>1.037979</td>\n",
       "      <td>0.725032</td>\n",
       "      <td>3.145057</td>\n",
       "      <td>6.235668</td>\n",
       "    </tr>\n",
       "    <tr>\n",
       "      <th>4</th>\n",
       "      <td>1.039595</td>\n",
       "      <td>0.730366</td>\n",
       "      <td>3.164980</td>\n",
       "      <td>6.273914</td>\n",
       "    </tr>\n",
       "    <tr>\n",
       "      <th>...</th>\n",
       "      <td>...</td>\n",
       "      <td>...</td>\n",
       "      <td>...</td>\n",
       "      <td>...</td>\n",
       "    </tr>\n",
       "    <tr>\n",
       "      <th>95</th>\n",
       "      <td>1.135159</td>\n",
       "      <td>0.719718</td>\n",
       "      <td>3.344875</td>\n",
       "      <td>6.406185</td>\n",
       "    </tr>\n",
       "    <tr>\n",
       "      <th>96</th>\n",
       "      <td>1.116185</td>\n",
       "      <td>0.754851</td>\n",
       "      <td>2.958629</td>\n",
       "      <td>6.369756</td>\n",
       "    </tr>\n",
       "    <tr>\n",
       "      <th>97</th>\n",
       "      <td>0.833558</td>\n",
       "      <td>0.751113</td>\n",
       "      <td>3.440062</td>\n",
       "      <td>6.309152</td>\n",
       "    </tr>\n",
       "    <tr>\n",
       "      <th>98</th>\n",
       "      <td>1.154367</td>\n",
       "      <td>0.707235</td>\n",
       "      <td>3.262356</td>\n",
       "      <td>6.321718</td>\n",
       "    </tr>\n",
       "    <tr>\n",
       "      <th>99</th>\n",
       "      <td>0.947905</td>\n",
       "      <td>0.747083</td>\n",
       "      <td>3.181740</td>\n",
       "      <td>6.274192</td>\n",
       "    </tr>\n",
       "  </tbody>\n",
       "</table>\n",
       "<p>100 rows × 4 columns</p>\n",
       "</div>"
      ],
      "text/plain": [
       "        A_bs     B1_bs     B2_bs      𝑦ℎ𝑎𝑡\n",
       "0   1.048435  0.720168  3.315377  6.306964\n",
       "1   1.085188  0.724809  3.319955  6.369212\n",
       "2   1.151183  0.714850  3.132887  6.291877\n",
       "3   1.037979  0.725032  3.145057  6.235668\n",
       "4   1.039595  0.730366  3.164980  6.273914\n",
       "..       ...       ...       ...       ...\n",
       "95  1.135159  0.719718  3.344875  6.406185\n",
       "96  1.116185  0.754851  2.958629  6.369756\n",
       "97  0.833558  0.751113  3.440062  6.309152\n",
       "98  1.154367  0.707235  3.262356  6.321718\n",
       "99  0.947905  0.747083  3.181740  6.274192\n",
       "\n",
       "[100 rows x 4 columns]"
      ]
     },
     "execution_count": 304,
     "metadata": {},
     "output_type": "execute_result"
    }
   ],
   "source": [
    "df_100_bs['𝑦ℎ𝑎𝑡'] = df_100_bs['A_bs']+5*df_100_bs['B1_bs']+0.5*df_100_bs['B2_bs']\n",
    "df_100_bs"
   ]
  },
  {
   "cell_type": "code",
   "execution_count": 305,
   "metadata": {},
   "outputs": [
    {
     "data": {
      "text/html": [
       "<div>\n",
       "<style scoped>\n",
       "    .dataframe tbody tr th:only-of-type {\n",
       "        vertical-align: middle;\n",
       "    }\n",
       "\n",
       "    .dataframe tbody tr th {\n",
       "        vertical-align: top;\n",
       "    }\n",
       "\n",
       "    .dataframe thead th {\n",
       "        text-align: right;\n",
       "    }\n",
       "</style>\n",
       "<table border=\"1\" class=\"dataframe\">\n",
       "  <thead>\n",
       "    <tr style=\"text-align: right;\">\n",
       "      <th></th>\n",
       "      <th>A_bs</th>\n",
       "      <th>B1_bs</th>\n",
       "      <th>B2_bs</th>\n",
       "      <th>𝑦ℎ𝑎𝑡</th>\n",
       "      <th>𝑆𝐸𝑦ℎ𝑎𝑡</th>\n",
       "    </tr>\n",
       "  </thead>\n",
       "  <tbody>\n",
       "    <tr>\n",
       "      <th>0</th>\n",
       "      <td>1.048435</td>\n",
       "      <td>0.720168</td>\n",
       "      <td>3.315377</td>\n",
       "      <td>6.306964</td>\n",
       "      <td>0.690187</td>\n",
       "    </tr>\n",
       "    <tr>\n",
       "      <th>1</th>\n",
       "      <td>1.085188</td>\n",
       "      <td>0.724809</td>\n",
       "      <td>3.319955</td>\n",
       "      <td>6.369212</td>\n",
       "      <td>0.840339</td>\n",
       "    </tr>\n",
       "    <tr>\n",
       "      <th>2</th>\n",
       "      <td>1.151183</td>\n",
       "      <td>0.714850</td>\n",
       "      <td>3.132887</td>\n",
       "      <td>6.291877</td>\n",
       "      <td>0.727873</td>\n",
       "    </tr>\n",
       "    <tr>\n",
       "      <th>3</th>\n",
       "      <td>1.037979</td>\n",
       "      <td>0.725032</td>\n",
       "      <td>3.145057</td>\n",
       "      <td>6.235668</td>\n",
       "      <td>0.793261</td>\n",
       "    </tr>\n",
       "    <tr>\n",
       "      <th>4</th>\n",
       "      <td>1.039595</td>\n",
       "      <td>0.730366</td>\n",
       "      <td>3.164980</td>\n",
       "      <td>6.273914</td>\n",
       "      <td>0.924456</td>\n",
       "    </tr>\n",
       "    <tr>\n",
       "      <th>...</th>\n",
       "      <td>...</td>\n",
       "      <td>...</td>\n",
       "      <td>...</td>\n",
       "      <td>...</td>\n",
       "      <td>...</td>\n",
       "    </tr>\n",
       "    <tr>\n",
       "      <th>95</th>\n",
       "      <td>1.135159</td>\n",
       "      <td>0.719718</td>\n",
       "      <td>3.344875</td>\n",
       "      <td>6.406185</td>\n",
       "      <td>0.851540</td>\n",
       "    </tr>\n",
       "    <tr>\n",
       "      <th>96</th>\n",
       "      <td>1.116185</td>\n",
       "      <td>0.754851</td>\n",
       "      <td>2.958629</td>\n",
       "      <td>6.369756</td>\n",
       "      <td>0.885160</td>\n",
       "    </tr>\n",
       "    <tr>\n",
       "      <th>97</th>\n",
       "      <td>0.833558</td>\n",
       "      <td>0.751113</td>\n",
       "      <td>3.440062</td>\n",
       "      <td>6.309152</td>\n",
       "      <td>0.908586</td>\n",
       "    </tr>\n",
       "    <tr>\n",
       "      <th>98</th>\n",
       "      <td>1.154367</td>\n",
       "      <td>0.707235</td>\n",
       "      <td>3.262356</td>\n",
       "      <td>6.321718</td>\n",
       "      <td>0.600933</td>\n",
       "    </tr>\n",
       "    <tr>\n",
       "      <th>99</th>\n",
       "      <td>0.947905</td>\n",
       "      <td>0.747083</td>\n",
       "      <td>3.181740</td>\n",
       "      <td>6.274192</td>\n",
       "      <td>0.889074</td>\n",
       "    </tr>\n",
       "  </tbody>\n",
       "</table>\n",
       "<p>100 rows × 5 columns</p>\n",
       "</div>"
      ],
      "text/plain": [
       "        A_bs     B1_bs     B2_bs      𝑦ℎ𝑎𝑡    𝑆𝐸𝑦ℎ𝑎𝑡\n",
       "0   1.048435  0.720168  3.315377  6.306964  0.690187\n",
       "1   1.085188  0.724809  3.319955  6.369212  0.840339\n",
       "2   1.151183  0.714850  3.132887  6.291877  0.727873\n",
       "3   1.037979  0.725032  3.145057  6.235668  0.793261\n",
       "4   1.039595  0.730366  3.164980  6.273914  0.924456\n",
       "..       ...       ...       ...       ...       ...\n",
       "95  1.135159  0.719718  3.344875  6.406185  0.851540\n",
       "96  1.116185  0.754851  2.958629  6.369756  0.885160\n",
       "97  0.833558  0.751113  3.440062  6.309152  0.908586\n",
       "98  1.154367  0.707235  3.262356  6.321718  0.600933\n",
       "99  0.947905  0.747083  3.181740  6.274192  0.889074\n",
       "\n",
       "[100 rows x 5 columns]"
      ]
     },
     "execution_count": 305,
     "metadata": {},
     "output_type": "execute_result"
    }
   ],
   "source": [
    "𝑆𝐸𝑦ℎ𝑎𝑡list = []\n",
    "for i in range(len(sample)):\n",
    "    df = sample[i]\n",
    "    yy = df['y']\n",
    "    y_hat = df_100_bs.iloc[i][3]\n",
    "    RSS = ( (yy-y_hat)**2 ).sum()\n",
    "    𝑆𝐸𝑦ℎ𝑎𝑡 = ((RSS/(len(yy)-2-1))**0.5)/(len(yy)**0.5)\n",
    "    𝑆𝐸𝑦ℎ𝑎𝑡list.append(𝑆𝐸𝑦ℎ𝑎𝑡)\n",
    "df_100_bs['𝑆𝐸𝑦ℎ𝑎𝑡'] = 𝑆𝐸𝑦ℎ𝑎𝑡list\n",
    "df_100_bs"
   ]
  },
  {
   "cell_type": "markdown",
   "metadata": {},
   "source": [
    "In part1, SE(yhat) = 0.8361772658727425."
   ]
  },
  {
   "cell_type": "markdown",
   "metadata": {},
   "source": [
    "They are not match but they are very close."
   ]
  },
  {
   "cell_type": "code",
   "execution_count": 306,
   "metadata": {},
   "outputs": [
    {
     "data": {
      "text/plain": [
       "0.8389905761658893"
      ]
     },
     "execution_count": 306,
     "metadata": {},
     "output_type": "execute_result"
    }
   ],
   "source": [
    "df_100_bs['𝑆𝐸𝑦ℎ𝑎𝑡'].mean()"
   ]
  },
  {
   "cell_type": "markdown",
   "metadata": {},
   "source": [
    "**[dsweet] Please see the answer key. (-.5) **"
   ]
  },
  {
   "cell_type": "markdown",
   "metadata": {},
   "source": [
    "** [dsweet] Grade 3.4/5 **"
   ]
  },
  {
   "cell_type": "code",
   "execution_count": null,
   "metadata": {},
   "outputs": [],
   "source": []
  }
 ],
 "metadata": {
  "kernelspec": {
   "display_name": "Python 3",
   "language": "python",
   "name": "python3"
  },
  "language_info": {
   "codemirror_mode": {
    "name": "ipython",
    "version": 3
   },
   "file_extension": ".py",
   "mimetype": "text/x-python",
   "name": "python",
   "nbconvert_exporter": "python",
   "pygments_lexer": "ipython3",
   "version": "3.6.3"
  }
 },
 "nbformat": 4,
 "nbformat_minor": 4
}
