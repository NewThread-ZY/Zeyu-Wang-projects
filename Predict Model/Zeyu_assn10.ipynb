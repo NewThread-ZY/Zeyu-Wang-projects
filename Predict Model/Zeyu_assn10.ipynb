{
 "cells": [
  {
   "cell_type": "raw",
   "id": "28e82d30",
   "metadata": {},
   "source": [
    "HW10\n",
    "PM\n",
    "Zeyu"
   ]
  },
  {
   "cell_type": "markdown",
   "id": "34bb5cfe",
   "metadata": {},
   "source": [
    "# 1 estimate"
   ]
  },
  {
   "cell_type": "code",
   "execution_count": 1,
   "id": "0e84f716",
   "metadata": {},
   "outputs": [],
   "source": [
    "import numpy as np\n",
    "import matplotlib.pyplot as plt"
   ]
  },
  {
   "cell_type": "code",
   "execution_count": 2,
   "id": "072a5603",
   "metadata": {},
   "outputs": [],
   "source": [
    "#Gaussian kernel, linear model\n",
    "def estimate(x, y, x0, h):\n",
    "    w = np.exp(-(x-x0)**2/h)\n",
    "    W = np.diag(w)\n",
    "    x = x[:,None]\n",
    "    X = np.concatenate(\n",
    "        (np.ones(shape = x.shape),\n",
    "        x-x0), axis = 1\n",
    "    )\n",
    "    B = np.linalg.inv(X.T@W@X)@X.T@W@y\n",
    "    y_hat = B[0]\n",
    "    return y_hat"
   ]
  },
  {
   "cell_type": "markdown",
   "id": "46a852e2",
   "metadata": {},
   "source": [
    "# 2 Generate data"
   ]
  },
  {
   "cell_type": "code",
   "execution_count": 3,
   "id": "ec215ec9",
   "metadata": {},
   "outputs": [],
   "source": [
    "np.random.seed(15)\n",
    "n = 30\n",
    "x = np.random.uniform(size=(n,))\n",
    "y = 1-4*(x-0.5)**2+0.3*np.random.normal(size = (n,))\n",
    "xhat = np.linspace(0,1,10)\n",
    "yhat = np.array([estimate(x, y, x0, 0.2) for x0 in xhat])"
   ]
  },
  {
   "cell_type": "code",
   "execution_count": 4,
   "id": "8a01f561",
   "metadata": {},
   "outputs": [
    {
     "data": {
      "text/plain": [
       "<matplotlib.collections.PathCollection at 0x7faf78211640>"
      ]
     },
     "execution_count": 4,
     "metadata": {},
     "output_type": "execute_result"
    },
    {
     "data": {
      "image/png": "[encoded data removed]",
      "text/plain": [
       "<Figure size 432x288 with 1 Axes>"
      ]
     },
     "metadata": {
      "needs_background": "light"
     },
     "output_type": "display_data"
    }
   ],
   "source": [
    "plt.scatter(x, y)"
   ]
  },
  {
   "cell_type": "code",
   "execution_count": 5,
   "id": "78dd61d4",
   "metadata": {},
   "outputs": [
    {
     "data": {
      "text/plain": [
       "[<matplotlib.lines.Line2D at 0x7faf89e2cb80>]"
      ]
     },
     "execution_count": 5,
     "metadata": {},
     "output_type": "execute_result"
    },
    {
     "data": {
      "image/png": "[encoded data removed]",
      "text/plain": [
       "<Figure size 432x288 with 1 Axes>"
      ]
     },
     "metadata": {
      "needs_background": "light"
     },
     "output_type": "display_data"
    }
   ],
   "source": [
    "plt.scatter(x, y)\n",
    "plt.plot(xhat, yhat)"
   ]
  },
  {
   "cell_type": "markdown",
   "id": "87b3cc5d",
   "metadata": {},
   "source": [
    "# 3 LOOCV"
   ]
  },
  {
   "cell_type": "code",
   "execution_count": 6,
   "id": "89fcaa94",
   "metadata": {},
   "outputs": [],
   "source": [
    "h = np.arange(0.01, 0.5, 0.01)\n",
    "def loocv(x, y):\n",
    "    error_loocv_h = []\n",
    "    best_error = np.Inf\n",
    "    best_index = -1\n",
    "    for j in h:\n",
    "        loocv_error = 0\n",
    "        for i in range(len(x)):\n",
    "            xx = np.delete(x, i)\n",
    "            yy = np.delete(y, i)\n",
    "            yhat = np.array(estimate(xx, yy, x[i], j))\n",
    "            error = ((yhat-y[i])**2).sum()\n",
    "            loocv_error+=error\n",
    "        error_loocv_h.append(loocv_error)\n",
    "        if best_error>loocv_error:\n",
    "            best_error=loocv_error\n",
    "            best_index = j\n",
    "    \n",
    "    print(f'The best h is {best_index}')\n",
    "    return error_loocv_h"
   ]
  },
  {
   "cell_type": "code",
   "execution_count": 8,
   "id": "7c78f54c",
   "metadata": {},
   "outputs": [
    {
     "name": "stdout",
     "output_type": "stream",
     "text": [
      "The best h is 0.06999999999999999\n"
     ]
    }
   ],
   "source": [
    "error_loocv_h = loocv(x, y)"
   ]
  },
  {
   "cell_type": "code",
   "execution_count": 9,
   "id": "ac65303a",
   "metadata": {},
   "outputs": [
    {
     "data": {
      "text/plain": [
       "<matplotlib.collections.PathCollection at 0x7faf89d97fd0>"
      ]
     },
     "execution_count": 9,
     "metadata": {},
     "output_type": "execute_result"
    },
    {
     "data": {
      "image/png": "[encoded data removed]",
      "text/plain": [
       "<Figure size 432x288 with 1 Axes>"
      ]
     },
     "metadata": {
      "needs_background": "light"
     },
     "output_type": "display_data"
    }
   ],
   "source": [
    "plt.scatter(h, error_loocv_h)"
   ]
  },
  {
   "cell_type": "code",
   "execution_count": 10,
   "id": "0b0166f5",
   "metadata": {},
   "outputs": [],
   "source": [
    "yhat = np.array([estimate(x, y, x0, 0.06999999999999999) for x0 in xhat])"
   ]
  },
  {
   "cell_type": "code",
   "execution_count": 11,
   "id": "2f373429",
   "metadata": {},
   "outputs": [
    {
     "data": {
      "text/plain": [
       "[<matplotlib.lines.Line2D at 0x7faf89dfb130>]"
      ]
     },
     "execution_count": 11,
     "metadata": {},
     "output_type": "execute_result"
    },
    {
     "data": {
      "image/png": "[encoded data removed]",
      "text/plain": [
       "<Figure size 432x288 with 1 Axes>"
      ]
     },
     "metadata": {
      "needs_background": "light"
     },
     "output_type": "display_data"
    }
   ],
   "source": [
    "plt.scatter(x, y)\n",
    "plt.scatter(xhat, yhat)\n",
    "plt.plot(xhat, yhat)"
   ]
  },
  {
   "cell_type": "markdown",
   "id": "e89a97d0",
   "metadata": {},
   "source": [
    "# 4 test other function"
   ]
  },
  {
   "cell_type": "markdown",
   "id": "593b2403",
   "metadata": {},
   "source": [
    "## a"
   ]
  },
  {
   "cell_type": "code",
   "execution_count": 12,
   "id": "a8855c14",
   "metadata": {},
   "outputs": [
    {
     "data": {
      "text/plain": [
       "<matplotlib.collections.PathCollection at 0x7faf78340040>"
      ]
     },
     "execution_count": 12,
     "metadata": {},
     "output_type": "execute_result"
    },
    {
     "data": {
      "image/png": "[encoded data removed]",
      "text/plain": [
       "<Figure size 432x288 with 1 Axes>"
      ]
     },
     "metadata": {
      "needs_background": "light"
     },
     "output_type": "display_data"
    }
   ],
   "source": [
    "np.random.seed(15)\n",
    "n = 30\n",
    "x = np.random.uniform(size=(n,))\n",
    "y = 1+4*(x-0.5)**2+0.3*np.random.normal(size = (n,))\n",
    "xhat = np.linspace(0,1,10)\n",
    "#yhat = np.array(estimate(x, y, 0.111, 0.2))\n",
    "yhat = np.array([estimate(x, y, x0, 0.01) for x0 in xhat])\n",
    "plt.scatter(x, y)"
   ]
  },
  {
   "cell_type": "code",
   "execution_count": 13,
   "id": "7120f144",
   "metadata": {},
   "outputs": [
    {
     "name": "stdout",
     "output_type": "stream",
     "text": [
      "The best h is 0.060000000000000005\n"
     ]
    }
   ],
   "source": [
    "error_loocv_h = loocv(x, y)"
   ]
  },
  {
   "cell_type": "code",
   "execution_count": 14,
   "id": "961557e5",
   "metadata": {},
   "outputs": [
    {
     "data": {
      "text/plain": [
       "<matplotlib.collections.PathCollection at 0x7faf68c0f3a0>"
      ]
     },
     "execution_count": 14,
     "metadata": {},
     "output_type": "execute_result"
    },
    {
     "data": {
      "image/png": "[encoded data removed]",
      "text/plain": [
       "<Figure size 432x288 with 1 Axes>"
      ]
     },
     "metadata": {
      "needs_background": "light"
     },
     "output_type": "display_data"
    }
   ],
   "source": [
    "plt.scatter(h, error_loocv_h)"
   ]
  },
  {
   "cell_type": "code",
   "execution_count": 15,
   "id": "ee36a5f3",
   "metadata": {},
   "outputs": [
    {
     "data": {
      "text/plain": [
       "[<matplotlib.lines.Line2D at 0x7faf68b4f130>]"
      ]
     },
     "execution_count": 15,
     "metadata": {},
     "output_type": "execute_result"
    },
    {
     "data": {
      "image/png": "[encoded data removed]",
      "text/plain": [
       "<Figure size 432x288 with 1 Axes>"
      ]
     },
     "metadata": {
      "needs_background": "light"
     },
     "output_type": "display_data"
    }
   ],
   "source": [
    "yhat = np.array([estimate(x, y, x0, 0.060000000000000005) for x0 in xhat])\n",
    "plt.scatter(x, y)\n",
    "plt.scatter(xhat, yhat)\n",
    "plt.plot(xhat, yhat)"
   ]
  },
  {
   "cell_type": "markdown",
   "id": "dd33608c",
   "metadata": {},
   "source": [
    "# b"
   ]
  },
  {
   "cell_type": "code",
   "execution_count": 16,
   "id": "5bb64cb5",
   "metadata": {},
   "outputs": [
    {
     "data": {
      "text/plain": [
       "<matplotlib.collections.PathCollection at 0x7faf581938e0>"
      ]
     },
     "execution_count": 16,
     "metadata": {},
     "output_type": "execute_result"
    },
    {
     "data": {
      "image/png": "[encoded data removed]",
      "text/plain": [
       "<Figure size 432x288 with 1 Axes>"
      ]
     },
     "metadata": {
      "needs_background": "light"
     },
     "output_type": "display_data"
    }
   ],
   "source": [
    "np.random.seed(15)\n",
    "n = 30\n",
    "x = np.random.uniform(size=(n,))\n",
    "y = 1+4*(x-0.5)**2+2*(x-0.8)**3+3*(x-0.2)**4+0.1*np.random.normal(size = (n,))\n",
    "xhat = np.linspace(0,1,10)\n",
    "#yhat = np.array(estimate(x, y, 0.111, 0.2))\n",
    "yhat = np.array([estimate(x, y, x0, 0.01) for x0 in xhat])\n",
    "plt.scatter(x, y)"
   ]
  },
  {
   "cell_type": "code",
   "execution_count": 17,
   "id": "619ee26f",
   "metadata": {},
   "outputs": [
    {
     "name": "stdout",
     "output_type": "stream",
     "text": [
      "The best h is 0.01\n"
     ]
    }
   ],
   "source": [
    "error_loocv_h = loocv(x, y)"
   ]
  },
  {
   "cell_type": "code",
   "execution_count": 18,
   "id": "2d90a2f5",
   "metadata": {},
   "outputs": [
    {
     "data": {
      "text/plain": [
       "<matplotlib.collections.PathCollection at 0x7faf784acbb0>"
      ]
     },
     "execution_count": 18,
     "metadata": {},
     "output_type": "execute_result"
    },
    {
     "data": {
      "image/png": "[encoded data removed]",
      "text/plain": [
       "<Figure size 432x288 with 1 Axes>"
      ]
     },
     "metadata": {
      "needs_background": "light"
     },
     "output_type": "display_data"
    }
   ],
   "source": [
    "plt.scatter(h, error_loocv_h)"
   ]
  },
  {
   "cell_type": "code",
   "execution_count": 19,
   "id": "a1e739e4",
   "metadata": {},
   "outputs": [
    {
     "data": {
      "text/plain": [
       "[<matplotlib.lines.Line2D at 0x7faf68b86dc0>]"
      ]
     },
     "execution_count": 19,
     "metadata": {},
     "output_type": "execute_result"
    },
    {
     "data": {
      "image/png": "[encoded data removed]",
      "text/plain": [
       "<Figure size 432x288 with 1 Axes>"
      ]
     },
     "metadata": {
      "needs_background": "light"
     },
     "output_type": "display_data"
    }
   ],
   "source": [
    "yhat = np.array([estimate(x, y, x0, 0.01) for x0 in xhat])\n",
    "plt.scatter(x, y)\n",
    "plt.scatter(xhat, yhat)\n",
    "plt.plot(xhat, yhat)"
   ]
  },
  {
   "cell_type": "markdown",
   "id": "eec820de",
   "metadata": {},
   "source": [
    "# c"
   ]
  },
  {
   "cell_type": "code",
   "execution_count": 20,
   "id": "e369cbbe",
   "metadata": {},
   "outputs": [
    {
     "data": {
      "text/plain": [
       "<matplotlib.collections.PathCollection at 0x7faf89f75580>"
      ]
     },
     "execution_count": 20,
     "metadata": {},
     "output_type": "execute_result"
    },
    {
     "data": {
      "image/png": "[encoded data removed]",
      "text/plain": [
       "<Figure size 432x288 with 1 Axes>"
      ]
     },
     "metadata": {
      "needs_background": "light"
     },
     "output_type": "display_data"
    }
   ],
   "source": [
    "np.random.seed(15)\n",
    "n = 30\n",
    "x = np.arange(0, 1, 1/n)\n",
    "y = np.sin(x)/10+0.1*np.random.normal(size = (n,))\n",
    "xhat = np.linspace(0,1,10)\n",
    "#yhat = np.array(estimate(x, y, 0.111, 0.2))\n",
    "yhat = np.array([estimate(x, y, x0, 0.01) for x0 in xhat])\n",
    "plt.scatter(x, y)"
   ]
  },
  {
   "cell_type": "code",
   "execution_count": 21,
   "id": "64b21f7e",
   "metadata": {},
   "outputs": [
    {
     "name": "stdout",
     "output_type": "stream",
     "text": [
      "The best h is 0.02\n"
     ]
    }
   ],
   "source": [
    "error_loocv_h = loocv(x, y)"
   ]
  },
  {
   "cell_type": "code",
   "execution_count": 22,
   "id": "4e6623dd",
   "metadata": {},
   "outputs": [
    {
     "data": {
      "text/plain": [
       "<matplotlib.collections.PathCollection at 0x7faf89f9fee0>"
      ]
     },
     "execution_count": 22,
     "metadata": {},
     "output_type": "execute_result"
    },
    {
     "data": {
      "image/png": "[encoded data removed]",
      "text/plain": [
       "<Figure size 432x288 with 1 Axes>"
      ]
     },
     "metadata": {
      "needs_background": "light"
     },
     "output_type": "display_data"
    }
   ],
   "source": [
    "plt.scatter(h, error_loocv_h)"
   ]
  },
  {
   "cell_type": "code",
   "execution_count": 23,
   "id": "2694cb06",
   "metadata": {},
   "outputs": [
    {
     "data": {
      "text/plain": [
       "[<matplotlib.lines.Line2D at 0x7faf68ae6880>]"
      ]
     },
     "execution_count": 23,
     "metadata": {},
     "output_type": "execute_result"
    },
    {
     "data": {
      "image/png": "[encoded data removed]",
      "text/plain": [
       "<Figure size 432x288 with 1 Axes>"
      ]
     },
     "metadata": {
      "needs_background": "light"
     },
     "output_type": "display_data"
    }
   ],
   "source": [
    "yhat = np.array([estimate(x, y, x0, 0.02) for x0 in xhat])\n",
    "plt.scatter(x, y)\n",
    "plt.scatter(xhat, yhat)\n",
    "plt.plot(xhat, yhat)"
   ]
  },
  {
   "cell_type": "code",
   "execution_count": null,
   "id": "ee4335d4",
   "metadata": {},
   "outputs": [],
   "source": []
  }
 ],
 "metadata": {
  "kernelspec": {
   "display_name": "Python 3 (ipykernel)",
   "language": "python",
   "name": "python3"
  },
  "language_info": {
   "codemirror_mode": {
    "name": "ipython",
    "version": 3
   },
   "file_extension": ".py",
   "mimetype": "text/x-python",
   "name": "python",
   "nbconvert_exporter": "python",
   "pygments_lexer": "ipython3",
   "version": "3.9.7"
  }
 },
 "nbformat": 4,
 "nbformat_minor": 5
}
