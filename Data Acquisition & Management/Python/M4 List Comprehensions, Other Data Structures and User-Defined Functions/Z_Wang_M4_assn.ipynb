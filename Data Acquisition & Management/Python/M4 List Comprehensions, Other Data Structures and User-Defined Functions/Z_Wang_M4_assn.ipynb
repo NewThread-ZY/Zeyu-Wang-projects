{
 "cells": [
  {
   "cell_type": "markdown",
   "metadata": {},
   "source": [
    "# 1. import data"
   ]
  },
  {
   "cell_type": "code",
   "execution_count": 1,
   "metadata": {},
   "outputs": [
    {
     "name": "stdout",
     "output_type": "stream",
     "text": [
      "['high', 'high', '2', '4', 'med', 'low', 'unacc']\n",
      "['high', 'high', '4', 'more', 'small', 'high', 'acc']\n",
      "['high', 'high', '4', 'more', 'big', 'low', 'unacc']\n",
      "['high', 'low', '2', 'more', 'big', 'high', 'acc']\n",
      "['vhigh', 'low', '3', '2', 'med', 'med', 'unacc']\n",
      "['low', 'high', '2', '2', 'small', 'low', 'unacc']\n",
      "['med', 'med', '4', 'more', 'med', 'high', 'vgood']\n",
      "['low', 'low', '3', '2', 'big', 'med', 'unacc']\n",
      "['vhigh', 'low', '2', '2', 'small', 'low', 'unacc']\n",
      "['vhigh', 'high', '4', '4', 'med', 'low', 'unacc']\n",
      "['low', 'low', '2', '2', 'med', 'med', 'unacc']\n",
      "['vhigh', 'low', '4', 'more', 'small', 'high', 'acc']\n",
      "['high', 'low', '2', '4', 'big', 'med', 'acc']\n",
      "['low', 'vhigh', '3', 'more', 'big', 'low', 'unacc']\n",
      "['high', 'low', '5more', '2', 'big', 'med', 'unacc']\n",
      "['vhigh', 'high', '2', 'more', 'med', 'high', 'unacc']\n",
      "['med', 'med', '2', '2', 'small', 'low', 'unacc']\n",
      "['high', 'low', '5more', '4', 'med', 'high', 'acc']\n",
      "['low', 'low', '3', 'more', 'med', 'high', 'vgood']\n",
      "['low', 'low', '2', '2', 'big', 'med', 'unacc']\n",
      "['med', 'high', '4', '2', 'big', 'high', 'unacc']\n",
      "['low', 'low', '2', '2', 'small', 'high', 'unacc']\n",
      "['vhigh', 'high', '5more', '4', 'med', 'med', 'unacc']\n",
      "['med', 'vhigh', '2', '2', 'big', 'low', 'unacc']\n",
      "['low', 'vhigh', '4', '4', 'big', 'low', 'unacc']\n",
      "['vhigh', 'low', '3', 'more', 'big', 'low', 'unacc']\n",
      "['med', 'vhigh', '3', '4', 'small', 'low', 'unacc']\n",
      "['high', 'high', '3', '4', 'med', 'med', 'unacc']\n",
      "['low', 'high', '5more', '2', 'big', 'low', 'unacc']\n",
      "['med', 'high', '5more', '2', 'med', 'med', 'unacc']\n",
      "['high', 'low', '3', '4', 'med', 'high', 'acc']\n",
      "['high', 'vhigh', '5more', '4', 'med', 'med', 'unacc']\n",
      "['low', 'low', '5more', '2', 'med', 'low', 'unacc']\n",
      "['vhigh', 'vhigh', '4', '2', 'big', 'high', 'unacc']\n",
      "['high', 'low', '3', '2', 'big', 'high', 'unacc']\n"
     ]
    }
   ],
   "source": [
    "import csv\n",
    "\n",
    "with open('cars-sample35.txt') as csvfile:\n",
    "    readCSV = csv.reader(csvfile)\n",
    "    for row in readCSV:\n",
    "        #print each row as read by the csv.reader file\n",
    "        print(row)"
   ]
  },
  {
   "cell_type": "code",
   "execution_count": 2,
   "metadata": {},
   "outputs": [],
   "source": [
    "def classifyEveryClass(csvfilename):\n",
    "    \"\"\"This function use to classify each class date into seven list for cars-sample35.txt\n",
    "        for read the data, this function need a csv file name as parameter\n",
    "        ----------\n",
    "        variable:\n",
    "            price = []\n",
    "            maintenancecost = []\n",
    "            numberofdoors = []\n",
    "            Number of passengers = []\n",
    "            luggagecapacity = []\n",
    "            safetyrating = []\n",
    "            classificationofvehicle = []\n",
    "            newlistforcar = []\n",
    "        ------------\n",
    "        This function will return a list including seven sublists.\n",
    "    \"\"\"\n",
    "    price = []\n",
    "    maintenancecost = []\n",
    "    numberofdoors = []\n",
    "    Numberofpassengers = []\n",
    "    luggagecapacity = []\n",
    "    safetyrating = []\n",
    "    classificationofvehicle = []\n",
    "    newlistforcar = []\n",
    "    with open(csvfilename) as csvfile:\n",
    "        readCSV = csv.reader(csvfile)\n",
    "        for row in readCSV:\n",
    "            price.append(row[0])\n",
    "            maintenancecost.append(row[1])\n",
    "            numberofdoors.append(row[2])\n",
    "            Numberofpassengers.append(row[3])\n",
    "            luggagecapacity.append(row[4])\n",
    "            safetyrating.append(row[5])\n",
    "            classificationofvehicle.append(row[6])\n",
    "    newlistforcar.append(price)\n",
    "    newlistforcar.append(maintenancecost)\n",
    "    newlistforcar.append(numberofdoors)\n",
    "    newlistforcar.append(Numberofpassengers)\n",
    "    newlistforcar.append(luggagecapacity)\n",
    "    newlistforcar.append(safetyrating)\n",
    "    newlistforcar.append(classificationofvehicle)\n",
    "    print('price list is:',price)\n",
    "    print('maintenancecost list is:',maintenancecost)\n",
    "    print('numberofdoors list is:',numberofdoors)\n",
    "    print('Numberofpassengers list is:',Numberofpassengers)\n",
    "    print('luggagecapacity list is:',luggagecapacity)\n",
    "    print('safetyrating list is:',safetyrating)\n",
    "    print('classificationofvehicle list is:',classificationofvehicle)\n",
    "    return newlistforcar"
   ]
  },
  {
   "cell_type": "code",
   "execution_count": 3,
   "metadata": {},
   "outputs": [
    {
     "name": "stdout",
     "output_type": "stream",
     "text": [
      "price list is: ['high', 'high', 'high', 'high', 'vhigh', 'low', 'med', 'low', 'vhigh', 'vhigh', 'low', 'vhigh', 'high', 'low', 'high', 'vhigh', 'med', 'high', 'low', 'low', 'med', 'low', 'vhigh', 'med', 'low', 'vhigh', 'med', 'high', 'low', 'med', 'high', 'high', 'low', 'vhigh', 'high']\n",
      "maintenancecost list is: ['high', 'high', 'high', 'low', 'low', 'high', 'med', 'low', 'low', 'high', 'low', 'low', 'low', 'vhigh', 'low', 'high', 'med', 'low', 'low', 'low', 'high', 'low', 'high', 'vhigh', 'vhigh', 'low', 'vhigh', 'high', 'high', 'high', 'low', 'vhigh', 'low', 'vhigh', 'low']\n",
      "numberofdoors list is: ['2', '4', '4', '2', '3', '2', '4', '3', '2', '4', '2', '4', '2', '3', '5more', '2', '2', '5more', '3', '2', '4', '2', '5more', '2', '4', '3', '3', '3', '5more', '5more', '3', '5more', '5more', '4', '3']\n",
      "Numberofpassengers list is: ['4', 'more', 'more', 'more', '2', '2', 'more', '2', '2', '4', '2', 'more', '4', 'more', '2', 'more', '2', '4', 'more', '2', '2', '2', '4', '2', '4', 'more', '4', '4', '2', '2', '4', '4', '2', '2', '2']\n",
      "luggagecapacity list is: ['med', 'small', 'big', 'big', 'med', 'small', 'med', 'big', 'small', 'med', 'med', 'small', 'big', 'big', 'big', 'med', 'small', 'med', 'med', 'big', 'big', 'small', 'med', 'big', 'big', 'big', 'small', 'med', 'big', 'med', 'med', 'med', 'med', 'big', 'big']\n",
      "safetyrating list is: ['low', 'high', 'low', 'high', 'med', 'low', 'high', 'med', 'low', 'low', 'med', 'high', 'med', 'low', 'med', 'high', 'low', 'high', 'high', 'med', 'high', 'high', 'med', 'low', 'low', 'low', 'low', 'med', 'low', 'med', 'high', 'med', 'low', 'high', 'high']\n",
      "classificationofvehicle list is: ['unacc', 'acc', 'unacc', 'acc', 'unacc', 'unacc', 'vgood', 'unacc', 'unacc', 'unacc', 'unacc', 'acc', 'acc', 'unacc', 'unacc', 'unacc', 'unacc', 'acc', 'vgood', 'unacc', 'unacc', 'unacc', 'unacc', 'unacc', 'unacc', 'unacc', 'unacc', 'unacc', 'unacc', 'unacc', 'acc', 'unacc', 'unacc', 'unacc', 'unacc']\n"
     ]
    }
   ],
   "source": [
    "newlistofcar = classifyEveryClass('cars-sample35.txt')"
   ]
  },
  {
   "cell_type": "markdown",
   "metadata": {},
   "source": [
    "### 1. (10 Points) Find the list index values of each automobile having a price rating of \"med using a list comprehension instead of a basic for or while loop. The list comprehension should create a new list containing your result. Be sure to print your results to the screen."
   ]
  },
  {
   "cell_type": "code",
   "execution_count": 21,
   "metadata": {},
   "outputs": [
    {
     "name": "stdout",
     "output_type": "stream",
     "text": [
      "[6, 16, 20, 23, 26, 29]\n"
     ]
    }
   ],
   "source": [
    "med_car = [i for i in range(len(newlistofcar[0])) if newlistofcar[0][i]==\"med\"]#question1\n",
    "print (med_car)"
   ]
  },
  {
   "cell_type": "markdown",
   "metadata": {},
   "source": [
    "### 2. (10 Points) Find the \"number of passengers\" value for each auto having a \"price\" value of \"med\" using a list comprehension instead of a basic for or while loop. The list comprehension should create a new list containing your findings. Be sure to print your results to the screen.\n"
   ]
  },
  {
   "cell_type": "code",
   "execution_count": 22,
   "metadata": {},
   "outputs": [
    {
     "name": "stdout",
     "output_type": "stream",
     "text": [
      "['more', '2', '2', '2', '4', '2']\n"
     ]
    }
   ],
   "source": [
    "med_car_numberofpassengers = [newlistofcar[3][i] for i in med_car]#question2\n",
    "print(med_car_numberofpassengers)"
   ]
  },
  {
   "cell_type": "markdown",
   "metadata": {},
   "source": [
    "### 3. (10 Points) Find the index value for each automobile having a price value of \"high\" and a maintenance value that is not \"low\" using a list comprehension. The list comprehension should create a new list containing your findings. Be sure to print your results to the screen."
   ]
  },
  {
   "cell_type": "code",
   "execution_count": 23,
   "metadata": {},
   "outputs": [
    {
     "name": "stdout",
     "output_type": "stream",
     "text": [
      "[0, 1, 2, 27, 31]\n"
     ]
    }
   ],
   "source": [
    "high_and_isnotlow = [i for i in range(len(newlistofcar[0])) if newlistofcar[0][i]=='high' and newlistofcar[1][i]!='low']\n",
    "#question3\n",
    "print(high_and_isnotlow)"
   ]
  },
  {
   "cell_type": "markdown",
   "metadata": {},
   "source": [
    "### 4. (20 Points) Implement this nested for loop logic shown above using a list comprehension. Apply your list comprehension to the nlist list of lists shown above. Be sure to print your newly created list to the screen."
   ]
  },
  {
   "cell_type": "code",
   "execution_count": 29,
   "metadata": {},
   "outputs": [
    {
     "name": "stdout",
     "output_type": "stream",
     "text": [
      "[1, 2, 3, 'A', 'B', 'C', 4, 5, 'D', 'E']\n"
     ]
    }
   ],
   "source": [
    "nlist = [[1, 2, 3], ['A', 'B', 'C'], [4, 5], ['D', 'E']]#question4\n",
    "flist = [j for i in nlist for j in i]\n",
    "print(flist)"
   ]
  },
  {
   "cell_type": "markdown",
   "metadata": {},
   "source": [
    "### 5. (35 Points) Your fifth task is to create a user defined function that accepts as input one of the seven automobile attribute lists as well as an integer value and returns a Python dict object. Remember: a Python dict object is comprised of ‘key/value’ pairs. The integer value accepted as a parameter by your function will represent the exact number of items you are to use from the list for purposes of creating the new dict object. So for example, if your function was defined as:"
   ]
  },
  {
   "cell_type": "code",
   "execution_count": 60,
   "metadata": {},
   "outputs": [
    {
     "name": "stdout",
     "output_type": "stream",
     "text": [
      "{'A0': 'high', 'A1': 'high', 'A2': 'high', 'A3': 'high'}\n",
      "{'A0': 'high', 'A1': 'high', 'A2': 'high', 'A3': 'low', 'A4': 'low', 'A5': 'high', 'A6': 'med', 'A7': 'low', 'A8': 'low', 'A9': 'high'}\n",
      "{'A0': '2', 'A1': '4', 'A2': '4', 'A3': '2', 'A4': '3', 'A5': '2', 'A6': '4', 'A7': '3', 'A8': '2', 'A9': '4', 'A10': '2', 'A11': '4', 'A12': '2', 'A13': '3', 'A14': '5more', 'A15': '2', 'A16': '2', 'A17': '5more', 'A18': '3', 'A19': '2'}\n",
      "index error\n"
     ]
    }
   ],
   "source": [
    "def makedict(mylist, x):#question5\n",
    "    '''\n",
    "    This function required passed into two parameter, one is list and other one is integer. \n",
    "    Integer is a number to tell this function how many records will be extract from first parameter list.\n",
    "    Finally, this function will return a new dicts about first x of mylist.\n",
    "    '''\n",
    "    if len(mylist)<x:\n",
    "        print('index error')\n",
    "        return \n",
    "    dicts = {'A'+str(i):mylist[i] for i in range(x)}\n",
    "    return dicts\n",
    "dict1 = makedict(newlistofcar[0],4)\n",
    "dict2 = makedict(newlistofcar[1],10)\n",
    "dict3 = makedict(newlistofcar[2],20)\n",
    "\n",
    "print(dict1)\n",
    "print(dict2)\n",
    "print(dict3)\n",
    "\n",
    "dict4 = makedict(newlistofcar[3],36)"
   ]
  },
  {
   "cell_type": "markdown",
   "metadata": {},
   "source": [
    "### 6. (15 Points) Now that you have your reusable user-defined function, use it to create two new dict objects containing the first seven elements of the ‘Price’ and ‘Luggage’ lists, respectively. Then, use these dict objects to tell us the price and luggage capacity of the auto identified by the ‘A4’ key value."
   ]
  },
  {
   "cell_type": "code",
   "execution_count": 62,
   "metadata": {},
   "outputs": [
    {
     "name": "stdout",
     "output_type": "stream",
     "text": [
      "{'A0': 'high', 'A1': 'high', 'A2': 'high', 'A3': 'high', 'A4': 'vhigh', 'A5': 'low', 'A6': 'med'}\n",
      "{'A0': 'med', 'A1': 'small', 'A2': 'big', 'A3': 'big', 'A4': 'med', 'A5': 'small', 'A6': 'med'}\n",
      "vhigh\n",
      "med\n"
     ]
    }
   ],
   "source": [
    "dicts7_price = makedict(newlistofcar[0],7)#question6\n",
    "dicts7_luggage = makedict(newlistofcar[4],7)\n",
    "print(dicts7_price)\n",
    "print(dicts7_luggage)\n",
    "print(dicts7_price['A4'])\n",
    "print(dicts7_luggage['A4'])"
   ]
  }
 ],
 "metadata": {
  "kernelspec": {
   "display_name": "Python 3 (ipykernel)",
   "language": "python",
   "name": "python3"
  },
  "language_info": {
   "codemirror_mode": {
    "name": "ipython",
    "version": 3
   },
   "file_extension": ".py",
   "mimetype": "text/x-python",
   "name": "python",
   "nbconvert_exporter": "python",
   "pygments_lexer": "ipython3",
   "version": "3.8.11"
  }
 },
 "nbformat": 4,
 "nbformat_minor": 4
}
