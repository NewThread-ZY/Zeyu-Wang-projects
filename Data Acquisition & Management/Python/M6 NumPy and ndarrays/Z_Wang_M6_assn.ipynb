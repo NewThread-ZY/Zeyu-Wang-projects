{
 "cells": [
  {
   "cell_type": "markdown",
   "metadata": {},
   "source": [
    "1. (10 Points) Write a Python/NumPy code block that finds the distinct/unique common items between these two arrays:\n",
    "a = np.array([1, 2, 3, 2, 3, 4, 3, 4, 5, 6])\n",
    "b = np.array([7, 2, 10, 2, 7, 4, 9, 4, 9, 8])\n",
    "Your output should contain only the distinct overlapping values. For example, if a 2 is found in both array a and array b, your output should contain only one 2 even if array a contains more than one 2 within it."
   ]
  },
  {
   "cell_type": "code",
   "execution_count": 1,
   "metadata": {},
   "outputs": [],
   "source": [
    "import numpy as np\n",
    "import pandas"
   ]
  },
  {
   "cell_type": "code",
   "execution_count": 3,
   "metadata": {},
   "outputs": [
    {
     "name": "stdout",
     "output_type": "stream",
     "text": [
      "[2 4]\n"
     ]
    }
   ],
   "source": [
    "a = np.array([1, 2, 3, 2, 3, 4, 3, 4, 5, 6]) #question1\n",
    "b = np.array([7, 2, 10, 2, 7, 4, 9, 4, 9, 8]) \n",
    "c = np.unique(np.intersect1d(a, b))#get their intersection and remove the repeat\n",
    "print(c)"
   ]
  },
  {
   "cell_type": "markdown",
   "metadata": {},
   "source": [
    "2. (10 Points) Create the following 5x3 array using knowledge you have of Python’s / NumPy’s sequencing functionality so that you do not need to explicitly key in every integer value."
   ]
  },
  {
   "cell_type": "code",
   "execution_count": 4,
   "metadata": {},
   "outputs": [
    {
     "name": "stdout",
     "output_type": "stream",
     "text": [
      "[[ 1  6 11]\n",
      " [ 2  7 12]\n",
      " [ 3  8 13]\n",
      " [ 4  9 14]\n",
      " [ 5 10 15]]\n"
     ]
    }
   ],
   "source": [
    "array53 = np.arange(1, 16).reshape(3, 5).T#question2\n",
    "print(array53)"
   ]
  },
  {
   "cell_type": "markdown",
   "metadata": {},
   "source": [
    "3. (10 Points) The process of transforming a multidimensional array into a unidimensional array is referred to as “flattening”. Transform the 5x3 array shown above in Problem 2 into a unidimensional array such that the sequence of values contained within the array is as follows: 1, 2, 3, 4, 5, 6, 7, 8, 9, 10, 11, 12, 13, 14, 15\n"
   ]
  },
  {
   "cell_type": "code",
   "execution_count": 5,
   "metadata": {},
   "outputs": [
    {
     "name": "stdout",
     "output_type": "stream",
     "text": [
      "[ 1  2  3  4  5  6  7  8  9 10 11 12 13 14 15]\n"
     ]
    }
   ],
   "source": [
    "flarray53 = array53.T.flatten()#question3\n",
    "print(flarray53)"
   ]
  },
  {
   "cell_type": "markdown",
   "metadata": {},
   "source": [
    "4. (15 Points) Transform the 2-D array shown in Problem 2 into a 3 dimensional array such that the first column becomes the first dimension of the 3-D array, the second column becomes the second dimension of the 3-D array, and the third column becomes the third dimension of the 3-D array."
   ]
  },
  {
   "cell_type": "code",
   "execution_count": 6,
   "metadata": {},
   "outputs": [
    {
     "name": "stdout",
     "output_type": "stream",
     "text": [
      "[[[ 1  2  3  4  5]]\n",
      "\n",
      " [[ 6  7  8  9 10]]\n",
      "\n",
      " [[11 12 13 14 15]]]\n"
     ]
    }
   ],
   "source": [
    "d2tod3 = np.reshape(array53.T, (3,1,5))#question4\n",
    "print(d2tod3)"
   ]
  },
  {
   "cell_type": "markdown",
   "metadata": {},
   "source": [
    "5. (15 Points) Transform the 3-D array you created in Problem 4 back to the 2-dimensional format shown in Problem 2."
   ]
  },
  {
   "cell_type": "code",
   "execution_count": 7,
   "metadata": {},
   "outputs": [
    {
     "name": "stdout",
     "output_type": "stream",
     "text": [
      "[[ 1  6 11]\n",
      " [ 2  7 12]\n",
      " [ 3  8 13]\n",
      " [ 4  9 14]\n",
      " [ 5 10 15]]\n"
     ]
    }
   ],
   "source": [
    "d3tod2 = np.reshape(d2tod3, (3, 5)).T#question5\n",
    "print(d3tod2)"
   ]
  },
  {
   "cell_type": "markdown",
   "metadata": {},
   "source": [
    "6. (10 Points) You are given the following two arrays:\n",
    "a = np.array([12, 5, 7, 15, 3, 1, 8])\n",
    "b = np.array([14, 6, 3, 11, 19, 12, 5])\n",
    "Write a Python/Numpy code block that removes from array a any items that are also present in array b."
   ]
  },
  {
   "cell_type": "code",
   "execution_count": 2,
   "metadata": {},
   "outputs": [
    {
     "data": {
      "text/plain": [
       "array([ 1,  7,  8, 15])"
      ]
     },
     "execution_count": 2,
     "metadata": {},
     "output_type": "execute_result"
    }
   ],
   "source": [
    "a = np.array([12, 5, 7, 15, 3, 1, 8]) #question6\n",
    "b = np.array([14, 6, 3, 11, 19, 12, 5])\n",
    "np.setdiff1d(a, b)"
   ]
  },
  {
   "cell_type": "markdown",
   "metadata": {},
   "source": [
    "7. (30 Points) For this problem you will load a small data set to your online GitHub repository and then read it into a NumPy 2D array. You will then use the content that NumPy array to answer a series of analytical questions."
   ]
  },
  {
   "cell_type": "code",
   "execution_count": 9,
   "metadata": {},
   "outputs": [
    {
     "name": "stdout",
     "output_type": "stream",
     "text": [
      "[[   1979.  7102100.     1512.      213. ]\n",
      " [   1980.  7071639.     1506.      213. ]\n",
      " [   1981.  7089241.     1309.      185. ]\n",
      " [   1982.  7109105.     1382.      194. ]\n",
      " [   1983.  7181224.     1424.      198. ]\n",
      " [   1984.  7234514.     1465.      203. ]\n",
      " [   1985.  7274054.     1326.      182. ]\n",
      " [   1986.  7319246.     1351.      185. ]\n",
      " [   1987.  7342476.     1447.      197. ]\n",
      " [   1988.  7353719.     1484.      202. ]\n",
      " [   1989.  7344175.     1402.      191. ]\n",
      " [   1990.  7335650.     1424.      194. ]\n",
      " [   1991.  7374501.     1469.      199. ]\n",
      " [   1992.  7428944.     1369.      184. ]\n",
      " [   1993.  7506166.     1368.5     182. ]\n",
      " [   1994.  7570458.     1357.7     179. ]\n",
      " [   1995.  7633040.     1325.7     174. ]\n",
      " [   1996.  7697812.     1297.9     169. ]\n",
      " [   1997.  7773443.     1205.5     155. ]\n",
      " [   1998.  7858259.     1219.5     155. ]\n",
      " [   1999.  7947660.     1237.2     156. ]\n",
      " [   2000.  8008278.     1240.4     155. ]\n",
      " [   2001.  8024963.5    1184.      148. ]\n",
      " [   2002.  8041649.     1135.6     141. ]\n",
      " [   2003.  8058334.5    1093.7     136. ]\n",
      " [   2004.  8075020.     1099.5     136. ]\n",
      " [   2005.  8091705.5    1138.      141. ]\n",
      " [   2006.  8108391.     1069.      132. ]\n",
      " [   2007.  8125076.5    1114.      137. ]\n",
      " [   2008.  8141762.     1098.      135. ]\n",
      " [   2009.  8158447.5    1007.5     123. ]\n",
      " [   2010.  8175133.     1039.      127. ]\n",
      " [   2011.  8284098.     1021.      123. ]\n",
      " [   2012.  8361179.     1009.1     121. ]\n",
      " [   2013.  8422460.     1006.1     119. ]\n",
      " [   2014.  8471990.      996.      118. ]\n",
      " [   2015.  8516502.     1009.      118. ]\n",
      " [   2016.  8537673.     1002.      117. ]\n",
      " [   2017.  8622698.      990.2     115. ]]\n",
      "(39, 4)\n"
     ]
    }
   ],
   "source": [
    "np.set_printoptions(suppress = True)\n",
    "nyc_water = pandas.read_csv('https://raw.githubusercontent.com/NewThread-ZY/AIM-5001/master/Module6_Data.csv').to_numpy()\n",
    "print(nyc_water)\n",
    "print(nyc_water.shape)"
   ]
  },
  {
   "cell_type": "markdown",
   "metadata": {},
   "source": [
    "1.What is the maximum yearly NYC consumption of water in millions of gallons per day?"
   ]
  },
  {
   "cell_type": "code",
   "execution_count": 10,
   "metadata": {},
   "outputs": [
    {
     "name": "stdout",
     "output_type": "stream",
     "text": [
      "The maximum yearly NYC consumption of water in millions of gallons per day is 1512.0\n"
     ]
    }
   ],
   "source": [
    "yearlycomsum = nyc_water[:nyc_water.shape[0], 2:3]#question1\n",
    "print('The maximum yearly NYC consumption of water in millions of gallons per day is '+str(yearlycomsum.max()))"
   ]
  },
  {
   "cell_type": "markdown",
   "metadata": {},
   "source": [
    "2.How many calendar years are represented within this data set? NumPy's shape command is one way to find out."
   ]
  },
  {
   "cell_type": "code",
   "execution_count": 11,
   "metadata": {},
   "outputs": [
    {
     "name": "stdout",
     "output_type": "stream",
     "text": [
      "There is 39 calendar years\n"
     ]
    }
   ],
   "source": [
    "calendaryears = np.unique(nyc_water[:nyc_water.shape[0], 0:1])#question2\n",
    "print('There is '+str(calendaryears.shape[0])+' calendar years')"
   ]
  },
  {
   "cell_type": "markdown",
   "metadata": {},
   "source": [
    "3.What is the mean and the standard deviation of the per capita daily water consumption?"
   ]
  },
  {
   "cell_type": "code",
   "execution_count": 12,
   "metadata": {},
   "outputs": [
    {
     "name": "stdout",
     "output_type": "stream",
     "text": [
      "The mean of the per capita daily water consumption is 160.30769230769232\n",
      "The standard deviation of the per capita daily water consumption is 31.51894330370624\n"
     ]
    }
   ],
   "source": [
    "percapitadailywater = nyc_water[:nyc_water.shape[0], 3:4]#question3\n",
    "pcd_mean = np.mean(percapitadailywater)\n",
    "pcd_std = np.std(percapitadailywater)#One of the method to calculate standard deviation\n",
    "pcd_st = np.sqrt(np.var(percapitadailywater))#Other method to calculate standard deviation\n",
    "print('The mean of the per capita daily water consumption is '+str(pcd_mean))\n",
    "print('The standard deviation of the per capita daily water consumption is '+str(pcd_std))"
   ]
  },
  {
   "cell_type": "markdown",
   "metadata": {},
   "source": [
    "4.What is the increase or decrease in population from year to year? Use NumPy's `diff` function to create an array of differences and save that to a variable called \"pop_diff\", then print that variable to the screen."
   ]
  },
  {
   "cell_type": "code",
   "execution_count": 13,
   "metadata": {},
   "outputs": [
    {
     "name": "stdout",
     "output_type": "stream",
     "text": [
      "[-30461.   17602.   19864.   72119.   53290.   39540.   45192.   23230.\n",
      "  11243.   -9544.   -8525.   38851.   54443.   77222.   64292.   62582.\n",
      "  64772.   75631.   84816.   89401.   60618.   16685.5  16685.5  16685.5\n",
      "  16685.5  16685.5  16685.5  16685.5  16685.5  16685.5  16685.5 108965.\n",
      "  77081.   61281.   49530.   44512.   21171.   85025. ]\n"
     ]
    }
   ],
   "source": [
    "population = nyc_water[:nyc_water.shape[0], 1:2].flatten()#question4\n",
    "pop_diff = np.diff(population)\n",
    "print(pop_diff)"
   ]
  },
  {
   "cell_type": "code",
   "execution_count": null,
   "metadata": {},
   "outputs": [],
   "source": []
  }
 ],
 "metadata": {
  "kernelspec": {
   "display_name": "Python 3 (ipykernel)",
   "language": "python",
   "name": "python3"
  },
  "language_info": {
   "codemirror_mode": {
    "name": "ipython",
    "version": 3
   },
   "file_extension": ".py",
   "mimetype": "text/x-python",
   "name": "python",
   "nbconvert_exporter": "python",
   "pygments_lexer": "ipython3",
   "version": "3.8.11"
  }
 },
 "nbformat": 4,
 "nbformat_minor": 4
}
