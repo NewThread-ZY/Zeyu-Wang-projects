{
 "cells": [
  {
   "cell_type": "code",
   "execution_count": 1,
   "metadata": {},
   "outputs": [
    {
     "name": "stderr",
     "output_type": "stream",
     "text": [
      "\n",
      "Bad key \"text.kerning_factor\" on line 4 in\n",
      "e:\\ProgramData\\Anaconda3\\lib\\site-packages\\matplotlib\\mpl-data\\stylelib\\_classic_test_patch.mplstyle.\n",
      "You probably need to get an updated matplotlibrc file from\n",
      "http://github.com/matplotlib/matplotlib/blob/master/matplotlibrc.template\n",
      "or from the matplotlib source distribution\n"
     ]
    }
   ],
   "source": [
    "import numpy as np\n",
    "import matplotlib.pyplot as plt"
   ]
  },
  {
   "cell_type": "code",
   "execution_count": 2,
   "metadata": {},
   "outputs": [],
   "source": [
    "def fixedPoint(f, x0, TOL=10e-15, N=100):\n",
    "    e = 1\n",
    "    i = 0\n",
    "    xi = []\n",
    "    while(e>TOL and i<N):\n",
    "        x = f(x0)\n",
    "        e = np.abs(x-x0)\n",
    "        x0 = x\n",
    "        xi.append(x0)\n",
    "        i += 1\n",
    "    print(x, xi, i)\n",
    "    if e<TOL:\n",
    "        print('Approximate fixed point:', x0)\n",
    "    else:\n",
    "        print('The fixed point iteration diverges')"
   ]
  },
  {
   "cell_type": "markdown",
   "metadata": {},
   "source": [
    "Transform to fixedpoint problem\n",
    "1.(50*x**4+np.sin(x)-np.cos(x)+np.log(x)+x**(1/2))/x**2\n",
    "2.x=g(x)  change to fixed poined problem\n",
    "3.50x**4+sinx-cosx+lnx+x**(1/2)=0\n",
    "4.there is five equations\n",
    "①x = ((cosx-sinx-lnx-x(1/2))/50))**(1/4))\n",
    "②x = arcsin(cosx-lnx-x(1/2)-50x**4)\n",
    "③x = arccos(50x**4+sinx+lnx+x**(1/2))\n",
    "④x = e**(cosx-sinx-50x**4-x**(1/2))\n",
    "⑤x = (cosx-50x**4-sinx-lnx)**2"
   ]
  },
  {
   "cell_type": "code",
   "execution_count": 3,
   "metadata": {},
   "outputs": [],
   "source": [
    "def g1(x):#①x = ((cosx-sinx-lnx-x(1/2))/50))**(1/4))\n",
    "    return ((np.cos(x)-np.sin(x)-np.log(x)-x**(1/2))/50)**(1/4)"
   ]
  },
  {
   "cell_type": "code",
   "execution_count": 4,
   "metadata": {},
   "outputs": [],
   "source": [
    "def g2(x):#②x = arcsin(cosx-lnx-x(1/2)-50x**4)\n",
    "    return np.arcsin(np.cos(x)-np.log(x)-x**(1/2)-50*x**4)"
   ]
  },
  {
   "cell_type": "code",
   "execution_count": 5,
   "metadata": {},
   "outputs": [],
   "source": [
    "def g3(x):#③x = arccos(50x**4+sinx+lnx+x**(1/2))\n",
    "    return np.arccos(50*x**4+np.sin(x)+np.log(x)+x**(1/2))"
   ]
  },
  {
   "cell_type": "code",
   "execution_count": 6,
   "metadata": {},
   "outputs": [],
   "source": [
    "def g4(x):#④x = e**(cosx-sinx-50x**4-x**(1/2))\n",
    "    return np.e**(np.cos(x)-np.sin(x)-50*x**4-x**(1/2))"
   ]
  },
  {
   "cell_type": "code",
   "execution_count": 7,
   "metadata": {},
   "outputs": [],
   "source": [
    "def g5(x):#⑤x = (cosx-50x**4-sinx-lnx)**2\n",
    "    return (np.cos(x)-50*x**4-np.sin(x)-np.log(x))**2"
   ]
  },
  {
   "cell_type": "markdown",
   "metadata": {},
   "source": [
    "Because of the equation, g1,g2,g3 can't satisfy domain, g4 is diverges and g5 is too large."
   ]
  },
  {
   "cell_type": "code",
   "execution_count": 8,
   "metadata": {},
   "outputs": [
    {
     "name": "stdout",
     "output_type": "stream",
     "text": [
      "nan [0.7894471333061918, nan] 2\n",
      "The fixed point iteration diverges\n"
     ]
    },
    {
     "name": "stderr",
     "output_type": "stream",
     "text": [
      "e:\\ProgramData\\Anaconda3\\lib\\site-packages\\ipykernel_launcher.py:2: RuntimeWarning: invalid value encountered in double_scalars\n",
      "  \n"
     ]
    }
   ],
   "source": [
    "fixedPoint(g1, 0.00000001, 10e-5, 100)"
   ]
  },
  {
   "cell_type": "code",
   "execution_count": 9,
   "metadata": {},
   "outputs": [
    {
     "name": "stdout",
     "output_type": "stream",
     "text": [
      "nan [nan] 1\n",
      "The fixed point iteration diverges\n"
     ]
    },
    {
     "name": "stderr",
     "output_type": "stream",
     "text": [
      "e:\\ProgramData\\Anaconda3\\lib\\site-packages\\ipykernel_launcher.py:2: RuntimeWarning: invalid value encountered in arcsin\n",
      "  \n"
     ]
    }
   ],
   "source": [
    "fixedPoint(g2, 0.00000001, 10e-5, 100)"
   ]
  },
  {
   "cell_type": "code",
   "execution_count": 10,
   "metadata": {},
   "outputs": [
    {
     "name": "stdout",
     "output_type": "stream",
     "text": [
      "nan [nan] 1\n",
      "The fixed point iteration diverges\n"
     ]
    },
    {
     "name": "stderr",
     "output_type": "stream",
     "text": [
      "e:\\ProgramData\\Anaconda3\\lib\\site-packages\\ipykernel_launcher.py:2: RuntimeWarning: invalid value encountered in arccos\n",
      "  \n"
     ]
    }
   ],
   "source": [
    "fixedPoint(g3, 0.00000001, 10e-5, 100)"
   ]
  },
  {
   "cell_type": "code",
   "execution_count": 11,
   "metadata": {},
   "outputs": [
    {
     "name": "stdout",
     "output_type": "stream",
     "text": [
      "0.0 [2.718009986687055, 0.0, 2.718281828459045, 0.0, 2.718281828459045, 0.0, 2.718281828459045, 0.0, 2.718281828459045, 0.0, 2.718281828459045, 0.0, 2.718281828459045, 0.0, 2.718281828459045, 0.0, 2.718281828459045, 0.0, 2.718281828459045, 0.0, 2.718281828459045, 0.0, 2.718281828459045, 0.0, 2.718281828459045, 0.0, 2.718281828459045, 0.0, 2.718281828459045, 0.0, 2.718281828459045, 0.0, 2.718281828459045, 0.0, 2.718281828459045, 0.0, 2.718281828459045, 0.0, 2.718281828459045, 0.0, 2.718281828459045, 0.0, 2.718281828459045, 0.0, 2.718281828459045, 0.0, 2.718281828459045, 0.0, 2.718281828459045, 0.0, 2.718281828459045, 0.0, 2.718281828459045, 0.0, 2.718281828459045, 0.0, 2.718281828459045, 0.0, 2.718281828459045, 0.0, 2.718281828459045, 0.0, 2.718281828459045, 0.0, 2.718281828459045, 0.0, 2.718281828459045, 0.0, 2.718281828459045, 0.0, 2.718281828459045, 0.0, 2.718281828459045, 0.0, 2.718281828459045, 0.0, 2.718281828459045, 0.0, 2.718281828459045, 0.0, 2.718281828459045, 0.0, 2.718281828459045, 0.0, 2.718281828459045, 0.0, 2.718281828459045, 0.0, 2.718281828459045, 0.0, 2.718281828459045, 0.0, 2.718281828459045, 0.0, 2.718281828459045, 0.0, 2.718281828459045, 0.0, 2.718281828459045, 0.0] 100\n",
      "The fixed point iteration diverges\n"
     ]
    }
   ],
   "source": [
    "fixedPoint(g4, 0.00000001, 10e-5, 100)"
   ]
  },
  {
   "cell_type": "code",
   "execution_count": 12,
   "metadata": {},
   "outputs": [
    {
     "name": "stdout",
     "output_type": "stream",
     "text": [
      "nan [377.1628401701086, 1.0236964292515504e+24, 3.015154120330006e+195, inf, nan] 5\n",
      "The fixed point iteration diverges\n"
     ]
    },
    {
     "name": "stderr",
     "output_type": "stream",
     "text": [
      "e:\\ProgramData\\Anaconda3\\lib\\site-packages\\ipykernel_launcher.py:2: RuntimeWarning: overflow encountered in double_scalars\n",
      "  \n",
      "e:\\ProgramData\\Anaconda3\\lib\\site-packages\\ipykernel_launcher.py:2: RuntimeWarning: invalid value encountered in cos\n",
      "  \n",
      "e:\\ProgramData\\Anaconda3\\lib\\site-packages\\ipykernel_launcher.py:2: RuntimeWarning: invalid value encountered in sin\n",
      "  \n"
     ]
    }
   ],
   "source": [
    "fixedPoint(g5, 0.00000001, 10e-5, 100)"
   ]
  },
  {
   "cell_type": "code",
   "execution_count": null,
   "metadata": {},
   "outputs": [],
   "source": []
  },
  {
   "cell_type": "code",
   "execution_count": null,
   "metadata": {},
   "outputs": [],
   "source": []
  },
  {
   "cell_type": "code",
   "execution_count": null,
   "metadata": {},
   "outputs": [],
   "source": []
  }
 ],
 "metadata": {
  "kernelspec": {
   "display_name": "Python 3",
   "language": "python",
   "name": "python3"
  },
  "language_info": {
   "codemirror_mode": {
    "name": "ipython",
    "version": 3
   },
   "file_extension": ".py",
   "mimetype": "text/x-python",
   "name": "python",
   "nbconvert_exporter": "python",
   "pygments_lexer": "ipython3",
   "version": "3.7.1"
  }
 },
 "nbformat": 4,
 "nbformat_minor": 2
}
