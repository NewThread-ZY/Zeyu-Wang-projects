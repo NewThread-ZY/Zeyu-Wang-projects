{
 "cells": [
  {
   "cell_type": "code",
   "execution_count": 10,
   "id": "provincial-being",
   "metadata": {},
   "outputs": [],
   "source": [
    "import matplotlib.pyplot as plt\n",
    "import numpy as np"
   ]
  },
  {
   "cell_type": "code",
   "execution_count": 11,
   "id": "announced-drink",
   "metadata": {},
   "outputs": [],
   "source": [
    "C = 1\n",
    "g1 = 120\n",
    "g2 = 36\n",
    "g3 = 0.3\n",
    "E0 = -65\n",
    "E1 = 50\n",
    "E2 = -77\n",
    "E3 = -54.4"
   ]
  },
  {
   "cell_type": "code",
   "execution_count": 12,
   "id": "original-officer",
   "metadata": {},
   "outputs": [],
   "source": [
    "def af_m(v):\n",
    "    return (2.5-0.1*v)/(np.exp(2.5-0.1*v)-1)\n",
    "def af_n(v):\n",
    "    return (0.1-0.01*v)/(np.exp(1-0.1*v)-1)\n",
    "def af_h(v):\n",
    "    return 0.07*np.exp(-v/20)\n",
    "def bt_m(v):\n",
    "    return 4*np.exp(-v/18)\n",
    "def bt_n(v):\n",
    "    return (1/8)*np.exp(-v/80)\n",
    "def bt_h(v):\n",
    "    return 1/(np.exp(3-0.1*v)+1)\n",
    "    "
   ]
  },
  {
   "cell_type": "code",
   "execution_count": 6,
   "id": "electrical-flash",
   "metadata": {},
   "outputs": [],
   "source": [
    "def getIn(t, a, b, In):\n",
    "    if a==50 and b==51:\n",
    "        return In\n",
    "    else:\n",
    "        return 0\n",
    "    return 0"
   ]
  },
  {
   "cell_type": "code",
   "execution_count": 7,
   "id": "irish-elevation",
   "metadata": {},
   "outputs": [],
   "source": [
    "def eqution4(x, Iin):\n",
    "    v = x[0]\n",
    "    m = x[1]\n",
    "    h = x[2]\n",
    "    n = x[3]\n",
    "    dv = ((-g1*m**3)*h*(v-E1)-(g2*n**4)*(v-E2)-g3*(v-E3)+Iin)/C\n",
    "    dm = (1-m)*af_m(v)*(v-E0)-m*bt_m(v)*(v-E0)\n",
    "    dn = (1-n)*af_n(v)*(v-E0)-n*bt_n(v)*(v-E0)\n",
    "    dh = (1-h)*af_h(v)*(v-E0)-h*bt_h(v)*(v-E0)\n",
    "    return np.array([dv,dm,dn,dh])"
   ]
  },
  {
   "cell_type": "code",
   "execution_count": 8,
   "id": "embedded-canal",
   "metadata": {},
   "outputs": [
    {
     "name": "stdout",
     "output_type": "stream",
     "text": [
      "[  0.   1.   2.   3.   4.   5.   6.   7.   8.   9.  10.  11.  12.  13.\n",
      "  14.  15.  16.  17.  18.  19.  20.  21.  22.  23.  24.  25.  26.  27.\n",
      "  28.  29.  30.  31.  32.  33.  34.  35.  36.  37.  38.  39.  40.  41.\n",
      "  42.  43.  44.  45.  46.  47.  48.  49.  50.  51.  52.  53.  54.  55.\n",
      "  56.  57.  58.  59.  60.  61.  62.  63.  64.  65.  66.  67.  68.  69.\n",
      "  70.  71.  72.  73.  74.  75.  76.  77.  78.  79.  80.  81.  82.  83.\n",
      "  84.  85.  86.  87.  88.  89.  90.  91.  92.  93.  94.  95.  96.  97.\n",
      "  98.  99. 100.]\n",
      "[0, 5.500946114181186e+16, 1.1001892228362371e+17, 1.650283834254356e+17, 2.2003784456724742e+17, 2.7504730570905926e+17, 3.300567668508711e+17, 3.8506622799268294e+17, 4.400756891344948e+17, 4.950851502763066e+17, 5.5009461141811846e+17, 6.051040725599304e+17, 6.601135337017422e+17, 7.15122994843554e+17, 7.701324559853659e+17, 8.251419171271777e+17, 8.801513782689896e+17, 9.351608394108014e+17, 9.901703005526132e+17, 1.0451797616944251e+18, 1.1001892228362369e+18, 1.1551986839780488e+18, 1.2102081451198607e+18, 1.2652176062616727e+18, 1.3202270674034847e+18, 1.3752365285452966e+18, 1.4302459896871086e+18, 1.4852554508289206e+18, 1.5402649119707325e+18, 1.5952743731125445e+18, 1.6502838342543565e+18, 1.7052932953961684e+18, 1.7603027565379804e+18, 1.8153122176797924e+18, 1.8703216788216044e+18, 1.9253311399634163e+18, 1.9803406011052283e+18, 2.0353500622470403e+18, 2.0903595233888522e+18, 2.1453689845306642e+18, 2.2003784456724762e+18, 2.2553879068142881e+18, 2.3103973679561e+18, 2.365406829097912e+18, 2.4204162902397235e+18, 2.475425751381535e+18, 2.530435212523347e+18, 2.5854446736651587e+18, 2.6404541348069704e+18, 2.695463595948782e+18, 2.750473057090594e+18, 2.8054825182324055e+18, 2.860491979374217e+18, 2.915501440516029e+18, 2.9705109016578406e+18, 3.0255203627996524e+18, 3.080529823941464e+18, 3.135539285083276e+18, 3.1905487462250875e+18, 3.245558207366899e+18, 3.300567668508711e+18, 3.3555771296505226e+18, 3.4105865907923343e+18, 3.465596051934146e+18, 3.520605513075958e+18, 3.5756149742177695e+18, 3.630624435359581e+18, 3.685633896501393e+18, 3.7406433576432046e+18, 3.7956528187850163e+18, 3.850662279926828e+18, 3.9056717410686397e+18, 3.9606812022104515e+18, 4.015690663352263e+18, 4.070700124494075e+18, 4.1257095856358866e+18, 4.1807190467776983e+18, 4.23572850791951e+18, 4.2907379690613217e+18, 4.3457474302031334e+18, 4.400756891344945e+18, 4.455766352486757e+18, 4.5107758136285686e+18, 4.5657852747703803e+18, 4.620794735912192e+18, 4.675804197054004e+18, 4.730813658195816e+18, 4.785823119337629e+18, 4.840832580479441e+18, 4.895842041621253e+18, 4.950851502763065e+18, 5.005860963904878e+18, 5.06087042504669e+18, 5.115879886188502e+18, 5.170889347330314e+18, 5.225898808472126e+18, 5.280908269613939e+18, 5.335917730755751e+18, 5.390927191897563e+18, 5.445936653039375e+18, 5.500946114181188e+18]\n"
     ]
    },
    {
     "name": "stderr",
     "output_type": "stream",
     "text": [
      "e:\\ProgramData\\Anaconda3\\lib\\site-packages\\ipykernel_launcher.py:2: RuntimeWarning: overflow encountered in exp\n",
      "  \n",
      "e:\\ProgramData\\Anaconda3\\lib\\site-packages\\ipykernel_launcher.py:8: RuntimeWarning: overflow encountered in exp\n",
      "  \n",
      "e:\\ProgramData\\Anaconda3\\lib\\site-packages\\ipykernel_launcher.py:4: RuntimeWarning: overflow encountered in exp\n",
      "  after removing the cwd from sys.path.\n",
      "e:\\ProgramData\\Anaconda3\\lib\\site-packages\\ipykernel_launcher.py:10: RuntimeWarning: overflow encountered in exp\n",
      "  # Remove the CWD from sys.path while we load stuff.\n",
      "e:\\ProgramData\\Anaconda3\\lib\\site-packages\\ipykernel_launcher.py:6: RuntimeWarning: overflow encountered in exp\n",
      "  \n",
      "e:\\ProgramData\\Anaconda3\\lib\\site-packages\\ipykernel_launcher.py:12: RuntimeWarning: overflow encountered in exp\n",
      "  if sys.path[0] == '':\n"
     ]
    },
    {
     "data": {
      "text/plain": [
       "[<matplotlib.lines.Line2D at 0x27625259550>]"
      ]
     },
     "execution_count": 8,
     "metadata": {},
     "output_type": "execute_result"
    },
    {
     "data": {
      "image/png": "[encoded data removed]",
      "text/plain": [
       "<Figure size 432x288 with 1 Axes>"
      ]
     },
     "metadata": {
      "needs_background": "light"
     },
     "output_type": "display_data"
    }
   ],
   "source": [
    "y = [np.array([0,0,0,0])]\n",
    "def wiplus1(N, a, b, Iin):\n",
    "    t = np.zeros(N+1)\n",
    "    global y\n",
    "    x = np.array([-65, 0, 0.3, 0.6])\n",
    "    h = 1\n",
    "    j = 0\n",
    "    for i in range(N):\n",
    "        t[i+1] = t[i]+h\n",
    "        s1 = eqution4(x, getIn(j, a, b, Iin))\n",
    "        x1 = x+0.5*h*s1\n",
    "        s2 = eqution4(x1, getIn(j+0.5*h))\n",
    "        x2 = x+0.5*h*s2\n",
    "        s3 = eqution4(x2, getIn(j+0.5*h))\n",
    "        x3 = x+h*s3\n",
    "        s4 = eqution4(x3, getIn(j+h))\n",
    "        j+=1\n",
    "        y.append(y[i]+(1/6)*h*(s1+s2+s3+s4))\n",
    "    #print(y)\n",
    "    print(t)\n",
    "wiplus1(100)\n",
    "v = []\n",
    "t = [i for i in range(101)]\n",
    "for i in y:\n",
    "    v.append(i[0])\n",
    "print(v)\n",
    "\n",
    "plt.plot(t, v)"
   ]
  },
  {
   "cell_type": "code",
   "execution_count": null,
   "id": "tracked-forwarding",
   "metadata": {},
   "outputs": [],
   "source": []
  },
  {
   "cell_type": "code",
   "execution_count": 9,
   "id": "czech-cooperative",
   "metadata": {},
   "outputs": [
    {
     "ename": "TypeError",
     "evalue": "range() takes no keyword arguments",
     "output_type": "error",
     "traceback": [
      "\u001b[1;31m---------------------------------------------------------------------------\u001b[0m",
      "\u001b[1;31mTypeError\u001b[0m                                 Traceback (most recent call last)",
      "\u001b[1;32m<ipython-input-9-80e7bcf51b5a>\u001b[0m in \u001b[0;36m<module>\u001b[1;34m\u001b[0m\n\u001b[1;32m----> 1\u001b[1;33m \u001b[0mprint\u001b[0m\u001b[1;33m(\u001b[0m\u001b[0mlist\u001b[0m\u001b[1;33m(\u001b[0m\u001b[0mrange\u001b[0m\u001b[1;33m(\u001b[0m\u001b[1;36m100\u001b[0m\u001b[1;33m,\u001b[0m \u001b[0mstep\u001b[0m \u001b[1;33m=\u001b[0m \u001b[1;36m10\u001b[0m\u001b[1;33m)\u001b[0m\u001b[1;33m)\u001b[0m\u001b[1;33m)\u001b[0m\u001b[1;33m\u001b[0m\u001b[1;33m\u001b[0m\u001b[0m\n\u001b[0m",
      "\u001b[1;31mTypeError\u001b[0m: range() takes no keyword arguments"
     ]
    }
   ],
   "source": [
    "print(list(range(100, step = 10)))"
   ]
  },
  {
   "cell_type": "code",
   "execution_count": null,
   "id": "delayed-costs",
   "metadata": {},
   "outputs": [],
   "source": []
  }
 ],
 "metadata": {
  "kernelspec": {
   "display_name": "Python 3",
   "language": "python",
   "name": "python3"
  },
  "language_info": {
   "codemirror_mode": {
    "name": "ipython",
    "version": 3
   },
   "file_extension": ".py",
   "mimetype": "text/x-python",
   "name": "python",
   "nbconvert_exporter": "python",
   "pygments_lexer": "ipython3",
   "version": "3.7.1"
  }
 },
 "nbformat": 4,
 "nbformat_minor": 5
}
