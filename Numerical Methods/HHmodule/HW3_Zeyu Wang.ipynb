{
 "cells": [
  {
   "cell_type": "markdown",
   "id": "e1d75b3a",
   "metadata": {},
   "source": [
    "## HW4 Hodgkin-huxley Model\n",
    "#### Zeyu Wang"
   ]
  },
  {
   "cell_type": "markdown",
   "id": "d9b7954b",
   "metadata": {},
   "source": [
    "### In this homework, write the code to simulation the neurons. Test in many situations, what the result of the neurons."
   ]
  },
  {
   "cell_type": "code",
   "execution_count": 104,
   "id": "94a0a722",
   "metadata": {},
   "outputs": [],
   "source": [
    "import matplotlib.pyplot as plt\n",
    "import numpy as np"
   ]
  },
  {
   "cell_type": "code",
   "execution_count": 105,
   "id": "82aedba1",
   "metadata": {},
   "outputs": [],
   "source": [
    "def ydot(t, w):\n",
    "    global pa,pb,pulse\n",
    "    c = 1\n",
    "    g1 = 120\n",
    "    g2 = 36\n",
    "    g3 = 0.3\n",
    "    T = (pa+pb)/2\n",
    "    lenn = pb-pa\n",
    "    e0 = -65\n",
    "    e1 = 50\n",
    "    e2 = -77\n",
    "    e3 = -54.4\n",
    "    inn = pulse*(1-np.sign(np.abs(t-T)-lenn/2))/2\n",
    "    v = w[0]\n",
    "    m = w[1]\n",
    "    n = w[2]\n",
    "    h = w[3]\n",
    "    z = np.zeros(4)\n",
    "    z[0] = (inn-g1*m*m*m*h*(v-e1)-g2*n*n*n*n*(v-e2)-g3*(v-e3))/c\n",
    "    v = v-e0\n",
    "    z[1] = (1-m)*(2.5-0.1*v)/(np.exp(2.5-0.1*v)-1)-m*4*np.exp(-v/18)\n",
    "    z[2] = (1-n)*(0.1-0.01*v)/(np.exp(1-0.1*v)-1)-n*0.125*np.exp(-v/80)\n",
    "    z[3] = (1-h)*0.07*np.exp(-v/20)-h/(np.exp(3-0.1*v)+1)\n",
    "    return z"
   ]
  },
  {
   "cell_type": "code",
   "execution_count": 106,
   "id": "d9cd4ee2",
   "metadata": {},
   "outputs": [],
   "source": [
    "def rk4step(t, w, h):\n",
    "    s1 = ydot(t, w)\n",
    "    s2 = ydot(t+(h/2), w+(h*(s1/2)))\n",
    "    s3 = ydot(t+(h/2), w+(h*(s2/2)))\n",
    "    s4 = ydot(t+h, w+(h*s3))\n",
    "    y = w+h*(s1+2*s2+2*s3+s4)/6\n",
    "    return y"
   ]
  },
  {
   "cell_type": "code",
   "execution_count": 107,
   "id": "c8823f2f",
   "metadata": {},
   "outputs": [],
   "source": [
    "def hh(inter, ic, n, inp):\n",
    "    global pa,pb,pulse\n",
    "    #inp = [input(\"pulse start, end, muamps in [] \") for i in  range(3)]\n",
    "    pa = inp[0]\n",
    "    pb = inp[1]\n",
    "    pulse = inp[2]\n",
    "    a = inter[0]\n",
    "    b = inter[1]\n",
    "    h = (b-a)/n\n",
    "    t = np.zeros(n+1)\n",
    "    y = []\n",
    "    y.append(ic)\n",
    "    t[0]=a\n",
    "    for i in range(n):\n",
    "        t[i+1] = t[i]+h\n",
    "        y.append([0,0,0,0])\n",
    "        y[i+1] = rk4step(t[i], y[i], h)\n",
    "    plt.plot(t, y)\n",
    "    \n",
    "    "
   ]
  },
  {
   "cell_type": "markdown",
   "id": "9057f82c",
   "metadata": {},
   "source": [
    "### 1.Test in 7 microamps, 1 second can raise a spike."
   ]
  },
  {
   "cell_type": "code",
   "execution_count": 108,
   "id": "d6932a87",
   "metadata": {
    "scrolled": true
   },
   "outputs": [
    {
     "data": {
      "image/png": "[encoded data removed]",
      "text/plain": [
       "<Figure size 432x288 with 1 Axes>"
      ]
     },
     "metadata": {
      "needs_background": "light"
     },
     "output_type": "display_data"
    }
   ],
   "source": [
    "hh([0,100], [-65, 0, 0.3, 0.6], 2000, inp = [50, 51, 7])"
   ]
  },
  {
   "cell_type": "markdown",
   "id": "4c09da32",
   "metadata": {},
   "source": [
    "#### From the result, we can clearly know that from 50 to 51, there is a spike raised by 7 microamps."
   ]
  },
  {
   "cell_type": "markdown",
   "id": "152a0d13",
   "metadata": {},
   "source": [
    "### 2.Test in 6.9 microamps, 1 second can't raise a spike."
   ]
  },
  {
   "cell_type": "code",
   "execution_count": 109,
   "id": "92e5e46e",
   "metadata": {},
   "outputs": [
    {
     "data": {
      "image/png": "[encoded data removed]",
      "text/plain": [
       "<Figure size 432x288 with 1 Axes>"
      ]
     },
     "metadata": {
      "needs_background": "light"
     },
     "output_type": "display_data"
    }
   ],
   "source": [
    "hh([0,100], [-65, 0, 0.3, 0.6], 2000, inp = [50, 51, 6.9])"
   ]
  },
  {
   "cell_type": "markdown",
   "id": "215b3d71",
   "metadata": {},
   "source": [
    "#### From the result, we can clearly know that from 50 to 51, there isn't a spike raised by 6.9 microamps."
   ]
  },
  {
   "cell_type": "markdown",
   "id": "e1d4e4c5",
   "metadata": {},
   "source": [
    "### 3.Test in 6.9 microamps, can 2 second raise a spike?"
   ]
  },
  {
   "cell_type": "code",
   "execution_count": 110,
   "id": "3af8cab8",
   "metadata": {},
   "outputs": [
    {
     "data": {
      "image/png": "[encoded data removed]",
      "text/plain": [
       "<Figure size 432x288 with 1 Axes>"
      ]
     },
     "metadata": {
      "needs_background": "light"
     },
     "output_type": "display_data"
    }
   ],
   "source": [
    "hh([0,100], [-65, 0, 0.3, 0.6], 2000, inp = [50, 52, 6.9])"
   ]
  },
  {
   "cell_type": "markdown",
   "id": "ba23ab3d",
   "metadata": {},
   "source": [
    "#### We can see that although 6.9 microamps and 1 second can't raise a spike 2 seconds can raise a spike."
   ]
  },
  {
   "cell_type": "markdown",
   "id": "a2f3488b",
   "metadata": {},
   "source": [
    "### 4. Test in 1 microamps, can 10 second raise a spike?"
   ]
  },
  {
   "cell_type": "code",
   "execution_count": 114,
   "id": "7e7661fd",
   "metadata": {},
   "outputs": [
    {
     "data": {
      "image/png": "[encoded data removed]",
      "text/plain": [
       "<Figure size 432x288 with 1 Axes>"
      ]
     },
     "metadata": {
      "needs_background": "light"
     },
     "output_type": "display_data"
    }
   ],
   "source": [
    "hh([0,100], [-65, 0, 0.3, 0.6], 2000, inp = [50, 60, 1])"
   ]
  },
  {
   "cell_type": "markdown",
   "id": "143270d6",
   "metadata": {},
   "source": [
    "#### Although we give 20 seconds, 1 microamp is too small to raise a spike."
   ]
  },
  {
   "cell_type": "markdown",
   "id": "178a4f78",
   "metadata": {},
   "source": [
    "### Conclusion: In this model, the current intensity is more important than stimulation time. A long time can't raise a spike, but a strong current can raise a spike in a short time."
   ]
  },
  {
   "cell_type": "code",
   "execution_count": null,
   "id": "1089b135",
   "metadata": {},
   "outputs": [],
   "source": []
  }
 ],
 "metadata": {
  "kernelspec": {
   "display_name": "Python 3",
   "language": "python",
   "name": "python3"
  },
  "language_info": {
   "codemirror_mode": {
    "name": "ipython",
    "version": 3
   },
   "file_extension": ".py",
   "mimetype": "text/x-python",
   "name": "python",
   "nbconvert_exporter": "python",
   "pygments_lexer": "ipython3",
   "version": "3.8.10"
  }
 },
 "nbformat": 4,
 "nbformat_minor": 5
}
