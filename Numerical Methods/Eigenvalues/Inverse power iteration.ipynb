{
 "cells": [
  {
   "cell_type": "code",
   "execution_count": 41,
   "metadata": {},
   "outputs": [],
   "source": [
    "import numpy as np"
   ]
  },
  {
   "cell_type": "code",
   "execution_count": 42,
   "metadata": {},
   "outputs": [],
   "source": [
    "# Inverse power iteration to find dominant eigenvalue and eigenvector\n",
    "# Input:  A=matrix, x0=initial vector,  s=shift, k=number of steps \n",
    "# Output: lambda_max=dominant eigenvalue, v_max=dominant eigenvector\n",
    "def invpowerit(A,x0,s,k):\n",
    "    m=len(A[0])\n",
    "    As=A-s*np.eye(m)\n",
    "    x=x0\n",
    "    for j in range(k):\n",
    "        u=((np.dot(x,x))**(-0.5))*x #u is a unit vector\n",
    "        x=np.linalg.solve(As,u)\n",
    "        lambda_j=u.dot(x) #Rayleigh quotient\n",
    "    lambda_min=lambda_j\n",
    "    v_s=(np.dot(x,x)**(-0.5))*x\n",
    "    return 1/lambda_min+s, v_s"
   ]
  },
  {
   "cell_type": "code",
   "execution_count": 43,
   "metadata": {},
   "outputs": [
    {
     "name": "stdout",
     "output_type": "stream",
     "text": [
      "-1.0 [-0.83205029  0.5547002 ]\n"
     ]
    }
   ],
   "source": [
    "A=np.array([[1,3],[2,2]])\n",
    "x0=np.array([-5,5])\n",
    "k=100\n",
    "s=0\n",
    "lambda_s,v_s=invpowerit(A,x0,s,k)\n",
    "print(lambda_s,v_s)"
   ]
  },
  {
   "cell_type": "code",
   "execution_count": 46,
   "metadata": {},
   "outputs": [
    {
     "name": "stdout",
     "output_type": "stream",
     "text": [
      "20.0 [0.00000000e+000 0.00000000e+000 0.00000000e+000 0.00000000e+000\n",
      " 0.00000000e+000 0.00000000e+000 0.00000000e+000 0.00000000e+000\n",
      " 0.00000000e+000 0.00000000e+000 0.00000000e+000 0.00000000e+000\n",
      " 0.00000000e+000 0.00000000e+000 0.00000000e+000 0.00000000e+000\n",
      " 0.00000000e+000 9.33263619e-302 9.00265220e-089 1.00000000e+000]\n"
     ]
    }
   ],
   "source": [
    "# Matrix whose characteristic polynomial is the Wilkinson polynomial\n",
    "w=np.array(range(1,21))\n",
    "W=np.diag(w)\n",
    "#print(W)\n",
    "y0=np.ones(20)\n",
    "k=500\n",
    "s=19.6\n",
    "lambda_max,v_max=invpowerit(W,y0,s,k)\n",
    "print(lambda_max,v_max)"
   ]
  },
  {
   "cell_type": "code",
   "execution_count": null,
   "metadata": {},
   "outputs": [],
   "source": []
  }
 ],
 "metadata": {
  "kernelspec": {
   "display_name": "Python 3",
   "language": "python",
   "name": "python3"
  },
  "language_info": {
   "codemirror_mode": {
    "name": "ipython",
    "version": 3
   },
   "file_extension": ".py",
   "mimetype": "text/x-python",
   "name": "python",
   "nbconvert_exporter": "python",
   "pygments_lexer": "ipython3",
   "version": "3.7.1"
  }
 },
 "nbformat": 4,
 "nbformat_minor": 4
}
