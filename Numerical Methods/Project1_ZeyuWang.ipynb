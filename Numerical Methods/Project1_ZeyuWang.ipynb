{
 "cells": [
  {
   "cell_type": "code",
   "execution_count": 5,
   "metadata": {},
   "outputs": [],
   "source": [
    "import numpy as np\n",
    "import matplotlib.pyplot as plt"
   ]
  },
  {
   "cell_type": "code",
   "execution_count": 6,
   "metadata": {},
   "outputs": [],
   "source": [
    "def bisection(f, a, b, tof):\n",
    "    print(a,'++++++++++',b)\n",
    "    aa = a\n",
    "    bb = b\n",
    "    if np.sign(f(a)) * np.sign(f(b)) > 0:\n",
    "        print('f(a)f(b)>0 not satified')\n",
    "        return\n",
    "    n = 1\n",
    "    fa = f(a)\n",
    "    fb = f(b)\n",
    "    while np.abs(a-b)>tof:\n",
    "        c = (a+b)/2\n",
    "        n = n+1\n",
    "        fc = f(c)\n",
    "        if np.isclose(fc,0):\n",
    "            print('approximate root',c, 'has been obtained in', n, 'steps')\n",
    "            '''if np.abs(aa-bb)==1:\n",
    "                print(aa,' ',bb)'''\n",
    "            return \n",
    "        if np.sign(fa)*np.sign(fb)<0:\n",
    "            b = c\n",
    "            fb = fc\n",
    "        else:\n",
    "            a = c\n",
    "            fa = fc\n",
    "    c = (a+b)/2\n",
    "    '''if np.abs(aa-bb)==1:\n",
    "        print(aa,' ',bb)'''\n",
    "    print('the final interval [', a, b,'] contains a root')\n",
    "    print('approximate root', c, 'has been obtained in', n, 'steps')"
   ]
  },
  {
   "cell_type": "markdown",
   "metadata": {},
   "source": [
    "The given values"
   ]
  },
  {
   "cell_type": "code",
   "execution_count": 21,
   "metadata": {},
   "outputs": [],
   "source": [
    "P1 = 5**(-1/2)\n",
    "P2 = 5**(-1/2)\n",
    "P3 = 5**(-1/2)\n",
    "L1 = 2\n",
    "L2 = 2**(-1/2)\n",
    "L3 = 2**(-1/2)\n",
    "degreeu = np.pi/2\n"
   ]
  },
  {
   "cell_type": "code",
   "execution_count": 22,
   "metadata": {},
   "outputs": [],
   "source": [
    "x1 = 0.8\n",
    "x2 = 0.01\n",
    "y2 = 0.13"
   ]
  },
  {
   "cell_type": "code",
   "execution_count": 23,
   "metadata": {},
   "outputs": [],
   "source": [
    "def caculateF(xita):\n",
    "    A2 = -x1+L3*np.cos(xita)\n",
    "    B2 = L3*np.sin(xita)\n",
    "    A3 = -x2 + L2*np.cos(xita)*np.cos(degreeu)-L2*np.sin(xita)*np.sin(degreeu)\n",
    "    B3 = -y2 + L2*np.sin(xita)*np.cos(degreeu)+L2*np.cos(xita)*np.sin(degreeu)\n",
    "    N1 = B3*(P2**2-P1**2-A2**2-B2**2)-B2*(P3**2-P1**2-A3**2-B3**2)\n",
    "    N2 = -A3*(P2**2-P1**2-A2**2-B2**2)+A2*(P3**2-P1**2-A3**2-B3**2)\n",
    "    D = 2*(A2*B3-A3*B2)\n",
    "    f = N1**2+N2**2-(P1**2)*(D**2)\n",
    "    \n",
    "    print('f(θ)=', f)"
   ]
  },
  {
   "cell_type": "code",
   "execution_count": 24,
   "metadata": {},
   "outputs": [
    {
     "name": "stdout",
     "output_type": "stream",
     "text": [
      "f(θ)= -0.0013219470297989604\n",
      "f(θ)= 0.04370262687782048\n",
      "f(θ)= 0.8862290485478879\n",
      "f(θ)= 3.6200244885068806\n",
      "f(θ)= 0.7454088054886452\n",
      "f(θ)= 2.756538798864512\n"
     ]
    }
   ],
   "source": [
    "caculateF(0)\n",
    "caculateF(-30)\n",
    "caculateF(30)\n",
    "caculateF(60)\n",
    "caculateF(90)\n",
    "caculateF(180)"
   ]
  },
  {
   "cell_type": "code",
   "execution_count": 25,
   "metadata": {},
   "outputs": [
    {
     "data": {
      "image/png": "[encoded data removed]",
      "text/plain": [
       "<Figure size 432x288 with 1 Axes>"
      ]
     },
     "metadata": {
      "needs_background": "light"
     },
     "output_type": "display_data"
    }
   ],
   "source": [
    "def drawPlot():\n",
    "    xita = np.linspace(-np.pi, np.pi)\n",
    "    A2 = -x1+L3*np.cos(xita)\n",
    "    B2 = L3*np.sin(xita)\n",
    "    A3 = -x2 + L2*np.cos(xita)*np.cos(degreeu)-L2*np.sin(xita)*np.sin(degreeu)\n",
    "    B3 = -y2 + L2*np.sin(xita)*np.cos(degreeu)+L2*np.cos(xita)*np.sin(degreeu)\n",
    "    N1 = B3*(P2**2-P1**2-A2**2-B2**2)-B2*(P3**2-P1**2-A3**2-B3**2)\n",
    "    N2 = -A3*(P2**2-P1**2-A2**2-B2**2)+A2*(P3**2-P1**2-A3**2-B3**2)\n",
    "    D = 2*(A2*B3-A3*B2)\n",
    "    f = N1**2+N2**2-(P1**2)*(D**2)\n",
    "    plt.plot(xita, f)\n",
    "    plt.show()\n",
    "drawPlot()"
   ]
  },
  {
   "cell_type": "code",
   "execution_count": 26,
   "metadata": {},
   "outputs": [],
   "source": [
    "def calculateSoluction(xita):\n",
    "    A2 = -x1+L3*np.cos(xita)\n",
    "    B2 = L3*np.sin(xita)\n",
    "    A3 = -x2 + L2*np.cos(xita)*np.cos(degreeu)-L2*np.sin(xita)*np.sin(degreeu)\n",
    "    B3 = -y2 + L2*np.sin(xita)*np.cos(degreeu)+L2*np.cos(xita)*np.sin(degreeu)\n",
    "    N1 = B3*(P2**2-P1**2-A2**2-B2**2)-B2*(P3**2-P1**2-A3**2-B3**2)\n",
    "    N2 = -A3*(P2**2-P1**2-A2**2-B2**2)+A2*(P3**2-P1**2-A3**2-B3**2)\n",
    "    D = 2*(A2*B3-A3*B2)\n",
    "    f = N1**2+N2**2-(P1**2)*(D**2)\n",
    "    return f"
   ]
  },
  {
   "cell_type": "code",
   "execution_count": 27,
   "metadata": {},
   "outputs": [],
   "source": [
    "i=-np.pi"
   ]
  },
  {
   "cell_type": "code",
   "execution_count": 28,
   "metadata": {},
   "outputs": [
    {
     "name": "stdout",
     "output_type": "stream",
     "text": [
      "0 ++++++++++ 0.5\n",
      "the final interval [ 0.12499999997089617 0.125 ] contains a root\n",
      "approximate root 0.12499999998544808 has been obtained in 35 steps\n",
      "1 ++++++++++ 1.5\n",
      "the final interval [ 1.2499999999708962 1.25 ] contains a root\n",
      "approximate root 1.249999999985448 has been obtained in 35 steps\n",
      "2 ++++++++++ 2.5\n",
      "f(a)f(b)>0 not satified\n",
      "3 ++++++++++ 3.5\n",
      "f(a)f(b)>0 not satified\n"
     ]
    }
   ],
   "source": [
    "for i in range(100000):\n",
    "    if i<np.pi:\n",
    "        j = i+0.5\n",
    "        bisection(calculateSoluction, i, j, 0.5*10**(-10))   \n",
    "        i += 0.006"
   ]
  },
  {
   "cell_type": "code",
   "execution_count": 29,
   "metadata": {},
   "outputs": [
    {
     "name": "stdout",
     "output_type": "stream",
     "text": [
      "0.0014515247698577076\n"
     ]
    }
   ],
   "source": [
    "print(calculateSoluction(0.24999999998544808))\n"
   ]
  },
  {
   "cell_type": "code",
   "execution_count": 30,
   "metadata": {},
   "outputs": [],
   "source": [
    "def soloveX(xita):\n",
    "    A2 = -x1+L3*np.cos(xita)\n",
    "    B2 = L3*np.sin(xita)\n",
    "    A3 = -x2 + L2*np.cos(xita)*np.cos(degreeu)-L2*np.sin(xita)*np.sin(degreeu)\n",
    "    B3 = -y2 + L2*np.sin(xita)*np.cos(degreeu)+L2*np.cos(xita)*np.sin(degreeu)\n",
    "    N1 = B3*(P2**2-P1**2-A2**2-B2**2)-B2*(P3**2-P1**2-A3**2-B3**2)\n",
    "    N2 = -A3*(P2**2-P1**2-A2**2-B2**2)+A2*(P3**2-P1**2-A3**2-B3**2)\n",
    "    D = 2*(A2*B3-A3*B2)\n",
    "    x = N1/D\n",
    "    return x"
   ]
  },
  {
   "cell_type": "code",
   "execution_count": 31,
   "metadata": {},
   "outputs": [],
   "source": [
    "def soloveY(xita):\n",
    "    A2 = -x1+L3*np.cos(xita)\n",
    "    B2 = L3*np.sin(xita)\n",
    "    A3 = -x2 + L2*np.cos(xita)*np.cos(degreeu)-L2*np.sin(xita)*np.sin(degreeu)\n",
    "    B3 = -y2 + L2*np.sin(xita)*np.cos(degreeu)+L2*np.cos(xita)*np.sin(degreeu)\n",
    "    N1 = B3*(P2**2-P1**2-A2**2-B2**2)-B2*(P3**2-P1**2-A3**2-B3**2)\n",
    "    N2 = -A3*(P2**2-P1**2-A2**2-B2**2)+A2*(P3**2-P1**2-A3**2-B3**2)\n",
    "    D = 2*(A2*B3-A3*B2)\n",
    "    y = N2/D\n",
    "    return y"
   ]
  },
  {
   "cell_type": "code",
   "execution_count": 34,
   "metadata": {},
   "outputs": [
    {
     "name": "stdout",
     "output_type": "stream",
     "text": [
      "x =  0.30272973082270177\n",
      "y =  -0.32329470405883104\n"
     ]
    }
   ],
   "source": [
    "print('x = ', soloveX(1.249999999985448))\n",
    "print('y = ', soloveY(1.249999999985448))"
   ]
  },
  {
   "cell_type": "code",
   "execution_count": 35,
   "metadata": {},
   "outputs": [
    {
     "name": "stdout",
     "output_type": "stream",
     "text": [
      "x =  -0.20667447065485395\n",
      "y =  -0.3297150875199145\n"
     ]
    }
   ],
   "source": [
    "print('x = ', soloveX(0.12499999998544808))\n",
    "print('y = ', soloveY(0.12499999998544808))"
   ]
  },
  {
   "cell_type": "code",
   "execution_count": null,
   "metadata": {},
   "outputs": [],
   "source": []
  }
 ],
 "metadata": {
  "kernelspec": {
   "display_name": "Python 3",
   "language": "python",
   "name": "python3"
  },
  "language_info": {
   "codemirror_mode": {
    "name": "ipython",
    "version": 3
   },
   "file_extension": ".py",
   "mimetype": "text/x-python",
   "name": "python",
   "nbconvert_exporter": "python",
   "pygments_lexer": "ipython3",
   "version": "3.7.1"
  }
 },
 "nbformat": 4,
 "nbformat_minor": 2
}
