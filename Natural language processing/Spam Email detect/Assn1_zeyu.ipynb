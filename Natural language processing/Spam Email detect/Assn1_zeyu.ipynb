{
 "cells": [
  {
   "cell_type": "markdown",
   "id": "65dafb35-e551-436e-9e8e-a1e50a54ae85",
   "metadata": {},
   "source": [
    "## AIM-5011-1 Natural Language Processing\n",
    "## Assignment 1\n",
    "## Zeyu Wang\n",
    "## Fall 2021"
   ]
  },
  {
   "cell_type": "markdown",
   "id": "2ddcaa29-0482-4430-82c3-ad0ccc9c3b82",
   "metadata": {},
   "source": [
    "## 1. Data load"
   ]
  },
  {
   "cell_type": "markdown",
   "id": "019eadf9-bb10-4802-8a96-7b052542806b",
   "metadata": {},
   "source": [
    "I download old spam email tar data from https://spamassassin.apache.org/old/publiccorpus/ and use tarfile to extract MIME format data into two folde ham and spam. Then open them and load them into pandas."
   ]
  },
  {
   "cell_type": "code",
   "execution_count": 15,
   "id": "946067be-f3dd-4cdc-b079-e89c9c311130",
   "metadata": {},
   "outputs": [],
   "source": [
    "from tarfile import open as open_tar"
   ]
  },
  {
   "cell_type": "code",
   "execution_count": 132,
   "id": "862b5ad5-d7e1-4cb6-8113-491b0ac26047",
   "metadata": {},
   "outputs": [],
   "source": [
    "import tarfile\n",
    "import re\n",
    "import os\n",
    "from email import message_from_file\n",
    "import pandas as pd\n",
    "from sklearn.model_selection import train_test_split\n",
    "from collections import defaultdict\n",
    "from functools import partial\n",
    "import numpy as np\n",
    "from sklearn.metrics import (\n",
    "    accuracy_score,\n",
    "    f1_score,\n",
    "    precision_score,\n",
    "    recall_score\n",
    ")\n",
    "from sklearn.model_selection import cross_val_predict\n",
    "from sklearn.neighbors import KNeighborsClassifier"
   ]
  },
  {
   "cell_type": "markdown",
   "id": "f0c79d23-439b-4e3d-a3ad-9bb23773d34f",
   "metadata": {},
   "source": [
    "List all of the spam data."
   ]
  },
  {
   "cell_type": "code",
   "execution_count": 17,
   "id": "0fb56305-f2f2-4d20-8ccb-08f0f3fdecba",
   "metadata": {},
   "outputs": [],
   "source": [
    "ham_files_name_list = ['20021010_easy_ham.tar.bz2', '20021010_hard_ham.tar.bz2', '20030228_easy_ham.tar.bz2', '20030228_easy_ham_2.tar.bz2', '20030228_hard_ham.tar.bz2']\n",
    "spam_files_name_list = ['20021010_spam.tar.bz2', '20030228_spam.tar.bz2', '20030228_spam_2.tar.bz2']"
   ]
  },
  {
   "cell_type": "markdown",
   "id": "a23eeec6-81e4-4de1-bef0-4158041b0c89",
   "metadata": {},
   "source": [
    "read ham data file into a list."
   ]
  },
  {
   "cell_type": "code",
   "execution_count": null,
   "id": "590f3b42-3c9a-412f-bdf1-7b4af3cb47c0",
   "metadata": {},
   "outputs": [],
   "source": [
    "ham_email_list = []\n",
    "for ham_file in ham_files_name_list:\n",
    "    file_extra_dir = './file/'+ 'ham/' +ham_file\n",
    "    with open_tar('./file/'+ham_file) as tar:\n",
    "        for tarinfo in tar:\n",
    "            tar.extractall(file_extra_dir)\n",
    "            if len(tarinfo.name.split('/')) > 1:\n",
    "                with open(file_extra_dir+'/'+tarinfo.name, encoding='utf-8', errors='replace') as fp:\n",
    "                    message = message_from_file(fp)\n",
    "                    body = []\n",
    "                    if message.is_multipart():\n",
    "                        for b in message.get_payload():\n",
    "                            body.append(str(b))\n",
    "                        body = '\\n'.join(body)\n",
    "                    else:\n",
    "                        body = message.get_payload()\n",
    "                    ham_email_list.append(body)"
   ]
  },
  {
   "cell_type": "markdown",
   "id": "463cf672-6515-4e69-8af3-0639811f53c9",
   "metadata": {},
   "source": [
    "read spam data into a list."
   ]
  },
  {
   "cell_type": "code",
   "execution_count": 19,
   "id": "101fcf95-cdfb-4bbb-a10a-ed7fdec59c2f",
   "metadata": {},
   "outputs": [],
   "source": [
    "spam_email_list = []\n",
    "for spam_file in spam_files_name_list:\n",
    "    file_extra_dir = './file/'+ 'spam/' +spam_file\n",
    "    with open_tar('./file/'+spam_file) as tar:\n",
    "        for tarinfo in tar:\n",
    "            tar.extractall(file_extra_dir)\n",
    "            if len(tarinfo.name.split('/')) > 1:\n",
    "                with open(file_extra_dir+'/'+tarinfo.name, encoding='utf-8', errors='replace') as fp:\n",
    "                    message = message_from_file(fp)\n",
    "                    body = []\n",
    "                    if message.is_multipart():\n",
    "                        for b in message.get_payload():\n",
    "                            body.append(str(b))\n",
    "                        body = '\\n'.join(body)\n",
    "                    else:\n",
    "                        body = message.get_payload()\n",
    "                    spam_email_list.append(body)"
   ]
  },
  {
   "cell_type": "code",
   "execution_count": 20,
   "id": "c7e42d0e-a102-4116-b764-993b5942cb93",
   "metadata": {},
   "outputs": [],
   "source": [
    "ham_pd = pd.DataFrame({'email':ham_email_list})"
   ]
  },
  {
   "cell_type": "code",
   "execution_count": 21,
   "id": "6d05fa80-441b-4063-bf44-7ec5aeae45df",
   "metadata": {},
   "outputs": [],
   "source": [
    "ham_pd['label'] = '0'#0 means ham"
   ]
  },
  {
   "cell_type": "code",
   "execution_count": 22,
   "id": "9071eb7f-3ba9-4df7-a6d1-91659d1a3bcb",
   "metadata": {},
   "outputs": [],
   "source": [
    "spam_pd = pd.DataFrame({'email':spam_email_list})\n",
    "spam_pd['label'] = '1'#1 means spam"
   ]
  },
  {
   "cell_type": "code",
   "execution_count": 23,
   "id": "dab50faa-e823-4a40-a44d-623dab74117b",
   "metadata": {},
   "outputs": [
    {
     "data": {
      "text/html": [
       "<div>\n",
       "<style scoped>\n",
       "    .dataframe tbody tr th:only-of-type {\n",
       "        vertical-align: middle;\n",
       "    }\n",
       "\n",
       "    .dataframe tbody tr th {\n",
       "        vertical-align: top;\n",
       "    }\n",
       "\n",
       "    .dataframe thead th {\n",
       "        text-align: right;\n",
       "    }\n",
       "</style>\n",
       "<table border=\"1\" class=\"dataframe\">\n",
       "  <thead>\n",
       "    <tr style=\"text-align: right;\">\n",
       "      <th></th>\n",
       "      <th>email</th>\n",
       "      <th>label</th>\n",
       "    </tr>\n",
       "  </thead>\n",
       "  <tbody>\n",
       "    <tr>\n",
       "      <th>0</th>\n",
       "      <td>\\n&gt; From: fork-admin@xent.com [mailto:fork-adm...</td>\n",
       "      <td>0</td>\n",
       "    </tr>\n",
       "    <tr>\n",
       "      <th>1</th>\n",
       "      <td>Hi,\\n\\nOn Sun, 01 Sep 2002 00:05:03 MDT Reg Cl...</td>\n",
       "      <td>0</td>\n",
       "    </tr>\n",
       "    <tr>\n",
       "      <th>2</th>\n",
       "      <td>On Fri Sep 13 2002 at 02:03, Robert Elz wrote:...</td>\n",
       "      <td>0</td>\n",
       "    </tr>\n",
       "    <tr>\n",
       "      <th>3</th>\n",
       "      <td>On Thu, 2002-08-29 at 01:06, Matthias Saou wro...</td>\n",
       "      <td>0</td>\n",
       "    </tr>\n",
       "    <tr>\n",
       "      <th>4</th>\n",
       "      <td>Hi, I'm building an rpm for the resin webserve...</td>\n",
       "      <td>0</td>\n",
       "    </tr>\n",
       "    <tr>\n",
       "      <th>...</th>\n",
       "      <td>...</td>\n",
       "      <td>...</td>\n",
       "    </tr>\n",
       "    <tr>\n",
       "      <th>6949</th>\n",
       "      <td>___           ___           ...</td>\n",
       "      <td>0</td>\n",
       "    </tr>\n",
       "    <tr>\n",
       "      <th>6950</th>\n",
       "      <td>IN THIS ISSUE:\\n\\n01. Readers write\\n02. Exten...</td>\n",
       "      <td>0</td>\n",
       "    </tr>\n",
       "    <tr>\n",
       "      <th>6951</th>\n",
       "      <td>Content-Type: text/plain; charset=us-ascii\\nCo...</td>\n",
       "      <td>0</td>\n",
       "    </tr>\n",
       "    <tr>\n",
       "      <th>6952</th>\n",
       "      <td>Content-Type: text/plain;\\n\\tcharset=\"ISO-8859...</td>\n",
       "      <td>0</td>\n",
       "    </tr>\n",
       "    <tr>\n",
       "      <th>6953</th>\n",
       "      <td>______________________________________________...</td>\n",
       "      <td>0</td>\n",
       "    </tr>\n",
       "  </tbody>\n",
       "</table>\n",
       "<p>6954 rows × 2 columns</p>\n",
       "</div>"
      ],
      "text/plain": [
       "                                                  email label\n",
       "0     \\n> From: fork-admin@xent.com [mailto:fork-adm...     0\n",
       "1     Hi,\\n\\nOn Sun, 01 Sep 2002 00:05:03 MDT Reg Cl...     0\n",
       "2     On Fri Sep 13 2002 at 02:03, Robert Elz wrote:...     0\n",
       "3     On Thu, 2002-08-29 at 01:06, Matthias Saou wro...     0\n",
       "4     Hi, I'm building an rpm for the resin webserve...     0\n",
       "...                                                 ...   ...\n",
       "6949                    ___           ___           ...     0\n",
       "6950  IN THIS ISSUE:\\n\\n01. Readers write\\n02. Exten...     0\n",
       "6951  Content-Type: text/plain; charset=us-ascii\\nCo...     0\n",
       "6952  Content-Type: text/plain;\\n\\tcharset=\"ISO-8859...     0\n",
       "6953  ______________________________________________...     0\n",
       "\n",
       "[6954 rows x 2 columns]"
      ]
     },
     "execution_count": 23,
     "metadata": {},
     "output_type": "execute_result"
    }
   ],
   "source": [
    "ham_pd"
   ]
  },
  {
   "cell_type": "code",
   "execution_count": 24,
   "id": "46a541bc-1305-4032-997f-60e4d10c39f2",
   "metadata": {},
   "outputs": [
    {
     "data": {
      "text/html": [
       "<div>\n",
       "<style scoped>\n",
       "    .dataframe tbody tr th:only-of-type {\n",
       "        vertical-align: middle;\n",
       "    }\n",
       "\n",
       "    .dataframe tbody tr th {\n",
       "        vertical-align: top;\n",
       "    }\n",
       "\n",
       "    .dataframe thead th {\n",
       "        text-align: right;\n",
       "    }\n",
       "</style>\n",
       "<table border=\"1\" class=\"dataframe\">\n",
       "  <thead>\n",
       "    <tr style=\"text-align: right;\">\n",
       "      <th></th>\n",
       "      <th>email</th>\n",
       "      <th>label</th>\n",
       "    </tr>\n",
       "  </thead>\n",
       "  <tbody>\n",
       "    <tr>\n",
       "      <th>0</th>\n",
       "      <td>Content-Type: text/plain;\\n\\tcharset=\"iso-8859...</td>\n",
       "      <td>1</td>\n",
       "    </tr>\n",
       "    <tr>\n",
       "      <th>1</th>\n",
       "      <td>###################################\\n\\n  FREE ...</td>\n",
       "      <td>1</td>\n",
       "    </tr>\n",
       "    <tr>\n",
       "      <th>2</th>\n",
       "      <td>&lt;table width=\"600\" border=\"20\" align=\"center\" ...</td>\n",
       "      <td>1</td>\n",
       "    </tr>\n",
       "    <tr>\n",
       "      <th>3</th>\n",
       "      <td>&lt;html&gt;\\n&lt;head&gt;\\n&lt;title&gt;Untitled Document&lt;/titl...</td>\n",
       "      <td>1</td>\n",
       "    </tr>\n",
       "    <tr>\n",
       "      <th>4</th>\n",
       "      <td>Whiter teeth and a brighter smile are just a c...</td>\n",
       "      <td>1</td>\n",
       "    </tr>\n",
       "    <tr>\n",
       "      <th>...</th>\n",
       "      <td>...</td>\n",
       "      <td>...</td>\n",
       "    </tr>\n",
       "    <tr>\n",
       "      <th>2395</th>\n",
       "      <td>Content-Type: text/plain;\\n\\tcharset=\"Windows-...</td>\n",
       "      <td>1</td>\n",
       "    </tr>\n",
       "    <tr>\n",
       "      <th>2396</th>\n",
       "      <td>ATTN:SIR/MADAN      \\n\\n                      ...</td>\n",
       "      <td>1</td>\n",
       "    </tr>\n",
       "    <tr>\n",
       "      <th>2397</th>\n",
       "      <td>Dear Subscriber,\\n\\nIf I could show you a way ...</td>\n",
       "      <td>1</td>\n",
       "    </tr>\n",
       "    <tr>\n",
       "      <th>2398</th>\n",
       "      <td>****Mid-Summer Customer Appreciation SALE!****...</td>\n",
       "      <td>1</td>\n",
       "    </tr>\n",
       "    <tr>\n",
       "      <th>2399</th>\n",
       "      <td>NEW PRODUCT ANNOUNCEMENT\\n\\nFrom: OUTSOURCE EN...</td>\n",
       "      <td>1</td>\n",
       "    </tr>\n",
       "  </tbody>\n",
       "</table>\n",
       "<p>2400 rows × 2 columns</p>\n",
       "</div>"
      ],
      "text/plain": [
       "                                                  email label\n",
       "0     Content-Type: text/plain;\\n\\tcharset=\"iso-8859...     1\n",
       "1     ###################################\\n\\n  FREE ...     1\n",
       "2     <table width=\"600\" border=\"20\" align=\"center\" ...     1\n",
       "3     <html>\\n<head>\\n<title>Untitled Document</titl...     1\n",
       "4     Whiter teeth and a brighter smile are just a c...     1\n",
       "...                                                 ...   ...\n",
       "2395  Content-Type: text/plain;\\n\\tcharset=\"Windows-...     1\n",
       "2396  ATTN:SIR/MADAN      \\n\\n                      ...     1\n",
       "2397  Dear Subscriber,\\n\\nIf I could show you a way ...     1\n",
       "2398  ****Mid-Summer Customer Appreciation SALE!****...     1\n",
       "2399  NEW PRODUCT ANNOUNCEMENT\\n\\nFrom: OUTSOURCE EN...     1\n",
       "\n",
       "[2400 rows x 2 columns]"
      ]
     },
     "execution_count": 24,
     "metadata": {},
     "output_type": "execute_result"
    }
   ],
   "source": [
    "spam_pd"
   ]
  },
  {
   "cell_type": "code",
   "execution_count": 81,
   "id": "4c0320e3-3fee-4072-8c16-167bf953ef4f",
   "metadata": {},
   "outputs": [
    {
     "data": {
      "text/html": [
       "<div>\n",
       "<style scoped>\n",
       "    .dataframe tbody tr th:only-of-type {\n",
       "        vertical-align: middle;\n",
       "    }\n",
       "\n",
       "    .dataframe tbody tr th {\n",
       "        vertical-align: top;\n",
       "    }\n",
       "\n",
       "    .dataframe thead th {\n",
       "        text-align: right;\n",
       "    }\n",
       "</style>\n",
       "<table border=\"1\" class=\"dataframe\">\n",
       "  <thead>\n",
       "    <tr style=\"text-align: right;\">\n",
       "      <th></th>\n",
       "      <th>email</th>\n",
       "      <th>label</th>\n",
       "    </tr>\n",
       "  </thead>\n",
       "  <tbody>\n",
       "    <tr>\n",
       "      <th>0</th>\n",
       "      <td>\\n&gt; From: fork-admin@xent.com [mailto:fork-adm...</td>\n",
       "      <td>0</td>\n",
       "    </tr>\n",
       "    <tr>\n",
       "      <th>1</th>\n",
       "      <td>Hi,\\n\\nOn Sun, 01 Sep 2002 00:05:03 MDT Reg Cl...</td>\n",
       "      <td>0</td>\n",
       "    </tr>\n",
       "    <tr>\n",
       "      <th>2</th>\n",
       "      <td>On Fri Sep 13 2002 at 02:03, Robert Elz wrote:...</td>\n",
       "      <td>0</td>\n",
       "    </tr>\n",
       "    <tr>\n",
       "      <th>3</th>\n",
       "      <td>On Thu, 2002-08-29 at 01:06, Matthias Saou wro...</td>\n",
       "      <td>0</td>\n",
       "    </tr>\n",
       "    <tr>\n",
       "      <th>4</th>\n",
       "      <td>Hi, I'm building an rpm for the resin webserve...</td>\n",
       "      <td>0</td>\n",
       "    </tr>\n",
       "    <tr>\n",
       "      <th>...</th>\n",
       "      <td>...</td>\n",
       "      <td>...</td>\n",
       "    </tr>\n",
       "    <tr>\n",
       "      <th>2395</th>\n",
       "      <td>Content-Type: text/plain;\\n\\tcharset=\"Windows-...</td>\n",
       "      <td>1</td>\n",
       "    </tr>\n",
       "    <tr>\n",
       "      <th>2396</th>\n",
       "      <td>ATTN:SIR/MADAN      \\n\\n                      ...</td>\n",
       "      <td>1</td>\n",
       "    </tr>\n",
       "    <tr>\n",
       "      <th>2397</th>\n",
       "      <td>Dear Subscriber,\\n\\nIf I could show you a way ...</td>\n",
       "      <td>1</td>\n",
       "    </tr>\n",
       "    <tr>\n",
       "      <th>2398</th>\n",
       "      <td>****Mid-Summer Customer Appreciation SALE!****...</td>\n",
       "      <td>1</td>\n",
       "    </tr>\n",
       "    <tr>\n",
       "      <th>2399</th>\n",
       "      <td>NEW PRODUCT ANNOUNCEMENT\\n\\nFrom: OUTSOURCE EN...</td>\n",
       "      <td>1</td>\n",
       "    </tr>\n",
       "  </tbody>\n",
       "</table>\n",
       "<p>9354 rows × 2 columns</p>\n",
       "</div>"
      ],
      "text/plain": [
       "                                                  email label\n",
       "0     \\n> From: fork-admin@xent.com [mailto:fork-adm...     0\n",
       "1     Hi,\\n\\nOn Sun, 01 Sep 2002 00:05:03 MDT Reg Cl...     0\n",
       "2     On Fri Sep 13 2002 at 02:03, Robert Elz wrote:...     0\n",
       "3     On Thu, 2002-08-29 at 01:06, Matthias Saou wro...     0\n",
       "4     Hi, I'm building an rpm for the resin webserve...     0\n",
       "...                                                 ...   ...\n",
       "2395  Content-Type: text/plain;\\n\\tcharset=\"Windows-...     1\n",
       "2396  ATTN:SIR/MADAN      \\n\\n                      ...     1\n",
       "2397  Dear Subscriber,\\n\\nIf I could show you a way ...     1\n",
       "2398  ****Mid-Summer Customer Appreciation SALE!****...     1\n",
       "2399  NEW PRODUCT ANNOUNCEMENT\\n\\nFrom: OUTSOURCE EN...     1\n",
       "\n",
       "[9354 rows x 2 columns]"
      ]
     },
     "execution_count": 81,
     "metadata": {},
     "output_type": "execute_result"
    }
   ],
   "source": [
    "datalist = [ham_pd, spam_pd] \n",
    "data = pd.concat(datalist)\n",
    "data"
   ]
  },
  {
   "cell_type": "markdown",
   "id": "74246804-0b5e-43a1-8154-757ac698227b",
   "metadata": {},
   "source": [
    "## 2. Data clean"
   ]
  },
  {
   "cell_type": "markdown",
   "id": "0fa6aed1-7f2e-40bb-9eae-ba2fac509262",
   "metadata": {},
   "source": [
    "When cleaned data, I delete some special characters and let them become lowercase."
   ]
  },
  {
   "cell_type": "code",
   "execution_count": 353,
   "id": "a48b960b-bd62-45a5-a432-4b45d481c9b3",
   "metadata": {},
   "outputs": [],
   "source": [
    "data1 = data.copy()"
   ]
  },
  {
   "cell_type": "code",
   "execution_count": 354,
   "id": "68cd9619-9dca-4304-8c0e-7300dd144ad6",
   "metadata": {},
   "outputs": [],
   "source": [
    "def clean(data_email):\n",
    "    '''\n",
    "    This method is used to delete '\\n', non-word, and number. Then lowercase the word.\n",
    "    ------------------------------------------------------------\n",
    "    This method will return the cleanning data\n",
    "    '''\n",
    "    data_email = re.sub(r'\\n', ' ', data_email)\n",
    "    data_email = re.sub(r'\\W+', ' ', data_email)\n",
    "    data_email = re.sub(r'[0-9]+', ' ', data_email)\n",
    "    data_email = data_email.lower()\n",
    "    return data_email"
   ]
  },
  {
   "cell_type": "code",
   "execution_count": 355,
   "id": "be62f8cb-fd44-417f-92e0-635fa64b94a8",
   "metadata": {},
   "outputs": [
    {
     "data": {
      "text/html": [
       "<div>\n",
       "<style scoped>\n",
       "    .dataframe tbody tr th:only-of-type {\n",
       "        vertical-align: middle;\n",
       "    }\n",
       "\n",
       "    .dataframe tbody tr th {\n",
       "        vertical-align: top;\n",
       "    }\n",
       "\n",
       "    .dataframe thead th {\n",
       "        text-align: right;\n",
       "    }\n",
       "</style>\n",
       "<table border=\"1\" class=\"dataframe\">\n",
       "  <thead>\n",
       "    <tr style=\"text-align: right;\">\n",
       "      <th></th>\n",
       "      <th>email</th>\n",
       "      <th>label</th>\n",
       "    </tr>\n",
       "  </thead>\n",
       "  <tbody>\n",
       "    <tr>\n",
       "      <th>0</th>\n",
       "      <td>\\n&gt; From: fork-admin@xent.com [mailto:fork-adm...</td>\n",
       "      <td>0</td>\n",
       "    </tr>\n",
       "    <tr>\n",
       "      <th>1</th>\n",
       "      <td>Hi,\\n\\nOn Sun, 01 Sep 2002 00:05:03 MDT Reg Cl...</td>\n",
       "      <td>0</td>\n",
       "    </tr>\n",
       "    <tr>\n",
       "      <th>2</th>\n",
       "      <td>On Fri Sep 13 2002 at 02:03, Robert Elz wrote:...</td>\n",
       "      <td>0</td>\n",
       "    </tr>\n",
       "    <tr>\n",
       "      <th>3</th>\n",
       "      <td>On Thu, 2002-08-29 at 01:06, Matthias Saou wro...</td>\n",
       "      <td>0</td>\n",
       "    </tr>\n",
       "    <tr>\n",
       "      <th>4</th>\n",
       "      <td>Hi, I'm building an rpm for the resin webserve...</td>\n",
       "      <td>0</td>\n",
       "    </tr>\n",
       "    <tr>\n",
       "      <th>...</th>\n",
       "      <td>...</td>\n",
       "      <td>...</td>\n",
       "    </tr>\n",
       "    <tr>\n",
       "      <th>2395</th>\n",
       "      <td>Content-Type: text/plain;\\n\\tcharset=\"Windows-...</td>\n",
       "      <td>1</td>\n",
       "    </tr>\n",
       "    <tr>\n",
       "      <th>2396</th>\n",
       "      <td>ATTN:SIR/MADAN      \\n\\n                      ...</td>\n",
       "      <td>1</td>\n",
       "    </tr>\n",
       "    <tr>\n",
       "      <th>2397</th>\n",
       "      <td>Dear Subscriber,\\n\\nIf I could show you a way ...</td>\n",
       "      <td>1</td>\n",
       "    </tr>\n",
       "    <tr>\n",
       "      <th>2398</th>\n",
       "      <td>****Mid-Summer Customer Appreciation SALE!****...</td>\n",
       "      <td>1</td>\n",
       "    </tr>\n",
       "    <tr>\n",
       "      <th>2399</th>\n",
       "      <td>NEW PRODUCT ANNOUNCEMENT\\n\\nFrom: OUTSOURCE EN...</td>\n",
       "      <td>1</td>\n",
       "    </tr>\n",
       "  </tbody>\n",
       "</table>\n",
       "<p>9354 rows × 2 columns</p>\n",
       "</div>"
      ],
      "text/plain": [
       "                                                  email label\n",
       "0     \\n> From: fork-admin@xent.com [mailto:fork-adm...     0\n",
       "1     Hi,\\n\\nOn Sun, 01 Sep 2002 00:05:03 MDT Reg Cl...     0\n",
       "2     On Fri Sep 13 2002 at 02:03, Robert Elz wrote:...     0\n",
       "3     On Thu, 2002-08-29 at 01:06, Matthias Saou wro...     0\n",
       "4     Hi, I'm building an rpm for the resin webserve...     0\n",
       "...                                                 ...   ...\n",
       "2395  Content-Type: text/plain;\\n\\tcharset=\"Windows-...     1\n",
       "2396  ATTN:SIR/MADAN      \\n\\n                      ...     1\n",
       "2397  Dear Subscriber,\\n\\nIf I could show you a way ...     1\n",
       "2398  ****Mid-Summer Customer Appreciation SALE!****...     1\n",
       "2399  NEW PRODUCT ANNOUNCEMENT\\n\\nFrom: OUTSOURCE EN...     1\n",
       "\n",
       "[9354 rows x 2 columns]"
      ]
     },
     "execution_count": 355,
     "metadata": {},
     "output_type": "execute_result"
    }
   ],
   "source": [
    "data1"
   ]
  },
  {
   "cell_type": "code",
   "execution_count": 86,
   "id": "ea57506e-c815-44e3-b4a4-71ce43ba145f",
   "metadata": {},
   "outputs": [],
   "source": [
    "data1['email'] = data1['email'].apply(lambda x: clean(x))"
   ]
  },
  {
   "cell_type": "code",
   "execution_count": 87,
   "id": "43e1ed61-902e-4dd9-9cd3-c08881d6a9e4",
   "metadata": {},
   "outputs": [
    {
     "data": {
      "text/html": [
       "<div>\n",
       "<style scoped>\n",
       "    .dataframe tbody tr th:only-of-type {\n",
       "        vertical-align: middle;\n",
       "    }\n",
       "\n",
       "    .dataframe tbody tr th {\n",
       "        vertical-align: top;\n",
       "    }\n",
       "\n",
       "    .dataframe thead th {\n",
       "        text-align: right;\n",
       "    }\n",
       "</style>\n",
       "<table border=\"1\" class=\"dataframe\">\n",
       "  <thead>\n",
       "    <tr style=\"text-align: right;\">\n",
       "      <th></th>\n",
       "      <th>email</th>\n",
       "      <th>label</th>\n",
       "    </tr>\n",
       "  </thead>\n",
       "  <tbody>\n",
       "    <tr>\n",
       "      <th>0</th>\n",
       "      <td>from fork admin xent com mailto fork admin xe...</td>\n",
       "      <td>0</td>\n",
       "    </tr>\n",
       "    <tr>\n",
       "      <th>1</th>\n",
       "      <td>hi on sun   sep         mdt reg clemens wrote ...</td>\n",
       "      <td>0</td>\n",
       "    </tr>\n",
       "    <tr>\n",
       "      <th>2</th>\n",
       "      <td>on fri sep     at     robert elz wrote date we...</td>\n",
       "      <td>0</td>\n",
       "    </tr>\n",
       "    <tr>\n",
       "      <th>3</th>\n",
       "      <td>on thu       at     matthias saou wrote thanks...</td>\n",
       "      <td>0</td>\n",
       "    </tr>\n",
       "    <tr>\n",
       "      <th>4</th>\n",
       "      <td>hi i m building an rpm for the resin webserver...</td>\n",
       "      <td>0</td>\n",
       "    </tr>\n",
       "    <tr>\n",
       "      <th>...</th>\n",
       "      <td>...</td>\n",
       "      <td>...</td>\n",
       "    </tr>\n",
       "    <tr>\n",
       "      <th>2395</th>\n",
       "      <td>content type text plain charset windows   cont...</td>\n",
       "      <td>1</td>\n",
       "    </tr>\n",
       "    <tr>\n",
       "      <th>2396</th>\n",
       "      <td>attn sir madan strictly confidential i am plea...</td>\n",
       "      <td>1</td>\n",
       "    </tr>\n",
       "    <tr>\n",
       "      <th>2397</th>\n",
       "      <td>dear subscriber if i could show you a way to g...</td>\n",
       "      <td>1</td>\n",
       "    </tr>\n",
       "    <tr>\n",
       "      <th>2398</th>\n",
       "      <td>mid summer customer appreciation sale to expr...</td>\n",
       "      <td>1</td>\n",
       "    </tr>\n",
       "    <tr>\n",
       "      <th>2399</th>\n",
       "      <td>new product announcement from outsource eng mf...</td>\n",
       "      <td>1</td>\n",
       "    </tr>\n",
       "  </tbody>\n",
       "</table>\n",
       "<p>9354 rows × 2 columns</p>\n",
       "</div>"
      ],
      "text/plain": [
       "                                                  email label\n",
       "0      from fork admin xent com mailto fork admin xe...     0\n",
       "1     hi on sun   sep         mdt reg clemens wrote ...     0\n",
       "2     on fri sep     at     robert elz wrote date we...     0\n",
       "3     on thu       at     matthias saou wrote thanks...     0\n",
       "4     hi i m building an rpm for the resin webserver...     0\n",
       "...                                                 ...   ...\n",
       "2395  content type text plain charset windows   cont...     1\n",
       "2396  attn sir madan strictly confidential i am plea...     1\n",
       "2397  dear subscriber if i could show you a way to g...     1\n",
       "2398   mid summer customer appreciation sale to expr...     1\n",
       "2399  new product announcement from outsource eng mf...     1\n",
       "\n",
       "[9354 rows x 2 columns]"
      ]
     },
     "execution_count": 87,
     "metadata": {},
     "output_type": "execute_result"
    }
   ],
   "source": [
    "data1"
   ]
  },
  {
   "cell_type": "markdown",
   "id": "b32dd8ce-69f7-477e-8c11-4f22512f0497",
   "metadata": {},
   "source": [
    "## 3. method1 KNN"
   ]
  },
  {
   "cell_type": "markdown",
   "id": "169ef7d5-2ac1-4efe-a9ed-f48738f4b386",
   "metadata": {},
   "source": [
    "Here I will combine the NLP and KNN knowledge that I learn from the ML course. I think the KNN can do well in spam classification."
   ]
  },
  {
   "cell_type": "code",
   "execution_count": 88,
   "id": "c37ee412-d099-4202-aaa1-e77a89824465",
   "metadata": {},
   "outputs": [],
   "source": [
    "X = data1['email']\n",
    "y = data1['label']"
   ]
  },
  {
   "cell_type": "code",
   "execution_count": 91,
   "id": "4da29ed7-59df-4c50-a115-641abf2ef036",
   "metadata": {},
   "outputs": [],
   "source": [
    "X_train, X_test, y_train, y_test = train_test_split(X, y, test_size=0.1)"
   ]
  },
  {
   "cell_type": "code",
   "execution_count": 96,
   "id": "7f200890-84a2-44fb-be05-50437b8074b1",
   "metadata": {},
   "outputs": [],
   "source": [
    "dictionary = defaultdict(int)"
   ]
  },
  {
   "cell_type": "code",
   "execution_count": 97,
   "id": "6c9b724b-fe99-4dad-bd67-4bc89788b8ea",
   "metadata": {},
   "outputs": [],
   "source": [
    "for email in X_train:\n",
    "    for word in email.split(' '):\n",
    "        dictionary[word] += 1"
   ]
  },
  {
   "cell_type": "code",
   "execution_count": 101,
   "id": "5408957e-e1e1-4989-9e91-ac43685b7784",
   "metadata": {},
   "outputs": [],
   "source": [
    "top = 1000\n",
    "descending_dictionary = sorted(dictionary.items(), key=lambda v: v[1], reverse=True)\n",
    "dictionary = [ word for (word, occur) in descending_dictionary if len(word) > 1][:top]"
   ]
  },
  {
   "cell_type": "code",
   "execution_count": 103,
   "id": "c06a99b2-3149-4bb3-84cb-a38e8784fb3e",
   "metadata": {},
   "outputs": [
    {
     "data": {
      "text/plain": [
       "['the', 'font', 'to', 'td', 'http', 'com', 'and', 'of', 'width', 'br']"
      ]
     },
     "execution_count": 103,
     "metadata": {},
     "output_type": "execute_result"
    }
   ],
   "source": [
    "dictionary[0:10]"
   ]
  },
  {
   "cell_type": "code",
   "execution_count": 217,
   "id": "4fca2709-a2a1-4e69-8b78-3e3866152550",
   "metadata": {},
   "outputs": [],
   "source": [
    "def encode_email(email,dictionary_, binary = False):\n",
    "    encoded = np.zeros(len(dictionary_))\n",
    "    words = email.split(' ')\n",
    "    for word in words:\n",
    "        index = np.where(dictionary_ == word)[0]\n",
    "        if index.size == 1:\n",
    "            if binary:\n",
    "                encoded[index[0]] = 1\n",
    "            else:\n",
    "                encoded[index[0]] += 1\n",
    "    return encoded"
   ]
  },
  {
   "cell_type": "code",
   "execution_count": 218,
   "id": "5967f1a0-0824-4b6b-a149-1fd7c42df4ee",
   "metadata": {},
   "outputs": [],
   "source": [
    "dictionary_np = np.array(dictionary)"
   ]
  },
  {
   "cell_type": "code",
   "execution_count": 219,
   "id": "9a24210e-3bcf-4227-9549-6703369b0e95",
   "metadata": {},
   "outputs": [
    {
     "data": {
      "text/plain": [
       "1559    content type text plain charset iso     conten...\n",
       "2778     doctype html public w c dtd html     transiti...\n",
       "1713    url http jeremy zawodny com blog archives   ht...\n",
       "3744    content type text plain charset us ascii from ...\n",
       "1363    use perl daily newsletter in this issue two os...\n",
       "                              ...                        \n",
       "4671    url http scriptingnews userland com backissues...\n",
       "4552    i ve been running hammie on all my incoming me...\n",
       "555     url http www newsisfree com click       date n...\n",
       "800     content type text html charset iso     content...\n",
       "6881    reflexive entertainment s ion hardie gives us ...\n",
       "Name: email, Length: 8418, dtype: object"
      ]
     },
     "execution_count": 219,
     "metadata": {},
     "output_type": "execute_result"
    }
   ],
   "source": [
    "X_train"
   ]
  },
  {
   "cell_type": "code",
   "execution_count": 250,
   "id": "28e16cfd-a92c-4e42-8615-e5389d606e0b",
   "metadata": {},
   "outputs": [],
   "source": [
    "encode_train = X_train.apply(lambda x: encode_email(x, dictionary_np))"
   ]
  },
  {
   "cell_type": "code",
   "execution_count": 224,
   "id": "905e14bc-1b17-4f1f-b056-1bb1e4a2ae9d",
   "metadata": {},
   "outputs": [],
   "source": [
    "encode_test = X_test.apply(lambda x: encode_email(x, dictionary_np))"
   ]
  },
  {
   "cell_type": "code",
   "execution_count": 258,
   "id": "3fae7e06-11cd-4c66-9bd3-e44dcdc11c6a",
   "metadata": {},
   "outputs": [],
   "source": [
    "encode_train1 = pd.DataFrame(encode_train)"
   ]
  },
  {
   "cell_type": "code",
   "execution_count": 259,
   "id": "8a939469-1f48-46ff-8aff-aed429df30c1",
   "metadata": {},
   "outputs": [
    {
     "data": {
      "text/plain": [
       "1559    [172.0, 198.0, 86.0, 101.0, 141.0, 178.0, 55.0...\n",
       "2778    [43.0, 289.0, 43.0, 368.0, 159.0, 166.0, 25.0,...\n",
       "1713    [2.0, 0.0, 0.0, 0.0, 1.0, 1.0, 3.0, 1.0, 0.0, ...\n",
       "3744    [6.0, 0.0, 3.0, 0.0, 2.0, 4.0, 3.0, 0.0, 0.0, ...\n",
       "1363    [2.0, 0.0, 4.0, 0.0, 9.0, 1.0, 6.0, 0.0, 0.0, ...\n",
       "                              ...                        \n",
       "4671    [2.0, 0.0, 0.0, 0.0, 2.0, 2.0, 0.0, 0.0, 0.0, ...\n",
       "4552    [5.0, 0.0, 7.0, 0.0, 0.0, 0.0, 2.0, 1.0, 0.0, ...\n",
       "555     [0.0, 0.0, 1.0, 0.0, 1.0, 1.0, 1.0, 1.0, 0.0, ...\n",
       "800     [0.0, 0.0, 0.0, 0.0, 0.0, 0.0, 0.0, 0.0, 0.0, ...\n",
       "6881    [9.0, 0.0, 10.0, 0.0, 8.0, 8.0, 7.0, 5.0, 0.0,...\n",
       "Name: email, Length: 8418, dtype: object"
      ]
     },
     "execution_count": 259,
     "metadata": {},
     "output_type": "execute_result"
    }
   ],
   "source": [
    "encode_train"
   ]
  },
  {
   "cell_type": "code",
   "execution_count": 255,
   "id": "0d47a6c7-4684-4b89-90b3-992fc374138c",
   "metadata": {},
   "outputs": [
    {
     "data": {
      "text/html": [
       "<div>\n",
       "<style scoped>\n",
       "    .dataframe tbody tr th:only-of-type {\n",
       "        vertical-align: middle;\n",
       "    }\n",
       "\n",
       "    .dataframe tbody tr th {\n",
       "        vertical-align: top;\n",
       "    }\n",
       "\n",
       "    .dataframe thead th {\n",
       "        text-align: right;\n",
       "    }\n",
       "</style>\n",
       "<table border=\"1\" class=\"dataframe\">\n",
       "  <thead>\n",
       "    <tr style=\"text-align: right;\">\n",
       "      <th></th>\n",
       "      <th>email</th>\n",
       "    </tr>\n",
       "  </thead>\n",
       "  <tbody>\n",
       "    <tr>\n",
       "      <th>441</th>\n",
       "      <td>[10.0, 0.0, 7.0, 0.0, 0.0, 0.0, 0.0, 3.0, 0.0,...</td>\n",
       "    </tr>\n",
       "    <tr>\n",
       "      <th>4417</th>\n",
       "      <td>[11.0, 0.0, 8.0, 0.0, 1.0, 1.0, 3.0, 3.0, 0.0,...</td>\n",
       "    </tr>\n",
       "    <tr>\n",
       "      <th>4730</th>\n",
       "      <td>[0.0, 0.0, 2.0, 0.0, 5.0, 4.0, 1.0, 0.0, 0.0, ...</td>\n",
       "    </tr>\n",
       "    <tr>\n",
       "      <th>91</th>\n",
       "      <td>[30.0, 0.0, 5.0, 0.0, 0.0, 0.0, 5.0, 18.0, 0.0...</td>\n",
       "    </tr>\n",
       "    <tr>\n",
       "      <th>6636</th>\n",
       "      <td>[9.0, 0.0, 13.0, 0.0, 0.0, 1.0, 1.0, 7.0, 0.0,...</td>\n",
       "    </tr>\n",
       "    <tr>\n",
       "      <th>...</th>\n",
       "      <td>...</td>\n",
       "    </tr>\n",
       "    <tr>\n",
       "      <th>4654</th>\n",
       "      <td>[1.0, 0.0, 0.0, 0.0, 4.0, 3.0, 0.0, 0.0, 0.0, ...</td>\n",
       "    </tr>\n",
       "    <tr>\n",
       "      <th>5843</th>\n",
       "      <td>[6.0, 0.0, 7.0, 0.0, 1.0, 1.0, 0.0, 1.0, 0.0, ...</td>\n",
       "    </tr>\n",
       "    <tr>\n",
       "      <th>1444</th>\n",
       "      <td>[23.0, 33.0, 14.0, 4.0, 3.0, 2.0, 18.0, 18.0, ...</td>\n",
       "    </tr>\n",
       "    <tr>\n",
       "      <th>2288</th>\n",
       "      <td>[9.0, 12.0, 5.0, 0.0, 3.0, 5.0, 3.0, 9.0, 0.0,...</td>\n",
       "    </tr>\n",
       "    <tr>\n",
       "      <th>1695</th>\n",
       "      <td>[3.0, 0.0, 3.0, 0.0, 1.0, 1.0, 1.0, 5.0, 0.0, ...</td>\n",
       "    </tr>\n",
       "  </tbody>\n",
       "</table>\n",
       "<p>936 rows × 1 columns</p>\n",
       "</div>"
      ],
      "text/plain": [
       "                                                  email\n",
       "441   [10.0, 0.0, 7.0, 0.0, 0.0, 0.0, 0.0, 3.0, 0.0,...\n",
       "4417  [11.0, 0.0, 8.0, 0.0, 1.0, 1.0, 3.0, 3.0, 0.0,...\n",
       "4730  [0.0, 0.0, 2.0, 0.0, 5.0, 4.0, 1.0, 0.0, 0.0, ...\n",
       "91    [30.0, 0.0, 5.0, 0.0, 0.0, 0.0, 5.0, 18.0, 0.0...\n",
       "6636  [9.0, 0.0, 13.0, 0.0, 0.0, 1.0, 1.0, 7.0, 0.0,...\n",
       "...                                                 ...\n",
       "4654  [1.0, 0.0, 0.0, 0.0, 4.0, 3.0, 0.0, 0.0, 0.0, ...\n",
       "5843  [6.0, 0.0, 7.0, 0.0, 1.0, 1.0, 0.0, 1.0, 0.0, ...\n",
       "1444  [23.0, 33.0, 14.0, 4.0, 3.0, 2.0, 18.0, 18.0, ...\n",
       "2288  [9.0, 12.0, 5.0, 0.0, 3.0, 5.0, 3.0, 9.0, 0.0,...\n",
       "1695  [3.0, 0.0, 3.0, 0.0, 1.0, 1.0, 1.0, 5.0, 0.0, ...\n",
       "\n",
       "[936 rows x 1 columns]"
      ]
     },
     "execution_count": 255,
     "metadata": {},
     "output_type": "execute_result"
    }
   ],
   "source": [
    "encode_train1"
   ]
  },
  {
   "cell_type": "code",
   "execution_count": 260,
   "id": "2817e3f4-3173-4493-9fb2-89fce75d85e3",
   "metadata": {},
   "outputs": [],
   "source": [
    "encode_train_split = pd.DataFrame(encode_train.to_list())"
   ]
  },
  {
   "cell_type": "code",
   "execution_count": 266,
   "id": "a1361ddf-8c20-4300-bec3-6b323f0eebc3",
   "metadata": {},
   "outputs": [],
   "source": [
    "encode_test_split = pd.DataFrame(encode_test.to_list())"
   ]
  },
  {
   "cell_type": "code",
   "execution_count": 261,
   "id": "26f40bbf-8474-44a9-ba01-6f5068beaba6",
   "metadata": {},
   "outputs": [
    {
     "data": {
      "text/html": [
       "<div>\n",
       "<style scoped>\n",
       "    .dataframe tbody tr th:only-of-type {\n",
       "        vertical-align: middle;\n",
       "    }\n",
       "\n",
       "    .dataframe tbody tr th {\n",
       "        vertical-align: top;\n",
       "    }\n",
       "\n",
       "    .dataframe thead th {\n",
       "        text-align: right;\n",
       "    }\n",
       "</style>\n",
       "<table border=\"1\" class=\"dataframe\">\n",
       "  <thead>\n",
       "    <tr style=\"text-align: right;\">\n",
       "      <th></th>\n",
       "      <th>0</th>\n",
       "      <th>1</th>\n",
       "      <th>2</th>\n",
       "      <th>3</th>\n",
       "      <th>4</th>\n",
       "      <th>5</th>\n",
       "      <th>6</th>\n",
       "      <th>7</th>\n",
       "      <th>8</th>\n",
       "      <th>9</th>\n",
       "      <th>...</th>\n",
       "      <th>990</th>\n",
       "      <th>991</th>\n",
       "      <th>992</th>\n",
       "      <th>993</th>\n",
       "      <th>994</th>\n",
       "      <th>995</th>\n",
       "      <th>996</th>\n",
       "      <th>997</th>\n",
       "      <th>998</th>\n",
       "      <th>999</th>\n",
       "    </tr>\n",
       "  </thead>\n",
       "  <tbody>\n",
       "    <tr>\n",
       "      <th>0</th>\n",
       "      <td>172.0</td>\n",
       "      <td>198.0</td>\n",
       "      <td>86.0</td>\n",
       "      <td>101.0</td>\n",
       "      <td>141.0</td>\n",
       "      <td>178.0</td>\n",
       "      <td>55.0</td>\n",
       "      <td>39.0</td>\n",
       "      <td>52.0</td>\n",
       "      <td>81.0</td>\n",
       "      <td>...</td>\n",
       "      <td>0.0</td>\n",
       "      <td>0.0</td>\n",
       "      <td>0.0</td>\n",
       "      <td>0.0</td>\n",
       "      <td>3.0</td>\n",
       "      <td>6.0</td>\n",
       "      <td>0.0</td>\n",
       "      <td>0.0</td>\n",
       "      <td>0.0</td>\n",
       "      <td>0.0</td>\n",
       "    </tr>\n",
       "    <tr>\n",
       "      <th>1</th>\n",
       "      <td>43.0</td>\n",
       "      <td>289.0</td>\n",
       "      <td>43.0</td>\n",
       "      <td>368.0</td>\n",
       "      <td>159.0</td>\n",
       "      <td>166.0</td>\n",
       "      <td>25.0</td>\n",
       "      <td>28.0</td>\n",
       "      <td>228.0</td>\n",
       "      <td>100.0</td>\n",
       "      <td>...</td>\n",
       "      <td>1.0</td>\n",
       "      <td>0.0</td>\n",
       "      <td>0.0</td>\n",
       "      <td>0.0</td>\n",
       "      <td>0.0</td>\n",
       "      <td>0.0</td>\n",
       "      <td>0.0</td>\n",
       "      <td>0.0</td>\n",
       "      <td>0.0</td>\n",
       "      <td>0.0</td>\n",
       "    </tr>\n",
       "    <tr>\n",
       "      <th>2</th>\n",
       "      <td>2.0</td>\n",
       "      <td>0.0</td>\n",
       "      <td>0.0</td>\n",
       "      <td>0.0</td>\n",
       "      <td>1.0</td>\n",
       "      <td>1.0</td>\n",
       "      <td>3.0</td>\n",
       "      <td>1.0</td>\n",
       "      <td>0.0</td>\n",
       "      <td>0.0</td>\n",
       "      <td>...</td>\n",
       "      <td>0.0</td>\n",
       "      <td>0.0</td>\n",
       "      <td>0.0</td>\n",
       "      <td>0.0</td>\n",
       "      <td>0.0</td>\n",
       "      <td>0.0</td>\n",
       "      <td>0.0</td>\n",
       "      <td>0.0</td>\n",
       "      <td>0.0</td>\n",
       "      <td>0.0</td>\n",
       "    </tr>\n",
       "    <tr>\n",
       "      <th>3</th>\n",
       "      <td>6.0</td>\n",
       "      <td>0.0</td>\n",
       "      <td>3.0</td>\n",
       "      <td>0.0</td>\n",
       "      <td>2.0</td>\n",
       "      <td>4.0</td>\n",
       "      <td>3.0</td>\n",
       "      <td>0.0</td>\n",
       "      <td>0.0</td>\n",
       "      <td>0.0</td>\n",
       "      <td>...</td>\n",
       "      <td>0.0</td>\n",
       "      <td>0.0</td>\n",
       "      <td>0.0</td>\n",
       "      <td>0.0</td>\n",
       "      <td>0.0</td>\n",
       "      <td>0.0</td>\n",
       "      <td>0.0</td>\n",
       "      <td>0.0</td>\n",
       "      <td>0.0</td>\n",
       "      <td>0.0</td>\n",
       "    </tr>\n",
       "    <tr>\n",
       "      <th>4</th>\n",
       "      <td>2.0</td>\n",
       "      <td>0.0</td>\n",
       "      <td>4.0</td>\n",
       "      <td>0.0</td>\n",
       "      <td>9.0</td>\n",
       "      <td>1.0</td>\n",
       "      <td>6.0</td>\n",
       "      <td>0.0</td>\n",
       "      <td>0.0</td>\n",
       "      <td>0.0</td>\n",
       "      <td>...</td>\n",
       "      <td>0.0</td>\n",
       "      <td>0.0</td>\n",
       "      <td>0.0</td>\n",
       "      <td>0.0</td>\n",
       "      <td>0.0</td>\n",
       "      <td>0.0</td>\n",
       "      <td>0.0</td>\n",
       "      <td>0.0</td>\n",
       "      <td>0.0</td>\n",
       "      <td>0.0</td>\n",
       "    </tr>\n",
       "    <tr>\n",
       "      <th>...</th>\n",
       "      <td>...</td>\n",
       "      <td>...</td>\n",
       "      <td>...</td>\n",
       "      <td>...</td>\n",
       "      <td>...</td>\n",
       "      <td>...</td>\n",
       "      <td>...</td>\n",
       "      <td>...</td>\n",
       "      <td>...</td>\n",
       "      <td>...</td>\n",
       "      <td>...</td>\n",
       "      <td>...</td>\n",
       "      <td>...</td>\n",
       "      <td>...</td>\n",
       "      <td>...</td>\n",
       "      <td>...</td>\n",
       "      <td>...</td>\n",
       "      <td>...</td>\n",
       "      <td>...</td>\n",
       "      <td>...</td>\n",
       "      <td>...</td>\n",
       "    </tr>\n",
       "    <tr>\n",
       "      <th>8413</th>\n",
       "      <td>2.0</td>\n",
       "      <td>0.0</td>\n",
       "      <td>0.0</td>\n",
       "      <td>0.0</td>\n",
       "      <td>2.0</td>\n",
       "      <td>2.0</td>\n",
       "      <td>0.0</td>\n",
       "      <td>0.0</td>\n",
       "      <td>0.0</td>\n",
       "      <td>0.0</td>\n",
       "      <td>...</td>\n",
       "      <td>0.0</td>\n",
       "      <td>0.0</td>\n",
       "      <td>0.0</td>\n",
       "      <td>0.0</td>\n",
       "      <td>0.0</td>\n",
       "      <td>0.0</td>\n",
       "      <td>0.0</td>\n",
       "      <td>0.0</td>\n",
       "      <td>0.0</td>\n",
       "      <td>0.0</td>\n",
       "    </tr>\n",
       "    <tr>\n",
       "      <th>8414</th>\n",
       "      <td>5.0</td>\n",
       "      <td>0.0</td>\n",
       "      <td>7.0</td>\n",
       "      <td>0.0</td>\n",
       "      <td>0.0</td>\n",
       "      <td>0.0</td>\n",
       "      <td>2.0</td>\n",
       "      <td>1.0</td>\n",
       "      <td>0.0</td>\n",
       "      <td>0.0</td>\n",
       "      <td>...</td>\n",
       "      <td>0.0</td>\n",
       "      <td>0.0</td>\n",
       "      <td>0.0</td>\n",
       "      <td>0.0</td>\n",
       "      <td>0.0</td>\n",
       "      <td>0.0</td>\n",
       "      <td>0.0</td>\n",
       "      <td>0.0</td>\n",
       "      <td>0.0</td>\n",
       "      <td>0.0</td>\n",
       "    </tr>\n",
       "    <tr>\n",
       "      <th>8415</th>\n",
       "      <td>0.0</td>\n",
       "      <td>0.0</td>\n",
       "      <td>1.0</td>\n",
       "      <td>0.0</td>\n",
       "      <td>1.0</td>\n",
       "      <td>1.0</td>\n",
       "      <td>1.0</td>\n",
       "      <td>1.0</td>\n",
       "      <td>0.0</td>\n",
       "      <td>0.0</td>\n",
       "      <td>...</td>\n",
       "      <td>0.0</td>\n",
       "      <td>0.0</td>\n",
       "      <td>0.0</td>\n",
       "      <td>0.0</td>\n",
       "      <td>0.0</td>\n",
       "      <td>0.0</td>\n",
       "      <td>0.0</td>\n",
       "      <td>0.0</td>\n",
       "      <td>0.0</td>\n",
       "      <td>0.0</td>\n",
       "    </tr>\n",
       "    <tr>\n",
       "      <th>8416</th>\n",
       "      <td>0.0</td>\n",
       "      <td>0.0</td>\n",
       "      <td>0.0</td>\n",
       "      <td>0.0</td>\n",
       "      <td>0.0</td>\n",
       "      <td>0.0</td>\n",
       "      <td>0.0</td>\n",
       "      <td>0.0</td>\n",
       "      <td>0.0</td>\n",
       "      <td>0.0</td>\n",
       "      <td>...</td>\n",
       "      <td>0.0</td>\n",
       "      <td>0.0</td>\n",
       "      <td>0.0</td>\n",
       "      <td>0.0</td>\n",
       "      <td>0.0</td>\n",
       "      <td>0.0</td>\n",
       "      <td>0.0</td>\n",
       "      <td>0.0</td>\n",
       "      <td>0.0</td>\n",
       "      <td>0.0</td>\n",
       "    </tr>\n",
       "    <tr>\n",
       "      <th>8417</th>\n",
       "      <td>9.0</td>\n",
       "      <td>0.0</td>\n",
       "      <td>10.0</td>\n",
       "      <td>0.0</td>\n",
       "      <td>8.0</td>\n",
       "      <td>8.0</td>\n",
       "      <td>7.0</td>\n",
       "      <td>5.0</td>\n",
       "      <td>0.0</td>\n",
       "      <td>0.0</td>\n",
       "      <td>...</td>\n",
       "      <td>0.0</td>\n",
       "      <td>0.0</td>\n",
       "      <td>0.0</td>\n",
       "      <td>0.0</td>\n",
       "      <td>0.0</td>\n",
       "      <td>0.0</td>\n",
       "      <td>0.0</td>\n",
       "      <td>0.0</td>\n",
       "      <td>0.0</td>\n",
       "      <td>0.0</td>\n",
       "    </tr>\n",
       "  </tbody>\n",
       "</table>\n",
       "<p>8418 rows × 1000 columns</p>\n",
       "</div>"
      ],
      "text/plain": [
       "        0      1     2      3      4      5     6     7      8      9    ...  \\\n",
       "0     172.0  198.0  86.0  101.0  141.0  178.0  55.0  39.0   52.0   81.0  ...   \n",
       "1      43.0  289.0  43.0  368.0  159.0  166.0  25.0  28.0  228.0  100.0  ...   \n",
       "2       2.0    0.0   0.0    0.0    1.0    1.0   3.0   1.0    0.0    0.0  ...   \n",
       "3       6.0    0.0   3.0    0.0    2.0    4.0   3.0   0.0    0.0    0.0  ...   \n",
       "4       2.0    0.0   4.0    0.0    9.0    1.0   6.0   0.0    0.0    0.0  ...   \n",
       "...     ...    ...   ...    ...    ...    ...   ...   ...    ...    ...  ...   \n",
       "8413    2.0    0.0   0.0    0.0    2.0    2.0   0.0   0.0    0.0    0.0  ...   \n",
       "8414    5.0    0.0   7.0    0.0    0.0    0.0   2.0   1.0    0.0    0.0  ...   \n",
       "8415    0.0    0.0   1.0    0.0    1.0    1.0   1.0   1.0    0.0    0.0  ...   \n",
       "8416    0.0    0.0   0.0    0.0    0.0    0.0   0.0   0.0    0.0    0.0  ...   \n",
       "8417    9.0    0.0  10.0    0.0    8.0    8.0   7.0   5.0    0.0    0.0  ...   \n",
       "\n",
       "      990  991  992  993  994  995  996  997  998  999  \n",
       "0     0.0  0.0  0.0  0.0  3.0  6.0  0.0  0.0  0.0  0.0  \n",
       "1     1.0  0.0  0.0  0.0  0.0  0.0  0.0  0.0  0.0  0.0  \n",
       "2     0.0  0.0  0.0  0.0  0.0  0.0  0.0  0.0  0.0  0.0  \n",
       "3     0.0  0.0  0.0  0.0  0.0  0.0  0.0  0.0  0.0  0.0  \n",
       "4     0.0  0.0  0.0  0.0  0.0  0.0  0.0  0.0  0.0  0.0  \n",
       "...   ...  ...  ...  ...  ...  ...  ...  ...  ...  ...  \n",
       "8413  0.0  0.0  0.0  0.0  0.0  0.0  0.0  0.0  0.0  0.0  \n",
       "8414  0.0  0.0  0.0  0.0  0.0  0.0  0.0  0.0  0.0  0.0  \n",
       "8415  0.0  0.0  0.0  0.0  0.0  0.0  0.0  0.0  0.0  0.0  \n",
       "8416  0.0  0.0  0.0  0.0  0.0  0.0  0.0  0.0  0.0  0.0  \n",
       "8417  0.0  0.0  0.0  0.0  0.0  0.0  0.0  0.0  0.0  0.0  \n",
       "\n",
       "[8418 rows x 1000 columns]"
      ]
     },
     "execution_count": 261,
     "metadata": {},
     "output_type": "execute_result"
    }
   ],
   "source": [
    "encode_train_split"
   ]
  },
  {
   "cell_type": "code",
   "execution_count": 262,
   "id": "2aec8b15-a820-417e-a089-fbeb8e70d7b3",
   "metadata": {},
   "outputs": [
    {
     "data": {
      "text/plain": [
       "1559    0\n",
       "2778    0\n",
       "1713    0\n",
       "3744    0\n",
       "1363    0\n",
       "       ..\n",
       "4671    0\n",
       "4552    0\n",
       "555     0\n",
       "800     1\n",
       "6881    0\n",
       "Name: label, Length: 8418, dtype: object"
      ]
     },
     "execution_count": 262,
     "metadata": {},
     "output_type": "execute_result"
    }
   ],
   "source": [
    "y_train"
   ]
  },
  {
   "cell_type": "code",
   "execution_count": 280,
   "id": "67076af8-dde8-471a-95d3-05060ee60ce9",
   "metadata": {},
   "outputs": [],
   "source": [
    "knn = KNeighborsClassifier()"
   ]
  },
  {
   "cell_type": "code",
   "execution_count": 281,
   "id": "aaa6f0e3-e82f-4d5d-86e5-b9ce44d1fbea",
   "metadata": {},
   "outputs": [
    {
     "data": {
      "text/plain": [
       "KNeighborsClassifier()"
      ]
     },
     "execution_count": 281,
     "metadata": {},
     "output_type": "execute_result"
    }
   ],
   "source": [
    "knn.fit(encode_train_split, y_train)"
   ]
  },
  {
   "cell_type": "code",
   "execution_count": 286,
   "id": "35e47acb-9f4b-4c32-9d55-06473a0e7819",
   "metadata": {},
   "outputs": [],
   "source": [
    "label_predict = knn.predict(encode_test_split)"
   ]
  },
  {
   "cell_type": "markdown",
   "id": "65097df9-593f-418d-aed9-062e063bb1c5",
   "metadata": {},
   "source": [
    "Calculate the accuracy of the test set."
   ]
  },
  {
   "cell_type": "code",
   "execution_count": 287,
   "id": "02a88978-0f79-4f96-a5cb-5a2cf53beec6",
   "metadata": {},
   "outputs": [
    {
     "data": {
      "text/plain": [
       "1.0"
      ]
     },
     "execution_count": 287,
     "metadata": {},
     "output_type": "execute_result"
    }
   ],
   "source": [
    "len(label_predict==y_test)/len(label_predict)"
   ]
  },
  {
   "cell_type": "code",
   "execution_count": 272,
   "id": "c27cf158-20ec-46ba-9485-3223386a1c2a",
   "metadata": {},
   "outputs": [],
   "source": [
    "labels_pred = cross_val_predict(knn,encode_train_split,y_train,cv=5)"
   ]
  },
  {
   "cell_type": "code",
   "execution_count": 277,
   "id": "37289b91-1e96-47d4-8899-a5016f9ad151",
   "metadata": {},
   "outputs": [
    {
     "name": "stdout",
     "output_type": "stream",
     "text": [
      "accuracy: 0.9643620812544548\n"
     ]
    }
   ],
   "source": [
    "print('accuracy:', accuracy_score(y_train, labels_pred))"
   ]
  },
  {
   "cell_type": "markdown",
   "id": "23343221-d9e3-42fe-bcf5-45b39ddad8eb",
   "metadata": {},
   "source": [
    "### 4. predict nornal in my email"
   ]
  },
  {
   "cell_type": "markdown",
   "id": "b5ed1631-97d6-47bb-b782-fa9337064615",
   "metadata": {},
   "source": [
    "Normal email:\n",
    "Hi ZEYU WANG,\n",
    "\n",
    "We’re making some changes to our legal agreements that will apply to you.\n",
    "\n",
    "There is no action needed from you today, but if you would like to learn more, you can find details about these changes, when they apply and what you can do if you want to decline the changes on our Policy Updates page. You can also view these changes by visiting PayPal.com, clicking ‘Legal’ at the bottom of the page and then selecting ‘Policy Updates’.\n",
    "\n",
    "If you have questions about any of these changes or your account, please don’t hesitate to get in touch with us.\n",
    "\n",
    "Thank you for being a PayPal customer.\n",
    "\n",
    "Sincerely,\n",
    "PayPal\n",
    "\n",
    "Spam email:\n",
    "'Hello,Get help with all your homework questions big or small at  AceYourHomework.com . Our verified IVY League tutors are ready to help with any question you may have from basic math to complicated rocket science.GET HOMEWORK HELP, 30%OFF With Love,AceYourHomework Team'"
   ]
  },
  {
   "cell_type": "code",
   "execution_count": 339,
   "id": "f38a302f-f059-46b0-99dd-04e83c12e991",
   "metadata": {},
   "outputs": [],
   "source": [
    "nomal_email = ['Hi ZEYU WANG,We’re making some changes to our legal agreements that will apply to you.There is no action needed from you today, but if you would like to learn more, you can find details about these changes, when they apply and what you can do if you want to decline the changes on our Policy Updates page. You can also view these changes by visiting PayPal.com, clicking ‘Legal’ at the bottom of the page and then selecting ‘Policy Updates’.If you have questions about any of these changes or your account, please don’t hesitate to get in touch with us.Thank you for being a PayPal customer.SincerelyPayPal',\n",
    "              'Hello,Get help with all your homework questions big or small at  AceYourHomework.com . Our verified IVY League tutors are ready to help with any question you may have from basic math to complicated rocket science.GET HOMEWORK HELP, 30%OFF With Love,AceYourHomework Team']"
   ]
  },
  {
   "cell_type": "code",
   "execution_count": 340,
   "id": "8b52fb33-08be-4861-bd22-06de45dd812b",
   "metadata": {},
   "outputs": [],
   "source": [
    "nornal_email_df = pd.DataFrame({'email':nomal_email})"
   ]
  },
  {
   "cell_type": "code",
   "execution_count": 341,
   "id": "9115a5aa-d924-4674-bf0b-8dbb760677c7",
   "metadata": {},
   "outputs": [
    {
     "data": {
      "text/html": [
       "<div>\n",
       "<style scoped>\n",
       "    .dataframe tbody tr th:only-of-type {\n",
       "        vertical-align: middle;\n",
       "    }\n",
       "\n",
       "    .dataframe tbody tr th {\n",
       "        vertical-align: top;\n",
       "    }\n",
       "\n",
       "    .dataframe thead th {\n",
       "        text-align: right;\n",
       "    }\n",
       "</style>\n",
       "<table border=\"1\" class=\"dataframe\">\n",
       "  <thead>\n",
       "    <tr style=\"text-align: right;\">\n",
       "      <th></th>\n",
       "      <th>email</th>\n",
       "      <th>labbel</th>\n",
       "    </tr>\n",
       "  </thead>\n",
       "  <tbody>\n",
       "    <tr>\n",
       "      <th>0</th>\n",
       "      <td>Hi ZEYU WANG,We’re making some changes to our ...</td>\n",
       "      <td>0</td>\n",
       "    </tr>\n",
       "    <tr>\n",
       "      <th>1</th>\n",
       "      <td>Hello,Get help with all your homework question...</td>\n",
       "      <td>1</td>\n",
       "    </tr>\n",
       "  </tbody>\n",
       "</table>\n",
       "</div>"
      ],
      "text/plain": [
       "                                               email  labbel\n",
       "0  Hi ZEYU WANG,We’re making some changes to our ...       0\n",
       "1  Hello,Get help with all your homework question...       1"
      ]
     },
     "execution_count": 341,
     "metadata": {},
     "output_type": "execute_result"
    }
   ],
   "source": [
    "nornal_email_df['labbel'] = [0,1]\n",
    "nornal_email_df"
   ]
  },
  {
   "cell_type": "code",
   "execution_count": 342,
   "id": "08bf37b3-b5ad-4173-b0b3-db7a5dd36319",
   "metadata": {},
   "outputs": [],
   "source": [
    "nornal_email_df['email'] = nornal_email_df['email'].apply(lambda x: clean(x))"
   ]
  },
  {
   "cell_type": "code",
   "execution_count": 343,
   "id": "9bc1888f-f4dc-4bdb-8632-c2c68969fdb0",
   "metadata": {},
   "outputs": [
    {
     "data": {
      "text/html": [
       "<div>\n",
       "<style scoped>\n",
       "    .dataframe tbody tr th:only-of-type {\n",
       "        vertical-align: middle;\n",
       "    }\n",
       "\n",
       "    .dataframe tbody tr th {\n",
       "        vertical-align: top;\n",
       "    }\n",
       "\n",
       "    .dataframe thead th {\n",
       "        text-align: right;\n",
       "    }\n",
       "</style>\n",
       "<table border=\"1\" class=\"dataframe\">\n",
       "  <thead>\n",
       "    <tr style=\"text-align: right;\">\n",
       "      <th></th>\n",
       "      <th>email</th>\n",
       "      <th>labbel</th>\n",
       "    </tr>\n",
       "  </thead>\n",
       "  <tbody>\n",
       "    <tr>\n",
       "      <th>0</th>\n",
       "      <td>hi zeyu wang we re making some changes to our ...</td>\n",
       "      <td>0</td>\n",
       "    </tr>\n",
       "    <tr>\n",
       "      <th>1</th>\n",
       "      <td>hello get help with all your homework question...</td>\n",
       "      <td>1</td>\n",
       "    </tr>\n",
       "  </tbody>\n",
       "</table>\n",
       "</div>"
      ],
      "text/plain": [
       "                                               email  labbel\n",
       "0  hi zeyu wang we re making some changes to our ...       0\n",
       "1  hello get help with all your homework question...       1"
      ]
     },
     "execution_count": 343,
     "metadata": {},
     "output_type": "execute_result"
    }
   ],
   "source": [
    "nornal_email_df"
   ]
  },
  {
   "cell_type": "code",
   "execution_count": 344,
   "id": "8cc13f93-13aa-4ff5-b61c-e8b73fa353d2",
   "metadata": {},
   "outputs": [],
   "source": [
    "nornal_email_df = nornal_email_df['email'].apply(lambda x: encode_email(x, dictionary_np))"
   ]
  },
  {
   "cell_type": "code",
   "execution_count": 345,
   "id": "f88a51c0-b80d-496d-80cf-f7a9bc861ea3",
   "metadata": {},
   "outputs": [
    {
     "data": {
      "text/plain": [
       "0    [3.0, 0.0, 5.0, 0.0, 0.0, 1.0, 2.0, 2.0, 0.0, ...\n",
       "1    [0.0, 0.0, 2.0, 0.0, 0.0, 1.0, 0.0, 0.0, 0.0, ...\n",
       "Name: email, dtype: object"
      ]
     },
     "execution_count": 345,
     "metadata": {},
     "output_type": "execute_result"
    }
   ],
   "source": [
    "nornal_email_df"
   ]
  },
  {
   "cell_type": "code",
   "execution_count": 346,
   "id": "0109c6c9-665c-4065-94f1-94499eec0769",
   "metadata": {},
   "outputs": [],
   "source": [
    "nornal_email_df = pd.DataFrame(nornal_email_df.to_list())"
   ]
  },
  {
   "cell_type": "code",
   "execution_count": 347,
   "id": "cdce5199-ecd0-4d79-9a63-7d1bf5a1b0fa",
   "metadata": {},
   "outputs": [
    {
     "data": {
      "text/html": [
       "<div>\n",
       "<style scoped>\n",
       "    .dataframe tbody tr th:only-of-type {\n",
       "        vertical-align: middle;\n",
       "    }\n",
       "\n",
       "    .dataframe tbody tr th {\n",
       "        vertical-align: top;\n",
       "    }\n",
       "\n",
       "    .dataframe thead th {\n",
       "        text-align: right;\n",
       "    }\n",
       "</style>\n",
       "<table border=\"1\" class=\"dataframe\">\n",
       "  <thead>\n",
       "    <tr style=\"text-align: right;\">\n",
       "      <th></th>\n",
       "      <th>0</th>\n",
       "      <th>1</th>\n",
       "      <th>2</th>\n",
       "      <th>3</th>\n",
       "      <th>4</th>\n",
       "      <th>5</th>\n",
       "      <th>6</th>\n",
       "      <th>7</th>\n",
       "      <th>8</th>\n",
       "      <th>9</th>\n",
       "      <th>...</th>\n",
       "      <th>990</th>\n",
       "      <th>991</th>\n",
       "      <th>992</th>\n",
       "      <th>993</th>\n",
       "      <th>994</th>\n",
       "      <th>995</th>\n",
       "      <th>996</th>\n",
       "      <th>997</th>\n",
       "      <th>998</th>\n",
       "      <th>999</th>\n",
       "    </tr>\n",
       "  </thead>\n",
       "  <tbody>\n",
       "    <tr>\n",
       "      <th>0</th>\n",
       "      <td>3.0</td>\n",
       "      <td>0.0</td>\n",
       "      <td>5.0</td>\n",
       "      <td>0.0</td>\n",
       "      <td>0.0</td>\n",
       "      <td>1.0</td>\n",
       "      <td>2.0</td>\n",
       "      <td>2.0</td>\n",
       "      <td>0.0</td>\n",
       "      <td>0.0</td>\n",
       "      <td>...</td>\n",
       "      <td>0.0</td>\n",
       "      <td>0.0</td>\n",
       "      <td>0.0</td>\n",
       "      <td>0.0</td>\n",
       "      <td>0.0</td>\n",
       "      <td>0.0</td>\n",
       "      <td>0.0</td>\n",
       "      <td>0.0</td>\n",
       "      <td>0.0</td>\n",
       "      <td>0.0</td>\n",
       "    </tr>\n",
       "    <tr>\n",
       "      <th>1</th>\n",
       "      <td>0.0</td>\n",
       "      <td>0.0</td>\n",
       "      <td>2.0</td>\n",
       "      <td>0.0</td>\n",
       "      <td>0.0</td>\n",
       "      <td>1.0</td>\n",
       "      <td>0.0</td>\n",
       "      <td>0.0</td>\n",
       "      <td>0.0</td>\n",
       "      <td>0.0</td>\n",
       "      <td>...</td>\n",
       "      <td>0.0</td>\n",
       "      <td>0.0</td>\n",
       "      <td>0.0</td>\n",
       "      <td>0.0</td>\n",
       "      <td>0.0</td>\n",
       "      <td>0.0</td>\n",
       "      <td>0.0</td>\n",
       "      <td>0.0</td>\n",
       "      <td>0.0</td>\n",
       "      <td>0.0</td>\n",
       "    </tr>\n",
       "  </tbody>\n",
       "</table>\n",
       "<p>2 rows × 1000 columns</p>\n",
       "</div>"
      ],
      "text/plain": [
       "   0    1    2    3    4    5    6    7    8    9    ...  990  991  992  993  \\\n",
       "0  3.0  0.0  5.0  0.0  0.0  1.0  2.0  2.0  0.0  0.0  ...  0.0  0.0  0.0  0.0   \n",
       "1  0.0  0.0  2.0  0.0  0.0  1.0  0.0  0.0  0.0  0.0  ...  0.0  0.0  0.0  0.0   \n",
       "\n",
       "   994  995  996  997  998  999  \n",
       "0  0.0  0.0  0.0  0.0  0.0  0.0  \n",
       "1  0.0  0.0  0.0  0.0  0.0  0.0  \n",
       "\n",
       "[2 rows x 1000 columns]"
      ]
     },
     "execution_count": 347,
     "metadata": {},
     "output_type": "execute_result"
    }
   ],
   "source": [
    "nornal_email_df"
   ]
  },
  {
   "cell_type": "code",
   "execution_count": 348,
   "id": "86be149c-0ff1-4ce6-890f-e945b0c7687f",
   "metadata": {},
   "outputs": [
    {
     "data": {
      "text/plain": [
       "array(['0', '1'], dtype=object)"
      ]
     },
     "execution_count": 348,
     "metadata": {},
     "output_type": "execute_result"
    }
   ],
   "source": [
    "knn.predict(nornal_email_df)"
   ]
  },
  {
   "cell_type": "markdown",
   "id": "b0e5f505-a9e6-467a-b4db-35a1ca97f890",
   "metadata": {},
   "source": [
    "### The predict is correct!"
   ]
  },
  {
   "cell_type": "markdown",
   "id": "2b1cd75a-468e-45c6-b9e0-1d9b5e97eb1b",
   "metadata": {},
   "source": [
    "## Reference"
   ]
  },
  {
   "cell_type": "markdown",
   "id": "68a1c84e-b093-4228-bf92-73271fb840e9",
   "metadata": {},
   "source": [
    "https://medium.com/@thiagolcmelo/train-you-own-spam-detector-57725e8e81c0"
   ]
  },
  {
   "cell_type": "code",
   "execution_count": null,
   "id": "f77cbcdd-1082-491d-bcbb-c589f9539751",
   "metadata": {},
   "outputs": [],
   "source": []
  }
 ],
 "metadata": {
  "kernelspec": {
   "display_name": "Python 3",
   "language": "python",
   "name": "python3"
  },
  "language_info": {
   "codemirror_mode": {
    "name": "ipython",
    "version": 3
   },
   "file_extension": ".py",
   "mimetype": "text/x-python",
   "name": "python",
   "nbconvert_exporter": "python",
   "pygments_lexer": "ipython3",
   "version": "3.8.0"
  }
 },
 "nbformat": 4,
 "nbformat_minor": 5
}
