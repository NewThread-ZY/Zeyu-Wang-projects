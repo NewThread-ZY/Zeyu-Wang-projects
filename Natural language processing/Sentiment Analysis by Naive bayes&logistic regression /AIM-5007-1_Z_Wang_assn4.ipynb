{
 "cells": [
  {
   "cell_type": "markdown",
   "id": "d36a4860-9103-42e5-9c26-140b0d1e5667",
   "metadata": {},
   "source": [
    "## AIM-5011-1\n",
    "## By Zeyu Wang\n",
    "## Fall 2021"
   ]
  },
  {
   "cell_type": "code",
   "execution_count": 277,
   "id": "f643ffa5-a679-48c5-9fa3-28129f4d2272",
   "metadata": {},
   "outputs": [],
   "source": [
    "import pandas as pd\n",
    "import re\n",
    "import numpy as np"
   ]
  },
  {
   "cell_type": "markdown",
   "id": "60332a26-c997-4817-b389-b3842a930ff7",
   "metadata": {},
   "source": [
    "# A.Naive bayes"
   ]
  },
  {
   "cell_type": "markdown",
   "id": "0229ee47-aa17-4ce7-bac5-6195291c802f",
   "metadata": {},
   "source": [
    "## 1. Load data"
   ]
  },
  {
   "cell_type": "markdown",
   "id": "234906ff-7fd5-412b-89a9-48f370396f25",
   "metadata": {},
   "source": [
    "The data comes from Kaggle. It's about the Sentiment Analysis for Financial News. I will achieve a naive bayesian algorithm on this dataset."
   ]
  },
  {
   "cell_type": "code",
   "execution_count": 278,
   "id": "453a1b45-6909-4a72-afd0-9b51cacd68da",
   "metadata": {},
   "outputs": [],
   "source": [
    "data = pd.read_csv('https://raw.githubusercontent.com/NewThread-ZY/AIM-5011-1/main/all-data.csv', encoding = \"ISO-8859-1\")"
   ]
  },
  {
   "cell_type": "code",
   "execution_count": 279,
   "id": "db2a56b0-17f3-4085-8542-8ec330f39fcc",
   "metadata": {},
   "outputs": [
    {
     "data": {
      "text/html": [
       "<div>\n",
       "<style scoped>\n",
       "    .dataframe tbody tr th:only-of-type {\n",
       "        vertical-align: middle;\n",
       "    }\n",
       "\n",
       "    .dataframe tbody tr th {\n",
       "        vertical-align: top;\n",
       "    }\n",
       "\n",
       "    .dataframe thead th {\n",
       "        text-align: right;\n",
       "    }\n",
       "</style>\n",
       "<table border=\"1\" class=\"dataframe\">\n",
       "  <thead>\n",
       "    <tr style=\"text-align: right;\">\n",
       "      <th></th>\n",
       "      <th>neutral</th>\n",
       "      <th>According to Gran , the company has no plans to move all production to Russia , although that is where the company is growing .</th>\n",
       "    </tr>\n",
       "  </thead>\n",
       "  <tbody>\n",
       "    <tr>\n",
       "      <th>0</th>\n",
       "      <td>neutral</td>\n",
       "      <td>Technopolis plans to develop in stages an area...</td>\n",
       "    </tr>\n",
       "    <tr>\n",
       "      <th>1</th>\n",
       "      <td>negative</td>\n",
       "      <td>The international electronic industry company ...</td>\n",
       "    </tr>\n",
       "    <tr>\n",
       "      <th>2</th>\n",
       "      <td>positive</td>\n",
       "      <td>With the new production plant the company woul...</td>\n",
       "    </tr>\n",
       "    <tr>\n",
       "      <th>3</th>\n",
       "      <td>positive</td>\n",
       "      <td>According to the company 's updated strategy f...</td>\n",
       "    </tr>\n",
       "    <tr>\n",
       "      <th>4</th>\n",
       "      <td>positive</td>\n",
       "      <td>FINANCING OF ASPOCOMP 'S GROWTH Aspocomp is ag...</td>\n",
       "    </tr>\n",
       "    <tr>\n",
       "      <th>...</th>\n",
       "      <td>...</td>\n",
       "      <td>...</td>\n",
       "    </tr>\n",
       "    <tr>\n",
       "      <th>4840</th>\n",
       "      <td>negative</td>\n",
       "      <td>LONDON MarketWatch -- Share prices ended lower...</td>\n",
       "    </tr>\n",
       "    <tr>\n",
       "      <th>4841</th>\n",
       "      <td>neutral</td>\n",
       "      <td>Rinkuskiai 's beer sales fell by 6.5 per cent ...</td>\n",
       "    </tr>\n",
       "    <tr>\n",
       "      <th>4842</th>\n",
       "      <td>negative</td>\n",
       "      <td>Operating profit fell to EUR 35.4 mn from EUR ...</td>\n",
       "    </tr>\n",
       "    <tr>\n",
       "      <th>4843</th>\n",
       "      <td>negative</td>\n",
       "      <td>Net sales of the Paper segment decreased to EU...</td>\n",
       "    </tr>\n",
       "    <tr>\n",
       "      <th>4844</th>\n",
       "      <td>negative</td>\n",
       "      <td>Sales in Finland decreased by 10.5 % in Januar...</td>\n",
       "    </tr>\n",
       "  </tbody>\n",
       "</table>\n",
       "<p>4845 rows × 2 columns</p>\n",
       "</div>"
      ],
      "text/plain": [
       "       neutral  \\\n",
       "0      neutral   \n",
       "1     negative   \n",
       "2     positive   \n",
       "3     positive   \n",
       "4     positive   \n",
       "...        ...   \n",
       "4840  negative   \n",
       "4841   neutral   \n",
       "4842  negative   \n",
       "4843  negative   \n",
       "4844  negative   \n",
       "\n",
       "     According to Gran , the company has no plans to move all production to Russia , although that is where the company is growing .  \n",
       "0     Technopolis plans to develop in stages an area...                                                                               \n",
       "1     The international electronic industry company ...                                                                               \n",
       "2     With the new production plant the company woul...                                                                               \n",
       "3     According to the company 's updated strategy f...                                                                               \n",
       "4     FINANCING OF ASPOCOMP 'S GROWTH Aspocomp is ag...                                                                               \n",
       "...                                                 ...                                                                               \n",
       "4840  LONDON MarketWatch -- Share prices ended lower...                                                                               \n",
       "4841  Rinkuskiai 's beer sales fell by 6.5 per cent ...                                                                               \n",
       "4842  Operating profit fell to EUR 35.4 mn from EUR ...                                                                               \n",
       "4843  Net sales of the Paper segment decreased to EU...                                                                               \n",
       "4844  Sales in Finland decreased by 10.5 % in Januar...                                                                               \n",
       "\n",
       "[4845 rows x 2 columns]"
      ]
     },
     "execution_count": 279,
     "metadata": {},
     "output_type": "execute_result"
    }
   ],
   "source": [
    "data"
   ]
  },
  {
   "cell_type": "markdown",
   "id": "cb57d907-9d5b-4edd-9020-5825eb2bed35",
   "metadata": {},
   "source": [
    "## 2. Clean data"
   ]
  },
  {
   "cell_type": "markdown",
   "id": "56e3459c-cd22-4eed-8ec4-cad1ac6ee99b",
   "metadata": {},
   "source": [
    "I will pick up data that only with a positive and negative labels from this dataset."
   ]
  },
  {
   "cell_type": "code",
   "execution_count": 280,
   "id": "bf1b4134-3923-45bd-859c-b2e72e13f88b",
   "metadata": {},
   "outputs": [],
   "source": [
    "data1 = (data[(data.neutral == 'positive') | (data.neutral == 'negative')]).copy()#delete neutral lable datas"
   ]
  },
  {
   "cell_type": "code",
   "execution_count": 281,
   "id": "7059d732-436a-46a5-ba93-54ca8bb3e41f",
   "metadata": {},
   "outputs": [],
   "source": [
    "data1.columns = ['label', 'text']#change the columns name"
   ]
  },
  {
   "cell_type": "code",
   "execution_count": 282,
   "id": "20956a01-69e8-4177-bbd4-a8d10fa29ca3",
   "metadata": {},
   "outputs": [
    {
     "data": {
      "text/html": [
       "<div>\n",
       "<style scoped>\n",
       "    .dataframe tbody tr th:only-of-type {\n",
       "        vertical-align: middle;\n",
       "    }\n",
       "\n",
       "    .dataframe tbody tr th {\n",
       "        vertical-align: top;\n",
       "    }\n",
       "\n",
       "    .dataframe thead th {\n",
       "        text-align: right;\n",
       "    }\n",
       "</style>\n",
       "<table border=\"1\" class=\"dataframe\">\n",
       "  <thead>\n",
       "    <tr style=\"text-align: right;\">\n",
       "      <th></th>\n",
       "      <th>label</th>\n",
       "      <th>text</th>\n",
       "    </tr>\n",
       "  </thead>\n",
       "  <tbody>\n",
       "    <tr>\n",
       "      <th>0</th>\n",
       "      <td>negative</td>\n",
       "      <td>The international electronic industry company ...</td>\n",
       "    </tr>\n",
       "    <tr>\n",
       "      <th>1</th>\n",
       "      <td>positive</td>\n",
       "      <td>With the new production plant the company woul...</td>\n",
       "    </tr>\n",
       "    <tr>\n",
       "      <th>2</th>\n",
       "      <td>positive</td>\n",
       "      <td>According to the company 's updated strategy f...</td>\n",
       "    </tr>\n",
       "    <tr>\n",
       "      <th>3</th>\n",
       "      <td>positive</td>\n",
       "      <td>FINANCING OF ASPOCOMP 'S GROWTH Aspocomp is ag...</td>\n",
       "    </tr>\n",
       "    <tr>\n",
       "      <th>4</th>\n",
       "      <td>positive</td>\n",
       "      <td>For the last quarter of 2010 , Componenta 's n...</td>\n",
       "    </tr>\n",
       "    <tr>\n",
       "      <th>...</th>\n",
       "      <td>...</td>\n",
       "      <td>...</td>\n",
       "    </tr>\n",
       "    <tr>\n",
       "      <th>1962</th>\n",
       "      <td>negative</td>\n",
       "      <td>HELSINKI Thomson Financial - Shares in Cargote...</td>\n",
       "    </tr>\n",
       "    <tr>\n",
       "      <th>1963</th>\n",
       "      <td>negative</td>\n",
       "      <td>LONDON MarketWatch -- Share prices ended lower...</td>\n",
       "    </tr>\n",
       "    <tr>\n",
       "      <th>1964</th>\n",
       "      <td>negative</td>\n",
       "      <td>Operating profit fell to EUR 35.4 mn from EUR ...</td>\n",
       "    </tr>\n",
       "    <tr>\n",
       "      <th>1965</th>\n",
       "      <td>negative</td>\n",
       "      <td>Net sales of the Paper segment decreased to EU...</td>\n",
       "    </tr>\n",
       "    <tr>\n",
       "      <th>1966</th>\n",
       "      <td>negative</td>\n",
       "      <td>Sales in Finland decreased by 10.5 % in Januar...</td>\n",
       "    </tr>\n",
       "  </tbody>\n",
       "</table>\n",
       "<p>1967 rows × 2 columns</p>\n",
       "</div>"
      ],
      "text/plain": [
       "         label                                               text\n",
       "0     negative  The international electronic industry company ...\n",
       "1     positive  With the new production plant the company woul...\n",
       "2     positive  According to the company 's updated strategy f...\n",
       "3     positive  FINANCING OF ASPOCOMP 'S GROWTH Aspocomp is ag...\n",
       "4     positive  For the last quarter of 2010 , Componenta 's n...\n",
       "...        ...                                                ...\n",
       "1962  negative  HELSINKI Thomson Financial - Shares in Cargote...\n",
       "1963  negative  LONDON MarketWatch -- Share prices ended lower...\n",
       "1964  negative  Operating profit fell to EUR 35.4 mn from EUR ...\n",
       "1965  negative  Net sales of the Paper segment decreased to EU...\n",
       "1966  negative  Sales in Finland decreased by 10.5 % in Januar...\n",
       "\n",
       "[1967 rows x 2 columns]"
      ]
     },
     "execution_count": 282,
     "metadata": {},
     "output_type": "execute_result"
    }
   ],
   "source": [
    "data1 = data1.reset_index(drop = True)#reset index\n",
    "data1"
   ]
  },
  {
   "cell_type": "code",
   "execution_count": 283,
   "id": "97ecf59a-1956-451c-9480-737f8e5973fc",
   "metadata": {},
   "outputs": [
    {
     "data": {
      "text/html": [
       "<div>\n",
       "<style scoped>\n",
       "    .dataframe tbody tr th:only-of-type {\n",
       "        vertical-align: middle;\n",
       "    }\n",
       "\n",
       "    .dataframe tbody tr th {\n",
       "        vertical-align: top;\n",
       "    }\n",
       "\n",
       "    .dataframe thead th {\n",
       "        text-align: right;\n",
       "    }\n",
       "</style>\n",
       "<table border=\"1\" class=\"dataframe\">\n",
       "  <thead>\n",
       "    <tr style=\"text-align: right;\">\n",
       "      <th></th>\n",
       "      <th>label</th>\n",
       "      <th>text</th>\n",
       "    </tr>\n",
       "  </thead>\n",
       "  <tbody>\n",
       "    <tr>\n",
       "      <th>0</th>\n",
       "      <td>0</td>\n",
       "      <td>The international electronic industry company ...</td>\n",
       "    </tr>\n",
       "    <tr>\n",
       "      <th>1</th>\n",
       "      <td>1</td>\n",
       "      <td>With the new production plant the company woul...</td>\n",
       "    </tr>\n",
       "    <tr>\n",
       "      <th>2</th>\n",
       "      <td>1</td>\n",
       "      <td>According to the company 's updated strategy f...</td>\n",
       "    </tr>\n",
       "    <tr>\n",
       "      <th>3</th>\n",
       "      <td>1</td>\n",
       "      <td>FINANCING OF ASPOCOMP 'S GROWTH Aspocomp is ag...</td>\n",
       "    </tr>\n",
       "    <tr>\n",
       "      <th>4</th>\n",
       "      <td>1</td>\n",
       "      <td>For the last quarter of 2010 , Componenta 's n...</td>\n",
       "    </tr>\n",
       "    <tr>\n",
       "      <th>...</th>\n",
       "      <td>...</td>\n",
       "      <td>...</td>\n",
       "    </tr>\n",
       "    <tr>\n",
       "      <th>1962</th>\n",
       "      <td>0</td>\n",
       "      <td>HELSINKI Thomson Financial - Shares in Cargote...</td>\n",
       "    </tr>\n",
       "    <tr>\n",
       "      <th>1963</th>\n",
       "      <td>0</td>\n",
       "      <td>LONDON MarketWatch -- Share prices ended lower...</td>\n",
       "    </tr>\n",
       "    <tr>\n",
       "      <th>1964</th>\n",
       "      <td>0</td>\n",
       "      <td>Operating profit fell to EUR 35.4 mn from EUR ...</td>\n",
       "    </tr>\n",
       "    <tr>\n",
       "      <th>1965</th>\n",
       "      <td>0</td>\n",
       "      <td>Net sales of the Paper segment decreased to EU...</td>\n",
       "    </tr>\n",
       "    <tr>\n",
       "      <th>1966</th>\n",
       "      <td>0</td>\n",
       "      <td>Sales in Finland decreased by 10.5 % in Januar...</td>\n",
       "    </tr>\n",
       "  </tbody>\n",
       "</table>\n",
       "<p>1967 rows × 2 columns</p>\n",
       "</div>"
      ],
      "text/plain": [
       "      label                                               text\n",
       "0         0  The international electronic industry company ...\n",
       "1         1  With the new production plant the company woul...\n",
       "2         1  According to the company 's updated strategy f...\n",
       "3         1  FINANCING OF ASPOCOMP 'S GROWTH Aspocomp is ag...\n",
       "4         1  For the last quarter of 2010 , Componenta 's n...\n",
       "...     ...                                                ...\n",
       "1962      0  HELSINKI Thomson Financial - Shares in Cargote...\n",
       "1963      0  LONDON MarketWatch -- Share prices ended lower...\n",
       "1964      0  Operating profit fell to EUR 35.4 mn from EUR ...\n",
       "1965      0  Net sales of the Paper segment decreased to EU...\n",
       "1966      0  Sales in Finland decreased by 10.5 % in Januar...\n",
       "\n",
       "[1967 rows x 2 columns]"
      ]
     },
     "execution_count": 283,
     "metadata": {},
     "output_type": "execute_result"
    }
   ],
   "source": [
    "data1.label = data1.label.map(dict(positive=1, negative=0))# let positive = 1 and negative=0\n",
    "data1"
   ]
  },
  {
   "cell_type": "code",
   "execution_count": 284,
   "id": "13fb4cf5-fb76-40d6-808f-6bfa264b3aff",
   "metadata": {},
   "outputs": [
    {
     "data": {
      "text/plain": [
       "0.3070665988815455"
      ]
     },
     "execution_count": 284,
     "metadata": {},
     "output_type": "execute_result"
    }
   ],
   "source": [
    "p_negative = len(data1[data1.label==0])/len(data1)\n",
    "p_negative"
   ]
  },
  {
   "cell_type": "code",
   "execution_count": 285,
   "id": "7b2b78eb-76f5-46c6-a3b4-631fa0190933",
   "metadata": {},
   "outputs": [
    {
     "data": {
      "text/plain": [
       "0.6929334011184545"
      ]
     },
     "execution_count": 285,
     "metadata": {},
     "output_type": "execute_result"
    }
   ],
   "source": [
    "p_positive = len(data1[data1.label==1])/len(data1)\n",
    "p_positive"
   ]
  },
  {
   "cell_type": "markdown",
   "id": "d149a475-82c7-4d47-86ed-8eb79681d0d8",
   "metadata": {},
   "source": [
    "There are nearly 30% datas are negative and nearly 70% datas are positive."
   ]
  },
  {
   "cell_type": "markdown",
   "id": "90411f75-02c7-497c-9132-709d60f2121b",
   "metadata": {},
   "source": [
    "### Lowercase the word and remove the comma and period."
   ]
  },
  {
   "cell_type": "code",
   "execution_count": 286,
   "id": "2f32253b-fd4f-469b-a06b-0dbd3d617ce6",
   "metadata": {},
   "outputs": [],
   "source": [
    "def lowercaseAndRemoveComa(x):\n",
    "    x = x.lower()\n",
    "    x = x.replace(',', '')\n",
    "    x = x.replace('.', '')\n",
    "    x = x.replace('-', '')\n",
    "    x = x.replace('\\'s', '')\n",
    "    x = x.replace('%', '')\n",
    "    pattern = r'[0-9]'\n",
    "    x = re.sub(pattern, '', x)\n",
    "    return x"
   ]
  },
  {
   "cell_type": "code",
   "execution_count": 287,
   "id": "a42f81fa-8e64-446f-82ca-9f91413426f8",
   "metadata": {},
   "outputs": [
    {
     "data": {
      "text/html": [
       "<div>\n",
       "<style scoped>\n",
       "    .dataframe tbody tr th:only-of-type {\n",
       "        vertical-align: middle;\n",
       "    }\n",
       "\n",
       "    .dataframe tbody tr th {\n",
       "        vertical-align: top;\n",
       "    }\n",
       "\n",
       "    .dataframe thead th {\n",
       "        text-align: right;\n",
       "    }\n",
       "</style>\n",
       "<table border=\"1\" class=\"dataframe\">\n",
       "  <thead>\n",
       "    <tr style=\"text-align: right;\">\n",
       "      <th></th>\n",
       "      <th>label</th>\n",
       "      <th>text</th>\n",
       "    </tr>\n",
       "  </thead>\n",
       "  <tbody>\n",
       "    <tr>\n",
       "      <th>0</th>\n",
       "      <td>0</td>\n",
       "      <td>the international electronic industry company ...</td>\n",
       "    </tr>\n",
       "    <tr>\n",
       "      <th>1</th>\n",
       "      <td>1</td>\n",
       "      <td>with the new production plant the company woul...</td>\n",
       "    </tr>\n",
       "    <tr>\n",
       "      <th>2</th>\n",
       "      <td>1</td>\n",
       "      <td>according to the company  updated strategy for...</td>\n",
       "    </tr>\n",
       "    <tr>\n",
       "      <th>3</th>\n",
       "      <td>1</td>\n",
       "      <td>financing of aspocomp  growth aspocomp is aggr...</td>\n",
       "    </tr>\n",
       "    <tr>\n",
       "      <th>4</th>\n",
       "      <td>1</td>\n",
       "      <td>for the last quarter of   componenta  net sale...</td>\n",
       "    </tr>\n",
       "    <tr>\n",
       "      <th>...</th>\n",
       "      <td>...</td>\n",
       "      <td>...</td>\n",
       "    </tr>\n",
       "    <tr>\n",
       "      <th>1962</th>\n",
       "      <td>0</td>\n",
       "      <td>helsinki thomson financial  shares in cargotec...</td>\n",
       "    </tr>\n",
       "    <tr>\n",
       "      <th>1963</th>\n",
       "      <td>0</td>\n",
       "      <td>london marketwatch  share prices ended lower i...</td>\n",
       "    </tr>\n",
       "    <tr>\n",
       "      <th>1964</th>\n",
       "      <td>0</td>\n",
       "      <td>operating profit fell to eur  mn from eur  mn ...</td>\n",
       "    </tr>\n",
       "    <tr>\n",
       "      <th>1965</th>\n",
       "      <td>0</td>\n",
       "      <td>net sales of the paper segment decreased to eu...</td>\n",
       "    </tr>\n",
       "    <tr>\n",
       "      <th>1966</th>\n",
       "      <td>0</td>\n",
       "      <td>sales in finland decreased by   in january  wh...</td>\n",
       "    </tr>\n",
       "  </tbody>\n",
       "</table>\n",
       "<p>1967 rows × 2 columns</p>\n",
       "</div>"
      ],
      "text/plain": [
       "      label                                               text\n",
       "0         0  the international electronic industry company ...\n",
       "1         1  with the new production plant the company woul...\n",
       "2         1  according to the company  updated strategy for...\n",
       "3         1  financing of aspocomp  growth aspocomp is aggr...\n",
       "4         1  for the last quarter of   componenta  net sale...\n",
       "...     ...                                                ...\n",
       "1962      0  helsinki thomson financial  shares in cargotec...\n",
       "1963      0  london marketwatch  share prices ended lower i...\n",
       "1964      0  operating profit fell to eur  mn from eur  mn ...\n",
       "1965      0  net sales of the paper segment decreased to eu...\n",
       "1966      0  sales in finland decreased by   in january  wh...\n",
       "\n",
       "[1967 rows x 2 columns]"
      ]
     },
     "execution_count": 287,
     "metadata": {},
     "output_type": "execute_result"
    }
   ],
   "source": [
    "data1.text = data1.text.apply(lambda x: lowercaseAndRemoveComa(x))\n",
    "data1"
   ]
  },
  {
   "cell_type": "markdown",
   "id": "1725c2bf-4cd8-4515-92ce-53cbee8fdc5a",
   "metadata": {},
   "source": [
    "## split the data into traning data and test data"
   ]
  },
  {
   "cell_type": "code",
   "execution_count": 288,
   "id": "903eb6a2-a09b-4e22-9375-724703e1999a",
   "metadata": {},
   "outputs": [],
   "source": [
    "train_num = int(0.9*len(data1))"
   ]
  },
  {
   "cell_type": "code",
   "execution_count": 289,
   "id": "047d61b2-c0c2-428a-8774-261e9883a1fc",
   "metadata": {},
   "outputs": [],
   "source": [
    "train = data1.iloc[0:train_num, :]\n",
    "test = data1.iloc[train_num:, :]"
   ]
  },
  {
   "cell_type": "markdown",
   "id": "07f20a43-bbf7-4ba2-9e29-3e62714f3af3",
   "metadata": {},
   "source": [
    "## 3. Build naive bayes model"
   ]
  },
  {
   "cell_type": "markdown",
   "id": "d113dca2-f8ce-45e2-9417-ffc6fabee517",
   "metadata": {},
   "source": [
    "In this model, I will calculate prior probability and count the times of word appear in different documents and multiple them and divide by the number of their documents' corpus. Then compare these two probabilities. If the probability of positive is greater than the probability of negative, the prediction will be positive. Otherwise, the predicted result will be negative. This is a method base on TF-IDF."
   ]
  },
  {
   "cell_type": "code",
   "execution_count": 320,
   "id": "5f776df2-a1e8-4cd4-b8eb-48282b8284ad",
   "metadata": {},
   "outputs": [],
   "source": [
    "def Naive_Bayes(data, test):\n",
    "    prior_positive = len(data[data.label == 1])/len(data)\n",
    "    prior_negative = len(data[data.label == 0])/len(data)\n",
    "    D_word = []\n",
    "    for i in range(len(data)):\n",
    "        D_word.extend(data.text[i].split(' '))\n",
    "    D_word = list(set(D_word))\n",
    "    bigdoc_positive = []\n",
    "    bigdoc_negative = []\n",
    "    positive_data = (data[data.label==1]).copy()\n",
    "    negative_data = (data[data.label==0]).copy()\n",
    "    for i in range(len(positive_data)):\n",
    "        bigdoc_positive.append( list(set((positive_data.text.iloc[i]).split(' '))) )\n",
    "    for i in range(len(negative_data)):\n",
    "        bigdoc_negative.append( list(set((negative_data.text.iloc[i]).split(' ')))  )\n",
    "    predict_label = []\n",
    "    positive_only_word_times = list(set([o for l in bigdoc_positive for o in l]))# the data from bigdoc_positive but only appear one time\n",
    "    negative_only_word_times = list(set([o for l in bigdoc_negative for o in l]))# the data from bigdoc_negative but only appear one time\n",
    "    predict_probility = []\n",
    "    for i in range(len(test)):\n",
    "        text_s = (test.text.iloc[i]).split(' ')\n",
    "        text_times_every_word_pos = 1\n",
    "        text_times_every_word_neg = 1\n",
    "        p_sentense_positive = 1#probility for each sentence is positive\n",
    "        p_sentense_negative = 1#probility for each sentence is negative\n",
    "        #naive bayes positive calculate\n",
    "        word_exist_in_training_data = 0# record how many word exist in training dataset in test each sentence\n",
    "        \n",
    "        for j in text_s:\n",
    "            word_count_positive = 1\n",
    "            word_count_negative = 1\n",
    "            if j in D_word:# if the word isn't exist in training data, we ignore it\n",
    "                word_exist_in_training_data+=1\n",
    "            else:\n",
    "                continue\n",
    "                \n",
    "                \n",
    "            #positive\n",
    "            for k in bigdoc_positive:#Using Binary Counts\n",
    "                if j in k:\n",
    "                    word_count_positive+=1\n",
    "            text_times_every_word_pos*=word_count_positive\n",
    "            \n",
    "            #negative\n",
    "            for k in bigdoc_negative:#Using Binary Counts\n",
    "                if j in k:\n",
    "                    word_count_negative+=1\n",
    "            text_times_every_word_neg*=word_count_negative\n",
    "            \n",
    "            \n",
    "        #Bayes formula    \n",
    "        p_sentense_positive = np.log(prior_positive*text_times_every_word_pos/((len(positive_only_word_times)+len(D_word))**word_exist_in_training_data))\n",
    "        p_sentense_negative = np.log(prior_negative*text_times_every_word_neg/((len(negative_only_word_times)+len(D_word))**word_exist_in_training_data))\n",
    "        predict_probility.append([p_sentense_positive/(p_sentense_positive+p_sentense_negative),p_sentense_negative/(p_sentense_positive+p_sentense_negative)])\n",
    "        if p_sentense_positive>p_sentense_negative:\n",
    "            predict_label.append(1)\n",
    "        else:\n",
    "            predict_label.append(0)\n",
    "    return predict_label, predict_probility"
   ]
  },
  {
   "cell_type": "code",
   "execution_count": 321,
   "id": "6c922899-ede6-4c95-8439-cd46e2b38617",
   "metadata": {},
   "outputs": [],
   "source": [
    "predict_label, predict_probility = Naive_Bayes(train, test)"
   ]
  },
  {
   "cell_type": "markdown",
   "id": "13eeff34-1369-4c6f-9f04-dc48e00b8929",
   "metadata": {},
   "source": [
    "## 4. Accuracy and confusion matrix"
   ]
  },
  {
   "cell_type": "code",
   "execution_count": 205,
   "id": "c3663fe3-97d5-4273-a4b0-83e57aa372b4",
   "metadata": {},
   "outputs": [],
   "source": [
    "test_np = np.array(test.label)\n",
    "predict_test_np = np.array(predict_label)"
   ]
  },
  {
   "cell_type": "code",
   "execution_count": 208,
   "id": "b4911823-05c3-4027-a816-fd2389b84c9e",
   "metadata": {},
   "outputs": [
    {
     "data": {
      "text/plain": [
       "0.03553299492385787"
      ]
     },
     "execution_count": 208,
     "metadata": {},
     "output_type": "execute_result"
    }
   ],
   "source": [
    "len(test_np[test_np==predict_test_np])/len(test_np)"
   ]
  },
  {
   "cell_type": "code",
   "execution_count": 209,
   "id": "caf37d04-dab1-44ec-854d-c7029f475232",
   "metadata": {},
   "outputs": [],
   "source": [
    "predict_label_train = Naive_Bayes(train, train)"
   ]
  },
  {
   "cell_type": "code",
   "execution_count": 210,
   "id": "da89e68c-be66-4508-b2a5-f3a15f588681",
   "metadata": {},
   "outputs": [],
   "source": [
    "train_np = np.array(train.label)\n",
    "predict_label_train = np.array(predict_label_train)"
   ]
  },
  {
   "cell_type": "code",
   "execution_count": 211,
   "id": "0fce4663-48b3-4ce1-8227-ce28a309fff8",
   "metadata": {},
   "outputs": [
    {
     "data": {
      "text/plain": [
       "0.7790960451977401"
      ]
     },
     "execution_count": 211,
     "metadata": {},
     "output_type": "execute_result"
    }
   ],
   "source": [
    "len(train_np[train_np==predict_label_train])/len(train_np)"
   ]
  },
  {
   "cell_type": "markdown",
   "id": "16998598-707e-4aa4-a4d3-99c9b2768b55",
   "metadata": {},
   "source": [
    "### train data"
   ]
  },
  {
   "cell_type": "code",
   "execution_count": 212,
   "id": "f3cee53c-4839-4ad2-a108-a4c52d2e5406",
   "metadata": {},
   "outputs": [],
   "source": [
    "Confusion_Matrix_train = [[0, 0],[0, 0]]"
   ]
  },
  {
   "cell_type": "code",
   "execution_count": 214,
   "id": "afbb2b2b-f675-4e2e-aaee-1ffe9e9369e9",
   "metadata": {},
   "outputs": [],
   "source": [
    "for i in range(len(train_np)):\n",
    "    if train_np[i] == 1 and predict_label_train[i] == 1:\n",
    "        Confusion_Matrix_train[0][0] += 1\n",
    "    elif train_np[i] == 0 and predict_label_train[i] == 1:\n",
    "        Confusion_Matrix_train[0][1] += 1\n",
    "    elif train_np[i] == 1 and predict_label_train[i] == 0:\n",
    "        Confusion_Matrix_train[1][0] += 1\n",
    "    elif train_np[i] == 0 and predict_label_train[i] == 0:\n",
    "        Confusion_Matrix_train[1][1] += 1"
   ]
  },
  {
   "cell_type": "code",
   "execution_count": 215,
   "id": "d7d4aa61-fc5a-417c-b818-63e6436b3fd8",
   "metadata": {},
   "outputs": [
    {
     "data": {
      "text/plain": [
       "[[1356, 391], [0, 23]]"
      ]
     },
     "execution_count": 215,
     "metadata": {},
     "output_type": "execute_result"
    }
   ],
   "source": [
    "Confusion_Matrix_train"
   ]
  },
  {
   "cell_type": "code",
   "execution_count": 216,
   "id": "14445cc6-cdd0-4c54-be26-61915ddfdaad",
   "metadata": {},
   "outputs": [
    {
     "data": {
      "text/plain": [
       "1.0"
      ]
     },
     "execution_count": 216,
     "metadata": {},
     "output_type": "execute_result"
    }
   ],
   "source": [
    "recall_train = Confusion_Matrix_train[0][0]/(Confusion_Matrix_train[0][0]+Confusion_Matrix_train[1][0])\n",
    "recall_train"
   ]
  },
  {
   "cell_type": "markdown",
   "id": "4202823e-380a-4862-8b03-29aaf4711c8c",
   "metadata": {},
   "source": [
    "### Test data"
   ]
  },
  {
   "cell_type": "code",
   "execution_count": 217,
   "id": "aac6822c-255e-4bcf-9a53-fd9b3194bd03",
   "metadata": {},
   "outputs": [],
   "source": [
    "Confusion_Matrix_test = [[0, 0],[0, 0]]"
   ]
  },
  {
   "cell_type": "code",
   "execution_count": 219,
   "id": "9532fb2f-b9a0-44b4-8de0-ebd14a8f11b5",
   "metadata": {},
   "outputs": [],
   "source": [
    "for i in range(len(test_np)):\n",
    "    if test_np[i] == 1 and predict_test_np[i] == 1:\n",
    "        Confusion_Matrix_test[0][0] += 1\n",
    "    elif test_np[i] == 0 and predict_test_np[i] == 1:\n",
    "        Confusion_Matrix_test[0][1] += 1\n",
    "    elif test_np[i] == 1 and predict_test_np[i] == 0:\n",
    "        Confusion_Matrix_test[1][0] += 1\n",
    "    elif test_np[i] == 0 and predict_test_np[i] == 0:\n",
    "        Confusion_Matrix_test[1][1] += 1"
   ]
  },
  {
   "cell_type": "code",
   "execution_count": 220,
   "id": "7bcddb15-5721-416c-bf4b-006fe40436df",
   "metadata": {},
   "outputs": [
    {
     "data": {
      "text/plain": [
       "[[14, 380], [0, 0]]"
      ]
     },
     "execution_count": 220,
     "metadata": {},
     "output_type": "execute_result"
    }
   ],
   "source": [
    "Confusion_Matrix_test"
   ]
  },
  {
   "cell_type": "code",
   "execution_count": 221,
   "id": "9ca67850-65d4-468d-8ca7-72f4bf3dce4e",
   "metadata": {},
   "outputs": [
    {
     "data": {
      "text/plain": [
       "1.0"
      ]
     },
     "execution_count": 221,
     "metadata": {},
     "output_type": "execute_result"
    }
   ],
   "source": [
    "recall_test = Confusion_Matrix_train[0][0]/(Confusion_Matrix_train[0][0]+Confusion_Matrix_train[1][0])\n",
    "recall_test"
   ]
  },
  {
   "cell_type": "markdown",
   "id": "d31a7dd7-8690-4032-9fed-6def42101dcb",
   "metadata": {},
   "source": [
    "It means the naive Bayes model doesn't fit well here. We can try to balance the data first and use some methods to split the negative sentence and positive. For example, if a sentence is negative, it's different from positive just is don't but other words are the same. We need to add a negative prefix for other words."
   ]
  },
  {
   "cell_type": "markdown",
   "id": "d1984d62-a41f-44fd-967b-85ebbb2f039f",
   "metadata": {},
   "source": [
    "# B.LR model"
   ]
  },
  {
   "cell_type": "markdown",
   "id": "74b71b53-f9e0-4c0d-9cfb-a6cebd4acf3a",
   "metadata": {},
   "source": [
    "In this method, I will let the dataset be decode like the one-hot decode. Then use the Logistic regression model to fit and predict it."
   ]
  },
  {
   "cell_type": "code",
   "execution_count": 243,
   "id": "b83b3ab0-a187-4581-9000-3b0fc45aeb91",
   "metadata": {},
   "outputs": [],
   "source": [
    "from sklearn.feature_extraction.text import CountVectorizer\n",
    "from sklearn import linear_model"
   ]
  },
  {
   "cell_type": "code",
   "execution_count": 226,
   "id": "b737283c-359c-4007-a5a1-1b5e8ef9f46f",
   "metadata": {},
   "outputs": [],
   "source": [
    "corpus = list(train.text)"
   ]
  },
  {
   "cell_type": "code",
   "execution_count": 232,
   "id": "bfea8682-a792-4651-9e10-625c5f52c67c",
   "metadata": {},
   "outputs": [],
   "source": [
    "vectorizer = CountVectorizer(binary=True, min_df = 5, max_df = 0.95)"
   ]
  },
  {
   "cell_type": "code",
   "execution_count": 235,
   "id": "2a0fc926-0162-423a-a4ce-ee1c8c48407f",
   "metadata": {},
   "outputs": [
    {
     "data": {
      "text/plain": [
       "<1770x949 sparse matrix of type '<class 'numpy.int64'>'\n",
       "\twith 24477 stored elements in Compressed Sparse Row format>"
      ]
     },
     "execution_count": 235,
     "metadata": {},
     "output_type": "execute_result"
    }
   ],
   "source": [
    "vectorizer.fit_transform(corpus)"
   ]
  },
  {
   "cell_type": "code",
   "execution_count": 236,
   "id": "3fe3251f-a4a3-4d27-a00b-73fd71c6f554",
   "metadata": {},
   "outputs": [],
   "source": [
    "train_vc = vectorizer.transform(train.text)\n",
    "test_vc = vectorizer.transform(test.text)"
   ]
  },
  {
   "cell_type": "code",
   "execution_count": 247,
   "id": "eec45ebb-1c3a-4c0a-b844-8577ceebf000",
   "metadata": {},
   "outputs": [
    {
     "data": {
      "text/plain": [
       "1770"
      ]
     },
     "execution_count": 247,
     "metadata": {},
     "output_type": "execute_result"
    }
   ],
   "source": [
    "train_vc.shape[0]"
   ]
  },
  {
   "cell_type": "code",
   "execution_count": 245,
   "id": "5b81457b-a834-4b66-8e28-372a10b4c4b4",
   "metadata": {},
   "outputs": [],
   "source": [
    "logitstic = linear_model.LogisticRegression(solver = 'liblinear', random_state = 10, max_iter=1000)"
   ]
  },
  {
   "cell_type": "code",
   "execution_count": 248,
   "id": "6bf568b2-26a2-4a90-b10c-34aeb8fe015e",
   "metadata": {},
   "outputs": [
    {
     "data": {
      "text/plain": [
       "LogisticRegression(max_iter=1000, random_state=10, solver='liblinear')"
      ]
     },
     "execution_count": 248,
     "metadata": {},
     "output_type": "execute_result"
    }
   ],
   "source": [
    "logitstic.fit(train_vc,train.label)"
   ]
  },
  {
   "cell_type": "code",
   "execution_count": 249,
   "id": "486779c7-bebe-4517-a7be-cee1768d09ee",
   "metadata": {},
   "outputs": [],
   "source": [
    "train_predict_label = logitstic.predict(train_vc)"
   ]
  },
  {
   "cell_type": "code",
   "execution_count": 250,
   "id": "23c7e4d1-4c9f-42ba-8cf1-0be7129eea69",
   "metadata": {},
   "outputs": [],
   "source": [
    "test_predict_label = logitstic.predict(test_vc)"
   ]
  },
  {
   "cell_type": "code",
   "execution_count": 253,
   "id": "9b5f24b2-1a88-4436-a5f1-5aa87ccb5459",
   "metadata": {},
   "outputs": [
    {
     "name": "stdout",
     "output_type": "stream",
     "text": [
      "The accuracy of train = 0.9621468926553672\n"
     ]
    }
   ],
   "source": [
    "print(f'The accuracy of train = {len(train_predict_label[train_predict_label==np.array(train.label)])/len(train_predict_label)}')"
   ]
  },
  {
   "cell_type": "code",
   "execution_count": 254,
   "id": "c1e8218f-1b71-48d8-a30b-a354afa63678",
   "metadata": {},
   "outputs": [
    {
     "name": "stdout",
     "output_type": "stream",
     "text": [
      "The accuracy of test = 0.5736040609137056\n"
     ]
    }
   ],
   "source": [
    "print(f'The accuracy of test = {len(test_predict_label[test_predict_label==np.array(test.label)])/len(test_predict_label)}')"
   ]
  },
  {
   "cell_type": "markdown",
   "id": "965ab23b-0ab1-4df3-9411-49d11dd36fa1",
   "metadata": {},
   "source": [
    "### The confusion matrix and recall value of train dataset"
   ]
  },
  {
   "cell_type": "code",
   "execution_count": 255,
   "id": "52d00bfb-7763-4958-a7f5-491c509376de",
   "metadata": {},
   "outputs": [],
   "source": [
    "Confusion_Matrix_train_lr = [[0, 0],[0, 0]]\n",
    "for i in range(len(np.array(train.label))):\n",
    "    if np.array(train.label)[i] == 1 and train_predict_label[i] == 1:\n",
    "        Confusion_Matrix_train_lr[0][0] += 1\n",
    "    elif np.array(train.label)[i] == 0 and train_predict_label[i] == 1:\n",
    "        Confusion_Matrix_train_lr[0][1] += 1\n",
    "    elif np.array(train.label)[i] == 1 and train_predict_label[i] == 0:\n",
    "        Confusion_Matrix_train_lr[1][0] += 1\n",
    "    elif np.array(train.label)[i] == 0 and train_predict_label[i] == 0:\n",
    "        Confusion_Matrix_train_lr[1][1] += 1"
   ]
  },
  {
   "cell_type": "code",
   "execution_count": 256,
   "id": "73e0e0db-53d6-4db8-9063-cb4fc0a7a912",
   "metadata": {},
   "outputs": [
    {
     "data": {
      "text/plain": [
       "[[1338, 49], [18, 365]]"
      ]
     },
     "execution_count": 256,
     "metadata": {},
     "output_type": "execute_result"
    }
   ],
   "source": [
    "Confusion_Matrix_train_lr"
   ]
  },
  {
   "cell_type": "code",
   "execution_count": 257,
   "id": "b92e46e2-5081-4268-9cfc-6f030a728bd3",
   "metadata": {},
   "outputs": [
    {
     "data": {
      "text/plain": [
       "0.9867256637168141"
      ]
     },
     "execution_count": 257,
     "metadata": {},
     "output_type": "execute_result"
    }
   ],
   "source": [
    "recall_train_lr = Confusion_Matrix_train_lr[0][0]/(Confusion_Matrix_train_lr[0][0]+Confusion_Matrix_train_lr[1][0])\n",
    "recall_train_lr"
   ]
  },
  {
   "cell_type": "markdown",
   "id": "e4b4f5af-e29f-45da-832a-dcc5e6862ac3",
   "metadata": {},
   "source": [
    "### The confusion matrix and recall value of test dataset"
   ]
  },
  {
   "cell_type": "code",
   "execution_count": 258,
   "id": "d67ee394-7e05-4777-a561-af04568df62a",
   "metadata": {},
   "outputs": [],
   "source": [
    "Confusion_Matrix_test_lr = [[0, 0],[0, 0]]\n",
    "for i in range(len(np.array(test.label))):\n",
    "    if np.array(test.label)[i] == 1 and test_predict_label[i] == 1:\n",
    "        Confusion_Matrix_test_lr[0][0] += 1\n",
    "    elif np.array(test.label)[i] == 0 and test_predict_label[i] == 1:\n",
    "        Confusion_Matrix_test_lr[0][1] += 1\n",
    "    elif np.array(test.label)[i] == 1 and test_predict_label[i] == 0:\n",
    "        Confusion_Matrix_test_lr[1][0] += 1\n",
    "    elif np.array(test.label)[i] == 0 and test_predict_label[i] == 0:\n",
    "        Confusion_Matrix_test_lr[1][1] += 1"
   ]
  },
  {
   "cell_type": "code",
   "execution_count": 259,
   "id": "fd363314-23b4-4d17-88d1-08ba49af0055",
   "metadata": {},
   "outputs": [
    {
     "data": {
      "text/plain": [
       "[[7, 84], [0, 106]]"
      ]
     },
     "execution_count": 259,
     "metadata": {},
     "output_type": "execute_result"
    }
   ],
   "source": [
    "Confusion_Matrix_test_lr"
   ]
  },
  {
   "cell_type": "code",
   "execution_count": 260,
   "id": "88949667-3a21-496d-ae10-8228f96f0091",
   "metadata": {},
   "outputs": [
    {
     "data": {
      "text/plain": [
       "1.0"
      ]
     },
     "execution_count": 260,
     "metadata": {},
     "output_type": "execute_result"
    }
   ],
   "source": [
    "recall_test_lr = Confusion_Matrix_test_lr[0][0]/(Confusion_Matrix_test_lr[0][0]+Confusion_Matrix_test_lr[1][0])\n",
    "recall_test_lr"
   ]
  },
  {
   "cell_type": "markdown",
   "id": "447cf5db-3980-415b-bc82-427d58fcd889",
   "metadata": {},
   "source": [
    "Conclusion: Here in this Financial News, logistic regression has a higher accuracy whatever in train data or test data predict. In using the naive base algorithm, the model appears less fitting. In the LR model, it looks like overfitting. Here bootstrapping may deal with this problem."
   ]
  },
  {
   "cell_type": "markdown",
   "id": "6973bbf4-59db-400b-9c4d-14dc905fa357",
   "metadata": {},
   "source": [
    "# C. POC curve"
   ]
  },
  {
   "cell_type": "code",
   "execution_count": 346,
   "id": "bd9b9b4a-192e-4abb-9e64-68af05b8a3e8",
   "metadata": {},
   "outputs": [],
   "source": [
    "import matplotlib.pyplot as plt\n",
    "from sklearn import metrics"
   ]
  },
  {
   "cell_type": "code",
   "execution_count": 347,
   "id": "7ea47614-3c86-4af6-9b84-3cbbef12d6d5",
   "metadata": {},
   "outputs": [],
   "source": [
    "y_pred_proba_test = logitstic.predict_proba(test_vc)[::,1]\n",
    "fpr, tpr, _ = metrics.roc_curve(y_test,  y_pred_proba)"
   ]
  },
  {
   "cell_type": "code",
   "execution_count": 348,
   "id": "d438b698-2c0f-4352-afe2-ac354e22e63f",
   "metadata": {},
   "outputs": [],
   "source": [
    "predict_probility = np.array(predict_probility)"
   ]
  },
  {
   "cell_type": "code",
   "execution_count": 349,
   "id": "66d73ef4-91ca-4a95-93d0-e038759e5e97",
   "metadata": {},
   "outputs": [],
   "source": [
    "fpr_bayes, tpr_bayes, _ = metrics.roc_curve(test.label,  predict_probility)"
   ]
  },
  {
   "cell_type": "code",
   "execution_count": 350,
   "id": "3653fccd-3b3c-485e-8017-4e624d73bd72",
   "metadata": {},
   "outputs": [
    {
     "data": {
      "image/png": "[encoded data removed]",
      "text/plain": [
       "<Figure size 432x288 with 1 Axes>"
      ]
     },
     "metadata": {
      "needs_background": "light"
     },
     "output_type": "display_data"
    }
   ],
   "source": [
    "plt.plot(fpr,tpr, label = \"logistic regression\")\n",
    "plt.plot(fpr_bayes,tpr_bayes, label = \"bayes\")\n",
    "plt.ylabel('True Positive Rate')\n",
    "plt.xlabel('False Positive Rate')\n",
    "plt.legend()\n",
    "plt.show()"
   ]
  },
  {
   "cell_type": "markdown",
   "id": "edb9a17c-6655-48f7-9deb-d848903afbbd",
   "metadata": {},
   "source": [
    "From the roc plot, we can see that the logistic regression model has a better performance than naive Bayes."
   ]
  },
  {
   "cell_type": "markdown",
   "id": "8fb75591-a72b-410e-a44c-d3f41098080d",
   "metadata": {},
   "source": [
    "Conclusion: In this case, I used naive Bayes to do Sentiment Analysis with TF-IDF and use logistic regression model without TF-IDF. By comparing the results of these two models, the logistic regression model has a better performance than naive Bayes."
   ]
  },
  {
   "cell_type": "markdown",
   "id": "13aab3a0-a5da-41de-89a0-de7fef9a1c18",
   "metadata": {},
   "source": [
    "What word cloud(s) would be informative here?\n",
    "In naive Bayes, word cloud will be used to calculate the appearance times of the predicted word. In the LR model, word cloud will be used to extract the feature by the LR model. "
   ]
  },
  {
   "cell_type": "markdown",
   "id": "583e909c-ebef-446b-889d-79a98b9a8634",
   "metadata": {},
   "source": [
    "Maybe we can use software rather than the sigmoid to predict multiple classes Sentiment Analysis. And in the Naive Bayes model, it doesn't have a good result and maybe we can remove the stop word although the book says that it doesn't word."
   ]
  },
  {
   "cell_type": "code",
   "execution_count": null,
   "id": "fff6b46d-ffe8-4bbe-94ec-31c4f54434c0",
   "metadata": {},
   "outputs": [],
   "source": []
  }
 ],
 "metadata": {
  "kernelspec": {
   "display_name": "Python 3 (ipykernel)",
   "language": "python",
   "name": "python3"
  },
  "language_info": {
   "codemirror_mode": {
    "name": "ipython",
    "version": 3
   },
   "file_extension": ".py",
   "mimetype": "text/x-python",
   "name": "python",
   "nbconvert_exporter": "python",
   "pygments_lexer": "ipython3",
   "version": "3.8.11"
  }
 },
 "nbformat": 4,
 "nbformat_minor": 5
}
